{
  "cells": [
    {
      "cell_type": "code",
      "source": [
        "from google.colab import drive\n",
        "drive.mount('/content/drive')"
      ],
      "metadata": {
        "colab": {
          "base_uri": "https://localhost:8080/"
        },
        "id": "Jmpl7heKCdyc",
        "outputId": "2cfbf858-319a-473d-9f60-180627c28096"
      },
      "execution_count": 1,
      "outputs": [
        {
          "output_type": "stream",
          "name": "stdout",
          "text": [
            "Mounted at /content/drive\n"
          ]
        }
      ]
    },
    {
      "cell_type": "markdown",
      "metadata": {
        "id": "WCglp4qHjGUA"
      },
      "source": [
        "## Importing Libraries"
      ]
    },
    {
      "cell_type": "code",
      "execution_count": 2,
      "metadata": {
        "id": "vvzWVj_OjKGs"
      },
      "outputs": [],
      "source": [
        "import pandas as pd\n",
        "import numpy as np"
      ]
    },
    {
      "cell_type": "code",
      "execution_count": 3,
      "metadata": {
        "id": "eGzkzcpcnsR0"
      },
      "outputs": [],
      "source": [
        "import matplotlib.pyplot as plt\n",
        "import seaborn as sns"
      ]
    },
    {
      "cell_type": "code",
      "execution_count": 4,
      "metadata": {
        "id": "D4R1xBkOtSIg"
      },
      "outputs": [],
      "source": [
        "from sklearn.linear_model import LinearRegression"
      ]
    },
    {
      "cell_type": "code",
      "execution_count": 5,
      "metadata": {
        "id": "HdvsIaEbnqgW"
      },
      "outputs": [],
      "source": [
        "from scipy import stats"
      ]
    },
    {
      "cell_type": "code",
      "execution_count": 6,
      "metadata": {
        "colab": {
          "base_uri": "https://localhost:8080/"
        },
        "id": "Q-hkFd_Vno3D",
        "outputId": "8c981739-412f-412a-82fc-e026de54b1a5"
      },
      "outputs": [
        {
          "output_type": "stream",
          "name": "stdout",
          "text": [
            "Collecting pulp\n",
            "  Downloading PuLP-2.6.0-py3-none-any.whl (14.2 MB)\n",
            "\u001b[K     |████████████████████████████████| 14.2 MB 6.1 MB/s \n",
            "\u001b[?25hInstalling collected packages: pulp\n",
            "Successfully installed pulp-2.6.0\n"
          ]
        }
      ],
      "source": [
        "!pip install pulp\n",
        "import pulp"
      ]
    },
    {
      "cell_type": "markdown",
      "metadata": {
        "id": "Niduy4SyjMKT"
      },
      "source": [
        "## Loading Data"
      ]
    },
    {
      "cell_type": "code",
      "execution_count": 7,
      "metadata": {
        "colab": {
          "base_uri": "https://localhost:8080/",
          "height": 206
        },
        "id": "IwZP1LoOjVaV",
        "outputId": "ab9eb318-a9d0-4645-bd52-f450097deab7"
      },
      "outputs": [
        {
          "output_type": "execute_result",
          "data": {
            "text/html": [
              "\n",
              "  <div id=\"df-42854bd1-8858-40e7-9502-65320d0dc108\">\n",
              "    <div class=\"colab-df-container\">\n",
              "      <div>\n",
              "<style scoped>\n",
              "    .dataframe tbody tr th:only-of-type {\n",
              "        vertical-align: middle;\n",
              "    }\n",
              "\n",
              "    .dataframe tbody tr th {\n",
              "        vertical-align: top;\n",
              "    }\n",
              "\n",
              "    .dataframe thead th {\n",
              "        text-align: right;\n",
              "    }\n",
              "</style>\n",
              "<table border=\"1\" class=\"dataframe\">\n",
              "  <thead>\n",
              "    <tr style=\"text-align: right;\">\n",
              "      <th></th>\n",
              "      <th>Year</th>\n",
              "      <th>Region</th>\n",
              "      <th>Demand</th>\n",
              "    </tr>\n",
              "  </thead>\n",
              "  <tbody>\n",
              "    <tr>\n",
              "      <th>0</th>\n",
              "      <td>2012</td>\n",
              "      <td>Downtown Toronto</td>\n",
              "      <td>249581</td>\n",
              "    </tr>\n",
              "    <tr>\n",
              "      <th>1</th>\n",
              "      <td>2012</td>\n",
              "      <td>East York</td>\n",
              "      <td>172730</td>\n",
              "    </tr>\n",
              "    <tr>\n",
              "      <th>2</th>\n",
              "      <td>2012</td>\n",
              "      <td>Etobicoke</td>\n",
              "      <td>285764</td>\n",
              "    </tr>\n",
              "    <tr>\n",
              "      <th>3</th>\n",
              "      <td>2012</td>\n",
              "      <td>Mississauga East</td>\n",
              "      <td>255427</td>\n",
              "    </tr>\n",
              "    <tr>\n",
              "      <th>4</th>\n",
              "      <td>2012</td>\n",
              "      <td>North Toronto</td>\n",
              "      <td>263276</td>\n",
              "    </tr>\n",
              "  </tbody>\n",
              "</table>\n",
              "</div>\n",
              "      <button class=\"colab-df-convert\" onclick=\"convertToInteractive('df-42854bd1-8858-40e7-9502-65320d0dc108')\"\n",
              "              title=\"Convert this dataframe to an interactive table.\"\n",
              "              style=\"display:none;\">\n",
              "        \n",
              "  <svg xmlns=\"http://www.w3.org/2000/svg\" height=\"24px\"viewBox=\"0 0 24 24\"\n",
              "       width=\"24px\">\n",
              "    <path d=\"M0 0h24v24H0V0z\" fill=\"none\"/>\n",
              "    <path d=\"M18.56 5.44l.94 2.06.94-2.06 2.06-.94-2.06-.94-.94-2.06-.94 2.06-2.06.94zm-11 1L8.5 8.5l.94-2.06 2.06-.94-2.06-.94L8.5 2.5l-.94 2.06-2.06.94zm10 10l.94 2.06.94-2.06 2.06-.94-2.06-.94-.94-2.06-.94 2.06-2.06.94z\"/><path d=\"M17.41 7.96l-1.37-1.37c-.4-.4-.92-.59-1.43-.59-.52 0-1.04.2-1.43.59L10.3 9.45l-7.72 7.72c-.78.78-.78 2.05 0 2.83L4 21.41c.39.39.9.59 1.41.59.51 0 1.02-.2 1.41-.59l7.78-7.78 2.81-2.81c.8-.78.8-2.07 0-2.86zM5.41 20L4 18.59l7.72-7.72 1.47 1.35L5.41 20z\"/>\n",
              "  </svg>\n",
              "      </button>\n",
              "      \n",
              "  <style>\n",
              "    .colab-df-container {\n",
              "      display:flex;\n",
              "      flex-wrap:wrap;\n",
              "      gap: 12px;\n",
              "    }\n",
              "\n",
              "    .colab-df-convert {\n",
              "      background-color: #E8F0FE;\n",
              "      border: none;\n",
              "      border-radius: 50%;\n",
              "      cursor: pointer;\n",
              "      display: none;\n",
              "      fill: #1967D2;\n",
              "      height: 32px;\n",
              "      padding: 0 0 0 0;\n",
              "      width: 32px;\n",
              "    }\n",
              "\n",
              "    .colab-df-convert:hover {\n",
              "      background-color: #E2EBFA;\n",
              "      box-shadow: 0px 1px 2px rgba(60, 64, 67, 0.3), 0px 1px 3px 1px rgba(60, 64, 67, 0.15);\n",
              "      fill: #174EA6;\n",
              "    }\n",
              "\n",
              "    [theme=dark] .colab-df-convert {\n",
              "      background-color: #3B4455;\n",
              "      fill: #D2E3FC;\n",
              "    }\n",
              "\n",
              "    [theme=dark] .colab-df-convert:hover {\n",
              "      background-color: #434B5C;\n",
              "      box-shadow: 0px 1px 3px 1px rgba(0, 0, 0, 0.15);\n",
              "      filter: drop-shadow(0px 1px 2px rgba(0, 0, 0, 0.3));\n",
              "      fill: #FFFFFF;\n",
              "    }\n",
              "  </style>\n",
              "\n",
              "      <script>\n",
              "        const buttonEl =\n",
              "          document.querySelector('#df-42854bd1-8858-40e7-9502-65320d0dc108 button.colab-df-convert');\n",
              "        buttonEl.style.display =\n",
              "          google.colab.kernel.accessAllowed ? 'block' : 'none';\n",
              "\n",
              "        async function convertToInteractive(key) {\n",
              "          const element = document.querySelector('#df-42854bd1-8858-40e7-9502-65320d0dc108');\n",
              "          const dataTable =\n",
              "            await google.colab.kernel.invokeFunction('convertToInteractive',\n",
              "                                                     [key], {});\n",
              "          if (!dataTable) return;\n",
              "\n",
              "          const docLinkHtml = 'Like what you see? Visit the ' +\n",
              "            '<a target=\"_blank\" href=https://colab.research.google.com/notebooks/data_table.ipynb>data table notebook</a>'\n",
              "            + ' to learn more about interactive tables.';\n",
              "          element.innerHTML = '';\n",
              "          dataTable['output_type'] = 'display_data';\n",
              "          await google.colab.output.renderOutput(dataTable, element);\n",
              "          const docLink = document.createElement('div');\n",
              "          docLink.innerHTML = docLinkHtml;\n",
              "          element.appendChild(docLink);\n",
              "        }\n",
              "      </script>\n",
              "    </div>\n",
              "  </div>\n",
              "  "
            ],
            "text/plain": [
              "   Year            Region  Demand\n",
              "0  2012  Downtown Toronto  249581\n",
              "1  2012         East York  172730\n",
              "2  2012         Etobicoke  285764\n",
              "3  2012  Mississauga East  255427\n",
              "4  2012     North Toronto  263276"
            ]
          },
          "metadata": {},
          "execution_count": 7
        }
      ],
      "source": [
        "dfDemands = pd.read_csv(\"drive/MyDrive/Colab Notebooks/ComfortHealth Case Study/demands.csv\")\n",
        "dfDemands.head()"
      ]
    },
    {
      "cell_type": "code",
      "execution_count": 8,
      "metadata": {
        "colab": {
          "base_uri": "https://localhost:8080/",
          "height": 206
        },
        "id": "3gNQ7OYIzE-1",
        "outputId": "d5002235-1200-4a80-c921-098a4a950c1b"
      },
      "outputs": [
        {
          "output_type": "execute_result",
          "data": {
            "text/html": [
              "\n",
              "  <div id=\"df-483d1b80-63e9-4e22-99d4-a175c9f384a4\">\n",
              "    <div class=\"colab-df-container\">\n",
              "      <div>\n",
              "<style scoped>\n",
              "    .dataframe tbody tr th:only-of-type {\n",
              "        vertical-align: middle;\n",
              "    }\n",
              "\n",
              "    .dataframe tbody tr th {\n",
              "        vertical-align: top;\n",
              "    }\n",
              "\n",
              "    .dataframe thead th {\n",
              "        text-align: right;\n",
              "    }\n",
              "</style>\n",
              "<table border=\"1\" class=\"dataframe\">\n",
              "  <thead>\n",
              "    <tr style=\"text-align: right;\">\n",
              "      <th></th>\n",
              "      <th>Center</th>\n",
              "      <th>Region</th>\n",
              "      <th>Distance</th>\n",
              "    </tr>\n",
              "  </thead>\n",
              "  <tbody>\n",
              "    <tr>\n",
              "      <th>0</th>\n",
              "      <td>Center A</td>\n",
              "      <td>Downtown Toronto</td>\n",
              "      <td>25.77</td>\n",
              "    </tr>\n",
              "    <tr>\n",
              "      <th>1</th>\n",
              "      <td>Center A</td>\n",
              "      <td>East York</td>\n",
              "      <td>2.24</td>\n",
              "    </tr>\n",
              "    <tr>\n",
              "      <th>2</th>\n",
              "      <td>Center A</td>\n",
              "      <td>Etobicoke</td>\n",
              "      <td>25.72</td>\n",
              "    </tr>\n",
              "    <tr>\n",
              "      <th>3</th>\n",
              "      <td>Center A</td>\n",
              "      <td>Mississauga East</td>\n",
              "      <td>28.65</td>\n",
              "    </tr>\n",
              "    <tr>\n",
              "      <th>4</th>\n",
              "      <td>Center A</td>\n",
              "      <td>North Toronto</td>\n",
              "      <td>11.64</td>\n",
              "    </tr>\n",
              "  </tbody>\n",
              "</table>\n",
              "</div>\n",
              "      <button class=\"colab-df-convert\" onclick=\"convertToInteractive('df-483d1b80-63e9-4e22-99d4-a175c9f384a4')\"\n",
              "              title=\"Convert this dataframe to an interactive table.\"\n",
              "              style=\"display:none;\">\n",
              "        \n",
              "  <svg xmlns=\"http://www.w3.org/2000/svg\" height=\"24px\"viewBox=\"0 0 24 24\"\n",
              "       width=\"24px\">\n",
              "    <path d=\"M0 0h24v24H0V0z\" fill=\"none\"/>\n",
              "    <path d=\"M18.56 5.44l.94 2.06.94-2.06 2.06-.94-2.06-.94-.94-2.06-.94 2.06-2.06.94zm-11 1L8.5 8.5l.94-2.06 2.06-.94-2.06-.94L8.5 2.5l-.94 2.06-2.06.94zm10 10l.94 2.06.94-2.06 2.06-.94-2.06-.94-.94-2.06-.94 2.06-2.06.94z\"/><path d=\"M17.41 7.96l-1.37-1.37c-.4-.4-.92-.59-1.43-.59-.52 0-1.04.2-1.43.59L10.3 9.45l-7.72 7.72c-.78.78-.78 2.05 0 2.83L4 21.41c.39.39.9.59 1.41.59.51 0 1.02-.2 1.41-.59l7.78-7.78 2.81-2.81c.8-.78.8-2.07 0-2.86zM5.41 20L4 18.59l7.72-7.72 1.47 1.35L5.41 20z\"/>\n",
              "  </svg>\n",
              "      </button>\n",
              "      \n",
              "  <style>\n",
              "    .colab-df-container {\n",
              "      display:flex;\n",
              "      flex-wrap:wrap;\n",
              "      gap: 12px;\n",
              "    }\n",
              "\n",
              "    .colab-df-convert {\n",
              "      background-color: #E8F0FE;\n",
              "      border: none;\n",
              "      border-radius: 50%;\n",
              "      cursor: pointer;\n",
              "      display: none;\n",
              "      fill: #1967D2;\n",
              "      height: 32px;\n",
              "      padding: 0 0 0 0;\n",
              "      width: 32px;\n",
              "    }\n",
              "\n",
              "    .colab-df-convert:hover {\n",
              "      background-color: #E2EBFA;\n",
              "      box-shadow: 0px 1px 2px rgba(60, 64, 67, 0.3), 0px 1px 3px 1px rgba(60, 64, 67, 0.15);\n",
              "      fill: #174EA6;\n",
              "    }\n",
              "\n",
              "    [theme=dark] .colab-df-convert {\n",
              "      background-color: #3B4455;\n",
              "      fill: #D2E3FC;\n",
              "    }\n",
              "\n",
              "    [theme=dark] .colab-df-convert:hover {\n",
              "      background-color: #434B5C;\n",
              "      box-shadow: 0px 1px 3px 1px rgba(0, 0, 0, 0.15);\n",
              "      filter: drop-shadow(0px 1px 2px rgba(0, 0, 0, 0.3));\n",
              "      fill: #FFFFFF;\n",
              "    }\n",
              "  </style>\n",
              "\n",
              "      <script>\n",
              "        const buttonEl =\n",
              "          document.querySelector('#df-483d1b80-63e9-4e22-99d4-a175c9f384a4 button.colab-df-convert');\n",
              "        buttonEl.style.display =\n",
              "          google.colab.kernel.accessAllowed ? 'block' : 'none';\n",
              "\n",
              "        async function convertToInteractive(key) {\n",
              "          const element = document.querySelector('#df-483d1b80-63e9-4e22-99d4-a175c9f384a4');\n",
              "          const dataTable =\n",
              "            await google.colab.kernel.invokeFunction('convertToInteractive',\n",
              "                                                     [key], {});\n",
              "          if (!dataTable) return;\n",
              "\n",
              "          const docLinkHtml = 'Like what you see? Visit the ' +\n",
              "            '<a target=\"_blank\" href=https://colab.research.google.com/notebooks/data_table.ipynb>data table notebook</a>'\n",
              "            + ' to learn more about interactive tables.';\n",
              "          element.innerHTML = '';\n",
              "          dataTable['output_type'] = 'display_data';\n",
              "          await google.colab.output.renderOutput(dataTable, element);\n",
              "          const docLink = document.createElement('div');\n",
              "          docLink.innerHTML = docLinkHtml;\n",
              "          element.appendChild(docLink);\n",
              "        }\n",
              "      </script>\n",
              "    </div>\n",
              "  </div>\n",
              "  "
            ],
            "text/plain": [
              "     Center            Region  Distance\n",
              "0  Center A  Downtown Toronto     25.77\n",
              "1  Center A         East York      2.24\n",
              "2  Center A         Etobicoke     25.72\n",
              "3  Center A  Mississauga East     28.65\n",
              "4  Center A     North Toronto     11.64"
            ]
          },
          "metadata": {},
          "execution_count": 8
        }
      ],
      "source": [
        "dfDistances = pd.read_csv(\"drive/MyDrive/Colab Notebooks/ComfortHealth Case Study/distances.csv\")\n",
        "dfDistances.head()"
      ]
    },
    {
      "cell_type": "code",
      "execution_count": 9,
      "metadata": {
        "colab": {
          "base_uri": "https://localhost:8080/",
          "height": 237
        },
        "id": "2WQt5JWszI6n",
        "outputId": "ebdd0d58-3e0b-4e31-c197-807ffdcbb870"
      },
      "outputs": [
        {
          "output_type": "execute_result",
          "data": {
            "text/html": [
              "\n",
              "  <div id=\"df-37cdf763-47b1-4f44-b254-e6f378abf9dc\">\n",
              "    <div class=\"colab-df-container\">\n",
              "      <div>\n",
              "<style scoped>\n",
              "    .dataframe tbody tr th:only-of-type {\n",
              "        vertical-align: middle;\n",
              "    }\n",
              "\n",
              "    .dataframe tbody tr th {\n",
              "        vertical-align: top;\n",
              "    }\n",
              "\n",
              "    .dataframe thead th {\n",
              "        text-align: right;\n",
              "    }\n",
              "</style>\n",
              "<table border=\"1\" class=\"dataframe\">\n",
              "  <thead>\n",
              "    <tr style=\"text-align: right;\">\n",
              "      <th></th>\n",
              "      <th>Center</th>\n",
              "      <th>Opening Costs</th>\n",
              "      <th>Operating Costs</th>\n",
              "      <th>Num MPs</th>\n",
              "      <th>Maximum capacity</th>\n",
              "    </tr>\n",
              "  </thead>\n",
              "  <tbody>\n",
              "    <tr>\n",
              "      <th>0</th>\n",
              "      <td>Center A</td>\n",
              "      <td>0</td>\n",
              "      <td>275000</td>\n",
              "      <td>215</td>\n",
              "      <td>5000000</td>\n",
              "    </tr>\n",
              "    <tr>\n",
              "      <th>1</th>\n",
              "      <td>Center B</td>\n",
              "      <td>0</td>\n",
              "      <td>275000</td>\n",
              "      <td>125</td>\n",
              "      <td>5000000</td>\n",
              "    </tr>\n",
              "    <tr>\n",
              "      <th>2</th>\n",
              "      <td>Center C</td>\n",
              "      <td>0</td>\n",
              "      <td>275000</td>\n",
              "      <td>100</td>\n",
              "      <td>5000000</td>\n",
              "    </tr>\n",
              "    <tr>\n",
              "      <th>3</th>\n",
              "      <td>Center D</td>\n",
              "      <td>0</td>\n",
              "      <td>285000</td>\n",
              "      <td>120</td>\n",
              "      <td>5000000</td>\n",
              "    </tr>\n",
              "    <tr>\n",
              "      <th>4</th>\n",
              "      <td>Center E</td>\n",
              "      <td>250000</td>\n",
              "      <td>125000</td>\n",
              "      <td>0</td>\n",
              "      <td>5000000</td>\n",
              "    </tr>\n",
              "    <tr>\n",
              "      <th>5</th>\n",
              "      <td>Center F</td>\n",
              "      <td>100000</td>\n",
              "      <td>175000</td>\n",
              "      <td>0</td>\n",
              "      <td>5000000</td>\n",
              "    </tr>\n",
              "  </tbody>\n",
              "</table>\n",
              "</div>\n",
              "      <button class=\"colab-df-convert\" onclick=\"convertToInteractive('df-37cdf763-47b1-4f44-b254-e6f378abf9dc')\"\n",
              "              title=\"Convert this dataframe to an interactive table.\"\n",
              "              style=\"display:none;\">\n",
              "        \n",
              "  <svg xmlns=\"http://www.w3.org/2000/svg\" height=\"24px\"viewBox=\"0 0 24 24\"\n",
              "       width=\"24px\">\n",
              "    <path d=\"M0 0h24v24H0V0z\" fill=\"none\"/>\n",
              "    <path d=\"M18.56 5.44l.94 2.06.94-2.06 2.06-.94-2.06-.94-.94-2.06-.94 2.06-2.06.94zm-11 1L8.5 8.5l.94-2.06 2.06-.94-2.06-.94L8.5 2.5l-.94 2.06-2.06.94zm10 10l.94 2.06.94-2.06 2.06-.94-2.06-.94-.94-2.06-.94 2.06-2.06.94z\"/><path d=\"M17.41 7.96l-1.37-1.37c-.4-.4-.92-.59-1.43-.59-.52 0-1.04.2-1.43.59L10.3 9.45l-7.72 7.72c-.78.78-.78 2.05 0 2.83L4 21.41c.39.39.9.59 1.41.59.51 0 1.02-.2 1.41-.59l7.78-7.78 2.81-2.81c.8-.78.8-2.07 0-2.86zM5.41 20L4 18.59l7.72-7.72 1.47 1.35L5.41 20z\"/>\n",
              "  </svg>\n",
              "      </button>\n",
              "      \n",
              "  <style>\n",
              "    .colab-df-container {\n",
              "      display:flex;\n",
              "      flex-wrap:wrap;\n",
              "      gap: 12px;\n",
              "    }\n",
              "\n",
              "    .colab-df-convert {\n",
              "      background-color: #E8F0FE;\n",
              "      border: none;\n",
              "      border-radius: 50%;\n",
              "      cursor: pointer;\n",
              "      display: none;\n",
              "      fill: #1967D2;\n",
              "      height: 32px;\n",
              "      padding: 0 0 0 0;\n",
              "      width: 32px;\n",
              "    }\n",
              "\n",
              "    .colab-df-convert:hover {\n",
              "      background-color: #E2EBFA;\n",
              "      box-shadow: 0px 1px 2px rgba(60, 64, 67, 0.3), 0px 1px 3px 1px rgba(60, 64, 67, 0.15);\n",
              "      fill: #174EA6;\n",
              "    }\n",
              "\n",
              "    [theme=dark] .colab-df-convert {\n",
              "      background-color: #3B4455;\n",
              "      fill: #D2E3FC;\n",
              "    }\n",
              "\n",
              "    [theme=dark] .colab-df-convert:hover {\n",
              "      background-color: #434B5C;\n",
              "      box-shadow: 0px 1px 3px 1px rgba(0, 0, 0, 0.15);\n",
              "      filter: drop-shadow(0px 1px 2px rgba(0, 0, 0, 0.3));\n",
              "      fill: #FFFFFF;\n",
              "    }\n",
              "  </style>\n",
              "\n",
              "      <script>\n",
              "        const buttonEl =\n",
              "          document.querySelector('#df-37cdf763-47b1-4f44-b254-e6f378abf9dc button.colab-df-convert');\n",
              "        buttonEl.style.display =\n",
              "          google.colab.kernel.accessAllowed ? 'block' : 'none';\n",
              "\n",
              "        async function convertToInteractive(key) {\n",
              "          const element = document.querySelector('#df-37cdf763-47b1-4f44-b254-e6f378abf9dc');\n",
              "          const dataTable =\n",
              "            await google.colab.kernel.invokeFunction('convertToInteractive',\n",
              "                                                     [key], {});\n",
              "          if (!dataTable) return;\n",
              "\n",
              "          const docLinkHtml = 'Like what you see? Visit the ' +\n",
              "            '<a target=\"_blank\" href=https://colab.research.google.com/notebooks/data_table.ipynb>data table notebook</a>'\n",
              "            + ' to learn more about interactive tables.';\n",
              "          element.innerHTML = '';\n",
              "          dataTable['output_type'] = 'display_data';\n",
              "          await google.colab.output.renderOutput(dataTable, element);\n",
              "          const docLink = document.createElement('div');\n",
              "          docLink.innerHTML = docLinkHtml;\n",
              "          element.appendChild(docLink);\n",
              "        }\n",
              "      </script>\n",
              "    </div>\n",
              "  </div>\n",
              "  "
            ],
            "text/plain": [
              "     Center  Opening Costs  Operating Costs  Num MPs  Maximum capacity\n",
              "0  Center A              0           275000      215           5000000\n",
              "1  Center B              0           275000      125           5000000\n",
              "2  Center C              0           275000      100           5000000\n",
              "3  Center D              0           285000      120           5000000\n",
              "4  Center E         250000           125000        0           5000000\n",
              "5  Center F         100000           175000        0           5000000"
            ]
          },
          "metadata": {},
          "execution_count": 9
        }
      ],
      "source": [
        "dfCenters = pd.read_csv(\"drive/MyDrive/Colab Notebooks/ComfortHealth Case Study/centers.csv\")\n",
        "dfCenters"
      ]
    },
    {
      "cell_type": "markdown",
      "source": [
        "## Self-Defined Functions"
      ],
      "metadata": {
        "id": "nCB4Jdzf_RE7"
      }
    },
    {
      "cell_type": "code",
      "source": [
        "def printTable(xvar):\n",
        "\n",
        "  \"\"\"\n",
        "  Demand met (in hours) for the different zones for each center and year.\n",
        "  xvar: decision variable for demand (in hours)\n",
        "  \"\"\"\n",
        "  \n",
        "  resultDict = {'Year':[], 'Center':[], 'Region':[], 'Served':[]}\n",
        "\n",
        "  n = 0\n",
        "  for t in periods:\n",
        "    for i in depots:    \n",
        "      for j in zones:\n",
        "        resultDict['Center'].append(i)\n",
        "        resultDict['Year'].append(t)\n",
        "        resultDict['Region'].append(j)\n",
        "        resultDict['Served'].append(xvar[(i,j,t)].varValue)\n",
        "        n+=1\n",
        "\n",
        "  dfResult = pd.DataFrame(resultDict, index=range(n))\n",
        "  dfResult = dfResult.pivot(index=['Year', 'Region'], columns=['Center'], values=['Served'])\n",
        "\n",
        "  return dfResult"
      ],
      "metadata": {
        "id": "qHU-wipMC62g"
      },
      "execution_count": 10,
      "outputs": []
    },
    {
      "cell_type": "code",
      "source": [
        "def printTable2(wvar):\n",
        "  \n",
        "  \"\"\"\n",
        "  Health professionals' allocation among the centers for each year.\n",
        "  wvar: decision variable for the total number of workers at a center\n",
        "  \"\"\"\n",
        "  \n",
        "  resultDict = {'Year':[], 'Center':[], 'Total Health Professionals':[]}\n",
        "\n",
        "  n = 0\n",
        "  for t in periods:\n",
        "    for i in depots:   \n",
        "        resultDict['Center'].append(i)\n",
        "        resultDict['Year'].append(t)\n",
        "        resultDict['Total Health Professionals'].append(int(wvar[(i,t)].varValue))\n",
        "        n+=1\n",
        "\n",
        "  dfResult = pd.DataFrame(resultDict, index=range(n))\n",
        "  dfResult = dfResult.pivot(index=['Year'], columns=['Center'], values=['Total Health Professionals'])\n",
        "\n",
        "  return dfResult"
      ],
      "metadata": {
        "id": "s1TBLoDoJhQt"
      },
      "execution_count": 11,
      "outputs": []
    },
    {
      "cell_type": "code",
      "source": [
        "def printTable3(hvar):\n",
        "  \n",
        "  \"\"\"\n",
        "  New health professional hires for the centers for each year.\n",
        "  hvar: decision variable for the number of workers hired at a center\n",
        "  \"\"\"\n",
        "  \n",
        "  resultDict = {'Year':[], 'Center':[], 'New Hires':[]}\n",
        "\n",
        "  n = 0\n",
        "  for t in periods:\n",
        "    for i in depots:   \n",
        "        resultDict['Center'].append(i)\n",
        "        resultDict['Year'].append(t)\n",
        "        resultDict['New Hires'].append(int(hvar[(i,t)].varValue))\n",
        "        n+=1\n",
        "\n",
        "  dfResult = pd.DataFrame(resultDict, index=range(n))\n",
        "  dfResult = dfResult.pivot(index=['Year'], columns=['Center'], values=['New Hires'])\n",
        "\n",
        "  return dfResult"
      ],
      "metadata": {
        "id": "sL0Q6u60J011"
      },
      "execution_count": 12,
      "outputs": []
    },
    {
      "cell_type": "markdown",
      "metadata": {
        "id": "WrQMGFO9tJa-"
      },
      "source": [
        "## Forecasting Demand for 2022 - 2024"
      ]
    },
    {
      "cell_type": "code",
      "source": [
        "dfDemands.groupby(by='Region')['Demand'].agg(['mean', 'min', 'max'])"
      ],
      "metadata": {
        "colab": {
          "base_uri": "https://localhost:8080/",
          "height": 300
        },
        "id": "VKWR2oxLc71e",
        "outputId": "ee7cf297-917d-4774-ca23-3e1046bbcc52"
      },
      "execution_count": 13,
      "outputs": [
        {
          "output_type": "execute_result",
          "data": {
            "text/html": [
              "\n",
              "  <div id=\"df-3e9d2e28-80bc-4ef1-9b8a-4f770ae1d62d\">\n",
              "    <div class=\"colab-df-container\">\n",
              "      <div>\n",
              "<style scoped>\n",
              "    .dataframe tbody tr th:only-of-type {\n",
              "        vertical-align: middle;\n",
              "    }\n",
              "\n",
              "    .dataframe tbody tr th {\n",
              "        vertical-align: top;\n",
              "    }\n",
              "\n",
              "    .dataframe thead th {\n",
              "        text-align: right;\n",
              "    }\n",
              "</style>\n",
              "<table border=\"1\" class=\"dataframe\">\n",
              "  <thead>\n",
              "    <tr style=\"text-align: right;\">\n",
              "      <th></th>\n",
              "      <th>mean</th>\n",
              "      <th>min</th>\n",
              "      <th>max</th>\n",
              "    </tr>\n",
              "    <tr>\n",
              "      <th>Region</th>\n",
              "      <th></th>\n",
              "      <th></th>\n",
              "      <th></th>\n",
              "    </tr>\n",
              "  </thead>\n",
              "  <tbody>\n",
              "    <tr>\n",
              "      <th>Downtown Toronto</th>\n",
              "      <td>313634.1</td>\n",
              "      <td>249581</td>\n",
              "      <td>387003</td>\n",
              "    </tr>\n",
              "    <tr>\n",
              "      <th>East York</th>\n",
              "      <td>217075.1</td>\n",
              "      <td>172730</td>\n",
              "      <td>268068</td>\n",
              "    </tr>\n",
              "    <tr>\n",
              "      <th>Etobicoke</th>\n",
              "      <td>360431.0</td>\n",
              "      <td>285764</td>\n",
              "      <td>445369</td>\n",
              "    </tr>\n",
              "    <tr>\n",
              "      <th>Mississauga East</th>\n",
              "      <td>321349.3</td>\n",
              "      <td>255427</td>\n",
              "      <td>395768</td>\n",
              "    </tr>\n",
              "    <tr>\n",
              "      <th>North Toronto</th>\n",
              "      <td>330098.3</td>\n",
              "      <td>263276</td>\n",
              "      <td>406148</td>\n",
              "    </tr>\n",
              "    <tr>\n",
              "      <th>North York</th>\n",
              "      <td>400108.9</td>\n",
              "      <td>316579</td>\n",
              "      <td>494386</td>\n",
              "    </tr>\n",
              "    <tr>\n",
              "      <th>Scarborough East</th>\n",
              "      <td>352482.6</td>\n",
              "      <td>281067</td>\n",
              "      <td>433845</td>\n",
              "    </tr>\n",
              "  </tbody>\n",
              "</table>\n",
              "</div>\n",
              "      <button class=\"colab-df-convert\" onclick=\"convertToInteractive('df-3e9d2e28-80bc-4ef1-9b8a-4f770ae1d62d')\"\n",
              "              title=\"Convert this dataframe to an interactive table.\"\n",
              "              style=\"display:none;\">\n",
              "        \n",
              "  <svg xmlns=\"http://www.w3.org/2000/svg\" height=\"24px\"viewBox=\"0 0 24 24\"\n",
              "       width=\"24px\">\n",
              "    <path d=\"M0 0h24v24H0V0z\" fill=\"none\"/>\n",
              "    <path d=\"M18.56 5.44l.94 2.06.94-2.06 2.06-.94-2.06-.94-.94-2.06-.94 2.06-2.06.94zm-11 1L8.5 8.5l.94-2.06 2.06-.94-2.06-.94L8.5 2.5l-.94 2.06-2.06.94zm10 10l.94 2.06.94-2.06 2.06-.94-2.06-.94-.94-2.06-.94 2.06-2.06.94z\"/><path d=\"M17.41 7.96l-1.37-1.37c-.4-.4-.92-.59-1.43-.59-.52 0-1.04.2-1.43.59L10.3 9.45l-7.72 7.72c-.78.78-.78 2.05 0 2.83L4 21.41c.39.39.9.59 1.41.59.51 0 1.02-.2 1.41-.59l7.78-7.78 2.81-2.81c.8-.78.8-2.07 0-2.86zM5.41 20L4 18.59l7.72-7.72 1.47 1.35L5.41 20z\"/>\n",
              "  </svg>\n",
              "      </button>\n",
              "      \n",
              "  <style>\n",
              "    .colab-df-container {\n",
              "      display:flex;\n",
              "      flex-wrap:wrap;\n",
              "      gap: 12px;\n",
              "    }\n",
              "\n",
              "    .colab-df-convert {\n",
              "      background-color: #E8F0FE;\n",
              "      border: none;\n",
              "      border-radius: 50%;\n",
              "      cursor: pointer;\n",
              "      display: none;\n",
              "      fill: #1967D2;\n",
              "      height: 32px;\n",
              "      padding: 0 0 0 0;\n",
              "      width: 32px;\n",
              "    }\n",
              "\n",
              "    .colab-df-convert:hover {\n",
              "      background-color: #E2EBFA;\n",
              "      box-shadow: 0px 1px 2px rgba(60, 64, 67, 0.3), 0px 1px 3px 1px rgba(60, 64, 67, 0.15);\n",
              "      fill: #174EA6;\n",
              "    }\n",
              "\n",
              "    [theme=dark] .colab-df-convert {\n",
              "      background-color: #3B4455;\n",
              "      fill: #D2E3FC;\n",
              "    }\n",
              "\n",
              "    [theme=dark] .colab-df-convert:hover {\n",
              "      background-color: #434B5C;\n",
              "      box-shadow: 0px 1px 3px 1px rgba(0, 0, 0, 0.15);\n",
              "      filter: drop-shadow(0px 1px 2px rgba(0, 0, 0, 0.3));\n",
              "      fill: #FFFFFF;\n",
              "    }\n",
              "  </style>\n",
              "\n",
              "      <script>\n",
              "        const buttonEl =\n",
              "          document.querySelector('#df-3e9d2e28-80bc-4ef1-9b8a-4f770ae1d62d button.colab-df-convert');\n",
              "        buttonEl.style.display =\n",
              "          google.colab.kernel.accessAllowed ? 'block' : 'none';\n",
              "\n",
              "        async function convertToInteractive(key) {\n",
              "          const element = document.querySelector('#df-3e9d2e28-80bc-4ef1-9b8a-4f770ae1d62d');\n",
              "          const dataTable =\n",
              "            await google.colab.kernel.invokeFunction('convertToInteractive',\n",
              "                                                     [key], {});\n",
              "          if (!dataTable) return;\n",
              "\n",
              "          const docLinkHtml = 'Like what you see? Visit the ' +\n",
              "            '<a target=\"_blank\" href=https://colab.research.google.com/notebooks/data_table.ipynb>data table notebook</a>'\n",
              "            + ' to learn more about interactive tables.';\n",
              "          element.innerHTML = '';\n",
              "          dataTable['output_type'] = 'display_data';\n",
              "          await google.colab.output.renderOutput(dataTable, element);\n",
              "          const docLink = document.createElement('div');\n",
              "          docLink.innerHTML = docLinkHtml;\n",
              "          element.appendChild(docLink);\n",
              "        }\n",
              "      </script>\n",
              "    </div>\n",
              "  </div>\n",
              "  "
            ],
            "text/plain": [
              "                      mean     min     max\n",
              "Region                                    \n",
              "Downtown Toronto  313634.1  249581  387003\n",
              "East York         217075.1  172730  268068\n",
              "Etobicoke         360431.0  285764  445369\n",
              "Mississauga East  321349.3  255427  395768\n",
              "North Toronto     330098.3  263276  406148\n",
              "North York        400108.9  316579  494386\n",
              "Scarborough East  352482.6  281067  433845"
            ]
          },
          "metadata": {},
          "execution_count": 13
        }
      ]
    },
    {
      "cell_type": "code",
      "execution_count": 14,
      "metadata": {
        "colab": {
          "base_uri": "https://localhost:8080/",
          "height": 497
        },
        "id": "HqxwlZT1oTiQ",
        "outputId": "303b2d0d-ec4d-4880-f077-1b52e87b0869"
      },
      "outputs": [
        {
          "output_type": "display_data",
          "data": {
            "image/png": "[encoded data removed]",
            "text/plain": [
              "<Figure size 1008x576 with 1 Axes>"
            ]
          },
          "metadata": {
            "needs_background": "light"
          }
        }
      ],
      "source": [
        "plt.figure(figsize=(14,8))\n",
        "sns.lineplot(data=dfDemands, x='Year', y='Demand', hue='Region', marker='o')\n",
        "plt.show()"
      ]
    },
    {
      "cell_type": "code",
      "execution_count": 15,
      "metadata": {
        "id": "XHdyCReatLbJ"
      },
      "outputs": [],
      "source": [
        "dictForecast = {'Year':[], 'Region':[], 'Demand':[]}\n",
        "\n",
        "for region in dfDemands['Region'].unique():\n",
        "  dfSubset = dfDemands[dfDemands['Region'] == region].copy()\n",
        "  dfSubset.drop('Region', axis=1, inplace=True)\n",
        "  X = dfSubset['Year'].values.reshape((-1,1))\n",
        "  y = dfSubset['Demand'].values\n",
        "  linReg = LinearRegression().fit(X, y)\n",
        "\n",
        "  for year in np.arange(2022, 2025):\n",
        "    forecast = linReg.predict([[year]])\n",
        "    dictForecast['Year'].append(year)\n",
        "    dictForecast['Region'].append(region)\n",
        "    dictForecast['Demand'].append(int(np.floor(forecast[0])))"
      ]
    },
    {
      "cell_type": "code",
      "source": [
        "dfForecast = pd.DataFrame.from_dict(dictForecast)\n",
        "dfForecast.head()"
      ],
      "metadata": {
        "colab": {
          "base_uri": "https://localhost:8080/",
          "height": 206
        },
        "id": "-pjkbJ1V2psI",
        "outputId": "0d9f8ddc-d248-4d0a-e9f1-893309138641"
      },
      "execution_count": 16,
      "outputs": [
        {
          "output_type": "execute_result",
          "data": {
            "text/html": [
              "\n",
              "  <div id=\"df-480fff92-4c00-48c2-9f68-655611dc5a1f\">\n",
              "    <div class=\"colab-df-container\">\n",
              "      <div>\n",
              "<style scoped>\n",
              "    .dataframe tbody tr th:only-of-type {\n",
              "        vertical-align: middle;\n",
              "    }\n",
              "\n",
              "    .dataframe tbody tr th {\n",
              "        vertical-align: top;\n",
              "    }\n",
              "\n",
              "    .dataframe thead th {\n",
              "        text-align: right;\n",
              "    }\n",
              "</style>\n",
              "<table border=\"1\" class=\"dataframe\">\n",
              "  <thead>\n",
              "    <tr style=\"text-align: right;\">\n",
              "      <th></th>\n",
              "      <th>Year</th>\n",
              "      <th>Region</th>\n",
              "      <th>Demand</th>\n",
              "    </tr>\n",
              "  </thead>\n",
              "  <tbody>\n",
              "    <tr>\n",
              "      <th>0</th>\n",
              "      <td>2022</td>\n",
              "      <td>Downtown Toronto</td>\n",
              "      <td>397295</td>\n",
              "    </tr>\n",
              "    <tr>\n",
              "      <th>1</th>\n",
              "      <td>2023</td>\n",
              "      <td>Downtown Toronto</td>\n",
              "      <td>412506</td>\n",
              "    </tr>\n",
              "    <tr>\n",
              "      <th>2</th>\n",
              "      <td>2024</td>\n",
              "      <td>Downtown Toronto</td>\n",
              "      <td>427718</td>\n",
              "    </tr>\n",
              "    <tr>\n",
              "      <th>3</th>\n",
              "      <td>2022</td>\n",
              "      <td>East York</td>\n",
              "      <td>275250</td>\n",
              "    </tr>\n",
              "    <tr>\n",
              "      <th>4</th>\n",
              "      <td>2023</td>\n",
              "      <td>East York</td>\n",
              "      <td>285828</td>\n",
              "    </tr>\n",
              "  </tbody>\n",
              "</table>\n",
              "</div>\n",
              "      <button class=\"colab-df-convert\" onclick=\"convertToInteractive('df-480fff92-4c00-48c2-9f68-655611dc5a1f')\"\n",
              "              title=\"Convert this dataframe to an interactive table.\"\n",
              "              style=\"display:none;\">\n",
              "        \n",
              "  <svg xmlns=\"http://www.w3.org/2000/svg\" height=\"24px\"viewBox=\"0 0 24 24\"\n",
              "       width=\"24px\">\n",
              "    <path d=\"M0 0h24v24H0V0z\" fill=\"none\"/>\n",
              "    <path d=\"M18.56 5.44l.94 2.06.94-2.06 2.06-.94-2.06-.94-.94-2.06-.94 2.06-2.06.94zm-11 1L8.5 8.5l.94-2.06 2.06-.94-2.06-.94L8.5 2.5l-.94 2.06-2.06.94zm10 10l.94 2.06.94-2.06 2.06-.94-2.06-.94-.94-2.06-.94 2.06-2.06.94z\"/><path d=\"M17.41 7.96l-1.37-1.37c-.4-.4-.92-.59-1.43-.59-.52 0-1.04.2-1.43.59L10.3 9.45l-7.72 7.72c-.78.78-.78 2.05 0 2.83L4 21.41c.39.39.9.59 1.41.59.51 0 1.02-.2 1.41-.59l7.78-7.78 2.81-2.81c.8-.78.8-2.07 0-2.86zM5.41 20L4 18.59l7.72-7.72 1.47 1.35L5.41 20z\"/>\n",
              "  </svg>\n",
              "      </button>\n",
              "      \n",
              "  <style>\n",
              "    .colab-df-container {\n",
              "      display:flex;\n",
              "      flex-wrap:wrap;\n",
              "      gap: 12px;\n",
              "    }\n",
              "\n",
              "    .colab-df-convert {\n",
              "      background-color: #E8F0FE;\n",
              "      border: none;\n",
              "      border-radius: 50%;\n",
              "      cursor: pointer;\n",
              "      display: none;\n",
              "      fill: #1967D2;\n",
              "      height: 32px;\n",
              "      padding: 0 0 0 0;\n",
              "      width: 32px;\n",
              "    }\n",
              "\n",
              "    .colab-df-convert:hover {\n",
              "      background-color: #E2EBFA;\n",
              "      box-shadow: 0px 1px 2px rgba(60, 64, 67, 0.3), 0px 1px 3px 1px rgba(60, 64, 67, 0.15);\n",
              "      fill: #174EA6;\n",
              "    }\n",
              "\n",
              "    [theme=dark] .colab-df-convert {\n",
              "      background-color: #3B4455;\n",
              "      fill: #D2E3FC;\n",
              "    }\n",
              "\n",
              "    [theme=dark] .colab-df-convert:hover {\n",
              "      background-color: #434B5C;\n",
              "      box-shadow: 0px 1px 3px 1px rgba(0, 0, 0, 0.15);\n",
              "      filter: drop-shadow(0px 1px 2px rgba(0, 0, 0, 0.3));\n",
              "      fill: #FFFFFF;\n",
              "    }\n",
              "  </style>\n",
              "\n",
              "      <script>\n",
              "        const buttonEl =\n",
              "          document.querySelector('#df-480fff92-4c00-48c2-9f68-655611dc5a1f button.colab-df-convert');\n",
              "        buttonEl.style.display =\n",
              "          google.colab.kernel.accessAllowed ? 'block' : 'none';\n",
              "\n",
              "        async function convertToInteractive(key) {\n",
              "          const element = document.querySelector('#df-480fff92-4c00-48c2-9f68-655611dc5a1f');\n",
              "          const dataTable =\n",
              "            await google.colab.kernel.invokeFunction('convertToInteractive',\n",
              "                                                     [key], {});\n",
              "          if (!dataTable) return;\n",
              "\n",
              "          const docLinkHtml = 'Like what you see? Visit the ' +\n",
              "            '<a target=\"_blank\" href=https://colab.research.google.com/notebooks/data_table.ipynb>data table notebook</a>'\n",
              "            + ' to learn more about interactive tables.';\n",
              "          element.innerHTML = '';\n",
              "          dataTable['output_type'] = 'display_data';\n",
              "          await google.colab.output.renderOutput(dataTable, element);\n",
              "          const docLink = document.createElement('div');\n",
              "          docLink.innerHTML = docLinkHtml;\n",
              "          element.appendChild(docLink);\n",
              "        }\n",
              "      </script>\n",
              "    </div>\n",
              "  </div>\n",
              "  "
            ],
            "text/plain": [
              "   Year            Region  Demand\n",
              "0  2022  Downtown Toronto  397295\n",
              "1  2023  Downtown Toronto  412506\n",
              "2  2024  Downtown Toronto  427718\n",
              "3  2022         East York  275250\n",
              "4  2023         East York  285828"
            ]
          },
          "metadata": {},
          "execution_count": 16
        }
      ]
    },
    {
      "cell_type": "code",
      "source": [
        "dfAll = pd.concat([dfDemands, dfForecast])\n",
        "dfAll.reset_index(inplace=True)\n",
        "\n",
        "plt.figure(figsize=(14,8))\n",
        "sns.lineplot(data=dfAll, x='Year', y='Demand', hue='Region', marker='o')\n",
        "plt.show()"
      ],
      "metadata": {
        "colab": {
          "base_uri": "https://localhost:8080/",
          "height": 497
        },
        "id": "FVSZ1n488YB7",
        "outputId": "e21922c2-6d8a-4fa1-b1c7-fb46cc7c5090"
      },
      "execution_count": 17,
      "outputs": [
        {
          "output_type": "display_data",
          "data": {
            "image/png": "[encoded data removed]",
            "text/plain": [
              "<Figure size 1008x576 with 1 Axes>"
            ]
          },
          "metadata": {
            "needs_background": "light"
          }
        }
      ]
    },
    {
      "cell_type": "markdown",
      "metadata": {
        "id": "724Csg2dxBGc"
      },
      "source": [
        "## Model 1: Year-Specific, No Hiring (2022)"
      ]
    },
    {
      "cell_type": "markdown",
      "metadata": {
        "id": "llLUvqmpBHGa"
      },
      "source": [
        "#### Data Preparation"
      ]
    },
    {
      "cell_type": "code",
      "execution_count": 18,
      "metadata": {
        "id": "bZtTJe172K7q"
      },
      "outputs": [],
      "source": [
        "dfDemands22 = dfForecast[dfForecast['Year'] == 2022].copy()\n",
        "dfDemands22.drop('Year', axis=1, inplace=True)\n",
        "dfDemands22.set_index(['Region'], inplace=True)\n",
        "\n",
        "dfCenters.set_index(['Center'], inplace=True)"
      ]
    },
    {
      "cell_type": "code",
      "execution_count": 19,
      "metadata": {
        "colab": {
          "base_uri": "https://localhost:8080/",
          "height": 300
        },
        "id": "saGaN5Cp4AaO",
        "outputId": "bff874a7-4bf6-4985-878f-5f1dbd80a40b"
      },
      "outputs": [
        {
          "output_type": "execute_result",
          "data": {
            "text/html": [
              "\n",
              "  <div id=\"df-be42f1b8-8443-4ecb-a067-cfc04d27538a\">\n",
              "    <div class=\"colab-df-container\">\n",
              "      <div>\n",
              "<style scoped>\n",
              "    .dataframe tbody tr th:only-of-type {\n",
              "        vertical-align: middle;\n",
              "    }\n",
              "\n",
              "    .dataframe tbody tr th {\n",
              "        vertical-align: top;\n",
              "    }\n",
              "\n",
              "    .dataframe thead th {\n",
              "        text-align: right;\n",
              "    }\n",
              "</style>\n",
              "<table border=\"1\" class=\"dataframe\">\n",
              "  <thead>\n",
              "    <tr style=\"text-align: right;\">\n",
              "      <th></th>\n",
              "      <th>Demand</th>\n",
              "    </tr>\n",
              "    <tr>\n",
              "      <th>Region</th>\n",
              "      <th></th>\n",
              "    </tr>\n",
              "  </thead>\n",
              "  <tbody>\n",
              "    <tr>\n",
              "      <th>Downtown Toronto</th>\n",
              "      <td>397295</td>\n",
              "    </tr>\n",
              "    <tr>\n",
              "      <th>East York</th>\n",
              "      <td>275250</td>\n",
              "    </tr>\n",
              "    <tr>\n",
              "      <th>Etobicoke</th>\n",
              "      <td>457808</td>\n",
              "    </tr>\n",
              "    <tr>\n",
              "      <th>Mississauga East</th>\n",
              "      <td>406851</td>\n",
              "    </tr>\n",
              "    <tr>\n",
              "      <th>North Toronto</th>\n",
              "      <td>417190</td>\n",
              "    </tr>\n",
              "    <tr>\n",
              "      <th>North York</th>\n",
              "      <td>508686</td>\n",
              "    </tr>\n",
              "    <tr>\n",
              "      <th>Scarborough East</th>\n",
              "      <td>445900</td>\n",
              "    </tr>\n",
              "  </tbody>\n",
              "</table>\n",
              "</div>\n",
              "      <button class=\"colab-df-convert\" onclick=\"convertToInteractive('df-be42f1b8-8443-4ecb-a067-cfc04d27538a')\"\n",
              "              title=\"Convert this dataframe to an interactive table.\"\n",
              "              style=\"display:none;\">\n",
              "        \n",
              "  <svg xmlns=\"http://www.w3.org/2000/svg\" height=\"24px\"viewBox=\"0 0 24 24\"\n",
              "       width=\"24px\">\n",
              "    <path d=\"M0 0h24v24H0V0z\" fill=\"none\"/>\n",
              "    <path d=\"M18.56 5.44l.94 2.06.94-2.06 2.06-.94-2.06-.94-.94-2.06-.94 2.06-2.06.94zm-11 1L8.5 8.5l.94-2.06 2.06-.94-2.06-.94L8.5 2.5l-.94 2.06-2.06.94zm10 10l.94 2.06.94-2.06 2.06-.94-2.06-.94-.94-2.06-.94 2.06-2.06.94z\"/><path d=\"M17.41 7.96l-1.37-1.37c-.4-.4-.92-.59-1.43-.59-.52 0-1.04.2-1.43.59L10.3 9.45l-7.72 7.72c-.78.78-.78 2.05 0 2.83L4 21.41c.39.39.9.59 1.41.59.51 0 1.02-.2 1.41-.59l7.78-7.78 2.81-2.81c.8-.78.8-2.07 0-2.86zM5.41 20L4 18.59l7.72-7.72 1.47 1.35L5.41 20z\"/>\n",
              "  </svg>\n",
              "      </button>\n",
              "      \n",
              "  <style>\n",
              "    .colab-df-container {\n",
              "      display:flex;\n",
              "      flex-wrap:wrap;\n",
              "      gap: 12px;\n",
              "    }\n",
              "\n",
              "    .colab-df-convert {\n",
              "      background-color: #E8F0FE;\n",
              "      border: none;\n",
              "      border-radius: 50%;\n",
              "      cursor: pointer;\n",
              "      display: none;\n",
              "      fill: #1967D2;\n",
              "      height: 32px;\n",
              "      padding: 0 0 0 0;\n",
              "      width: 32px;\n",
              "    }\n",
              "\n",
              "    .colab-df-convert:hover {\n",
              "      background-color: #E2EBFA;\n",
              "      box-shadow: 0px 1px 2px rgba(60, 64, 67, 0.3), 0px 1px 3px 1px rgba(60, 64, 67, 0.15);\n",
              "      fill: #174EA6;\n",
              "    }\n",
              "\n",
              "    [theme=dark] .colab-df-convert {\n",
              "      background-color: #3B4455;\n",
              "      fill: #D2E3FC;\n",
              "    }\n",
              "\n",
              "    [theme=dark] .colab-df-convert:hover {\n",
              "      background-color: #434B5C;\n",
              "      box-shadow: 0px 1px 3px 1px rgba(0, 0, 0, 0.15);\n",
              "      filter: drop-shadow(0px 1px 2px rgba(0, 0, 0, 0.3));\n",
              "      fill: #FFFFFF;\n",
              "    }\n",
              "  </style>\n",
              "\n",
              "      <script>\n",
              "        const buttonEl =\n",
              "          document.querySelector('#df-be42f1b8-8443-4ecb-a067-cfc04d27538a button.colab-df-convert');\n",
              "        buttonEl.style.display =\n",
              "          google.colab.kernel.accessAllowed ? 'block' : 'none';\n",
              "\n",
              "        async function convertToInteractive(key) {\n",
              "          const element = document.querySelector('#df-be42f1b8-8443-4ecb-a067-cfc04d27538a');\n",
              "          const dataTable =\n",
              "            await google.colab.kernel.invokeFunction('convertToInteractive',\n",
              "                                                     [key], {});\n",
              "          if (!dataTable) return;\n",
              "\n",
              "          const docLinkHtml = 'Like what you see? Visit the ' +\n",
              "            '<a target=\"_blank\" href=https://colab.research.google.com/notebooks/data_table.ipynb>data table notebook</a>'\n",
              "            + ' to learn more about interactive tables.';\n",
              "          element.innerHTML = '';\n",
              "          dataTable['output_type'] = 'display_data';\n",
              "          await google.colab.output.renderOutput(dataTable, element);\n",
              "          const docLink = document.createElement('div');\n",
              "          docLink.innerHTML = docLinkHtml;\n",
              "          element.appendChild(docLink);\n",
              "        }\n",
              "      </script>\n",
              "    </div>\n",
              "  </div>\n",
              "  "
            ],
            "text/plain": [
              "                  Demand\n",
              "Region                  \n",
              "Downtown Toronto  397295\n",
              "East York         275250\n",
              "Etobicoke         457808\n",
              "Mississauga East  406851\n",
              "North Toronto     417190\n",
              "North York        508686\n",
              "Scarborough East  445900"
            ]
          },
          "metadata": {},
          "execution_count": 19
        }
      ],
      "source": [
        "dfDemands22"
      ]
    },
    {
      "cell_type": "markdown",
      "metadata": {
        "id": "UpobiTTiAzGN"
      },
      "source": [
        "#### Sets"
      ]
    },
    {
      "cell_type": "code",
      "execution_count": 20,
      "metadata": {
        "id": "UYSFVbB8xCWa"
      },
      "outputs": [],
      "source": [
        "# Centers\n",
        "depots = list(dfCenters.index)\n",
        "numdepots = len(depots)"
      ]
    },
    {
      "cell_type": "code",
      "execution_count": 21,
      "metadata": {
        "id": "RgDUoTNH5Llp"
      },
      "outputs": [],
      "source": [
        "# Regions\n",
        "zones = list(dfDemands['Region'].unique())\n",
        "numzones = len(zones)"
      ]
    },
    {
      "cell_type": "markdown",
      "metadata": {
        "id": "2jsy7_fh3Avl"
      },
      "source": [
        "#### Parameters"
      ]
    },
    {
      "cell_type": "code",
      "execution_count": 22,
      "metadata": {
        "colab": {
          "base_uri": "https://localhost:8080/"
        },
        "id": "8FarGO153Byb",
        "outputId": "d5dfb0a5-590c-4a6f-898d-8e68b134df63"
      },
      "outputs": [
        {
          "output_type": "execute_result",
          "data": {
            "text/plain": [
              "{'Downtown Toronto': 397295.0,\n",
              " 'East York': 275250.0,\n",
              " 'Etobicoke': 457808.0,\n",
              " 'Mississauga East': 406851.0,\n",
              " 'North Toronto': 417190.0,\n",
              " 'North York': 508686.0,\n",
              " 'Scarborough East': 445900.0}"
            ]
          },
          "metadata": {},
          "execution_count": 22
        }
      ],
      "source": [
        "# Demand in each zone (dictionary)\n",
        "zonedemand = {}\n",
        "for j in zones:    \n",
        "  zonedemand[j] = float(dfDemands22.loc[j][\"Demand\"])\n",
        "\n",
        "zonedemand"
      ]
    },
    {
      "cell_type": "code",
      "source": [
        "# Total workers (dictionary)\n",
        "total_workers = dfCenters['Num MPs'].sum()\n",
        "total_workers"
      ],
      "metadata": {
        "colab": {
          "base_uri": "https://localhost:8080/"
        },
        "id": "QAsaUoq6QWbC",
        "outputId": "ffbf3800-c22d-4eae-9178-548ca60ef870"
      },
      "execution_count": 23,
      "outputs": [
        {
          "output_type": "execute_result",
          "data": {
            "text/plain": [
              "560"
            ]
          },
          "metadata": {},
          "execution_count": 23
        }
      ]
    },
    {
      "cell_type": "code",
      "execution_count": 24,
      "metadata": {
        "colab": {
          "base_uri": "https://localhost:8080/"
        },
        "id": "cMWpEz9A4x5r",
        "outputId": "283ac649-0227-4694-b8df-23226a1f5522"
      },
      "outputs": [
        {
          "output_type": "execute_result",
          "data": {
            "text/plain": [
              "{'Center A': 5000000,\n",
              " 'Center B': 5000000,\n",
              " 'Center C': 5000000,\n",
              " 'Center D': 5000000,\n",
              " 'Center E': 5000000,\n",
              " 'Center F': 5000000}"
            ]
          },
          "metadata": {},
          "execution_count": 24
        }
      ],
      "source": [
        "# Depot capacities (dictionary)\n",
        "depotcapacity = {}\n",
        "for i in depots:\n",
        "  depotcapacity[i] = int(dfCenters.loc[i][\"Maximum capacity\"])\n",
        "\n",
        "depotcapacity"
      ]
    },
    {
      "cell_type": "code",
      "execution_count": 25,
      "metadata": {
        "colab": {
          "base_uri": "https://localhost:8080/"
        },
        "outputId": "dd42b4fd-5d4d-464c-e69a-ad47bfbf0c1d",
        "id": "JbI7r4z7yusm"
      },
      "outputs": [
        {
          "output_type": "execute_result",
          "data": {
            "text/plain": [
              "{'Center A': 0.0,\n",
              " 'Center B': 0.0,\n",
              " 'Center C': 0.0,\n",
              " 'Center D': 0.0,\n",
              " 'Center E': 250000.0,\n",
              " 'Center F': 100000.0}"
            ]
          },
          "metadata": {},
          "execution_count": 25
        }
      ],
      "source": [
        "# Depot costs: opening (dictionary)\n",
        "depotcost_opening = {}\n",
        "\n",
        "for i in depots:\n",
        "  depotcost_opening[i] = float(dfCenters.loc[i][\"Opening Costs\"])\n",
        "\n",
        "depotcost_opening"
      ]
    },
    {
      "cell_type": "code",
      "source": [
        "# Depot costs: operating (dictionary)\n",
        "depotcost_operating = {}\n",
        "\n",
        "for i in depots:\n",
        "  depotcost_operating[i] = float(dfCenters.loc[i][\"Operating Costs\"])\n",
        "\n",
        "depotcost_operating"
      ],
      "metadata": {
        "colab": {
          "base_uri": "https://localhost:8080/"
        },
        "outputId": "7689a221-2704-4028-acb7-bb1be190e3f0",
        "id": "75EOqSMkyusm"
      },
      "execution_count": 26,
      "outputs": [
        {
          "output_type": "execute_result",
          "data": {
            "text/plain": [
              "{'Center A': 275000.0,\n",
              " 'Center B': 275000.0,\n",
              " 'Center C': 275000.0,\n",
              " 'Center D': 285000.0,\n",
              " 'Center E': 125000.0,\n",
              " 'Center F': 175000.0}"
            ]
          },
          "metadata": {},
          "execution_count": 26
        }
      ]
    },
    {
      "cell_type": "code",
      "execution_count": 27,
      "metadata": {
        "colab": {
          "base_uri": "https://localhost:8080/"
        },
        "id": "qdj7zBKR3jgh",
        "outputId": "27935e71-a491-48b0-9dd4-e98c42702558"
      },
      "outputs": [
        {
          "output_type": "execute_result",
          "data": {
            "text/plain": [
              "{('Center A', 'Downtown Toronto'): 6.4425,\n",
              " ('Center A', 'East York'): 0.56,\n",
              " ('Center A', 'Etobicoke'): 6.43,\n",
              " ('Center A', 'Mississauga East'): 7.1625,\n",
              " ('Center A', 'North Toronto'): 2.91,\n",
              " ('Center A', 'North York'): 0.0,\n",
              " ('Center A', 'Scarborough East'): 4.94,\n",
              " ('Center B', 'Downtown Toronto'): 7.47,\n",
              " ('Center B', 'East York'): 4.01,\n",
              " ('Center B', 'Etobicoke'): 7.7775,\n",
              " ('Center B', 'Mississauga East'): 8.4825,\n",
              " ('Center B', 'North Toronto'): 6.2625,\n",
              " ('Center B', 'North York'): 5.745,\n",
              " ('Center B', 'Scarborough East'): 0.0,\n",
              " ('Center C', 'Downtown Toronto'): 4.775,\n",
              " ('Center C', 'East York'): 5.6125,\n",
              " ('Center C', 'Etobicoke'): 6.7325,\n",
              " ('Center C', 'Mississauga East'): 5.395,\n",
              " ('Center C', 'North Toronto'): 5.7475,\n",
              " ('Center C', 'North York'): 5.13,\n",
              " ('Center C', 'Scarborough East'): 3.715,\n",
              " ('Center D', 'Downtown Toronto'): 7.47,\n",
              " ('Center D', 'East York'): 4.01,\n",
              " ('Center D', 'Etobicoke'): 7.7775,\n",
              " ('Center D', 'Mississauga East'): 0.0,\n",
              " ('Center D', 'North Toronto'): 6.2625,\n",
              " ('Center D', 'North York'): 5.745,\n",
              " ('Center D', 'Scarborough East'): 6.695,\n",
              " ('Center E', 'Downtown Toronto'): 1.5925,\n",
              " ('Center E', 'East York'): 5.2325,\n",
              " ('Center E', 'Etobicoke'): 5.8,\n",
              " ('Center E', 'Mississauga East'): 5.1625,\n",
              " ('Center E', 'North Toronto'): 0.0,\n",
              " ('Center E', 'North York'): 2.91,\n",
              " ('Center E', 'Scarborough East'): 6.4725,\n",
              " ('Center F', 'Downtown Toronto'): 4.7075,\n",
              " ('Center F', 'East York'): 7.675,\n",
              " ('Center F', 'Etobicoke'): 6.41,\n",
              " ('Center F', 'Mississauga East'): 0.0,\n",
              " ('Center F', 'North Toronto'): 5.1625,\n",
              " ('Center F', 'North York'): 7.1625,\n",
              " ('Center F', 'Scarborough East'): 4.2525}"
            ]
          },
          "metadata": {},
          "execution_count": 27
        }
      ],
      "source": [
        "# Depot-zone costs (dictionary)\n",
        "depotzonecost = {}\n",
        "for i in depots:\n",
        "  for j in zones:\n",
        "    depotzonecost[(i,j)] = float(dfDistances[(dfDistances[\"Center\"] == i)&(dfDistances[\"Region\"] == j)][\"Distance\"]*0.25)\n",
        "\n",
        "depotzonecost"
      ]
    },
    {
      "cell_type": "markdown",
      "metadata": {
        "id": "NtpP2iS57a8w"
      },
      "source": [
        "#### Variables"
      ]
    },
    {
      "cell_type": "code",
      "execution_count": 28,
      "metadata": {
        "id": "7j6LZPcp8TEw"
      },
      "outputs": [],
      "source": [
        "# Variables: if a depot is opened/allocated\n",
        "yvar = pulp.LpVariable.dict(\"y\", depots, cat=pulp.LpBinary)\n",
        "\n",
        "# Variables: amount of demand from each zone allocated to depot, per scenario\n",
        "xvar = pulp.LpVariable.dict(\"x\", (depots, zones), lowBound=0.0, cat=pulp.LpContinuous)\n",
        "\n",
        "# Variables: number of workers in a center\n",
        "wvar = pulp.LpVariable.dict(\"w\", (depots), lowBound=0.0, cat=pulp.LpInteger)"
      ]
    },
    {
      "cell_type": "markdown",
      "metadata": {
        "id": "kRet25AIABiU"
      },
      "source": [
        "#### Model Initialization"
      ]
    },
    {
      "cell_type": "code",
      "execution_count": 29,
      "metadata": {
        "id": "DbpotJBYABiU"
      },
      "outputs": [],
      "source": [
        "# Initialize model and objective sense\n",
        "locationModel = pulp.LpProblem(name=\"LocationModel\", sense=pulp.LpMaximize)"
      ]
    },
    {
      "cell_type": "markdown",
      "metadata": {
        "id": "bAbbfkvOABiU"
      },
      "source": [
        "#### Constraints"
      ]
    },
    {
      "cell_type": "code",
      "execution_count": 30,
      "metadata": {
        "id": "vqjtCQPbABiV"
      },
      "outputs": [],
      "source": [
        "# Contraint: demand must be satisfied in all scenarios\n",
        "for j in zones:\n",
        "  locationModel += pulp.lpSum( [xvar[(i,j)] for i in depots] ) <= zonedemand[j]\n",
        "\n",
        "for i in depots:        \n",
        "# Constraint: depot capacities must be observed in all scenarios\n",
        "  locationModel += pulp.lpSum( [xvar[(i,j)] for j in zones] ) <= depotcapacity[i] * yvar[i]\n",
        "\n",
        "# Constraint: center capacity is limited by available professionals\n",
        "  locationModel += pulp.lpSum( [xvar[(i,j)] for j in zones ] ) <= 250 * 6 * wvar[i]\n",
        "\n",
        "locationModel += pulp.lpSum( [wvar[i] for i in depots] ) <= total_workers"
      ]
    },
    {
      "cell_type": "markdown",
      "metadata": {
        "id": "lWQVyYl1ABiV"
      },
      "source": [
        "#### Objective Function"
      ]
    },
    {
      "cell_type": "code",
      "execution_count": 31,
      "metadata": {
        "id": "Tkk3-caHABiV"
      },
      "outputs": [],
      "source": [
        "# Objective function\n",
        "\n",
        "rate = 42 # amount reimbursed\n",
        "\n",
        "# Revenue earned through reimbursement by the governement\n",
        "obj = pulp.lpSum( [ rate * xvar[(i,j)] for i in depots for j in zones ] )\n",
        "\n",
        "# Depot allocation costs\n",
        "# obj -= pulp.lpSum([ depotcost[i] * yvar[i] for i in depots])\n",
        "obj -= pulp.lpSum([ depotcost_operating[i] for i in ['Center A', 'Center B', 'Center C', 'Center D']] ) \n",
        "obj -= pulp.lpSum([ (depotcost_opening[i] + depotcost_operating[i]) * yvar[i] for i in ['Center E', 'Center F'] ])\n",
        "\n",
        "# Distance costs\n",
        "obj -= pulp.lpSum( [ depotzonecost[(i,j)] * xvar[(i,j)] for i in depots for j in zones ] )\n",
        "\n",
        "# Health professional cost\n",
        "obj -= pulp.lpSum( [ 37.85 * 250 * 6 * wvar[(i)] for i in depots] )\n",
        "\n",
        "# Add objective to model\n",
        "locationModel += obj"
      ]
    },
    {
      "cell_type": "markdown",
      "metadata": {
        "id": "HbFuIndgABiV"
      },
      "source": [
        "#### Solution"
      ]
    },
    {
      "cell_type": "code",
      "execution_count": 32,
      "metadata": {
        "colab": {
          "base_uri": "https://localhost:8080/"
        },
        "id": "EVXi_yPZABiV",
        "outputId": "fa2dc042-49d8-4125-8873-d67292e25172"
      },
      "outputs": [
        {
          "output_type": "stream",
          "name": "stdout",
          "text": [
            "Status: Optimal\n"
          ]
        }
      ],
      "source": [
        "# Write LP to file \n",
        "locationModel.writeLP(\"locationModel.lp\")\n",
        "\n",
        "# Solve model\n",
        "locationModel.solve()\n",
        "print(\"Status:\", pulp.LpStatus[locationModel.status])"
      ]
    },
    {
      "cell_type": "code",
      "execution_count": 33,
      "metadata": {
        "colab": {
          "base_uri": "https://localhost:8080/"
        },
        "id": "gBEK3w2FABiV",
        "outputId": "6aa34123-b31f-4d1a-d357-70ad02e56290"
      },
      "outputs": [
        {
          "output_type": "stream",
          "name": "stdout",
          "text": [
            "Total profit: 2376000.0\n"
          ]
        }
      ],
      "source": [
        "# Total profit\n",
        "totalProfit = pulp.value(locationModel.objective)\n",
        "print(\"Total profit: \" + str(totalProfit))"
      ]
    },
    {
      "cell_type": "code",
      "source": [
        "# Manual check on whether profit matches expected value\n",
        "(42-37.85)*250*6*560-np.sum(list(depotcost_operating.values()))+3e5"
      ],
      "metadata": {
        "colab": {
          "base_uri": "https://localhost:8080/"
        },
        "id": "R-yIqDnDs-g0",
        "outputId": "03e670c4-39d9-435a-ff63-77966530fbdd"
      },
      "execution_count": 34,
      "outputs": [
        {
          "output_type": "execute_result",
          "data": {
            "text/plain": [
              "2375999.9999999986"
            ]
          },
          "metadata": {},
          "execution_count": 34
        }
      ]
    },
    {
      "cell_type": "code",
      "execution_count": 35,
      "metadata": {
        "colab": {
          "base_uri": "https://localhost:8080/"
        },
        "id": "EYfsWO-DABiV",
        "outputId": "10ded80d-5433-4c6e-cc47-3dc71491ffd6"
      },
      "outputs": [
        {
          "output_type": "stream",
          "name": "stdout",
          "text": [
            "\n",
            " Depot Center A is opened\n",
            "\n",
            " Depot Center B is opened\n",
            "\t\tServes zone Scarborough East with a capacity of 433500\n",
            "\n",
            " Depot Center C is opened\n",
            "\n",
            " Depot Center D is opened\n",
            "\t\tServes zone Mississauga East with a capacity of 406500\n"
          ]
        }
      ],
      "source": [
        "# Solution\n",
        "for i in depots:\n",
        "  if yvar[i].varValue >= 1.0:\n",
        "    print(\"\\n Depot \" + str(i) + \" is opened\")                            \n",
        "    for j in zones:\n",
        "      if xvar[(i,j)].varValue > 0.0:\n",
        "        print(\"\\t\\tServes zone \" + str(j) + \" with a capacity of \" + str(int(xvar[(i,j)].varValue)))"
      ]
    },
    {
      "cell_type": "markdown",
      "source": [
        "#### Analysis"
      ],
      "metadata": {
        "id": "8orI5Pj4-lqa"
      }
    },
    {
      "cell_type": "code",
      "source": [
        "dfDistances[dfDistances['Center'] == 'Center B']"
      ],
      "metadata": {
        "colab": {
          "base_uri": "https://localhost:8080/",
          "height": 269
        },
        "id": "IxEWKOJVyAt_",
        "outputId": "24837457-7175-4e9a-aef7-a812629c6ba6"
      },
      "execution_count": 36,
      "outputs": [
        {
          "output_type": "execute_result",
          "data": {
            "text/html": [
              "\n",
              "  <div id=\"df-9a8172f9-c593-44b5-a774-f822c6a40699\">\n",
              "    <div class=\"colab-df-container\">\n",
              "      <div>\n",
              "<style scoped>\n",
              "    .dataframe tbody tr th:only-of-type {\n",
              "        vertical-align: middle;\n",
              "    }\n",
              "\n",
              "    .dataframe tbody tr th {\n",
              "        vertical-align: top;\n",
              "    }\n",
              "\n",
              "    .dataframe thead th {\n",
              "        text-align: right;\n",
              "    }\n",
              "</style>\n",
              "<table border=\"1\" class=\"dataframe\">\n",
              "  <thead>\n",
              "    <tr style=\"text-align: right;\">\n",
              "      <th></th>\n",
              "      <th>Center</th>\n",
              "      <th>Region</th>\n",
              "      <th>Distance</th>\n",
              "    </tr>\n",
              "  </thead>\n",
              "  <tbody>\n",
              "    <tr>\n",
              "      <th>7</th>\n",
              "      <td>Center B</td>\n",
              "      <td>Downtown Toronto</td>\n",
              "      <td>29.88</td>\n",
              "    </tr>\n",
              "    <tr>\n",
              "      <th>8</th>\n",
              "      <td>Center B</td>\n",
              "      <td>East York</td>\n",
              "      <td>16.04</td>\n",
              "    </tr>\n",
              "    <tr>\n",
              "      <th>9</th>\n",
              "      <td>Center B</td>\n",
              "      <td>Etobicoke</td>\n",
              "      <td>31.11</td>\n",
              "    </tr>\n",
              "    <tr>\n",
              "      <th>10</th>\n",
              "      <td>Center B</td>\n",
              "      <td>Mississauga East</td>\n",
              "      <td>33.93</td>\n",
              "    </tr>\n",
              "    <tr>\n",
              "      <th>11</th>\n",
              "      <td>Center B</td>\n",
              "      <td>North Toronto</td>\n",
              "      <td>25.05</td>\n",
              "    </tr>\n",
              "    <tr>\n",
              "      <th>12</th>\n",
              "      <td>Center B</td>\n",
              "      <td>North York</td>\n",
              "      <td>22.98</td>\n",
              "    </tr>\n",
              "    <tr>\n",
              "      <th>13</th>\n",
              "      <td>Center B</td>\n",
              "      <td>Scarborough East</td>\n",
              "      <td>0.00</td>\n",
              "    </tr>\n",
              "  </tbody>\n",
              "</table>\n",
              "</div>\n",
              "      <button class=\"colab-df-convert\" onclick=\"convertToInteractive('df-9a8172f9-c593-44b5-a774-f822c6a40699')\"\n",
              "              title=\"Convert this dataframe to an interactive table.\"\n",
              "              style=\"display:none;\">\n",
              "        \n",
              "  <svg xmlns=\"http://www.w3.org/2000/svg\" height=\"24px\"viewBox=\"0 0 24 24\"\n",
              "       width=\"24px\">\n",
              "    <path d=\"M0 0h24v24H0V0z\" fill=\"none\"/>\n",
              "    <path d=\"M18.56 5.44l.94 2.06.94-2.06 2.06-.94-2.06-.94-.94-2.06-.94 2.06-2.06.94zm-11 1L8.5 8.5l.94-2.06 2.06-.94-2.06-.94L8.5 2.5l-.94 2.06-2.06.94zm10 10l.94 2.06.94-2.06 2.06-.94-2.06-.94-.94-2.06-.94 2.06-2.06.94z\"/><path d=\"M17.41 7.96l-1.37-1.37c-.4-.4-.92-.59-1.43-.59-.52 0-1.04.2-1.43.59L10.3 9.45l-7.72 7.72c-.78.78-.78 2.05 0 2.83L4 21.41c.39.39.9.59 1.41.59.51 0 1.02-.2 1.41-.59l7.78-7.78 2.81-2.81c.8-.78.8-2.07 0-2.86zM5.41 20L4 18.59l7.72-7.72 1.47 1.35L5.41 20z\"/>\n",
              "  </svg>\n",
              "      </button>\n",
              "      \n",
              "  <style>\n",
              "    .colab-df-container {\n",
              "      display:flex;\n",
              "      flex-wrap:wrap;\n",
              "      gap: 12px;\n",
              "    }\n",
              "\n",
              "    .colab-df-convert {\n",
              "      background-color: #E8F0FE;\n",
              "      border: none;\n",
              "      border-radius: 50%;\n",
              "      cursor: pointer;\n",
              "      display: none;\n",
              "      fill: #1967D2;\n",
              "      height: 32px;\n",
              "      padding: 0 0 0 0;\n",
              "      width: 32px;\n",
              "    }\n",
              "\n",
              "    .colab-df-convert:hover {\n",
              "      background-color: #E2EBFA;\n",
              "      box-shadow: 0px 1px 2px rgba(60, 64, 67, 0.3), 0px 1px 3px 1px rgba(60, 64, 67, 0.15);\n",
              "      fill: #174EA6;\n",
              "    }\n",
              "\n",
              "    [theme=dark] .colab-df-convert {\n",
              "      background-color: #3B4455;\n",
              "      fill: #D2E3FC;\n",
              "    }\n",
              "\n",
              "    [theme=dark] .colab-df-convert:hover {\n",
              "      background-color: #434B5C;\n",
              "      box-shadow: 0px 1px 3px 1px rgba(0, 0, 0, 0.15);\n",
              "      filter: drop-shadow(0px 1px 2px rgba(0, 0, 0, 0.3));\n",
              "      fill: #FFFFFF;\n",
              "    }\n",
              "  </style>\n",
              "\n",
              "      <script>\n",
              "        const buttonEl =\n",
              "          document.querySelector('#df-9a8172f9-c593-44b5-a774-f822c6a40699 button.colab-df-convert');\n",
              "        buttonEl.style.display =\n",
              "          google.colab.kernel.accessAllowed ? 'block' : 'none';\n",
              "\n",
              "        async function convertToInteractive(key) {\n",
              "          const element = document.querySelector('#df-9a8172f9-c593-44b5-a774-f822c6a40699');\n",
              "          const dataTable =\n",
              "            await google.colab.kernel.invokeFunction('convertToInteractive',\n",
              "                                                     [key], {});\n",
              "          if (!dataTable) return;\n",
              "\n",
              "          const docLinkHtml = 'Like what you see? Visit the ' +\n",
              "            '<a target=\"_blank\" href=https://colab.research.google.com/notebooks/data_table.ipynb>data table notebook</a>'\n",
              "            + ' to learn more about interactive tables.';\n",
              "          element.innerHTML = '';\n",
              "          dataTable['output_type'] = 'display_data';\n",
              "          await google.colab.output.renderOutput(dataTable, element);\n",
              "          const docLink = document.createElement('div');\n",
              "          docLink.innerHTML = docLinkHtml;\n",
              "          element.appendChild(docLink);\n",
              "        }\n",
              "      </script>\n",
              "    </div>\n",
              "  </div>\n",
              "  "
            ],
            "text/plain": [
              "      Center            Region  Distance\n",
              "7   Center B  Downtown Toronto     29.88\n",
              "8   Center B         East York     16.04\n",
              "9   Center B         Etobicoke     31.11\n",
              "10  Center B  Mississauga East     33.93\n",
              "11  Center B     North Toronto     25.05\n",
              "12  Center B        North York     22.98\n",
              "13  Center B  Scarborough East      0.00"
            ]
          },
          "metadata": {},
          "execution_count": 36
        }
      ]
    },
    {
      "cell_type": "code",
      "source": [
        "dfDistances[dfDistances['Center'] == 'Center D']"
      ],
      "metadata": {
        "colab": {
          "base_uri": "https://localhost:8080/",
          "height": 269
        },
        "id": "PkUGAFqmyPQA",
        "outputId": "47ea11d7-8218-4e39-ad8e-82e2fc5001b0"
      },
      "execution_count": 37,
      "outputs": [
        {
          "output_type": "execute_result",
          "data": {
            "text/html": [
              "\n",
              "  <div id=\"df-70964d7a-70dc-4f0b-96c7-c4630c00e061\">\n",
              "    <div class=\"colab-df-container\">\n",
              "      <div>\n",
              "<style scoped>\n",
              "    .dataframe tbody tr th:only-of-type {\n",
              "        vertical-align: middle;\n",
              "    }\n",
              "\n",
              "    .dataframe tbody tr th {\n",
              "        vertical-align: top;\n",
              "    }\n",
              "\n",
              "    .dataframe thead th {\n",
              "        text-align: right;\n",
              "    }\n",
              "</style>\n",
              "<table border=\"1\" class=\"dataframe\">\n",
              "  <thead>\n",
              "    <tr style=\"text-align: right;\">\n",
              "      <th></th>\n",
              "      <th>Center</th>\n",
              "      <th>Region</th>\n",
              "      <th>Distance</th>\n",
              "    </tr>\n",
              "  </thead>\n",
              "  <tbody>\n",
              "    <tr>\n",
              "      <th>21</th>\n",
              "      <td>Center D</td>\n",
              "      <td>Downtown Toronto</td>\n",
              "      <td>29.88</td>\n",
              "    </tr>\n",
              "    <tr>\n",
              "      <th>22</th>\n",
              "      <td>Center D</td>\n",
              "      <td>East York</td>\n",
              "      <td>16.04</td>\n",
              "    </tr>\n",
              "    <tr>\n",
              "      <th>23</th>\n",
              "      <td>Center D</td>\n",
              "      <td>Etobicoke</td>\n",
              "      <td>31.11</td>\n",
              "    </tr>\n",
              "    <tr>\n",
              "      <th>24</th>\n",
              "      <td>Center D</td>\n",
              "      <td>Mississauga East</td>\n",
              "      <td>0.00</td>\n",
              "    </tr>\n",
              "    <tr>\n",
              "      <th>25</th>\n",
              "      <td>Center D</td>\n",
              "      <td>North Toronto</td>\n",
              "      <td>25.05</td>\n",
              "    </tr>\n",
              "    <tr>\n",
              "      <th>26</th>\n",
              "      <td>Center D</td>\n",
              "      <td>North York</td>\n",
              "      <td>22.98</td>\n",
              "    </tr>\n",
              "    <tr>\n",
              "      <th>27</th>\n",
              "      <td>Center D</td>\n",
              "      <td>Scarborough East</td>\n",
              "      <td>26.78</td>\n",
              "    </tr>\n",
              "  </tbody>\n",
              "</table>\n",
              "</div>\n",
              "      <button class=\"colab-df-convert\" onclick=\"convertToInteractive('df-70964d7a-70dc-4f0b-96c7-c4630c00e061')\"\n",
              "              title=\"Convert this dataframe to an interactive table.\"\n",
              "              style=\"display:none;\">\n",
              "        \n",
              "  <svg xmlns=\"http://www.w3.org/2000/svg\" height=\"24px\"viewBox=\"0 0 24 24\"\n",
              "       width=\"24px\">\n",
              "    <path d=\"M0 0h24v24H0V0z\" fill=\"none\"/>\n",
              "    <path d=\"M18.56 5.44l.94 2.06.94-2.06 2.06-.94-2.06-.94-.94-2.06-.94 2.06-2.06.94zm-11 1L8.5 8.5l.94-2.06 2.06-.94-2.06-.94L8.5 2.5l-.94 2.06-2.06.94zm10 10l.94 2.06.94-2.06 2.06-.94-2.06-.94-.94-2.06-.94 2.06-2.06.94z\"/><path d=\"M17.41 7.96l-1.37-1.37c-.4-.4-.92-.59-1.43-.59-.52 0-1.04.2-1.43.59L10.3 9.45l-7.72 7.72c-.78.78-.78 2.05 0 2.83L4 21.41c.39.39.9.59 1.41.59.51 0 1.02-.2 1.41-.59l7.78-7.78 2.81-2.81c.8-.78.8-2.07 0-2.86zM5.41 20L4 18.59l7.72-7.72 1.47 1.35L5.41 20z\"/>\n",
              "  </svg>\n",
              "      </button>\n",
              "      \n",
              "  <style>\n",
              "    .colab-df-container {\n",
              "      display:flex;\n",
              "      flex-wrap:wrap;\n",
              "      gap: 12px;\n",
              "    }\n",
              "\n",
              "    .colab-df-convert {\n",
              "      background-color: #E8F0FE;\n",
              "      border: none;\n",
              "      border-radius: 50%;\n",
              "      cursor: pointer;\n",
              "      display: none;\n",
              "      fill: #1967D2;\n",
              "      height: 32px;\n",
              "      padding: 0 0 0 0;\n",
              "      width: 32px;\n",
              "    }\n",
              "\n",
              "    .colab-df-convert:hover {\n",
              "      background-color: #E2EBFA;\n",
              "      box-shadow: 0px 1px 2px rgba(60, 64, 67, 0.3), 0px 1px 3px 1px rgba(60, 64, 67, 0.15);\n",
              "      fill: #174EA6;\n",
              "    }\n",
              "\n",
              "    [theme=dark] .colab-df-convert {\n",
              "      background-color: #3B4455;\n",
              "      fill: #D2E3FC;\n",
              "    }\n",
              "\n",
              "    [theme=dark] .colab-df-convert:hover {\n",
              "      background-color: #434B5C;\n",
              "      box-shadow: 0px 1px 3px 1px rgba(0, 0, 0, 0.15);\n",
              "      filter: drop-shadow(0px 1px 2px rgba(0, 0, 0, 0.3));\n",
              "      fill: #FFFFFF;\n",
              "    }\n",
              "  </style>\n",
              "\n",
              "      <script>\n",
              "        const buttonEl =\n",
              "          document.querySelector('#df-70964d7a-70dc-4f0b-96c7-c4630c00e061 button.colab-df-convert');\n",
              "        buttonEl.style.display =\n",
              "          google.colab.kernel.accessAllowed ? 'block' : 'none';\n",
              "\n",
              "        async function convertToInteractive(key) {\n",
              "          const element = document.querySelector('#df-70964d7a-70dc-4f0b-96c7-c4630c00e061');\n",
              "          const dataTable =\n",
              "            await google.colab.kernel.invokeFunction('convertToInteractive',\n",
              "                                                     [key], {});\n",
              "          if (!dataTable) return;\n",
              "\n",
              "          const docLinkHtml = 'Like what you see? Visit the ' +\n",
              "            '<a target=\"_blank\" href=https://colab.research.google.com/notebooks/data_table.ipynb>data table notebook</a>'\n",
              "            + ' to learn more about interactive tables.';\n",
              "          element.innerHTML = '';\n",
              "          dataTable['output_type'] = 'display_data';\n",
              "          await google.colab.output.renderOutput(dataTable, element);\n",
              "          const docLink = document.createElement('div');\n",
              "          docLink.innerHTML = docLinkHtml;\n",
              "          element.appendChild(docLink);\n",
              "        }\n",
              "      </script>\n",
              "    </div>\n",
              "  </div>\n",
              "  "
            ],
            "text/plain": [
              "      Center            Region  Distance\n",
              "21  Center D  Downtown Toronto     29.88\n",
              "22  Center D         East York     16.04\n",
              "23  Center D         Etobicoke     31.11\n",
              "24  Center D  Mississauga East      0.00\n",
              "25  Center D     North Toronto     25.05\n",
              "26  Center D        North York     22.98\n",
              "27  Center D  Scarborough East     26.78"
            ]
          },
          "metadata": {},
          "execution_count": 37
        }
      ]
    },
    {
      "cell_type": "code",
      "source": [
        "dfTemp = dfForecast[dfForecast.Year == 2022].sort_values(by='Demand', ascending=False).copy(deep=True)\n",
        "dfTemp['MPs'] = dfTemp['Demand']/(250 * 6)"
      ],
      "metadata": {
        "id": "jOSDkiprrDbk"
      },
      "execution_count": 38,
      "outputs": []
    },
    {
      "cell_type": "code",
      "source": [
        "dfTemp.sort_values(by='MPs', ascending=True)"
      ],
      "metadata": {
        "colab": {
          "base_uri": "https://localhost:8080/",
          "height": 269
        },
        "id": "ZemT56IlrP9b",
        "outputId": "d1afaab2-9a15-493e-ae0f-c8c736e3b58a"
      },
      "execution_count": 39,
      "outputs": [
        {
          "output_type": "execute_result",
          "data": {
            "text/html": [
              "\n",
              "  <div id=\"df-d912c1c1-f411-4850-8350-8aeed71aecc7\">\n",
              "    <div class=\"colab-df-container\">\n",
              "      <div>\n",
              "<style scoped>\n",
              "    .dataframe tbody tr th:only-of-type {\n",
              "        vertical-align: middle;\n",
              "    }\n",
              "\n",
              "    .dataframe tbody tr th {\n",
              "        vertical-align: top;\n",
              "    }\n",
              "\n",
              "    .dataframe thead th {\n",
              "        text-align: right;\n",
              "    }\n",
              "</style>\n",
              "<table border=\"1\" class=\"dataframe\">\n",
              "  <thead>\n",
              "    <tr style=\"text-align: right;\">\n",
              "      <th></th>\n",
              "      <th>Year</th>\n",
              "      <th>Region</th>\n",
              "      <th>Demand</th>\n",
              "      <th>MPs</th>\n",
              "    </tr>\n",
              "  </thead>\n",
              "  <tbody>\n",
              "    <tr>\n",
              "      <th>3</th>\n",
              "      <td>2022</td>\n",
              "      <td>East York</td>\n",
              "      <td>275250</td>\n",
              "      <td>183.500000</td>\n",
              "    </tr>\n",
              "    <tr>\n",
              "      <th>0</th>\n",
              "      <td>2022</td>\n",
              "      <td>Downtown Toronto</td>\n",
              "      <td>397295</td>\n",
              "      <td>264.863333</td>\n",
              "    </tr>\n",
              "    <tr>\n",
              "      <th>9</th>\n",
              "      <td>2022</td>\n",
              "      <td>Mississauga East</td>\n",
              "      <td>406851</td>\n",
              "      <td>271.234000</td>\n",
              "    </tr>\n",
              "    <tr>\n",
              "      <th>12</th>\n",
              "      <td>2022</td>\n",
              "      <td>North Toronto</td>\n",
              "      <td>417190</td>\n",
              "      <td>278.126667</td>\n",
              "    </tr>\n",
              "    <tr>\n",
              "      <th>18</th>\n",
              "      <td>2022</td>\n",
              "      <td>Scarborough East</td>\n",
              "      <td>445900</td>\n",
              "      <td>297.266667</td>\n",
              "    </tr>\n",
              "    <tr>\n",
              "      <th>6</th>\n",
              "      <td>2022</td>\n",
              "      <td>Etobicoke</td>\n",
              "      <td>457808</td>\n",
              "      <td>305.205333</td>\n",
              "    </tr>\n",
              "    <tr>\n",
              "      <th>15</th>\n",
              "      <td>2022</td>\n",
              "      <td>North York</td>\n",
              "      <td>508686</td>\n",
              "      <td>339.124000</td>\n",
              "    </tr>\n",
              "  </tbody>\n",
              "</table>\n",
              "</div>\n",
              "      <button class=\"colab-df-convert\" onclick=\"convertToInteractive('df-d912c1c1-f411-4850-8350-8aeed71aecc7')\"\n",
              "              title=\"Convert this dataframe to an interactive table.\"\n",
              "              style=\"display:none;\">\n",
              "        \n",
              "  <svg xmlns=\"http://www.w3.org/2000/svg\" height=\"24px\"viewBox=\"0 0 24 24\"\n",
              "       width=\"24px\">\n",
              "    <path d=\"M0 0h24v24H0V0z\" fill=\"none\"/>\n",
              "    <path d=\"M18.56 5.44l.94 2.06.94-2.06 2.06-.94-2.06-.94-.94-2.06-.94 2.06-2.06.94zm-11 1L8.5 8.5l.94-2.06 2.06-.94-2.06-.94L8.5 2.5l-.94 2.06-2.06.94zm10 10l.94 2.06.94-2.06 2.06-.94-2.06-.94-.94-2.06-.94 2.06-2.06.94z\"/><path d=\"M17.41 7.96l-1.37-1.37c-.4-.4-.92-.59-1.43-.59-.52 0-1.04.2-1.43.59L10.3 9.45l-7.72 7.72c-.78.78-.78 2.05 0 2.83L4 21.41c.39.39.9.59 1.41.59.51 0 1.02-.2 1.41-.59l7.78-7.78 2.81-2.81c.8-.78.8-2.07 0-2.86zM5.41 20L4 18.59l7.72-7.72 1.47 1.35L5.41 20z\"/>\n",
              "  </svg>\n",
              "      </button>\n",
              "      \n",
              "  <style>\n",
              "    .colab-df-container {\n",
              "      display:flex;\n",
              "      flex-wrap:wrap;\n",
              "      gap: 12px;\n",
              "    }\n",
              "\n",
              "    .colab-df-convert {\n",
              "      background-color: #E8F0FE;\n",
              "      border: none;\n",
              "      border-radius: 50%;\n",
              "      cursor: pointer;\n",
              "      display: none;\n",
              "      fill: #1967D2;\n",
              "      height: 32px;\n",
              "      padding: 0 0 0 0;\n",
              "      width: 32px;\n",
              "    }\n",
              "\n",
              "    .colab-df-convert:hover {\n",
              "      background-color: #E2EBFA;\n",
              "      box-shadow: 0px 1px 2px rgba(60, 64, 67, 0.3), 0px 1px 3px 1px rgba(60, 64, 67, 0.15);\n",
              "      fill: #174EA6;\n",
              "    }\n",
              "\n",
              "    [theme=dark] .colab-df-convert {\n",
              "      background-color: #3B4455;\n",
              "      fill: #D2E3FC;\n",
              "    }\n",
              "\n",
              "    [theme=dark] .colab-df-convert:hover {\n",
              "      background-color: #434B5C;\n",
              "      box-shadow: 0px 1px 3px 1px rgba(0, 0, 0, 0.15);\n",
              "      filter: drop-shadow(0px 1px 2px rgba(0, 0, 0, 0.3));\n",
              "      fill: #FFFFFF;\n",
              "    }\n",
              "  </style>\n",
              "\n",
              "      <script>\n",
              "        const buttonEl =\n",
              "          document.querySelector('#df-d912c1c1-f411-4850-8350-8aeed71aecc7 button.colab-df-convert');\n",
              "        buttonEl.style.display =\n",
              "          google.colab.kernel.accessAllowed ? 'block' : 'none';\n",
              "\n",
              "        async function convertToInteractive(key) {\n",
              "          const element = document.querySelector('#df-d912c1c1-f411-4850-8350-8aeed71aecc7');\n",
              "          const dataTable =\n",
              "            await google.colab.kernel.invokeFunction('convertToInteractive',\n",
              "                                                     [key], {});\n",
              "          if (!dataTable) return;\n",
              "\n",
              "          const docLinkHtml = 'Like what you see? Visit the ' +\n",
              "            '<a target=\"_blank\" href=https://colab.research.google.com/notebooks/data_table.ipynb>data table notebook</a>'\n",
              "            + ' to learn more about interactive tables.';\n",
              "          element.innerHTML = '';\n",
              "          dataTable['output_type'] = 'display_data';\n",
              "          await google.colab.output.renderOutput(dataTable, element);\n",
              "          const docLink = document.createElement('div');\n",
              "          docLink.innerHTML = docLinkHtml;\n",
              "          element.appendChild(docLink);\n",
              "        }\n",
              "      </script>\n",
              "    </div>\n",
              "  </div>\n",
              "  "
            ],
            "text/plain": [
              "    Year            Region  Demand         MPs\n",
              "3   2022         East York  275250  183.500000\n",
              "0   2022  Downtown Toronto  397295  264.863333\n",
              "9   2022  Mississauga East  406851  271.234000\n",
              "12  2022     North Toronto  417190  278.126667\n",
              "18  2022  Scarborough East  445900  297.266667\n",
              "6   2022         Etobicoke  457808  305.205333\n",
              "15  2022        North York  508686  339.124000"
            ]
          },
          "metadata": {},
          "execution_count": 39
        }
      ]
    },
    {
      "cell_type": "code",
      "source": [
        "dfDistances[dfDistances.Distance == 0]"
      ],
      "metadata": {
        "colab": {
          "base_uri": "https://localhost:8080/",
          "height": 206
        },
        "id": "hFah1zwAyTIK",
        "outputId": "51d66952-1746-40a6-883b-aaceeeb85317"
      },
      "execution_count": 40,
      "outputs": [
        {
          "output_type": "execute_result",
          "data": {
            "text/html": [
              "\n",
              "  <div id=\"df-8db94f62-d591-41fa-b5a1-880362df84ef\">\n",
              "    <div class=\"colab-df-container\">\n",
              "      <div>\n",
              "<style scoped>\n",
              "    .dataframe tbody tr th:only-of-type {\n",
              "        vertical-align: middle;\n",
              "    }\n",
              "\n",
              "    .dataframe tbody tr th {\n",
              "        vertical-align: top;\n",
              "    }\n",
              "\n",
              "    .dataframe thead th {\n",
              "        text-align: right;\n",
              "    }\n",
              "</style>\n",
              "<table border=\"1\" class=\"dataframe\">\n",
              "  <thead>\n",
              "    <tr style=\"text-align: right;\">\n",
              "      <th></th>\n",
              "      <th>Center</th>\n",
              "      <th>Region</th>\n",
              "      <th>Distance</th>\n",
              "    </tr>\n",
              "  </thead>\n",
              "  <tbody>\n",
              "    <tr>\n",
              "      <th>5</th>\n",
              "      <td>Center A</td>\n",
              "      <td>North York</td>\n",
              "      <td>0.0</td>\n",
              "    </tr>\n",
              "    <tr>\n",
              "      <th>13</th>\n",
              "      <td>Center B</td>\n",
              "      <td>Scarborough East</td>\n",
              "      <td>0.0</td>\n",
              "    </tr>\n",
              "    <tr>\n",
              "      <th>24</th>\n",
              "      <td>Center D</td>\n",
              "      <td>Mississauga East</td>\n",
              "      <td>0.0</td>\n",
              "    </tr>\n",
              "    <tr>\n",
              "      <th>32</th>\n",
              "      <td>Center E</td>\n",
              "      <td>North Toronto</td>\n",
              "      <td>0.0</td>\n",
              "    </tr>\n",
              "    <tr>\n",
              "      <th>38</th>\n",
              "      <td>Center F</td>\n",
              "      <td>Mississauga East</td>\n",
              "      <td>0.0</td>\n",
              "    </tr>\n",
              "  </tbody>\n",
              "</table>\n",
              "</div>\n",
              "      <button class=\"colab-df-convert\" onclick=\"convertToInteractive('df-8db94f62-d591-41fa-b5a1-880362df84ef')\"\n",
              "              title=\"Convert this dataframe to an interactive table.\"\n",
              "              style=\"display:none;\">\n",
              "        \n",
              "  <svg xmlns=\"http://www.w3.org/2000/svg\" height=\"24px\"viewBox=\"0 0 24 24\"\n",
              "       width=\"24px\">\n",
              "    <path d=\"M0 0h24v24H0V0z\" fill=\"none\"/>\n",
              "    <path d=\"M18.56 5.44l.94 2.06.94-2.06 2.06-.94-2.06-.94-.94-2.06-.94 2.06-2.06.94zm-11 1L8.5 8.5l.94-2.06 2.06-.94-2.06-.94L8.5 2.5l-.94 2.06-2.06.94zm10 10l.94 2.06.94-2.06 2.06-.94-2.06-.94-.94-2.06-.94 2.06-2.06.94z\"/><path d=\"M17.41 7.96l-1.37-1.37c-.4-.4-.92-.59-1.43-.59-.52 0-1.04.2-1.43.59L10.3 9.45l-7.72 7.72c-.78.78-.78 2.05 0 2.83L4 21.41c.39.39.9.59 1.41.59.51 0 1.02-.2 1.41-.59l7.78-7.78 2.81-2.81c.8-.78.8-2.07 0-2.86zM5.41 20L4 18.59l7.72-7.72 1.47 1.35L5.41 20z\"/>\n",
              "  </svg>\n",
              "      </button>\n",
              "      \n",
              "  <style>\n",
              "    .colab-df-container {\n",
              "      display:flex;\n",
              "      flex-wrap:wrap;\n",
              "      gap: 12px;\n",
              "    }\n",
              "\n",
              "    .colab-df-convert {\n",
              "      background-color: #E8F0FE;\n",
              "      border: none;\n",
              "      border-radius: 50%;\n",
              "      cursor: pointer;\n",
              "      display: none;\n",
              "      fill: #1967D2;\n",
              "      height: 32px;\n",
              "      padding: 0 0 0 0;\n",
              "      width: 32px;\n",
              "    }\n",
              "\n",
              "    .colab-df-convert:hover {\n",
              "      background-color: #E2EBFA;\n",
              "      box-shadow: 0px 1px 2px rgba(60, 64, 67, 0.3), 0px 1px 3px 1px rgba(60, 64, 67, 0.15);\n",
              "      fill: #174EA6;\n",
              "    }\n",
              "\n",
              "    [theme=dark] .colab-df-convert {\n",
              "      background-color: #3B4455;\n",
              "      fill: #D2E3FC;\n",
              "    }\n",
              "\n",
              "    [theme=dark] .colab-df-convert:hover {\n",
              "      background-color: #434B5C;\n",
              "      box-shadow: 0px 1px 3px 1px rgba(0, 0, 0, 0.15);\n",
              "      filter: drop-shadow(0px 1px 2px rgba(0, 0, 0, 0.3));\n",
              "      fill: #FFFFFF;\n",
              "    }\n",
              "  </style>\n",
              "\n",
              "      <script>\n",
              "        const buttonEl =\n",
              "          document.querySelector('#df-8db94f62-d591-41fa-b5a1-880362df84ef button.colab-df-convert');\n",
              "        buttonEl.style.display =\n",
              "          google.colab.kernel.accessAllowed ? 'block' : 'none';\n",
              "\n",
              "        async function convertToInteractive(key) {\n",
              "          const element = document.querySelector('#df-8db94f62-d591-41fa-b5a1-880362df84ef');\n",
              "          const dataTable =\n",
              "            await google.colab.kernel.invokeFunction('convertToInteractive',\n",
              "                                                     [key], {});\n",
              "          if (!dataTable) return;\n",
              "\n",
              "          const docLinkHtml = 'Like what you see? Visit the ' +\n",
              "            '<a target=\"_blank\" href=https://colab.research.google.com/notebooks/data_table.ipynb>data table notebook</a>'\n",
              "            + ' to learn more about interactive tables.';\n",
              "          element.innerHTML = '';\n",
              "          dataTable['output_type'] = 'display_data';\n",
              "          await google.colab.output.renderOutput(dataTable, element);\n",
              "          const docLink = document.createElement('div');\n",
              "          docLink.innerHTML = docLinkHtml;\n",
              "          element.appendChild(docLink);\n",
              "        }\n",
              "      </script>\n",
              "    </div>\n",
              "  </div>\n",
              "  "
            ],
            "text/plain": [
              "      Center            Region  Distance\n",
              "5   Center A        North York       0.0\n",
              "13  Center B  Scarborough East       0.0\n",
              "24  Center D  Mississauga East       0.0\n",
              "32  Center E     North Toronto       0.0\n",
              "38  Center F  Mississauga East       0.0"
            ]
          },
          "metadata": {},
          "execution_count": 40
        }
      ]
    },
    {
      "cell_type": "markdown",
      "source": [
        "## Model 2: Period-Flow Incorporated, No Hiring (2022 - 2024)"
      ],
      "metadata": {
        "id": "vKymMj43BwKc"
      }
    },
    {
      "cell_type": "markdown",
      "metadata": {
        "id": "uU2ju8gL4h0J"
      },
      "source": [
        "#### Sets"
      ]
    },
    {
      "cell_type": "code",
      "execution_count": 41,
      "metadata": {
        "id": "8ndm9e-k4h0J"
      },
      "outputs": [],
      "source": [
        "# Centers\n",
        "depots = list(dfCenters.index)\n",
        "numdepots = len(depots)"
      ]
    },
    {
      "cell_type": "code",
      "execution_count": 42,
      "metadata": {
        "id": "Pjkx4lFP4h0J"
      },
      "outputs": [],
      "source": [
        "# Regions\n",
        "zones = list(dfDemands['Region'].unique())\n",
        "numzones = len(zones)"
      ]
    },
    {
      "cell_type": "code",
      "source": [
        "# Periods\n",
        "periods = list(dfForecast['Year'].unique())\n",
        "numperiods = len(periods)"
      ],
      "metadata": {
        "id": "PBKhgKY64uno"
      },
      "execution_count": 43,
      "outputs": []
    },
    {
      "cell_type": "markdown",
      "metadata": {
        "id": "lxHOmPAr4h0J"
      },
      "source": [
        "#### Parameters"
      ]
    },
    {
      "cell_type": "code",
      "execution_count": 44,
      "metadata": {
        "colab": {
          "base_uri": "https://localhost:8080/"
        },
        "outputId": "fb2bb853-27e8-4706-a38e-0d3b299eb549",
        "id": "9CyceJb74h0J"
      },
      "outputs": [
        {
          "output_type": "execute_result",
          "data": {
            "text/plain": [
              "{('Downtown Toronto', 2022): 397295,\n",
              " ('Downtown Toronto', 2023): 412506,\n",
              " ('Downtown Toronto', 2024): 427718,\n",
              " ('East York', 2022): 275250,\n",
              " ('East York', 2023): 285828,\n",
              " ('East York', 2024): 296405,\n",
              " ('Etobicoke', 2022): 457808,\n",
              " ('Etobicoke', 2023): 475512,\n",
              " ('Etobicoke', 2024): 493217,\n",
              " ('Mississauga East', 2022): 406851,\n",
              " ('Mississauga East', 2023): 422397,\n",
              " ('Mississauga East', 2024): 437943,\n",
              " ('North Toronto', 2022): 417190,\n",
              " ('North Toronto', 2023): 433025,\n",
              " ('North Toronto', 2024): 448859,\n",
              " ('North York', 2022): 508686,\n",
              " ('North York', 2023): 528427,\n",
              " ('North York', 2024): 548169,\n",
              " ('Scarborough East', 2022): 445900,\n",
              " ('Scarborough East', 2023): 462885,\n",
              " ('Scarborough East', 2024): 479871}"
            ]
          },
          "metadata": {},
          "execution_count": 44
        }
      ],
      "source": [
        "# Demand in each zone (dictionary)\n",
        "zonedemand = {}\n",
        "for t in periods:\n",
        "  for j in zones:    \n",
        "    zonedemand[(j,t)] = int(dfForecast[(dfForecast[\"Year\"] == t)&(dfForecast[\"Region\"] == j)]['Demand'])\n",
        "\n",
        "zonedemand"
      ]
    },
    {
      "cell_type": "code",
      "source": [
        "# Total workers (dictionary)\n",
        "total_workers = dfCenters['Num MPs'].sum()\n",
        "total_workers"
      ],
      "metadata": {
        "colab": {
          "base_uri": "https://localhost:8080/"
        },
        "id": "1VpEx_dYwVM1",
        "outputId": "af7ed343-fb7c-479d-8858-ebbd2fdcf75c"
      },
      "execution_count": 45,
      "outputs": [
        {
          "output_type": "execute_result",
          "data": {
            "text/plain": [
              "560"
            ]
          },
          "metadata": {},
          "execution_count": 45
        }
      ]
    },
    {
      "cell_type": "code",
      "execution_count": 46,
      "metadata": {
        "colab": {
          "base_uri": "https://localhost:8080/"
        },
        "outputId": "59d78fad-5317-472f-9da2-a984bca74ab8",
        "id": "iGupolQv4h0J"
      },
      "outputs": [
        {
          "output_type": "execute_result",
          "data": {
            "text/plain": [
              "{'Center A': 5000000,\n",
              " 'Center B': 5000000,\n",
              " 'Center C': 5000000,\n",
              " 'Center D': 5000000,\n",
              " 'Center E': 5000000,\n",
              " 'Center F': 5000000}"
            ]
          },
          "metadata": {},
          "execution_count": 46
        }
      ],
      "source": [
        "# Depot capacities (dictionary)\n",
        "depotcapacity = {}\n",
        "for i in depots:\n",
        "  depotcapacity[i] = int(dfCenters.loc[i][\"Maximum capacity\"])\n",
        "\n",
        "depotcapacity"
      ]
    },
    {
      "cell_type": "code",
      "execution_count": 47,
      "metadata": {
        "colab": {
          "base_uri": "https://localhost:8080/"
        },
        "outputId": "c8830eea-27d5-4010-e78b-357788964dc6",
        "id": "DgkIEorK4h0K"
      },
      "outputs": [
        {
          "output_type": "execute_result",
          "data": {
            "text/plain": [
              "{'Center A': 0.0,\n",
              " 'Center B': 0.0,\n",
              " 'Center C': 0.0,\n",
              " 'Center D': 0.0,\n",
              " 'Center E': 250000.0,\n",
              " 'Center F': 100000.0}"
            ]
          },
          "metadata": {},
          "execution_count": 47
        }
      ],
      "source": [
        "# Depot costs: opening (dictionary)\n",
        "depotcost_opening = {}\n",
        "\n",
        "for i in depots:\n",
        "  depotcost_opening[i] = float(dfCenters.loc[i][\"Opening Costs\"])\n",
        "\n",
        "depotcost_opening"
      ]
    },
    {
      "cell_type": "code",
      "source": [
        "# Depot costs: operating (dictionary)\n",
        "depotcost_operating = {}\n",
        "\n",
        "for i in depots:\n",
        "  depotcost_operating[i] = float(dfCenters.loc[i][\"Operating Costs\"])\n",
        "\n",
        "depotcost_operating"
      ],
      "metadata": {
        "colab": {
          "base_uri": "https://localhost:8080/"
        },
        "id": "UMXMI7pEZkOw",
        "outputId": "6e06a00e-8076-4668-e00a-4e38bb1af0b1"
      },
      "execution_count": 48,
      "outputs": [
        {
          "output_type": "execute_result",
          "data": {
            "text/plain": [
              "{'Center A': 275000.0,\n",
              " 'Center B': 275000.0,\n",
              " 'Center C': 275000.0,\n",
              " 'Center D': 285000.0,\n",
              " 'Center E': 125000.0,\n",
              " 'Center F': 175000.0}"
            ]
          },
          "metadata": {},
          "execution_count": 48
        }
      ]
    },
    {
      "cell_type": "code",
      "source": [
        "# Operating depots:\n",
        "y = {}\n",
        "\n",
        "for depot in depots:\n",
        "  if depotcost_opening[depot] == 0.0:\n",
        "    y[depot] = 1\n",
        "  else:\n",
        "    y[depot] = 0\n",
        "\n",
        "y"
      ],
      "metadata": {
        "colab": {
          "base_uri": "https://localhost:8080/"
        },
        "id": "lIoPuwQFaSOO",
        "outputId": "f4257854-7da3-48a8-ba92-fbbd7938b51e"
      },
      "execution_count": 49,
      "outputs": [
        {
          "output_type": "execute_result",
          "data": {
            "text/plain": [
              "{'Center A': 1,\n",
              " 'Center B': 1,\n",
              " 'Center C': 1,\n",
              " 'Center D': 1,\n",
              " 'Center E': 0,\n",
              " 'Center F': 0}"
            ]
          },
          "metadata": {},
          "execution_count": 49
        }
      ]
    },
    {
      "cell_type": "code",
      "execution_count": 50,
      "metadata": {
        "colab": {
          "base_uri": "https://localhost:8080/"
        },
        "outputId": "6627c1ac-3a52-42ae-a35a-500816189492",
        "id": "vfkVZ_BU4h0K"
      },
      "outputs": [
        {
          "output_type": "execute_result",
          "data": {
            "text/plain": [
              "{('Center A', 'Downtown Toronto'): 6.4425,\n",
              " ('Center A', 'East York'): 0.56,\n",
              " ('Center A', 'Etobicoke'): 6.43,\n",
              " ('Center A', 'Mississauga East'): 7.1625,\n",
              " ('Center A', 'North Toronto'): 2.91,\n",
              " ('Center A', 'North York'): 0.0,\n",
              " ('Center A', 'Scarborough East'): 4.94,\n",
              " ('Center B', 'Downtown Toronto'): 7.47,\n",
              " ('Center B', 'East York'): 4.01,\n",
              " ('Center B', 'Etobicoke'): 7.7775,\n",
              " ('Center B', 'Mississauga East'): 8.4825,\n",
              " ('Center B', 'North Toronto'): 6.2625,\n",
              " ('Center B', 'North York'): 5.745,\n",
              " ('Center B', 'Scarborough East'): 0.0,\n",
              " ('Center C', 'Downtown Toronto'): 4.775,\n",
              " ('Center C', 'East York'): 5.6125,\n",
              " ('Center C', 'Etobicoke'): 6.7325,\n",
              " ('Center C', 'Mississauga East'): 5.395,\n",
              " ('Center C', 'North Toronto'): 5.7475,\n",
              " ('Center C', 'North York'): 5.13,\n",
              " ('Center C', 'Scarborough East'): 3.715,\n",
              " ('Center D', 'Downtown Toronto'): 7.47,\n",
              " ('Center D', 'East York'): 4.01,\n",
              " ('Center D', 'Etobicoke'): 7.7775,\n",
              " ('Center D', 'Mississauga East'): 0.0,\n",
              " ('Center D', 'North Toronto'): 6.2625,\n",
              " ('Center D', 'North York'): 5.745,\n",
              " ('Center D', 'Scarborough East'): 6.695,\n",
              " ('Center E', 'Downtown Toronto'): 1.5925,\n",
              " ('Center E', 'East York'): 5.2325,\n",
              " ('Center E', 'Etobicoke'): 5.8,\n",
              " ('Center E', 'Mississauga East'): 5.1625,\n",
              " ('Center E', 'North Toronto'): 0.0,\n",
              " ('Center E', 'North York'): 2.91,\n",
              " ('Center E', 'Scarborough East'): 6.4725,\n",
              " ('Center F', 'Downtown Toronto'): 4.7075,\n",
              " ('Center F', 'East York'): 7.675,\n",
              " ('Center F', 'Etobicoke'): 6.41,\n",
              " ('Center F', 'Mississauga East'): 0.0,\n",
              " ('Center F', 'North Toronto'): 5.1625,\n",
              " ('Center F', 'North York'): 7.1625,\n",
              " ('Center F', 'Scarborough East'): 4.2525}"
            ]
          },
          "metadata": {},
          "execution_count": 50
        }
      ],
      "source": [
        "# Depot-zone costs (dictionary)\n",
        "depotzonecost = {}\n",
        "for i in depots:\n",
        "  for j in zones:\n",
        "    depotzonecost[(i,j)] = float(dfDistances[(dfDistances[\"Center\"] == i)&(dfDistances[\"Region\"] == j)][\"Distance\"]*0.25)\n",
        "\n",
        "depotzonecost"
      ]
    },
    {
      "cell_type": "code",
      "source": [
        "# Depot workers (dictionary)\n",
        "depotworkers = {}\n",
        "for i in depots:\n",
        "  depotworkers[i] = float(dfCenters.loc[i][\"Num MPs\"])\n",
        "\n",
        "depotworkers"
      ],
      "metadata": {
        "colab": {
          "base_uri": "https://localhost:8080/"
        },
        "id": "qC1wY5645epn",
        "outputId": "6adbeec7-f8fb-4edb-f87a-10d828b843b3"
      },
      "execution_count": 51,
      "outputs": [
        {
          "output_type": "execute_result",
          "data": {
            "text/plain": [
              "{'Center A': 215.0,\n",
              " 'Center B': 125.0,\n",
              " 'Center C': 100.0,\n",
              " 'Center D': 120.0,\n",
              " 'Center E': 0.0,\n",
              " 'Center F': 0.0}"
            ]
          },
          "metadata": {},
          "execution_count": 51
        }
      ]
    },
    {
      "cell_type": "markdown",
      "metadata": {
        "id": "moKg21us4h0K"
      },
      "source": [
        "#### Variables"
      ]
    },
    {
      "cell_type": "code",
      "execution_count": 52,
      "metadata": {
        "id": "_gxwlEBU4h0K"
      },
      "outputs": [],
      "source": [
        "# Variables: if a depot is opened/allocated\n",
        "yvar = pulp.LpVariable.dict(\"y\", (depots, [2021]+periods), cat=pulp.LpBinary)\n",
        "\n",
        "# Variables: amount of demand from each zone allocated to depot, per scenario\n",
        "xvar = pulp.LpVariable.dict(\"x\", (depots, zones, periods), lowBound=0.0, cat=pulp.LpContinuous)\n",
        "\n",
        "# Worker flow\n",
        "wvar = pulp.LpVariable.dict(\"w\", (depots, [2021]+periods), lowBound=0, cat=pulp.LpInteger)"
      ]
    },
    {
      "cell_type": "markdown",
      "metadata": {
        "id": "QaAJqmtS4h0K"
      },
      "source": [
        "#### Model Initialization"
      ]
    },
    {
      "cell_type": "code",
      "execution_count": 53,
      "metadata": {
        "id": "U8YMrZxd4h0K"
      },
      "outputs": [],
      "source": [
        "# Initialize model and objective sense\n",
        "locationModel = pulp.LpProblem(name=\"LocationModel\", sense=pulp.LpMaximize)"
      ]
    },
    {
      "cell_type": "markdown",
      "metadata": {
        "id": "4VxVJrBQ4h0K"
      },
      "source": [
        "#### Constraints"
      ]
    },
    {
      "cell_type": "code",
      "execution_count": 54,
      "metadata": {
        "id": "Mn57YWwj4h0K"
      },
      "outputs": [],
      "source": [
        "# Balance of flow constraints\n",
        "\n",
        "for m in ([2021]+periods):\n",
        "  locationModel += pulp.lpSum( [ wvar[(i, m)] for i in depots ] ) == (total_workers)\n",
        "\n",
        "for t in periods:\n",
        "  for j in zones:\n",
        "  # Contraint: demand must be satisfied in all scenarios\n",
        "    locationModel += (pulp.lpSum( [xvar[(i,j,t)] for i in depots] ) <= zonedemand[(j,t)])\n",
        "\n",
        "  for i in ['Center A', 'Center B', 'Center C', 'Center D']:\n",
        "    locationModel += ( yvar[(i, 2021)] == 1 )\n",
        "    locationModel += ( yvar[(i, t)] == 1 )\n",
        "  \n",
        "  for i in ['Center E', 'Center F']: \n",
        "    locationModel += ( yvar[(i, 2021)] == 0 )\n",
        "    locationModel += ( yvar[(i, t)] >= yvar[(i, t-1)] )\n",
        "\n",
        "  for i in depots:\n",
        "   # Constraint: depot capacities must be observed in all scenarios\n",
        "    locationModel += pulp.lpSum( [xvar[(i,j,t)] for j in zones] ) <= depotcapacity[i] * yvar[(i,t)]\n",
        "\n",
        "  # Worker flow\n",
        "    locationModel += (wvar[(i,t)] == wvar[(i,t-1)])\n",
        "\n",
        "  # Capacity limited by workers\n",
        "    locationModel += pulp.lpSum( [xvar[(i,j,t)] for j in zones] ) <= 250 * 6 * wvar[(i,t)]"
      ]
    },
    {
      "cell_type": "markdown",
      "metadata": {
        "id": "I8Cp7m8o4h0K"
      },
      "source": [
        "#### Objective Function"
      ]
    },
    {
      "cell_type": "code",
      "execution_count": 55,
      "metadata": {
        "id": "I7cXN_-E4h0K"
      },
      "outputs": [],
      "source": [
        "# Objective function\n",
        "\n",
        "rate = 42 # amount reimbursed\n",
        "\n",
        "# Depot allocation costs\n",
        "obj = -( pulp.lpSum([ depotcost_opening[i] * yvar[(i,2024)] for i in depots] ) )\n",
        "\n",
        "for t in periods:\n",
        "  \n",
        "  # Revenue earned through reimbursement by the governement\n",
        "  obj += pulp.lpSum( [ rate * xvar[(i,j,t)] for i in depots for j in zones ] )\n",
        "\n",
        "  # Distance costs\n",
        "  obj -= pulp.lpSum( [ depotzonecost[(i,j)] * xvar[(i,j,t)] for i in depots for j in zones ] )\n",
        "\n",
        "  # Depot operating cost\n",
        "  obj -= pulp.lpSum( [ depotcost_operating[i] * yvar[(i,t)] for i in depots] )\n",
        "\n",
        "  # Health professional cost\n",
        "  obj -= pulp.lpSum( [ (37.85 * 250 * 6) * (1.025**(t-2022)) * wvar[(i,t)] for i in depots ] )\n",
        "\n",
        "# Add objective to model\n",
        "locationModel += obj"
      ]
    },
    {
      "cell_type": "markdown",
      "metadata": {
        "id": "5OoVubbc4h0K"
      },
      "source": [
        "#### Solution"
      ]
    },
    {
      "cell_type": "code",
      "execution_count": 56,
      "metadata": {
        "colab": {
          "base_uri": "https://localhost:8080/"
        },
        "outputId": "dd813666-7e3f-490e-c45f-791716f4c345",
        "id": "1vO8lwpC4h0K"
      },
      "outputs": [
        {
          "output_type": "stream",
          "name": "stdout",
          "text": [
            "Status: Optimal\n"
          ]
        }
      ],
      "source": [
        "# Write LP to file \n",
        "locationModel.writeLP(\"locationModel.lp\")\n",
        "\n",
        "# Solve model\n",
        "locationModel.solve()\n",
        "print(\"Status:\", pulp.LpStatus[locationModel.status])"
      ]
    },
    {
      "cell_type": "code",
      "execution_count": 57,
      "metadata": {
        "id": "tR0Lg_ay4h0K",
        "colab": {
          "base_uri": "https://localhost:8080/"
        },
        "outputId": "40c2cd07-3fa4-48b4-933b-bb3140320f31"
      },
      "outputs": [
        {
          "output_type": "stream",
          "name": "stdout",
          "text": [
            "Total profit: 4723578.750000013\n"
          ]
        }
      ],
      "source": [
        "# Total profit\n",
        "totalProfit = pulp.value(locationModel.objective)\n",
        "print(\"Total profit: \" + str(totalProfit))"
      ]
    },
    {
      "cell_type": "code",
      "source": [
        "for t in ([2021]+periods):\n",
        "  print('\\n', t)\n",
        "  for i in depots:\n",
        "    val = yvar[(i,t)].varValue\n",
        "    if val == 1.0:\n",
        "      flag = 'Open'\n",
        "    else:\n",
        "      flag = 'Closed'\n",
        "    print('\\t', i, '|', flag)"
      ],
      "metadata": {
        "colab": {
          "base_uri": "https://localhost:8080/"
        },
        "id": "p9m9xxehhSqs",
        "outputId": "5ec77183-146b-4bca-f9d6-741126794d41"
      },
      "execution_count": 58,
      "outputs": [
        {
          "output_type": "stream",
          "name": "stdout",
          "text": [
            "\n",
            " 2021\n",
            "\t Center A | Open\n",
            "\t Center B | Open\n",
            "\t Center C | Open\n",
            "\t Center D | Open\n",
            "\t Center E | Closed\n",
            "\t Center F | Closed\n",
            "\n",
            " 2022\n",
            "\t Center A | Open\n",
            "\t Center B | Open\n",
            "\t Center C | Open\n",
            "\t Center D | Open\n",
            "\t Center E | Closed\n",
            "\t Center F | Closed\n",
            "\n",
            " 2023\n",
            "\t Center A | Open\n",
            "\t Center B | Open\n",
            "\t Center C | Open\n",
            "\t Center D | Open\n",
            "\t Center E | Closed\n",
            "\t Center F | Closed\n",
            "\n",
            " 2024\n",
            "\t Center A | Open\n",
            "\t Center B | Open\n",
            "\t Center C | Open\n",
            "\t Center D | Open\n",
            "\t Center E | Closed\n",
            "\t Center F | Closed\n"
          ]
        }
      ]
    },
    {
      "cell_type": "code",
      "source": [
        "for t in periods:\n",
        "  print('\\n', t)\n",
        "  for i in depots:\n",
        "    print('\\t', i, '| Total MPs:', int(np.floor(wvar[(i,t)].varValue)))"
      ],
      "metadata": {
        "colab": {
          "base_uri": "https://localhost:8080/"
        },
        "id": "SdRJ2If7GUwt",
        "outputId": "f6cdf05d-1da4-4b61-e69f-15e44d1b238a"
      },
      "execution_count": 59,
      "outputs": [
        {
          "output_type": "stream",
          "name": "stdout",
          "text": [
            "\n",
            " 2022\n",
            "\t Center A | Total MPs: 339\n",
            "\t Center B | Total MPs: 221\n",
            "\t Center C | Total MPs: 0\n",
            "\t Center D | Total MPs: 0\n",
            "\t Center E | Total MPs: 0\n",
            "\t Center F | Total MPs: 0\n",
            "\n",
            " 2023\n",
            "\t Center A | Total MPs: 339\n",
            "\t Center B | Total MPs: 221\n",
            "\t Center C | Total MPs: 0\n",
            "\t Center D | Total MPs: 0\n",
            "\t Center E | Total MPs: 0\n",
            "\t Center F | Total MPs: 0\n",
            "\n",
            " 2024\n",
            "\t Center A | Total MPs: 339\n",
            "\t Center B | Total MPs: 221\n",
            "\t Center C | Total MPs: 0\n",
            "\t Center D | Total MPs: 0\n",
            "\t Center E | Total MPs: 0\n",
            "\t Center F | Total MPs: 0\n"
          ]
        }
      ]
    },
    {
      "cell_type": "code",
      "source": [
        "personnel = {2022:0, 2023:0, 2024:0}\n",
        "\n",
        "for t in periods:\n",
        "  for i in depots:\n",
        "    personnel[t] += wvar[(i,t)].varValue*250*6\n",
        "\n",
        "personnel"
      ],
      "metadata": {
        "colab": {
          "base_uri": "https://localhost:8080/"
        },
        "id": "UJW1DNcgsUJ3",
        "outputId": "ef7fad65-e17a-4ff4-d40b-e0acb3b51f0a"
      },
      "execution_count": 60,
      "outputs": [
        {
          "output_type": "execute_result",
          "data": {
            "text/plain": [
              "{2022: 840000.0, 2023: 840000.0, 2024: 840000.0}"
            ]
          },
          "metadata": {},
          "execution_count": 60
        }
      ]
    },
    {
      "cell_type": "code",
      "execution_count": 61,
      "metadata": {
        "colab": {
          "base_uri": "https://localhost:8080/"
        },
        "outputId": "0a677c83-f9c6-4450-ff35-f94cca27699f",
        "id": "0Hk5w1Su4h0L"
      },
      "outputs": [
        {
          "output_type": "stream",
          "name": "stdout",
          "text": [
            "\n",
            " 2022\n",
            "\t Depot Center A is opened\n",
            "\t\tServes zone North York with a capacity of 508500\n",
            "\t Depot Center B is opened\n",
            "\t\tServes zone Scarborough East with a capacity of 331500\n",
            "\t Depot Center C is opened\n",
            "\t Depot Center D is opened\n",
            "\n",
            " 2023\n",
            "\t Depot Center A is opened\n",
            "\t\tServes zone North York with a capacity of 508500\n",
            "\t Depot Center B is opened\n",
            "\t\tServes zone Scarborough East with a capacity of 331500\n",
            "\t Depot Center C is opened\n",
            "\t Depot Center D is opened\n",
            "\n",
            " 2024\n",
            "\t Depot Center A is opened\n",
            "\t\tServes zone North York with a capacity of 508500\n",
            "\t Depot Center B is opened\n",
            "\t\tServes zone Scarborough East with a capacity of 331500\n",
            "\t Depot Center C is opened\n",
            "\t Depot Center D is opened\n"
          ]
        }
      ],
      "source": [
        "# Solution\n",
        "for t in periods:\n",
        "  print('\\n', t)\n",
        "  for i in depots:\n",
        "    if yvar[(i,t)].varValue >= 1.0:\n",
        "      print(\"\\t Depot \" + str(i) + \" is opened\")                            \n",
        "      for j in zones:\n",
        "        if xvar[(i,j,t)].varValue > 0.0:\n",
        "          print(\"\\t\\tServes zone \" + str(j) + \" with a capacity of \" + str(int(xvar[(i,j,t)].varValue)))"
      ]
    },
    {
      "cell_type": "markdown",
      "source": [
        "#### Analysis"
      ],
      "metadata": {
        "id": "li-dYG_FAIsL"
      }
    },
    {
      "cell_type": "code",
      "source": [
        "dfDistances.groupby(by='Region').mean().sort_values(by='Distance')"
      ],
      "metadata": {
        "colab": {
          "base_uri": "https://localhost:8080/",
          "height": 300
        },
        "id": "OqblLF7S2iX5",
        "outputId": "08037e82-8706-4167-d3b9-fdf9acf7e3b0"
      },
      "execution_count": 62,
      "outputs": [
        {
          "output_type": "execute_result",
          "data": {
            "text/html": [
              "\n",
              "  <div id=\"df-a35ddce0-9468-4242-94dc-e87d19c8fb6d\">\n",
              "    <div class=\"colab-df-container\">\n",
              "      <div>\n",
              "<style scoped>\n",
              "    .dataframe tbody tr th:only-of-type {\n",
              "        vertical-align: middle;\n",
              "    }\n",
              "\n",
              "    .dataframe tbody tr th {\n",
              "        vertical-align: top;\n",
              "    }\n",
              "\n",
              "    .dataframe thead th {\n",
              "        text-align: right;\n",
              "    }\n",
              "</style>\n",
              "<table border=\"1\" class=\"dataframe\">\n",
              "  <thead>\n",
              "    <tr style=\"text-align: right;\">\n",
              "      <th></th>\n",
              "      <th>Distance</th>\n",
              "    </tr>\n",
              "    <tr>\n",
              "      <th>Region</th>\n",
              "      <th></th>\n",
              "    </tr>\n",
              "  </thead>\n",
              "  <tbody>\n",
              "    <tr>\n",
              "      <th>Scarborough East</th>\n",
              "      <td>17.383333</td>\n",
              "    </tr>\n",
              "    <tr>\n",
              "      <th>Mississauga East</th>\n",
              "      <td>17.468333</td>\n",
              "    </tr>\n",
              "    <tr>\n",
              "      <th>North Toronto</th>\n",
              "      <td>17.563333</td>\n",
              "    </tr>\n",
              "    <tr>\n",
              "      <th>North York</th>\n",
              "      <td>17.795000</td>\n",
              "    </tr>\n",
              "    <tr>\n",
              "      <th>East York</th>\n",
              "      <td>18.066667</td>\n",
              "    </tr>\n",
              "    <tr>\n",
              "      <th>Downtown Toronto</th>\n",
              "      <td>21.638333</td>\n",
              "    </tr>\n",
              "    <tr>\n",
              "      <th>Etobicoke</th>\n",
              "      <td>27.285000</td>\n",
              "    </tr>\n",
              "  </tbody>\n",
              "</table>\n",
              "</div>\n",
              "      <button class=\"colab-df-convert\" onclick=\"convertToInteractive('df-a35ddce0-9468-4242-94dc-e87d19c8fb6d')\"\n",
              "              title=\"Convert this dataframe to an interactive table.\"\n",
              "              style=\"display:none;\">\n",
              "        \n",
              "  <svg xmlns=\"http://www.w3.org/2000/svg\" height=\"24px\"viewBox=\"0 0 24 24\"\n",
              "       width=\"24px\">\n",
              "    <path d=\"M0 0h24v24H0V0z\" fill=\"none\"/>\n",
              "    <path d=\"M18.56 5.44l.94 2.06.94-2.06 2.06-.94-2.06-.94-.94-2.06-.94 2.06-2.06.94zm-11 1L8.5 8.5l.94-2.06 2.06-.94-2.06-.94L8.5 2.5l-.94 2.06-2.06.94zm10 10l.94 2.06.94-2.06 2.06-.94-2.06-.94-.94-2.06-.94 2.06-2.06.94z\"/><path d=\"M17.41 7.96l-1.37-1.37c-.4-.4-.92-.59-1.43-.59-.52 0-1.04.2-1.43.59L10.3 9.45l-7.72 7.72c-.78.78-.78 2.05 0 2.83L4 21.41c.39.39.9.59 1.41.59.51 0 1.02-.2 1.41-.59l7.78-7.78 2.81-2.81c.8-.78.8-2.07 0-2.86zM5.41 20L4 18.59l7.72-7.72 1.47 1.35L5.41 20z\"/>\n",
              "  </svg>\n",
              "      </button>\n",
              "      \n",
              "  <style>\n",
              "    .colab-df-container {\n",
              "      display:flex;\n",
              "      flex-wrap:wrap;\n",
              "      gap: 12px;\n",
              "    }\n",
              "\n",
              "    .colab-df-convert {\n",
              "      background-color: #E8F0FE;\n",
              "      border: none;\n",
              "      border-radius: 50%;\n",
              "      cursor: pointer;\n",
              "      display: none;\n",
              "      fill: #1967D2;\n",
              "      height: 32px;\n",
              "      padding: 0 0 0 0;\n",
              "      width: 32px;\n",
              "    }\n",
              "\n",
              "    .colab-df-convert:hover {\n",
              "      background-color: #E2EBFA;\n",
              "      box-shadow: 0px 1px 2px rgba(60, 64, 67, 0.3), 0px 1px 3px 1px rgba(60, 64, 67, 0.15);\n",
              "      fill: #174EA6;\n",
              "    }\n",
              "\n",
              "    [theme=dark] .colab-df-convert {\n",
              "      background-color: #3B4455;\n",
              "      fill: #D2E3FC;\n",
              "    }\n",
              "\n",
              "    [theme=dark] .colab-df-convert:hover {\n",
              "      background-color: #434B5C;\n",
              "      box-shadow: 0px 1px 3px 1px rgba(0, 0, 0, 0.15);\n",
              "      filter: drop-shadow(0px 1px 2px rgba(0, 0, 0, 0.3));\n",
              "      fill: #FFFFFF;\n",
              "    }\n",
              "  </style>\n",
              "\n",
              "      <script>\n",
              "        const buttonEl =\n",
              "          document.querySelector('#df-a35ddce0-9468-4242-94dc-e87d19c8fb6d button.colab-df-convert');\n",
              "        buttonEl.style.display =\n",
              "          google.colab.kernel.accessAllowed ? 'block' : 'none';\n",
              "\n",
              "        async function convertToInteractive(key) {\n",
              "          const element = document.querySelector('#df-a35ddce0-9468-4242-94dc-e87d19c8fb6d');\n",
              "          const dataTable =\n",
              "            await google.colab.kernel.invokeFunction('convertToInteractive',\n",
              "                                                     [key], {});\n",
              "          if (!dataTable) return;\n",
              "\n",
              "          const docLinkHtml = 'Like what you see? Visit the ' +\n",
              "            '<a target=\"_blank\" href=https://colab.research.google.com/notebooks/data_table.ipynb>data table notebook</a>'\n",
              "            + ' to learn more about interactive tables.';\n",
              "          element.innerHTML = '';\n",
              "          dataTable['output_type'] = 'display_data';\n",
              "          await google.colab.output.renderOutput(dataTable, element);\n",
              "          const docLink = document.createElement('div');\n",
              "          docLink.innerHTML = docLinkHtml;\n",
              "          element.appendChild(docLink);\n",
              "        }\n",
              "      </script>\n",
              "    </div>\n",
              "  </div>\n",
              "  "
            ],
            "text/plain": [
              "                   Distance\n",
              "Region                     \n",
              "Scarborough East  17.383333\n",
              "Mississauga East  17.468333\n",
              "North Toronto     17.563333\n",
              "North York        17.795000\n",
              "East York         18.066667\n",
              "Downtown Toronto  21.638333\n",
              "Etobicoke         27.285000"
            ]
          },
          "metadata": {},
          "execution_count": 62
        }
      ]
    },
    {
      "cell_type": "code",
      "source": [
        "dfDistances[(dfDistances.Region == 'Scarborough East')|(dfDistances.Region == 'North York')].\\\n",
        "sort_values(by='Distance')"
      ],
      "metadata": {
        "colab": {
          "base_uri": "https://localhost:8080/",
          "height": 425
        },
        "id": "Ml9PXCLJ3Ji8",
        "outputId": "4af2952f-185d-4b14-deb1-85a5f3e42843"
      },
      "execution_count": 63,
      "outputs": [
        {
          "output_type": "execute_result",
          "data": {
            "text/html": [
              "\n",
              "  <div id=\"df-04d6b20f-74fa-4975-adef-77c7b73b0267\">\n",
              "    <div class=\"colab-df-container\">\n",
              "      <div>\n",
              "<style scoped>\n",
              "    .dataframe tbody tr th:only-of-type {\n",
              "        vertical-align: middle;\n",
              "    }\n",
              "\n",
              "    .dataframe tbody tr th {\n",
              "        vertical-align: top;\n",
              "    }\n",
              "\n",
              "    .dataframe thead th {\n",
              "        text-align: right;\n",
              "    }\n",
              "</style>\n",
              "<table border=\"1\" class=\"dataframe\">\n",
              "  <thead>\n",
              "    <tr style=\"text-align: right;\">\n",
              "      <th></th>\n",
              "      <th>Center</th>\n",
              "      <th>Region</th>\n",
              "      <th>Distance</th>\n",
              "    </tr>\n",
              "  </thead>\n",
              "  <tbody>\n",
              "    <tr>\n",
              "      <th>5</th>\n",
              "      <td>Center A</td>\n",
              "      <td>North York</td>\n",
              "      <td>0.00</td>\n",
              "    </tr>\n",
              "    <tr>\n",
              "      <th>13</th>\n",
              "      <td>Center B</td>\n",
              "      <td>Scarborough East</td>\n",
              "      <td>0.00</td>\n",
              "    </tr>\n",
              "    <tr>\n",
              "      <th>33</th>\n",
              "      <td>Center E</td>\n",
              "      <td>North York</td>\n",
              "      <td>11.64</td>\n",
              "    </tr>\n",
              "    <tr>\n",
              "      <th>20</th>\n",
              "      <td>Center C</td>\n",
              "      <td>Scarborough East</td>\n",
              "      <td>14.86</td>\n",
              "    </tr>\n",
              "    <tr>\n",
              "      <th>41</th>\n",
              "      <td>Center F</td>\n",
              "      <td>Scarborough East</td>\n",
              "      <td>17.01</td>\n",
              "    </tr>\n",
              "    <tr>\n",
              "      <th>6</th>\n",
              "      <td>Center A</td>\n",
              "      <td>Scarborough East</td>\n",
              "      <td>19.76</td>\n",
              "    </tr>\n",
              "    <tr>\n",
              "      <th>19</th>\n",
              "      <td>Center C</td>\n",
              "      <td>North York</td>\n",
              "      <td>20.52</td>\n",
              "    </tr>\n",
              "    <tr>\n",
              "      <th>12</th>\n",
              "      <td>Center B</td>\n",
              "      <td>North York</td>\n",
              "      <td>22.98</td>\n",
              "    </tr>\n",
              "    <tr>\n",
              "      <th>26</th>\n",
              "      <td>Center D</td>\n",
              "      <td>North York</td>\n",
              "      <td>22.98</td>\n",
              "    </tr>\n",
              "    <tr>\n",
              "      <th>34</th>\n",
              "      <td>Center E</td>\n",
              "      <td>Scarborough East</td>\n",
              "      <td>25.89</td>\n",
              "    </tr>\n",
              "    <tr>\n",
              "      <th>27</th>\n",
              "      <td>Center D</td>\n",
              "      <td>Scarborough East</td>\n",
              "      <td>26.78</td>\n",
              "    </tr>\n",
              "    <tr>\n",
              "      <th>40</th>\n",
              "      <td>Center F</td>\n",
              "      <td>North York</td>\n",
              "      <td>28.65</td>\n",
              "    </tr>\n",
              "  </tbody>\n",
              "</table>\n",
              "</div>\n",
              "      <button class=\"colab-df-convert\" onclick=\"convertToInteractive('df-04d6b20f-74fa-4975-adef-77c7b73b0267')\"\n",
              "              title=\"Convert this dataframe to an interactive table.\"\n",
              "              style=\"display:none;\">\n",
              "        \n",
              "  <svg xmlns=\"http://www.w3.org/2000/svg\" height=\"24px\"viewBox=\"0 0 24 24\"\n",
              "       width=\"24px\">\n",
              "    <path d=\"M0 0h24v24H0V0z\" fill=\"none\"/>\n",
              "    <path d=\"M18.56 5.44l.94 2.06.94-2.06 2.06-.94-2.06-.94-.94-2.06-.94 2.06-2.06.94zm-11 1L8.5 8.5l.94-2.06 2.06-.94-2.06-.94L8.5 2.5l-.94 2.06-2.06.94zm10 10l.94 2.06.94-2.06 2.06-.94-2.06-.94-.94-2.06-.94 2.06-2.06.94z\"/><path d=\"M17.41 7.96l-1.37-1.37c-.4-.4-.92-.59-1.43-.59-.52 0-1.04.2-1.43.59L10.3 9.45l-7.72 7.72c-.78.78-.78 2.05 0 2.83L4 21.41c.39.39.9.59 1.41.59.51 0 1.02-.2 1.41-.59l7.78-7.78 2.81-2.81c.8-.78.8-2.07 0-2.86zM5.41 20L4 18.59l7.72-7.72 1.47 1.35L5.41 20z\"/>\n",
              "  </svg>\n",
              "      </button>\n",
              "      \n",
              "  <style>\n",
              "    .colab-df-container {\n",
              "      display:flex;\n",
              "      flex-wrap:wrap;\n",
              "      gap: 12px;\n",
              "    }\n",
              "\n",
              "    .colab-df-convert {\n",
              "      background-color: #E8F0FE;\n",
              "      border: none;\n",
              "      border-radius: 50%;\n",
              "      cursor: pointer;\n",
              "      display: none;\n",
              "      fill: #1967D2;\n",
              "      height: 32px;\n",
              "      padding: 0 0 0 0;\n",
              "      width: 32px;\n",
              "    }\n",
              "\n",
              "    .colab-df-convert:hover {\n",
              "      background-color: #E2EBFA;\n",
              "      box-shadow: 0px 1px 2px rgba(60, 64, 67, 0.3), 0px 1px 3px 1px rgba(60, 64, 67, 0.15);\n",
              "      fill: #174EA6;\n",
              "    }\n",
              "\n",
              "    [theme=dark] .colab-df-convert {\n",
              "      background-color: #3B4455;\n",
              "      fill: #D2E3FC;\n",
              "    }\n",
              "\n",
              "    [theme=dark] .colab-df-convert:hover {\n",
              "      background-color: #434B5C;\n",
              "      box-shadow: 0px 1px 3px 1px rgba(0, 0, 0, 0.15);\n",
              "      filter: drop-shadow(0px 1px 2px rgba(0, 0, 0, 0.3));\n",
              "      fill: #FFFFFF;\n",
              "    }\n",
              "  </style>\n",
              "\n",
              "      <script>\n",
              "        const buttonEl =\n",
              "          document.querySelector('#df-04d6b20f-74fa-4975-adef-77c7b73b0267 button.colab-df-convert');\n",
              "        buttonEl.style.display =\n",
              "          google.colab.kernel.accessAllowed ? 'block' : 'none';\n",
              "\n",
              "        async function convertToInteractive(key) {\n",
              "          const element = document.querySelector('#df-04d6b20f-74fa-4975-adef-77c7b73b0267');\n",
              "          const dataTable =\n",
              "            await google.colab.kernel.invokeFunction('convertToInteractive',\n",
              "                                                     [key], {});\n",
              "          if (!dataTable) return;\n",
              "\n",
              "          const docLinkHtml = 'Like what you see? Visit the ' +\n",
              "            '<a target=\"_blank\" href=https://colab.research.google.com/notebooks/data_table.ipynb>data table notebook</a>'\n",
              "            + ' to learn more about interactive tables.';\n",
              "          element.innerHTML = '';\n",
              "          dataTable['output_type'] = 'display_data';\n",
              "          await google.colab.output.renderOutput(dataTable, element);\n",
              "          const docLink = document.createElement('div');\n",
              "          docLink.innerHTML = docLinkHtml;\n",
              "          element.appendChild(docLink);\n",
              "        }\n",
              "      </script>\n",
              "    </div>\n",
              "  </div>\n",
              "  "
            ],
            "text/plain": [
              "      Center            Region  Distance\n",
              "5   Center A        North York      0.00\n",
              "13  Center B  Scarborough East      0.00\n",
              "33  Center E        North York     11.64\n",
              "20  Center C  Scarborough East     14.86\n",
              "41  Center F  Scarborough East     17.01\n",
              "6   Center A  Scarborough East     19.76\n",
              "19  Center C        North York     20.52\n",
              "12  Center B        North York     22.98\n",
              "26  Center D        North York     22.98\n",
              "34  Center E  Scarborough East     25.89\n",
              "27  Center D  Scarborough East     26.78\n",
              "40  Center F        North York     28.65"
            ]
          },
          "metadata": {},
          "execution_count": 63
        }
      ]
    },
    {
      "cell_type": "code",
      "source": [
        "printTable(xvar)"
      ],
      "metadata": {
        "colab": {
          "base_uri": "https://localhost:8080/",
          "height": 770
        },
        "id": "swd03AJev6fy",
        "outputId": "b0f30d01-bd3e-4c80-8ac1-51c5ad370713"
      },
      "execution_count": 64,
      "outputs": [
        {
          "output_type": "execute_result",
          "data": {
            "text/html": [
              "\n",
              "  <div id=\"df-413b9385-df7a-4f90-b222-37d7f3e506b7\">\n",
              "    <div class=\"colab-df-container\">\n",
              "      <div>\n",
              "<style scoped>\n",
              "    .dataframe tbody tr th:only-of-type {\n",
              "        vertical-align: middle;\n",
              "    }\n",
              "\n",
              "    .dataframe tbody tr th {\n",
              "        vertical-align: top;\n",
              "    }\n",
              "\n",
              "    .dataframe thead tr th {\n",
              "        text-align: left;\n",
              "    }\n",
              "\n",
              "    .dataframe thead tr:last-of-type th {\n",
              "        text-align: right;\n",
              "    }\n",
              "</style>\n",
              "<table border=\"1\" class=\"dataframe\">\n",
              "  <thead>\n",
              "    <tr>\n",
              "      <th></th>\n",
              "      <th></th>\n",
              "      <th colspan=\"6\" halign=\"left\">Served</th>\n",
              "    </tr>\n",
              "    <tr>\n",
              "      <th></th>\n",
              "      <th>Center</th>\n",
              "      <th>Center A</th>\n",
              "      <th>Center B</th>\n",
              "      <th>Center C</th>\n",
              "      <th>Center D</th>\n",
              "      <th>Center E</th>\n",
              "      <th>Center F</th>\n",
              "    </tr>\n",
              "    <tr>\n",
              "      <th>Year</th>\n",
              "      <th>Region</th>\n",
              "      <th></th>\n",
              "      <th></th>\n",
              "      <th></th>\n",
              "      <th></th>\n",
              "      <th></th>\n",
              "      <th></th>\n",
              "    </tr>\n",
              "  </thead>\n",
              "  <tbody>\n",
              "    <tr>\n",
              "      <th rowspan=\"7\" valign=\"top\">2022</th>\n",
              "      <th>Downtown Toronto</th>\n",
              "      <td>0.0</td>\n",
              "      <td>0.0</td>\n",
              "      <td>0.0</td>\n",
              "      <td>0.0</td>\n",
              "      <td>0.0</td>\n",
              "      <td>0.0</td>\n",
              "    </tr>\n",
              "    <tr>\n",
              "      <th>East York</th>\n",
              "      <td>0.0</td>\n",
              "      <td>0.0</td>\n",
              "      <td>0.0</td>\n",
              "      <td>0.0</td>\n",
              "      <td>0.0</td>\n",
              "      <td>0.0</td>\n",
              "    </tr>\n",
              "    <tr>\n",
              "      <th>Etobicoke</th>\n",
              "      <td>0.0</td>\n",
              "      <td>0.0</td>\n",
              "      <td>0.0</td>\n",
              "      <td>0.0</td>\n",
              "      <td>0.0</td>\n",
              "      <td>0.0</td>\n",
              "    </tr>\n",
              "    <tr>\n",
              "      <th>Mississauga East</th>\n",
              "      <td>0.0</td>\n",
              "      <td>0.0</td>\n",
              "      <td>0.0</td>\n",
              "      <td>0.0</td>\n",
              "      <td>0.0</td>\n",
              "      <td>0.0</td>\n",
              "    </tr>\n",
              "    <tr>\n",
              "      <th>North Toronto</th>\n",
              "      <td>0.0</td>\n",
              "      <td>0.0</td>\n",
              "      <td>0.0</td>\n",
              "      <td>0.0</td>\n",
              "      <td>0.0</td>\n",
              "      <td>0.0</td>\n",
              "    </tr>\n",
              "    <tr>\n",
              "      <th>North York</th>\n",
              "      <td>508500.0</td>\n",
              "      <td>0.0</td>\n",
              "      <td>0.0</td>\n",
              "      <td>0.0</td>\n",
              "      <td>0.0</td>\n",
              "      <td>0.0</td>\n",
              "    </tr>\n",
              "    <tr>\n",
              "      <th>Scarborough East</th>\n",
              "      <td>0.0</td>\n",
              "      <td>331500.0</td>\n",
              "      <td>0.0</td>\n",
              "      <td>0.0</td>\n",
              "      <td>0.0</td>\n",
              "      <td>0.0</td>\n",
              "    </tr>\n",
              "    <tr>\n",
              "      <th rowspan=\"7\" valign=\"top\">2023</th>\n",
              "      <th>Downtown Toronto</th>\n",
              "      <td>0.0</td>\n",
              "      <td>0.0</td>\n",
              "      <td>0.0</td>\n",
              "      <td>0.0</td>\n",
              "      <td>0.0</td>\n",
              "      <td>0.0</td>\n",
              "    </tr>\n",
              "    <tr>\n",
              "      <th>East York</th>\n",
              "      <td>0.0</td>\n",
              "      <td>0.0</td>\n",
              "      <td>0.0</td>\n",
              "      <td>0.0</td>\n",
              "      <td>0.0</td>\n",
              "      <td>0.0</td>\n",
              "    </tr>\n",
              "    <tr>\n",
              "      <th>Etobicoke</th>\n",
              "      <td>0.0</td>\n",
              "      <td>0.0</td>\n",
              "      <td>0.0</td>\n",
              "      <td>0.0</td>\n",
              "      <td>0.0</td>\n",
              "      <td>0.0</td>\n",
              "    </tr>\n",
              "    <tr>\n",
              "      <th>Mississauga East</th>\n",
              "      <td>0.0</td>\n",
              "      <td>0.0</td>\n",
              "      <td>0.0</td>\n",
              "      <td>0.0</td>\n",
              "      <td>0.0</td>\n",
              "      <td>0.0</td>\n",
              "    </tr>\n",
              "    <tr>\n",
              "      <th>North Toronto</th>\n",
              "      <td>0.0</td>\n",
              "      <td>0.0</td>\n",
              "      <td>0.0</td>\n",
              "      <td>0.0</td>\n",
              "      <td>0.0</td>\n",
              "      <td>0.0</td>\n",
              "    </tr>\n",
              "    <tr>\n",
              "      <th>North York</th>\n",
              "      <td>508500.0</td>\n",
              "      <td>0.0</td>\n",
              "      <td>0.0</td>\n",
              "      <td>0.0</td>\n",
              "      <td>0.0</td>\n",
              "      <td>0.0</td>\n",
              "    </tr>\n",
              "    <tr>\n",
              "      <th>Scarborough East</th>\n",
              "      <td>0.0</td>\n",
              "      <td>331500.0</td>\n",
              "      <td>0.0</td>\n",
              "      <td>0.0</td>\n",
              "      <td>0.0</td>\n",
              "      <td>0.0</td>\n",
              "    </tr>\n",
              "    <tr>\n",
              "      <th rowspan=\"7\" valign=\"top\">2024</th>\n",
              "      <th>Downtown Toronto</th>\n",
              "      <td>0.0</td>\n",
              "      <td>0.0</td>\n",
              "      <td>0.0</td>\n",
              "      <td>0.0</td>\n",
              "      <td>0.0</td>\n",
              "      <td>0.0</td>\n",
              "    </tr>\n",
              "    <tr>\n",
              "      <th>East York</th>\n",
              "      <td>0.0</td>\n",
              "      <td>0.0</td>\n",
              "      <td>0.0</td>\n",
              "      <td>0.0</td>\n",
              "      <td>0.0</td>\n",
              "      <td>0.0</td>\n",
              "    </tr>\n",
              "    <tr>\n",
              "      <th>Etobicoke</th>\n",
              "      <td>0.0</td>\n",
              "      <td>0.0</td>\n",
              "      <td>0.0</td>\n",
              "      <td>0.0</td>\n",
              "      <td>0.0</td>\n",
              "      <td>0.0</td>\n",
              "    </tr>\n",
              "    <tr>\n",
              "      <th>Mississauga East</th>\n",
              "      <td>0.0</td>\n",
              "      <td>0.0</td>\n",
              "      <td>0.0</td>\n",
              "      <td>0.0</td>\n",
              "      <td>0.0</td>\n",
              "      <td>0.0</td>\n",
              "    </tr>\n",
              "    <tr>\n",
              "      <th>North Toronto</th>\n",
              "      <td>0.0</td>\n",
              "      <td>0.0</td>\n",
              "      <td>0.0</td>\n",
              "      <td>0.0</td>\n",
              "      <td>0.0</td>\n",
              "      <td>0.0</td>\n",
              "    </tr>\n",
              "    <tr>\n",
              "      <th>North York</th>\n",
              "      <td>508500.0</td>\n",
              "      <td>0.0</td>\n",
              "      <td>0.0</td>\n",
              "      <td>0.0</td>\n",
              "      <td>0.0</td>\n",
              "      <td>0.0</td>\n",
              "    </tr>\n",
              "    <tr>\n",
              "      <th>Scarborough East</th>\n",
              "      <td>0.0</td>\n",
              "      <td>331500.0</td>\n",
              "      <td>0.0</td>\n",
              "      <td>0.0</td>\n",
              "      <td>0.0</td>\n",
              "      <td>0.0</td>\n",
              "    </tr>\n",
              "  </tbody>\n",
              "</table>\n",
              "</div>\n",
              "      <button class=\"colab-df-convert\" onclick=\"convertToInteractive('df-413b9385-df7a-4f90-b222-37d7f3e506b7')\"\n",
              "              title=\"Convert this dataframe to an interactive table.\"\n",
              "              style=\"display:none;\">\n",
              "        \n",
              "  <svg xmlns=\"http://www.w3.org/2000/svg\" height=\"24px\"viewBox=\"0 0 24 24\"\n",
              "       width=\"24px\">\n",
              "    <path d=\"M0 0h24v24H0V0z\" fill=\"none\"/>\n",
              "    <path d=\"M18.56 5.44l.94 2.06.94-2.06 2.06-.94-2.06-.94-.94-2.06-.94 2.06-2.06.94zm-11 1L8.5 8.5l.94-2.06 2.06-.94-2.06-.94L8.5 2.5l-.94 2.06-2.06.94zm10 10l.94 2.06.94-2.06 2.06-.94-2.06-.94-.94-2.06-.94 2.06-2.06.94z\"/><path d=\"M17.41 7.96l-1.37-1.37c-.4-.4-.92-.59-1.43-.59-.52 0-1.04.2-1.43.59L10.3 9.45l-7.72 7.72c-.78.78-.78 2.05 0 2.83L4 21.41c.39.39.9.59 1.41.59.51 0 1.02-.2 1.41-.59l7.78-7.78 2.81-2.81c.8-.78.8-2.07 0-2.86zM5.41 20L4 18.59l7.72-7.72 1.47 1.35L5.41 20z\"/>\n",
              "  </svg>\n",
              "      </button>\n",
              "      \n",
              "  <style>\n",
              "    .colab-df-container {\n",
              "      display:flex;\n",
              "      flex-wrap:wrap;\n",
              "      gap: 12px;\n",
              "    }\n",
              "\n",
              "    .colab-df-convert {\n",
              "      background-color: #E8F0FE;\n",
              "      border: none;\n",
              "      border-radius: 50%;\n",
              "      cursor: pointer;\n",
              "      display: none;\n",
              "      fill: #1967D2;\n",
              "      height: 32px;\n",
              "      padding: 0 0 0 0;\n",
              "      width: 32px;\n",
              "    }\n",
              "\n",
              "    .colab-df-convert:hover {\n",
              "      background-color: #E2EBFA;\n",
              "      box-shadow: 0px 1px 2px rgba(60, 64, 67, 0.3), 0px 1px 3px 1px rgba(60, 64, 67, 0.15);\n",
              "      fill: #174EA6;\n",
              "    }\n",
              "\n",
              "    [theme=dark] .colab-df-convert {\n",
              "      background-color: #3B4455;\n",
              "      fill: #D2E3FC;\n",
              "    }\n",
              "\n",
              "    [theme=dark] .colab-df-convert:hover {\n",
              "      background-color: #434B5C;\n",
              "      box-shadow: 0px 1px 3px 1px rgba(0, 0, 0, 0.15);\n",
              "      filter: drop-shadow(0px 1px 2px rgba(0, 0, 0, 0.3));\n",
              "      fill: #FFFFFF;\n",
              "    }\n",
              "  </style>\n",
              "\n",
              "      <script>\n",
              "        const buttonEl =\n",
              "          document.querySelector('#df-413b9385-df7a-4f90-b222-37d7f3e506b7 button.colab-df-convert');\n",
              "        buttonEl.style.display =\n",
              "          google.colab.kernel.accessAllowed ? 'block' : 'none';\n",
              "\n",
              "        async function convertToInteractive(key) {\n",
              "          const element = document.querySelector('#df-413b9385-df7a-4f90-b222-37d7f3e506b7');\n",
              "          const dataTable =\n",
              "            await google.colab.kernel.invokeFunction('convertToInteractive',\n",
              "                                                     [key], {});\n",
              "          if (!dataTable) return;\n",
              "\n",
              "          const docLinkHtml = 'Like what you see? Visit the ' +\n",
              "            '<a target=\"_blank\" href=https://colab.research.google.com/notebooks/data_table.ipynb>data table notebook</a>'\n",
              "            + ' to learn more about interactive tables.';\n",
              "          element.innerHTML = '';\n",
              "          dataTable['output_type'] = 'display_data';\n",
              "          await google.colab.output.renderOutput(dataTable, element);\n",
              "          const docLink = document.createElement('div');\n",
              "          docLink.innerHTML = docLinkHtml;\n",
              "          element.appendChild(docLink);\n",
              "        }\n",
              "      </script>\n",
              "    </div>\n",
              "  </div>\n",
              "  "
            ],
            "text/plain": [
              "                         Served                                              \n",
              "Center                 Center A  Center B Center C Center D Center E Center F\n",
              "Year Region                                                                  \n",
              "2022 Downtown Toronto       0.0       0.0      0.0      0.0      0.0      0.0\n",
              "     East York              0.0       0.0      0.0      0.0      0.0      0.0\n",
              "     Etobicoke              0.0       0.0      0.0      0.0      0.0      0.0\n",
              "     Mississauga East       0.0       0.0      0.0      0.0      0.0      0.0\n",
              "     North Toronto          0.0       0.0      0.0      0.0      0.0      0.0\n",
              "     North York        508500.0       0.0      0.0      0.0      0.0      0.0\n",
              "     Scarborough East       0.0  331500.0      0.0      0.0      0.0      0.0\n",
              "2023 Downtown Toronto       0.0       0.0      0.0      0.0      0.0      0.0\n",
              "     East York              0.0       0.0      0.0      0.0      0.0      0.0\n",
              "     Etobicoke              0.0       0.0      0.0      0.0      0.0      0.0\n",
              "     Mississauga East       0.0       0.0      0.0      0.0      0.0      0.0\n",
              "     North Toronto          0.0       0.0      0.0      0.0      0.0      0.0\n",
              "     North York        508500.0       0.0      0.0      0.0      0.0      0.0\n",
              "     Scarborough East       0.0  331500.0      0.0      0.0      0.0      0.0\n",
              "2024 Downtown Toronto       0.0       0.0      0.0      0.0      0.0      0.0\n",
              "     East York              0.0       0.0      0.0      0.0      0.0      0.0\n",
              "     Etobicoke              0.0       0.0      0.0      0.0      0.0      0.0\n",
              "     Mississauga East       0.0       0.0      0.0      0.0      0.0      0.0\n",
              "     North Toronto          0.0       0.0      0.0      0.0      0.0      0.0\n",
              "     North York        508500.0       0.0      0.0      0.0      0.0      0.0\n",
              "     Scarborough East       0.0  331500.0      0.0      0.0      0.0      0.0"
            ]
          },
          "metadata": {},
          "execution_count": 64
        }
      ]
    },
    {
      "cell_type": "code",
      "source": [
        "printTable2(wvar)"
      ],
      "metadata": {
        "colab": {
          "base_uri": "https://localhost:8080/",
          "height": 206
        },
        "id": "oQQ2Q8jtJ_hU",
        "outputId": "efee1d4e-46ca-4c42-b2be-3508fd725fe7"
      },
      "execution_count": 65,
      "outputs": [
        {
          "output_type": "execute_result",
          "data": {
            "text/html": [
              "\n",
              "  <div id=\"df-0a4b5d68-608e-456d-b8fc-51516d5ac57f\">\n",
              "    <div class=\"colab-df-container\">\n",
              "      <div>\n",
              "<style scoped>\n",
              "    .dataframe tbody tr th:only-of-type {\n",
              "        vertical-align: middle;\n",
              "    }\n",
              "\n",
              "    .dataframe tbody tr th {\n",
              "        vertical-align: top;\n",
              "    }\n",
              "\n",
              "    .dataframe thead tr th {\n",
              "        text-align: left;\n",
              "    }\n",
              "\n",
              "    .dataframe thead tr:last-of-type th {\n",
              "        text-align: right;\n",
              "    }\n",
              "</style>\n",
              "<table border=\"1\" class=\"dataframe\">\n",
              "  <thead>\n",
              "    <tr>\n",
              "      <th></th>\n",
              "      <th colspan=\"6\" halign=\"left\">Total Health Professionals</th>\n",
              "    </tr>\n",
              "    <tr>\n",
              "      <th>Center</th>\n",
              "      <th>Center A</th>\n",
              "      <th>Center B</th>\n",
              "      <th>Center C</th>\n",
              "      <th>Center D</th>\n",
              "      <th>Center E</th>\n",
              "      <th>Center F</th>\n",
              "    </tr>\n",
              "    <tr>\n",
              "      <th>Year</th>\n",
              "      <th></th>\n",
              "      <th></th>\n",
              "      <th></th>\n",
              "      <th></th>\n",
              "      <th></th>\n",
              "      <th></th>\n",
              "    </tr>\n",
              "  </thead>\n",
              "  <tbody>\n",
              "    <tr>\n",
              "      <th>2022</th>\n",
              "      <td>339</td>\n",
              "      <td>221</td>\n",
              "      <td>0</td>\n",
              "      <td>0</td>\n",
              "      <td>0</td>\n",
              "      <td>0</td>\n",
              "    </tr>\n",
              "    <tr>\n",
              "      <th>2023</th>\n",
              "      <td>339</td>\n",
              "      <td>221</td>\n",
              "      <td>0</td>\n",
              "      <td>0</td>\n",
              "      <td>0</td>\n",
              "      <td>0</td>\n",
              "    </tr>\n",
              "    <tr>\n",
              "      <th>2024</th>\n",
              "      <td>339</td>\n",
              "      <td>221</td>\n",
              "      <td>0</td>\n",
              "      <td>0</td>\n",
              "      <td>0</td>\n",
              "      <td>0</td>\n",
              "    </tr>\n",
              "  </tbody>\n",
              "</table>\n",
              "</div>\n",
              "      <button class=\"colab-df-convert\" onclick=\"convertToInteractive('df-0a4b5d68-608e-456d-b8fc-51516d5ac57f')\"\n",
              "              title=\"Convert this dataframe to an interactive table.\"\n",
              "              style=\"display:none;\">\n",
              "        \n",
              "  <svg xmlns=\"http://www.w3.org/2000/svg\" height=\"24px\"viewBox=\"0 0 24 24\"\n",
              "       width=\"24px\">\n",
              "    <path d=\"M0 0h24v24H0V0z\" fill=\"none\"/>\n",
              "    <path d=\"M18.56 5.44l.94 2.06.94-2.06 2.06-.94-2.06-.94-.94-2.06-.94 2.06-2.06.94zm-11 1L8.5 8.5l.94-2.06 2.06-.94-2.06-.94L8.5 2.5l-.94 2.06-2.06.94zm10 10l.94 2.06.94-2.06 2.06-.94-2.06-.94-.94-2.06-.94 2.06-2.06.94z\"/><path d=\"M17.41 7.96l-1.37-1.37c-.4-.4-.92-.59-1.43-.59-.52 0-1.04.2-1.43.59L10.3 9.45l-7.72 7.72c-.78.78-.78 2.05 0 2.83L4 21.41c.39.39.9.59 1.41.59.51 0 1.02-.2 1.41-.59l7.78-7.78 2.81-2.81c.8-.78.8-2.07 0-2.86zM5.41 20L4 18.59l7.72-7.72 1.47 1.35L5.41 20z\"/>\n",
              "  </svg>\n",
              "      </button>\n",
              "      \n",
              "  <style>\n",
              "    .colab-df-container {\n",
              "      display:flex;\n",
              "      flex-wrap:wrap;\n",
              "      gap: 12px;\n",
              "    }\n",
              "\n",
              "    .colab-df-convert {\n",
              "      background-color: #E8F0FE;\n",
              "      border: none;\n",
              "      border-radius: 50%;\n",
              "      cursor: pointer;\n",
              "      display: none;\n",
              "      fill: #1967D2;\n",
              "      height: 32px;\n",
              "      padding: 0 0 0 0;\n",
              "      width: 32px;\n",
              "    }\n",
              "\n",
              "    .colab-df-convert:hover {\n",
              "      background-color: #E2EBFA;\n",
              "      box-shadow: 0px 1px 2px rgba(60, 64, 67, 0.3), 0px 1px 3px 1px rgba(60, 64, 67, 0.15);\n",
              "      fill: #174EA6;\n",
              "    }\n",
              "\n",
              "    [theme=dark] .colab-df-convert {\n",
              "      background-color: #3B4455;\n",
              "      fill: #D2E3FC;\n",
              "    }\n",
              "\n",
              "    [theme=dark] .colab-df-convert:hover {\n",
              "      background-color: #434B5C;\n",
              "      box-shadow: 0px 1px 3px 1px rgba(0, 0, 0, 0.15);\n",
              "      filter: drop-shadow(0px 1px 2px rgba(0, 0, 0, 0.3));\n",
              "      fill: #FFFFFF;\n",
              "    }\n",
              "  </style>\n",
              "\n",
              "      <script>\n",
              "        const buttonEl =\n",
              "          document.querySelector('#df-0a4b5d68-608e-456d-b8fc-51516d5ac57f button.colab-df-convert');\n",
              "        buttonEl.style.display =\n",
              "          google.colab.kernel.accessAllowed ? 'block' : 'none';\n",
              "\n",
              "        async function convertToInteractive(key) {\n",
              "          const element = document.querySelector('#df-0a4b5d68-608e-456d-b8fc-51516d5ac57f');\n",
              "          const dataTable =\n",
              "            await google.colab.kernel.invokeFunction('convertToInteractive',\n",
              "                                                     [key], {});\n",
              "          if (!dataTable) return;\n",
              "\n",
              "          const docLinkHtml = 'Like what you see? Visit the ' +\n",
              "            '<a target=\"_blank\" href=https://colab.research.google.com/notebooks/data_table.ipynb>data table notebook</a>'\n",
              "            + ' to learn more about interactive tables.';\n",
              "          element.innerHTML = '';\n",
              "          dataTable['output_type'] = 'display_data';\n",
              "          await google.colab.output.renderOutput(dataTable, element);\n",
              "          const docLink = document.createElement('div');\n",
              "          docLink.innerHTML = docLinkHtml;\n",
              "          element.appendChild(docLink);\n",
              "        }\n",
              "      </script>\n",
              "    </div>\n",
              "  </div>\n",
              "  "
            ],
            "text/plain": [
              "       Total Health Professionals                                             \n",
              "Center                   Center A Center B Center C Center D Center E Center F\n",
              "Year                                                                          \n",
              "2022                          339      221        0        0        0        0\n",
              "2023                          339      221        0        0        0        0\n",
              "2024                          339      221        0        0        0        0"
            ]
          },
          "metadata": {},
          "execution_count": 65
        }
      ]
    },
    {
      "cell_type": "code",
      "source": [
        "# Percent of total demand met for North York\n",
        "508500*3/(dfForecast[dfForecast.Region == 'North York']['Demand'].sum())"
      ],
      "metadata": {
        "colab": {
          "base_uri": "https://localhost:8080/"
        },
        "id": "ZTbOEZtxM4nK",
        "outputId": "1d45a32f-1c4c-4fb3-c490-20e0edf9d101"
      },
      "execution_count": 66,
      "outputs": [
        {
          "output_type": "execute_result",
          "data": {
            "text/plain": [
              "0.9622893592433397"
            ]
          },
          "metadata": {},
          "execution_count": 66
        }
      ]
    },
    {
      "cell_type": "code",
      "source": [
        "# Percent of total demand met for Scarborough East\n",
        "331500*3/(dfForecast[dfForecast.Region == 'Scarborough East']['Demand'].sum())"
      ],
      "metadata": {
        "colab": {
          "base_uri": "https://localhost:8080/"
        },
        "id": "GMlSXbs8NGiW",
        "outputId": "951c2356-40bc-4e5e-f888-2fa145506bef"
      },
      "execution_count": 67,
      "outputs": [
        {
          "output_type": "execute_result",
          "data": {
            "text/plain": [
              "0.716160085723174"
            ]
          },
          "metadata": {},
          "execution_count": 67
        }
      ]
    },
    {
      "cell_type": "code",
      "source": [
        "# Percent of total demand met\n",
        "((331500+508500)*3)/(dfForecast['Demand'].sum())"
      ],
      "metadata": {
        "colab": {
          "base_uri": "https://localhost:8080/"
        },
        "id": "gvfxPhkCfvfL",
        "outputId": "3930377c-8bb4-4fcc-c638-6084c76392d9"
      },
      "execution_count": 68,
      "outputs": [
        {
          "output_type": "execute_result",
          "data": {
            "text/plain": [
              "0.2780922255345606"
            ]
          },
          "metadata": {},
          "execution_count": 68
        }
      ]
    },
    {
      "cell_type": "markdown",
      "source": [
        "## Model 3, Case I: Period-Flow & Hiring Incorporated (2022 - 2024), Maximizing Profits"
      ],
      "metadata": {
        "id": "UX7CBcjsTTsJ"
      }
    },
    {
      "cell_type": "markdown",
      "metadata": {
        "id": "dBTUwKt7TTsP"
      },
      "source": [
        "#### Sets"
      ]
    },
    {
      "cell_type": "code",
      "execution_count": 69,
      "metadata": {
        "id": "k8Kjd3rNTTsQ"
      },
      "outputs": [],
      "source": [
        "# Centers\n",
        "depots = list(dfCenters.index)\n",
        "numdepots = len(depots)"
      ]
    },
    {
      "cell_type": "code",
      "execution_count": 70,
      "metadata": {
        "id": "01oV3xowTTsQ"
      },
      "outputs": [],
      "source": [
        "# Regions\n",
        "zones = list(dfDemands['Region'].unique())\n",
        "numzones = len(zones)"
      ]
    },
    {
      "cell_type": "code",
      "source": [
        "# Periods\n",
        "periods = list(dfForecast['Year'].unique())\n",
        "numperiods = len(periods)"
      ],
      "metadata": {
        "id": "Jo8dectUTTsQ"
      },
      "execution_count": 71,
      "outputs": []
    },
    {
      "cell_type": "markdown",
      "metadata": {
        "id": "6a7K-9YHTTsQ"
      },
      "source": [
        "#### Parameters"
      ]
    },
    {
      "cell_type": "code",
      "execution_count": 72,
      "metadata": {
        "colab": {
          "base_uri": "https://localhost:8080/"
        },
        "outputId": "1bbd27fe-381c-471e-ed0f-277391e5fb13",
        "id": "oE8c8xc5TTsQ"
      },
      "outputs": [
        {
          "output_type": "execute_result",
          "data": {
            "text/plain": [
              "{('Downtown Toronto', 2022): 397295,\n",
              " ('Downtown Toronto', 2023): 412506,\n",
              " ('Downtown Toronto', 2024): 427718,\n",
              " ('East York', 2022): 275250,\n",
              " ('East York', 2023): 285828,\n",
              " ('East York', 2024): 296405,\n",
              " ('Etobicoke', 2022): 457808,\n",
              " ('Etobicoke', 2023): 475512,\n",
              " ('Etobicoke', 2024): 493217,\n",
              " ('Mississauga East', 2022): 406851,\n",
              " ('Mississauga East', 2023): 422397,\n",
              " ('Mississauga East', 2024): 437943,\n",
              " ('North Toronto', 2022): 417190,\n",
              " ('North Toronto', 2023): 433025,\n",
              " ('North Toronto', 2024): 448859,\n",
              " ('North York', 2022): 508686,\n",
              " ('North York', 2023): 528427,\n",
              " ('North York', 2024): 548169,\n",
              " ('Scarborough East', 2022): 445900,\n",
              " ('Scarborough East', 2023): 462885,\n",
              " ('Scarborough East', 2024): 479871}"
            ]
          },
          "metadata": {},
          "execution_count": 72
        }
      ],
      "source": [
        "# Demand in each zone (dictionary)\n",
        "zonedemand = {}\n",
        "for t in periods:\n",
        "  for j in zones:    \n",
        "    zonedemand[(j,t)] = int(dfForecast[(dfForecast[\"Year\"] == t)&(dfForecast[\"Region\"] == j)]['Demand'])\n",
        "\n",
        "zonedemand"
      ]
    },
    {
      "cell_type": "code",
      "source": [
        "# Total workers (dictionary)\n",
        "total_workers = dfCenters['Num MPs'].sum()\n",
        "total_workers"
      ],
      "metadata": {
        "colab": {
          "base_uri": "https://localhost:8080/"
        },
        "outputId": "51d98181-9125-477c-cd1f-53f58e570afc",
        "id": "vZrWPjVhTTsQ"
      },
      "execution_count": 73,
      "outputs": [
        {
          "output_type": "execute_result",
          "data": {
            "text/plain": [
              "560"
            ]
          },
          "metadata": {},
          "execution_count": 73
        }
      ]
    },
    {
      "cell_type": "code",
      "execution_count": 74,
      "metadata": {
        "colab": {
          "base_uri": "https://localhost:8080/"
        },
        "outputId": "4360c2e0-9d9f-4b99-e633-51b2cc5fdf0d",
        "id": "CTeZBOt8TTsQ"
      },
      "outputs": [
        {
          "output_type": "execute_result",
          "data": {
            "text/plain": [
              "{'Center A': 5000000,\n",
              " 'Center B': 5000000,\n",
              " 'Center C': 5000000,\n",
              " 'Center D': 5000000,\n",
              " 'Center E': 5000000,\n",
              " 'Center F': 5000000}"
            ]
          },
          "metadata": {},
          "execution_count": 74
        }
      ],
      "source": [
        "# Depot capacities (dictionary)\n",
        "depotcapacity = {}\n",
        "for i in depots:\n",
        "  depotcapacity[i] = int(dfCenters.loc[i][\"Maximum capacity\"])\n",
        "\n",
        "depotcapacity"
      ]
    },
    {
      "cell_type": "code",
      "execution_count": 75,
      "metadata": {
        "colab": {
          "base_uri": "https://localhost:8080/"
        },
        "outputId": "8c9b91bb-37c7-448b-a0ef-962311cb2bac",
        "id": "e9azrJ6VTTsQ"
      },
      "outputs": [
        {
          "output_type": "execute_result",
          "data": {
            "text/plain": [
              "{'Center A': 0.0,\n",
              " 'Center B': 0.0,\n",
              " 'Center C': 0.0,\n",
              " 'Center D': 0.0,\n",
              " 'Center E': 250000.0,\n",
              " 'Center F': 100000.0}"
            ]
          },
          "metadata": {},
          "execution_count": 75
        }
      ],
      "source": [
        "# Depot costs: opening (dictionary)\n",
        "depotcost_opening = {}\n",
        "\n",
        "for i in depots:\n",
        "  depotcost_opening[i] = float(dfCenters.loc[i][\"Opening Costs\"])\n",
        "\n",
        "depotcost_opening"
      ]
    },
    {
      "cell_type": "code",
      "source": [
        "# Depot costs: operating (dictionary)\n",
        "depotcost_operating = {}\n",
        "\n",
        "for i in depots:\n",
        "  depotcost_operating[i] = float(dfCenters.loc[i][\"Operating Costs\"])\n",
        "\n",
        "depotcost_operating"
      ],
      "metadata": {
        "colab": {
          "base_uri": "https://localhost:8080/"
        },
        "outputId": "a3f722e4-cc91-4eff-beea-405e618b191e",
        "id": "Achb-kg_TTsQ"
      },
      "execution_count": 76,
      "outputs": [
        {
          "output_type": "execute_result",
          "data": {
            "text/plain": [
              "{'Center A': 275000.0,\n",
              " 'Center B': 275000.0,\n",
              " 'Center C': 275000.0,\n",
              " 'Center D': 285000.0,\n",
              " 'Center E': 125000.0,\n",
              " 'Center F': 175000.0}"
            ]
          },
          "metadata": {},
          "execution_count": 76
        }
      ]
    },
    {
      "cell_type": "code",
      "source": [
        "# Operating depots:\n",
        "y = {}\n",
        "\n",
        "for depot in depots:\n",
        "  if depotcost_opening[depot] == 0.0:\n",
        "    y[depot] = 1\n",
        "  else:\n",
        "    y[depot] = 0\n",
        "\n",
        "y"
      ],
      "metadata": {
        "colab": {
          "base_uri": "https://localhost:8080/"
        },
        "outputId": "63724724-8657-461a-c58a-20befd64139f",
        "id": "ZfIJQLRSTTsQ"
      },
      "execution_count": 77,
      "outputs": [
        {
          "output_type": "execute_result",
          "data": {
            "text/plain": [
              "{'Center A': 1,\n",
              " 'Center B': 1,\n",
              " 'Center C': 1,\n",
              " 'Center D': 1,\n",
              " 'Center E': 0,\n",
              " 'Center F': 0}"
            ]
          },
          "metadata": {},
          "execution_count": 77
        }
      ]
    },
    {
      "cell_type": "code",
      "execution_count": 78,
      "metadata": {
        "colab": {
          "base_uri": "https://localhost:8080/"
        },
        "outputId": "ff9b6aa4-ab90-4ca1-d701-4ec2e371569e",
        "id": "ug2IT0ZJTTsQ"
      },
      "outputs": [
        {
          "output_type": "execute_result",
          "data": {
            "text/plain": [
              "{('Center A', 'Downtown Toronto'): 6.4425,\n",
              " ('Center A', 'East York'): 0.56,\n",
              " ('Center A', 'Etobicoke'): 6.43,\n",
              " ('Center A', 'Mississauga East'): 7.1625,\n",
              " ('Center A', 'North Toronto'): 2.91,\n",
              " ('Center A', 'North York'): 0.0,\n",
              " ('Center A', 'Scarborough East'): 4.94,\n",
              " ('Center B', 'Downtown Toronto'): 7.47,\n",
              " ('Center B', 'East York'): 4.01,\n",
              " ('Center B', 'Etobicoke'): 7.7775,\n",
              " ('Center B', 'Mississauga East'): 8.4825,\n",
              " ('Center B', 'North Toronto'): 6.2625,\n",
              " ('Center B', 'North York'): 5.745,\n",
              " ('Center B', 'Scarborough East'): 0.0,\n",
              " ('Center C', 'Downtown Toronto'): 4.775,\n",
              " ('Center C', 'East York'): 5.6125,\n",
              " ('Center C', 'Etobicoke'): 6.7325,\n",
              " ('Center C', 'Mississauga East'): 5.395,\n",
              " ('Center C', 'North Toronto'): 5.7475,\n",
              " ('Center C', 'North York'): 5.13,\n",
              " ('Center C', 'Scarborough East'): 3.715,\n",
              " ('Center D', 'Downtown Toronto'): 7.47,\n",
              " ('Center D', 'East York'): 4.01,\n",
              " ('Center D', 'Etobicoke'): 7.7775,\n",
              " ('Center D', 'Mississauga East'): 0.0,\n",
              " ('Center D', 'North Toronto'): 6.2625,\n",
              " ('Center D', 'North York'): 5.745,\n",
              " ('Center D', 'Scarborough East'): 6.695,\n",
              " ('Center E', 'Downtown Toronto'): 1.5925,\n",
              " ('Center E', 'East York'): 5.2325,\n",
              " ('Center E', 'Etobicoke'): 5.8,\n",
              " ('Center E', 'Mississauga East'): 5.1625,\n",
              " ('Center E', 'North Toronto'): 0.0,\n",
              " ('Center E', 'North York'): 2.91,\n",
              " ('Center E', 'Scarborough East'): 6.4725,\n",
              " ('Center F', 'Downtown Toronto'): 4.7075,\n",
              " ('Center F', 'East York'): 7.675,\n",
              " ('Center F', 'Etobicoke'): 6.41,\n",
              " ('Center F', 'Mississauga East'): 0.0,\n",
              " ('Center F', 'North Toronto'): 5.1625,\n",
              " ('Center F', 'North York'): 7.1625,\n",
              " ('Center F', 'Scarborough East'): 4.2525}"
            ]
          },
          "metadata": {},
          "execution_count": 78
        }
      ],
      "source": [
        "# Depot-zone costs (dictionary)\n",
        "depotzonecost = {}\n",
        "for i in depots:\n",
        "  for j in zones:\n",
        "    depotzonecost[(i,j)] = float(dfDistances[(dfDistances[\"Center\"] == i)&(dfDistances[\"Region\"] == j)][\"Distance\"]*0.25)\n",
        "\n",
        "depotzonecost"
      ]
    },
    {
      "cell_type": "code",
      "source": [
        "# Depot workers (dictionary)\n",
        "depotworkers = {}\n",
        "for i in depots:\n",
        "  depotworkers[i] = float(dfCenters.loc[i][\"Num MPs\"])\n",
        "\n",
        "depotworkers"
      ],
      "metadata": {
        "colab": {
          "base_uri": "https://localhost:8080/"
        },
        "outputId": "7794b345-f0da-496c-bfa6-ada6c0f24196",
        "id": "wPj6q4-ATTsR"
      },
      "execution_count": 79,
      "outputs": [
        {
          "output_type": "execute_result",
          "data": {
            "text/plain": [
              "{'Center A': 215.0,\n",
              " 'Center B': 125.0,\n",
              " 'Center C': 100.0,\n",
              " 'Center D': 120.0,\n",
              " 'Center E': 0.0,\n",
              " 'Center F': 0.0}"
            ]
          },
          "metadata": {},
          "execution_count": 79
        }
      ]
    },
    {
      "cell_type": "markdown",
      "metadata": {
        "id": "tOG-cAdVTTsR"
      },
      "source": [
        "#### Variables"
      ]
    },
    {
      "cell_type": "code",
      "execution_count": 80,
      "metadata": {
        "id": "IBde-ZJgTTsR"
      },
      "outputs": [],
      "source": [
        "# Variables: if a depot is opened/allocated\n",
        "yvar = pulp.LpVariable.dict(\"y\", (depots, [2021]+periods), cat=pulp.LpBinary)\n",
        "\n",
        "# Variables: amount of demand from each zone allocated to depot, per scenario\n",
        "xvar = pulp.LpVariable.dict(\"x\", (depots, zones, periods), lowBound=0.0, cat=pulp.LpContinuous)\n",
        "\n",
        "# Worker flow\n",
        "wvar = pulp.LpVariable.dict(\"w\", (depots, [2021]+periods), lowBound=0, cat=pulp.LpContinuous)\n",
        "\n",
        "# New hires\n",
        "hvar = pulp.LpVariable.dict(\"h\", (depots, periods), lowBound=0, cat=pulp.LpContinuous)"
      ]
    },
    {
      "cell_type": "markdown",
      "metadata": {
        "id": "FjkYxo7ATTsR"
      },
      "source": [
        "#### Model Initialization"
      ]
    },
    {
      "cell_type": "code",
      "execution_count": 81,
      "metadata": {
        "id": "wjignNolTTsR"
      },
      "outputs": [],
      "source": [
        "# Initialize model and objective sense\n",
        "locationModel = pulp.LpProblem(name=\"LocationModel\", sense=pulp.LpMaximize)"
      ]
    },
    {
      "cell_type": "markdown",
      "metadata": {
        "id": "JzFznWmGTTsR"
      },
      "source": [
        "#### Constraints"
      ]
    },
    {
      "cell_type": "code",
      "execution_count": 82,
      "metadata": {
        "id": "Kc5RvPTwTTsR"
      },
      "outputs": [],
      "source": [
        "# Balance of flow constraints\n",
        "\n",
        "for t in periods:\n",
        "\n",
        "  for j in zones:\n",
        "  # Contraint: demand must be satisfied in all scenarios\n",
        "    locationModel += (pulp.lpSum( [xvar[(i,j,t)] for i in depots] ) <= zonedemand[(j,t)])\n",
        "\n",
        "  for i in ['Center A', 'Center B', 'Center C', 'Center D']:\n",
        "    locationModel += ( yvar[(i, 2021)] == 1 )\n",
        "    locationModel += ( yvar[(i, t)] == 1 )\n",
        "  \n",
        "  for i in ['Center E', 'Center F']: \n",
        "    locationModel += ( yvar[(i, 2021)] == 0 )\n",
        "    locationModel += ( yvar[(i, t)] >= yvar[(i, t-1)] )\n",
        "\n",
        "  for i in depots:\n",
        " \n",
        "  # Constraint: depot capacities must be observed in all scenarios\n",
        "    locationModel += pulp.lpSum( [xvar[(i,j,t)] for j in zones] ) <= depotcapacity[i] * yvar[(i,t)]\n",
        "\n",
        "  # Worker flow\n",
        "    if t == 2022:\n",
        "      locationModel += pulp.lpSum( [ wvar[(i,t-1)] for i in depots ] ) <= (total_workers)\n",
        "\n",
        "    numworkers = wvar[(i,t-1)] + hvar[(i,t)]\n",
        "    locationModel += (wvar[(i,t)] == numworkers)\n",
        "\n",
        "  # Capacity limited by workers\n",
        "    locationModel += pulp.lpSum( [xvar[(i,j,t)] for j in zones] ) <= 250 * 6 * wvar[(i,t)]\n",
        "\n",
        "  # Maximum number of hires\n",
        "    locationModel += pulp.lpSum( hvar[(i,t)] ) <= 300"
      ]
    },
    {
      "cell_type": "markdown",
      "metadata": {
        "id": "Z6DxOZOYTTsR"
      },
      "source": [
        "#### Objective Function"
      ]
    },
    {
      "cell_type": "code",
      "execution_count": 83,
      "metadata": {
        "id": "q2g41-4cTTsR"
      },
      "outputs": [],
      "source": [
        "# Objective function\n",
        "\n",
        "rate = 42 # amount reimbursed\n",
        "\n",
        "# Depot allocation costs\n",
        "obj = -( pulp.lpSum([ depotcost_opening[i] * yvar[(i,2024)] for i in depots] ) )\n",
        "\n",
        "for t in periods:\n",
        "\n",
        "  # Revenue earned through reimbursement by the governement\n",
        "  obj += pulp.lpSum( [ rate * xvar[(i,j,t)] for i in depots for j in zones ] )\n",
        "  \n",
        "  # Distance costs\n",
        "  obj -= pulp.lpSum( [ depotzonecost[(i,j)] * xvar[(i,j,t)] for i in depots for j in zones ] )\n",
        "\n",
        "  obj -= pulp.lpSum([ depotcost_operating[i] * yvar[(i,t)] for i in depots] )\n",
        "\n",
        "  # Workers' pay\n",
        "  obj -= pulp.lpSum( [ (37.85 * 250 * 6) * (1.025**(t-2022)) * wvar[(i,t)] for i in depots ] )\n",
        "\n",
        "  # Hiring costs\n",
        "  obj -= pulp.lpSum( [ 15000 * hvar[(i,t)] for i in depots ] )\n",
        "\n",
        "# Add objective to model\n",
        "locationModel += obj"
      ]
    },
    {
      "cell_type": "markdown",
      "metadata": {
        "id": "bOxCLravTTsR"
      },
      "source": [
        "#### Solution"
      ]
    },
    {
      "cell_type": "code",
      "execution_count": 84,
      "metadata": {
        "colab": {
          "base_uri": "https://localhost:8080/"
        },
        "outputId": "8076aa59-3e1e-472e-d130-1126313b5a6b",
        "id": "gD2qS6VuTTsR"
      },
      "outputs": [
        {
          "output_type": "stream",
          "name": "stdout",
          "text": [
            "Status: Optimal\n"
          ]
        }
      ],
      "source": [
        "# Write LP to file \n",
        "locationModel.writeLP(\"locationModel.lp\")\n",
        "\n",
        "# Solve model\n",
        "locationModel.solve()\n",
        "print(\"Status:\", pulp.LpStatus[locationModel.status])"
      ]
    },
    {
      "cell_type": "code",
      "execution_count": 85,
      "metadata": {
        "colab": {
          "base_uri": "https://localhost:8080/"
        },
        "outputId": "3ef34b30-b894-4603-b310-d8def38ce08b",
        "id": "MZXetnUNTTsR"
      },
      "outputs": [
        {
          "output_type": "stream",
          "name": "stdout",
          "text": [
            "Total profit: 4723578.750000004\n"
          ]
        }
      ],
      "source": [
        "# Total profit\n",
        "totalProfit = pulp.value(locationModel.objective)\n",
        "print(\"Total profit: \" + str(totalProfit))"
      ]
    },
    {
      "cell_type": "code",
      "source": [
        "for t in ([2021]+periods):\n",
        "  print('\\n', t)\n",
        "  for i in depots:\n",
        "    val = yvar[(i,t)].varValue\n",
        "    if val == 1.0:\n",
        "      flag = 'Open'\n",
        "    else:\n",
        "      flag = 'Closed'\n",
        "    print('\\t', i, '|', flag)"
      ],
      "metadata": {
        "colab": {
          "base_uri": "https://localhost:8080/"
        },
        "id": "oRodCW2DgO5C",
        "outputId": "aaff5aed-65e8-4012-ad1f-9dd70e5eb0bb"
      },
      "execution_count": 86,
      "outputs": [
        {
          "output_type": "stream",
          "name": "stdout",
          "text": [
            "\n",
            " 2021\n",
            "\t Center A | Open\n",
            "\t Center B | Open\n",
            "\t Center C | Open\n",
            "\t Center D | Open\n",
            "\t Center E | Closed\n",
            "\t Center F | Closed\n",
            "\n",
            " 2022\n",
            "\t Center A | Open\n",
            "\t Center B | Open\n",
            "\t Center C | Open\n",
            "\t Center D | Open\n",
            "\t Center E | Closed\n",
            "\t Center F | Closed\n",
            "\n",
            " 2023\n",
            "\t Center A | Open\n",
            "\t Center B | Open\n",
            "\t Center C | Open\n",
            "\t Center D | Open\n",
            "\t Center E | Closed\n",
            "\t Center F | Closed\n",
            "\n",
            " 2024\n",
            "\t Center A | Open\n",
            "\t Center B | Open\n",
            "\t Center C | Open\n",
            "\t Center D | Open\n",
            "\t Center E | Closed\n",
            "\t Center F | Closed\n"
          ]
        }
      ]
    },
    {
      "cell_type": "code",
      "source": [
        "for t in periods:\n",
        "  print('\\n', t)\n",
        "  for i in depots:\n",
        "    print('\\t', i, '| Total MPs:', int(np.floor(wvar[(i,t)].varValue)), '| New Hires:', int(np.floor(hvar[(i,t)].varValue)))"
      ],
      "metadata": {
        "colab": {
          "base_uri": "https://localhost:8080/"
        },
        "outputId": "2a0a6455-204a-4a9d-a5e6-a9c078196118",
        "id": "nm7NO441TTsS"
      },
      "execution_count": 87,
      "outputs": [
        {
          "output_type": "stream",
          "name": "stdout",
          "text": [
            "\n",
            " 2022\n",
            "\t Center A | Total MPs: 339 | New Hires: 0\n",
            "\t Center B | Total MPs: 220 | New Hires: 0\n",
            "\t Center C | Total MPs: 0 | New Hires: 0\n",
            "\t Center D | Total MPs: 0 | New Hires: 0\n",
            "\t Center E | Total MPs: 0 | New Hires: 0\n",
            "\t Center F | Total MPs: 0 | New Hires: 0\n",
            "\n",
            " 2023\n",
            "\t Center A | Total MPs: 339 | New Hires: 0\n",
            "\t Center B | Total MPs: 220 | New Hires: 0\n",
            "\t Center C | Total MPs: 0 | New Hires: 0\n",
            "\t Center D | Total MPs: 0 | New Hires: 0\n",
            "\t Center E | Total MPs: 0 | New Hires: 0\n",
            "\t Center F | Total MPs: 0 | New Hires: 0\n",
            "\n",
            " 2024\n",
            "\t Center A | Total MPs: 339 | New Hires: 0\n",
            "\t Center B | Total MPs: 220 | New Hires: 0\n",
            "\t Center C | Total MPs: 0 | New Hires: 0\n",
            "\t Center D | Total MPs: 0 | New Hires: 0\n",
            "\t Center E | Total MPs: 0 | New Hires: 0\n",
            "\t Center F | Total MPs: 0 | New Hires: 0\n"
          ]
        }
      ]
    },
    {
      "cell_type": "code",
      "source": [
        "hiring = 0\n",
        "salaries = 0 \n",
        "personnel = 0\n",
        "\n",
        "for t in periods:\n",
        "  for i in depots:\n",
        "    hiring += hvar[(i,t)].varValue*15000\n",
        "    salaries += wvar[(i,t)].varValue*37.85*250*6\n",
        "    personnel += wvar[(i,t)].varValue"
      ],
      "metadata": {
        "id": "UyMTOG1jTTsS"
      },
      "execution_count": 88,
      "outputs": []
    },
    {
      "cell_type": "code",
      "source": [
        "personnel = {2022:0, 2023:0, 2024:0}\n",
        "\n",
        "for t in periods:\n",
        "  for i in depots:\n",
        "    personnel[t] += wvar[(i,t)].varValue*250*6\n",
        "\n",
        "personnel"
      ],
      "metadata": {
        "colab": {
          "base_uri": "https://localhost:8080/"
        },
        "outputId": "fb7d5608-00d8-4460-c117-667f9541be97",
        "id": "x7uWm87eTTsS"
      },
      "execution_count": 89,
      "outputs": [
        {
          "output_type": "execute_result",
          "data": {
            "text/plain": [
              "{2022: 840000.0, 2023: 840000.0, 2024: 840000.0}"
            ]
          },
          "metadata": {},
          "execution_count": 89
        }
      ]
    },
    {
      "cell_type": "code",
      "source": [
        "dfForecast.groupby('Year').sum()"
      ],
      "metadata": {
        "colab": {
          "base_uri": "https://localhost:8080/",
          "height": 175
        },
        "outputId": "7748c9f5-2491-4e26-91e2-258f6548d11c",
        "id": "Z5W-uBcHTTsS"
      },
      "execution_count": 90,
      "outputs": [
        {
          "output_type": "execute_result",
          "data": {
            "text/html": [
              "\n",
              "  <div id=\"df-e1c3708c-c9e6-4323-95f8-d4b4829582ad\">\n",
              "    <div class=\"colab-df-container\">\n",
              "      <div>\n",
              "<style scoped>\n",
              "    .dataframe tbody tr th:only-of-type {\n",
              "        vertical-align: middle;\n",
              "    }\n",
              "\n",
              "    .dataframe tbody tr th {\n",
              "        vertical-align: top;\n",
              "    }\n",
              "\n",
              "    .dataframe thead th {\n",
              "        text-align: right;\n",
              "    }\n",
              "</style>\n",
              "<table border=\"1\" class=\"dataframe\">\n",
              "  <thead>\n",
              "    <tr style=\"text-align: right;\">\n",
              "      <th></th>\n",
              "      <th>Demand</th>\n",
              "    </tr>\n",
              "    <tr>\n",
              "      <th>Year</th>\n",
              "      <th></th>\n",
              "    </tr>\n",
              "  </thead>\n",
              "  <tbody>\n",
              "    <tr>\n",
              "      <th>2022</th>\n",
              "      <td>2908980</td>\n",
              "    </tr>\n",
              "    <tr>\n",
              "      <th>2023</th>\n",
              "      <td>3020580</td>\n",
              "    </tr>\n",
              "    <tr>\n",
              "      <th>2024</th>\n",
              "      <td>3132182</td>\n",
              "    </tr>\n",
              "  </tbody>\n",
              "</table>\n",
              "</div>\n",
              "      <button class=\"colab-df-convert\" onclick=\"convertToInteractive('df-e1c3708c-c9e6-4323-95f8-d4b4829582ad')\"\n",
              "              title=\"Convert this dataframe to an interactive table.\"\n",
              "              style=\"display:none;\">\n",
              "        \n",
              "  <svg xmlns=\"http://www.w3.org/2000/svg\" height=\"24px\"viewBox=\"0 0 24 24\"\n",
              "       width=\"24px\">\n",
              "    <path d=\"M0 0h24v24H0V0z\" fill=\"none\"/>\n",
              "    <path d=\"M18.56 5.44l.94 2.06.94-2.06 2.06-.94-2.06-.94-.94-2.06-.94 2.06-2.06.94zm-11 1L8.5 8.5l.94-2.06 2.06-.94-2.06-.94L8.5 2.5l-.94 2.06-2.06.94zm10 10l.94 2.06.94-2.06 2.06-.94-2.06-.94-.94-2.06-.94 2.06-2.06.94z\"/><path d=\"M17.41 7.96l-1.37-1.37c-.4-.4-.92-.59-1.43-.59-.52 0-1.04.2-1.43.59L10.3 9.45l-7.72 7.72c-.78.78-.78 2.05 0 2.83L4 21.41c.39.39.9.59 1.41.59.51 0 1.02-.2 1.41-.59l7.78-7.78 2.81-2.81c.8-.78.8-2.07 0-2.86zM5.41 20L4 18.59l7.72-7.72 1.47 1.35L5.41 20z\"/>\n",
              "  </svg>\n",
              "      </button>\n",
              "      \n",
              "  <style>\n",
              "    .colab-df-container {\n",
              "      display:flex;\n",
              "      flex-wrap:wrap;\n",
              "      gap: 12px;\n",
              "    }\n",
              "\n",
              "    .colab-df-convert {\n",
              "      background-color: #E8F0FE;\n",
              "      border: none;\n",
              "      border-radius: 50%;\n",
              "      cursor: pointer;\n",
              "      display: none;\n",
              "      fill: #1967D2;\n",
              "      height: 32px;\n",
              "      padding: 0 0 0 0;\n",
              "      width: 32px;\n",
              "    }\n",
              "\n",
              "    .colab-df-convert:hover {\n",
              "      background-color: #E2EBFA;\n",
              "      box-shadow: 0px 1px 2px rgba(60, 64, 67, 0.3), 0px 1px 3px 1px rgba(60, 64, 67, 0.15);\n",
              "      fill: #174EA6;\n",
              "    }\n",
              "\n",
              "    [theme=dark] .colab-df-convert {\n",
              "      background-color: #3B4455;\n",
              "      fill: #D2E3FC;\n",
              "    }\n",
              "\n",
              "    [theme=dark] .colab-df-convert:hover {\n",
              "      background-color: #434B5C;\n",
              "      box-shadow: 0px 1px 3px 1px rgba(0, 0, 0, 0.15);\n",
              "      filter: drop-shadow(0px 1px 2px rgba(0, 0, 0, 0.3));\n",
              "      fill: #FFFFFF;\n",
              "    }\n",
              "  </style>\n",
              "\n",
              "      <script>\n",
              "        const buttonEl =\n",
              "          document.querySelector('#df-e1c3708c-c9e6-4323-95f8-d4b4829582ad button.colab-df-convert');\n",
              "        buttonEl.style.display =\n",
              "          google.colab.kernel.accessAllowed ? 'block' : 'none';\n",
              "\n",
              "        async function convertToInteractive(key) {\n",
              "          const element = document.querySelector('#df-e1c3708c-c9e6-4323-95f8-d4b4829582ad');\n",
              "          const dataTable =\n",
              "            await google.colab.kernel.invokeFunction('convertToInteractive',\n",
              "                                                     [key], {});\n",
              "          if (!dataTable) return;\n",
              "\n",
              "          const docLinkHtml = 'Like what you see? Visit the ' +\n",
              "            '<a target=\"_blank\" href=https://colab.research.google.com/notebooks/data_table.ipynb>data table notebook</a>'\n",
              "            + ' to learn more about interactive tables.';\n",
              "          element.innerHTML = '';\n",
              "          dataTable['output_type'] = 'display_data';\n",
              "          await google.colab.output.renderOutput(dataTable, element);\n",
              "          const docLink = document.createElement('div');\n",
              "          docLink.innerHTML = docLinkHtml;\n",
              "          element.appendChild(docLink);\n",
              "        }\n",
              "      </script>\n",
              "    </div>\n",
              "  </div>\n",
              "  "
            ],
            "text/plain": [
              "       Demand\n",
              "Year         \n",
              "2022  2908980\n",
              "2023  3020580\n",
              "2024  3132182"
            ]
          },
          "metadata": {},
          "execution_count": 90
        }
      ]
    },
    {
      "cell_type": "code",
      "execution_count": 91,
      "metadata": {
        "colab": {
          "base_uri": "https://localhost:8080/"
        },
        "outputId": "1a9627ae-8e2d-48b2-8085-192e97dbaa79",
        "id": "tOxuukVQTTsS"
      },
      "outputs": [
        {
          "output_type": "stream",
          "name": "stdout",
          "text": [
            "\n",
            " 2022\n",
            "\t Depot Center A is opened\n",
            "\t\tServes zone North York with a capacity of 508686\n",
            "\t Depot Center B is opened\n",
            "\t\tServes zone Scarborough East with a capacity of 331314\n",
            "\t Depot Center C is opened\n",
            "\t Depot Center D is opened\n",
            "\n",
            " 2023\n",
            "\t Depot Center A is opened\n",
            "\t\tServes zone North York with a capacity of 508686\n",
            "\t Depot Center B is opened\n",
            "\t\tServes zone Scarborough East with a capacity of 331314\n",
            "\t Depot Center C is opened\n",
            "\t Depot Center D is opened\n",
            "\n",
            " 2024\n",
            "\t Depot Center A is opened\n",
            "\t\tServes zone North York with a capacity of 508686\n",
            "\t Depot Center B is opened\n",
            "\t\tServes zone Scarborough East with a capacity of 331314\n",
            "\t Depot Center C is opened\n",
            "\t Depot Center D is opened\n"
          ]
        }
      ],
      "source": [
        "# Solution\n",
        "for t in periods:\n",
        "  print('\\n', t)\n",
        "  for i in depots:\n",
        "    if yvar[(i,t)].varValue >= 1.0:\n",
        "      print(\"\\t Depot \" + str(i) + \" is opened\")                            \n",
        "      for j in zones:\n",
        "        if xvar[(i,j,t)].varValue > 0.0:\n",
        "          print(\"\\t\\tServes zone \" + str(j) + \" with a capacity of \" + str(int(xvar[(i,j,t)].varValue)))"
      ]
    },
    {
      "cell_type": "code",
      "source": [
        "# Solution\n",
        "for t in periods:\n",
        "  print('\\n', t)\n",
        "  for i in depots:\n",
        "    if yvar[(i,t)].varValue >= 1.0:\n",
        "      print(\"\\t Depot \" + str(i) + \" is opened\")                            \n",
        "      for j in zones:\n",
        "        if xvar[(i,j,t)].varValue > 0.0:\n",
        "          print(\"\\t\\tServes zone \" + str(j) + \" with number of HPs as \" + str(int(xvar[(i,j,t)].varValue/(250*6))))"
      ],
      "metadata": {
        "colab": {
          "base_uri": "https://localhost:8080/"
        },
        "id": "JEKfbGVNHTWt",
        "outputId": "dcb64fa9-a0d9-416b-f12d-14d40defc85a"
      },
      "execution_count": 92,
      "outputs": [
        {
          "output_type": "stream",
          "name": "stdout",
          "text": [
            "\n",
            " 2022\n",
            "\t Depot Center A is opened\n",
            "\t\tServes zone North York with number of HPs as 339\n",
            "\t Depot Center B is opened\n",
            "\t\tServes zone Scarborough East with number of HPs as 220\n",
            "\t Depot Center C is opened\n",
            "\t Depot Center D is opened\n",
            "\n",
            " 2023\n",
            "\t Depot Center A is opened\n",
            "\t\tServes zone North York with number of HPs as 339\n",
            "\t Depot Center B is opened\n",
            "\t\tServes zone Scarborough East with number of HPs as 220\n",
            "\t Depot Center C is opened\n",
            "\t Depot Center D is opened\n",
            "\n",
            " 2024\n",
            "\t Depot Center A is opened\n",
            "\t\tServes zone North York with number of HPs as 339\n",
            "\t Depot Center B is opened\n",
            "\t\tServes zone Scarborough East with number of HPs as 220\n",
            "\t Depot Center C is opened\n",
            "\t Depot Center D is opened\n"
          ]
        }
      ]
    },
    {
      "cell_type": "code",
      "source": [
        "printTable(xvar)"
      ],
      "metadata": {
        "colab": {
          "base_uri": "https://localhost:8080/",
          "height": 770
        },
        "id": "qpfazBDI17sx",
        "outputId": "388a6647-aca8-4f45-851a-c0af4179a08d"
      },
      "execution_count": 93,
      "outputs": [
        {
          "output_type": "execute_result",
          "data": {
            "text/html": [
              "\n",
              "  <div id=\"df-bddfb79c-9734-4c32-8539-3df5a57c2e10\">\n",
              "    <div class=\"colab-df-container\">\n",
              "      <div>\n",
              "<style scoped>\n",
              "    .dataframe tbody tr th:only-of-type {\n",
              "        vertical-align: middle;\n",
              "    }\n",
              "\n",
              "    .dataframe tbody tr th {\n",
              "        vertical-align: top;\n",
              "    }\n",
              "\n",
              "    .dataframe thead tr th {\n",
              "        text-align: left;\n",
              "    }\n",
              "\n",
              "    .dataframe thead tr:last-of-type th {\n",
              "        text-align: right;\n",
              "    }\n",
              "</style>\n",
              "<table border=\"1\" class=\"dataframe\">\n",
              "  <thead>\n",
              "    <tr>\n",
              "      <th></th>\n",
              "      <th></th>\n",
              "      <th colspan=\"6\" halign=\"left\">Served</th>\n",
              "    </tr>\n",
              "    <tr>\n",
              "      <th></th>\n",
              "      <th>Center</th>\n",
              "      <th>Center A</th>\n",
              "      <th>Center B</th>\n",
              "      <th>Center C</th>\n",
              "      <th>Center D</th>\n",
              "      <th>Center E</th>\n",
              "      <th>Center F</th>\n",
              "    </tr>\n",
              "    <tr>\n",
              "      <th>Year</th>\n",
              "      <th>Region</th>\n",
              "      <th></th>\n",
              "      <th></th>\n",
              "      <th></th>\n",
              "      <th></th>\n",
              "      <th></th>\n",
              "      <th></th>\n",
              "    </tr>\n",
              "  </thead>\n",
              "  <tbody>\n",
              "    <tr>\n",
              "      <th rowspan=\"7\" valign=\"top\">2022</th>\n",
              "      <th>Downtown Toronto</th>\n",
              "      <td>0.0</td>\n",
              "      <td>0.0</td>\n",
              "      <td>0.0</td>\n",
              "      <td>0.0</td>\n",
              "      <td>0.0</td>\n",
              "      <td>0.0</td>\n",
              "    </tr>\n",
              "    <tr>\n",
              "      <th>East York</th>\n",
              "      <td>0.0</td>\n",
              "      <td>0.0</td>\n",
              "      <td>0.0</td>\n",
              "      <td>0.0</td>\n",
              "      <td>0.0</td>\n",
              "      <td>0.0</td>\n",
              "    </tr>\n",
              "    <tr>\n",
              "      <th>Etobicoke</th>\n",
              "      <td>0.0</td>\n",
              "      <td>0.0</td>\n",
              "      <td>0.0</td>\n",
              "      <td>0.0</td>\n",
              "      <td>0.0</td>\n",
              "      <td>0.0</td>\n",
              "    </tr>\n",
              "    <tr>\n",
              "      <th>Mississauga East</th>\n",
              "      <td>0.0</td>\n",
              "      <td>0.0</td>\n",
              "      <td>0.0</td>\n",
              "      <td>0.0</td>\n",
              "      <td>0.0</td>\n",
              "      <td>0.0</td>\n",
              "    </tr>\n",
              "    <tr>\n",
              "      <th>North Toronto</th>\n",
              "      <td>0.0</td>\n",
              "      <td>0.0</td>\n",
              "      <td>0.0</td>\n",
              "      <td>0.0</td>\n",
              "      <td>0.0</td>\n",
              "      <td>0.0</td>\n",
              "    </tr>\n",
              "    <tr>\n",
              "      <th>North York</th>\n",
              "      <td>508686.0</td>\n",
              "      <td>0.0</td>\n",
              "      <td>0.0</td>\n",
              "      <td>0.0</td>\n",
              "      <td>0.0</td>\n",
              "      <td>0.0</td>\n",
              "    </tr>\n",
              "    <tr>\n",
              "      <th>Scarborough East</th>\n",
              "      <td>0.0</td>\n",
              "      <td>331314.0</td>\n",
              "      <td>0.0</td>\n",
              "      <td>0.0</td>\n",
              "      <td>0.0</td>\n",
              "      <td>0.0</td>\n",
              "    </tr>\n",
              "    <tr>\n",
              "      <th rowspan=\"7\" valign=\"top\">2023</th>\n",
              "      <th>Downtown Toronto</th>\n",
              "      <td>0.0</td>\n",
              "      <td>0.0</td>\n",
              "      <td>0.0</td>\n",
              "      <td>0.0</td>\n",
              "      <td>0.0</td>\n",
              "      <td>0.0</td>\n",
              "    </tr>\n",
              "    <tr>\n",
              "      <th>East York</th>\n",
              "      <td>0.0</td>\n",
              "      <td>0.0</td>\n",
              "      <td>0.0</td>\n",
              "      <td>0.0</td>\n",
              "      <td>0.0</td>\n",
              "      <td>0.0</td>\n",
              "    </tr>\n",
              "    <tr>\n",
              "      <th>Etobicoke</th>\n",
              "      <td>0.0</td>\n",
              "      <td>0.0</td>\n",
              "      <td>0.0</td>\n",
              "      <td>0.0</td>\n",
              "      <td>0.0</td>\n",
              "      <td>0.0</td>\n",
              "    </tr>\n",
              "    <tr>\n",
              "      <th>Mississauga East</th>\n",
              "      <td>0.0</td>\n",
              "      <td>0.0</td>\n",
              "      <td>0.0</td>\n",
              "      <td>0.0</td>\n",
              "      <td>0.0</td>\n",
              "      <td>0.0</td>\n",
              "    </tr>\n",
              "    <tr>\n",
              "      <th>North Toronto</th>\n",
              "      <td>0.0</td>\n",
              "      <td>0.0</td>\n",
              "      <td>0.0</td>\n",
              "      <td>0.0</td>\n",
              "      <td>0.0</td>\n",
              "      <td>0.0</td>\n",
              "    </tr>\n",
              "    <tr>\n",
              "      <th>North York</th>\n",
              "      <td>508686.0</td>\n",
              "      <td>0.0</td>\n",
              "      <td>0.0</td>\n",
              "      <td>0.0</td>\n",
              "      <td>0.0</td>\n",
              "      <td>0.0</td>\n",
              "    </tr>\n",
              "    <tr>\n",
              "      <th>Scarborough East</th>\n",
              "      <td>0.0</td>\n",
              "      <td>331314.0</td>\n",
              "      <td>0.0</td>\n",
              "      <td>0.0</td>\n",
              "      <td>0.0</td>\n",
              "      <td>0.0</td>\n",
              "    </tr>\n",
              "    <tr>\n",
              "      <th rowspan=\"7\" valign=\"top\">2024</th>\n",
              "      <th>Downtown Toronto</th>\n",
              "      <td>0.0</td>\n",
              "      <td>0.0</td>\n",
              "      <td>0.0</td>\n",
              "      <td>0.0</td>\n",
              "      <td>0.0</td>\n",
              "      <td>0.0</td>\n",
              "    </tr>\n",
              "    <tr>\n",
              "      <th>East York</th>\n",
              "      <td>0.0</td>\n",
              "      <td>0.0</td>\n",
              "      <td>0.0</td>\n",
              "      <td>0.0</td>\n",
              "      <td>0.0</td>\n",
              "      <td>0.0</td>\n",
              "    </tr>\n",
              "    <tr>\n",
              "      <th>Etobicoke</th>\n",
              "      <td>0.0</td>\n",
              "      <td>0.0</td>\n",
              "      <td>0.0</td>\n",
              "      <td>0.0</td>\n",
              "      <td>0.0</td>\n",
              "      <td>0.0</td>\n",
              "    </tr>\n",
              "    <tr>\n",
              "      <th>Mississauga East</th>\n",
              "      <td>0.0</td>\n",
              "      <td>0.0</td>\n",
              "      <td>0.0</td>\n",
              "      <td>0.0</td>\n",
              "      <td>0.0</td>\n",
              "      <td>0.0</td>\n",
              "    </tr>\n",
              "    <tr>\n",
              "      <th>North Toronto</th>\n",
              "      <td>0.0</td>\n",
              "      <td>0.0</td>\n",
              "      <td>0.0</td>\n",
              "      <td>0.0</td>\n",
              "      <td>0.0</td>\n",
              "      <td>0.0</td>\n",
              "    </tr>\n",
              "    <tr>\n",
              "      <th>North York</th>\n",
              "      <td>508686.0</td>\n",
              "      <td>0.0</td>\n",
              "      <td>0.0</td>\n",
              "      <td>0.0</td>\n",
              "      <td>0.0</td>\n",
              "      <td>0.0</td>\n",
              "    </tr>\n",
              "    <tr>\n",
              "      <th>Scarborough East</th>\n",
              "      <td>0.0</td>\n",
              "      <td>331314.0</td>\n",
              "      <td>0.0</td>\n",
              "      <td>0.0</td>\n",
              "      <td>0.0</td>\n",
              "      <td>0.0</td>\n",
              "    </tr>\n",
              "  </tbody>\n",
              "</table>\n",
              "</div>\n",
              "      <button class=\"colab-df-convert\" onclick=\"convertToInteractive('df-bddfb79c-9734-4c32-8539-3df5a57c2e10')\"\n",
              "              title=\"Convert this dataframe to an interactive table.\"\n",
              "              style=\"display:none;\">\n",
              "        \n",
              "  <svg xmlns=\"http://www.w3.org/2000/svg\" height=\"24px\"viewBox=\"0 0 24 24\"\n",
              "       width=\"24px\">\n",
              "    <path d=\"M0 0h24v24H0V0z\" fill=\"none\"/>\n",
              "    <path d=\"M18.56 5.44l.94 2.06.94-2.06 2.06-.94-2.06-.94-.94-2.06-.94 2.06-2.06.94zm-11 1L8.5 8.5l.94-2.06 2.06-.94-2.06-.94L8.5 2.5l-.94 2.06-2.06.94zm10 10l.94 2.06.94-2.06 2.06-.94-2.06-.94-.94-2.06-.94 2.06-2.06.94z\"/><path d=\"M17.41 7.96l-1.37-1.37c-.4-.4-.92-.59-1.43-.59-.52 0-1.04.2-1.43.59L10.3 9.45l-7.72 7.72c-.78.78-.78 2.05 0 2.83L4 21.41c.39.39.9.59 1.41.59.51 0 1.02-.2 1.41-.59l7.78-7.78 2.81-2.81c.8-.78.8-2.07 0-2.86zM5.41 20L4 18.59l7.72-7.72 1.47 1.35L5.41 20z\"/>\n",
              "  </svg>\n",
              "      </button>\n",
              "      \n",
              "  <style>\n",
              "    .colab-df-container {\n",
              "      display:flex;\n",
              "      flex-wrap:wrap;\n",
              "      gap: 12px;\n",
              "    }\n",
              "\n",
              "    .colab-df-convert {\n",
              "      background-color: #E8F0FE;\n",
              "      border: none;\n",
              "      border-radius: 50%;\n",
              "      cursor: pointer;\n",
              "      display: none;\n",
              "      fill: #1967D2;\n",
              "      height: 32px;\n",
              "      padding: 0 0 0 0;\n",
              "      width: 32px;\n",
              "    }\n",
              "\n",
              "    .colab-df-convert:hover {\n",
              "      background-color: #E2EBFA;\n",
              "      box-shadow: 0px 1px 2px rgba(60, 64, 67, 0.3), 0px 1px 3px 1px rgba(60, 64, 67, 0.15);\n",
              "      fill: #174EA6;\n",
              "    }\n",
              "\n",
              "    [theme=dark] .colab-df-convert {\n",
              "      background-color: #3B4455;\n",
              "      fill: #D2E3FC;\n",
              "    }\n",
              "\n",
              "    [theme=dark] .colab-df-convert:hover {\n",
              "      background-color: #434B5C;\n",
              "      box-shadow: 0px 1px 3px 1px rgba(0, 0, 0, 0.15);\n",
              "      filter: drop-shadow(0px 1px 2px rgba(0, 0, 0, 0.3));\n",
              "      fill: #FFFFFF;\n",
              "    }\n",
              "  </style>\n",
              "\n",
              "      <script>\n",
              "        const buttonEl =\n",
              "          document.querySelector('#df-bddfb79c-9734-4c32-8539-3df5a57c2e10 button.colab-df-convert');\n",
              "        buttonEl.style.display =\n",
              "          google.colab.kernel.accessAllowed ? 'block' : 'none';\n",
              "\n",
              "        async function convertToInteractive(key) {\n",
              "          const element = document.querySelector('#df-bddfb79c-9734-4c32-8539-3df5a57c2e10');\n",
              "          const dataTable =\n",
              "            await google.colab.kernel.invokeFunction('convertToInteractive',\n",
              "                                                     [key], {});\n",
              "          if (!dataTable) return;\n",
              "\n",
              "          const docLinkHtml = 'Like what you see? Visit the ' +\n",
              "            '<a target=\"_blank\" href=https://colab.research.google.com/notebooks/data_table.ipynb>data table notebook</a>'\n",
              "            + ' to learn more about interactive tables.';\n",
              "          element.innerHTML = '';\n",
              "          dataTable['output_type'] = 'display_data';\n",
              "          await google.colab.output.renderOutput(dataTable, element);\n",
              "          const docLink = document.createElement('div');\n",
              "          docLink.innerHTML = docLinkHtml;\n",
              "          element.appendChild(docLink);\n",
              "        }\n",
              "      </script>\n",
              "    </div>\n",
              "  </div>\n",
              "  "
            ],
            "text/plain": [
              "                         Served                                              \n",
              "Center                 Center A  Center B Center C Center D Center E Center F\n",
              "Year Region                                                                  \n",
              "2022 Downtown Toronto       0.0       0.0      0.0      0.0      0.0      0.0\n",
              "     East York              0.0       0.0      0.0      0.0      0.0      0.0\n",
              "     Etobicoke              0.0       0.0      0.0      0.0      0.0      0.0\n",
              "     Mississauga East       0.0       0.0      0.0      0.0      0.0      0.0\n",
              "     North Toronto          0.0       0.0      0.0      0.0      0.0      0.0\n",
              "     North York        508686.0       0.0      0.0      0.0      0.0      0.0\n",
              "     Scarborough East       0.0  331314.0      0.0      0.0      0.0      0.0\n",
              "2023 Downtown Toronto       0.0       0.0      0.0      0.0      0.0      0.0\n",
              "     East York              0.0       0.0      0.0      0.0      0.0      0.0\n",
              "     Etobicoke              0.0       0.0      0.0      0.0      0.0      0.0\n",
              "     Mississauga East       0.0       0.0      0.0      0.0      0.0      0.0\n",
              "     North Toronto          0.0       0.0      0.0      0.0      0.0      0.0\n",
              "     North York        508686.0       0.0      0.0      0.0      0.0      0.0\n",
              "     Scarborough East       0.0  331314.0      0.0      0.0      0.0      0.0\n",
              "2024 Downtown Toronto       0.0       0.0      0.0      0.0      0.0      0.0\n",
              "     East York              0.0       0.0      0.0      0.0      0.0      0.0\n",
              "     Etobicoke              0.0       0.0      0.0      0.0      0.0      0.0\n",
              "     Mississauga East       0.0       0.0      0.0      0.0      0.0      0.0\n",
              "     North Toronto          0.0       0.0      0.0      0.0      0.0      0.0\n",
              "     North York        508686.0       0.0      0.0      0.0      0.0      0.0\n",
              "     Scarborough East       0.0  331314.0      0.0      0.0      0.0      0.0"
            ]
          },
          "metadata": {},
          "execution_count": 93
        }
      ]
    },
    {
      "cell_type": "markdown",
      "source": [
        "## Model 3, Case II: Period-Flow & Hiring Incorporated (2022 - 2024), Minimizing Costs - Meeting 100% Demand"
      ],
      "metadata": {
        "id": "MmT8eHUIY4Vc"
      }
    },
    {
      "cell_type": "markdown",
      "metadata": {
        "id": "qWJPUR8wY4Vc"
      },
      "source": [
        "#### Sets"
      ]
    },
    {
      "cell_type": "code",
      "execution_count": 94,
      "metadata": {
        "id": "O0IMLzAeY4Vd"
      },
      "outputs": [],
      "source": [
        "# Centers\n",
        "depots = list(dfCenters.index)\n",
        "numdepots = len(depots)"
      ]
    },
    {
      "cell_type": "code",
      "execution_count": 95,
      "metadata": {
        "id": "XdkuNKr6Y4Vd"
      },
      "outputs": [],
      "source": [
        "# Regions\n",
        "zones = list(dfDemands['Region'].unique())\n",
        "numzones = len(zones)"
      ]
    },
    {
      "cell_type": "code",
      "source": [
        "# Periods\n",
        "periods = list(dfForecast['Year'].unique())\n",
        "numperiods = len(periods)"
      ],
      "metadata": {
        "id": "Pq3kvKCtY4Vd"
      },
      "execution_count": 96,
      "outputs": []
    },
    {
      "cell_type": "markdown",
      "metadata": {
        "id": "ewU8q4hpY4Vd"
      },
      "source": [
        "#### Parameters"
      ]
    },
    {
      "cell_type": "code",
      "execution_count": 97,
      "metadata": {
        "colab": {
          "base_uri": "https://localhost:8080/"
        },
        "outputId": "c8a01488-ee86-48d7-b1d7-008116f2b218",
        "id": "yBzrfnCnY4Vd"
      },
      "outputs": [
        {
          "output_type": "execute_result",
          "data": {
            "text/plain": [
              "{('Downtown Toronto', 2022): 397295,\n",
              " ('Downtown Toronto', 2023): 412506,\n",
              " ('Downtown Toronto', 2024): 427718,\n",
              " ('East York', 2022): 275250,\n",
              " ('East York', 2023): 285828,\n",
              " ('East York', 2024): 296405,\n",
              " ('Etobicoke', 2022): 457808,\n",
              " ('Etobicoke', 2023): 475512,\n",
              " ('Etobicoke', 2024): 493217,\n",
              " ('Mississauga East', 2022): 406851,\n",
              " ('Mississauga East', 2023): 422397,\n",
              " ('Mississauga East', 2024): 437943,\n",
              " ('North Toronto', 2022): 417190,\n",
              " ('North Toronto', 2023): 433025,\n",
              " ('North Toronto', 2024): 448859,\n",
              " ('North York', 2022): 508686,\n",
              " ('North York', 2023): 528427,\n",
              " ('North York', 2024): 548169,\n",
              " ('Scarborough East', 2022): 445900,\n",
              " ('Scarborough East', 2023): 462885,\n",
              " ('Scarborough East', 2024): 479871}"
            ]
          },
          "metadata": {},
          "execution_count": 97
        }
      ],
      "source": [
        "# Demand in each zone (dictionary)\n",
        "zonedemand = {}\n",
        "for t in periods:\n",
        "  for j in zones:    \n",
        "    zonedemand[(j,t)] = int(dfForecast[(dfForecast[\"Year\"] == t)&(dfForecast[\"Region\"] == j)]['Demand'])\n",
        "\n",
        "zonedemand"
      ]
    },
    {
      "cell_type": "code",
      "source": [
        "# Total workers (dictionary)\n",
        "total_workers = dfCenters['Num MPs'].sum()\n",
        "total_workers"
      ],
      "metadata": {
        "colab": {
          "base_uri": "https://localhost:8080/"
        },
        "outputId": "8eb73229-f433-4130-ed21-f99f6c59a554",
        "id": "rHyWqLVjY4Vd"
      },
      "execution_count": 98,
      "outputs": [
        {
          "output_type": "execute_result",
          "data": {
            "text/plain": [
              "560"
            ]
          },
          "metadata": {},
          "execution_count": 98
        }
      ]
    },
    {
      "cell_type": "code",
      "execution_count": 99,
      "metadata": {
        "colab": {
          "base_uri": "https://localhost:8080/"
        },
        "outputId": "4f4e9d8f-3e87-4563-cacd-1dd828a64745",
        "id": "H8ptfqYyY4Vd"
      },
      "outputs": [
        {
          "output_type": "execute_result",
          "data": {
            "text/plain": [
              "{'Center A': 5000000,\n",
              " 'Center B': 5000000,\n",
              " 'Center C': 5000000,\n",
              " 'Center D': 5000000,\n",
              " 'Center E': 5000000,\n",
              " 'Center F': 5000000}"
            ]
          },
          "metadata": {},
          "execution_count": 99
        }
      ],
      "source": [
        "# Depot capacities (dictionary)\n",
        "depotcapacity = {}\n",
        "for i in depots:\n",
        "  depotcapacity[i] = int(dfCenters.loc[i][\"Maximum capacity\"])\n",
        "\n",
        "depotcapacity"
      ]
    },
    {
      "cell_type": "code",
      "execution_count": 100,
      "metadata": {
        "colab": {
          "base_uri": "https://localhost:8080/"
        },
        "outputId": "970fee98-1c62-40fe-af3f-e986fa2b9765",
        "id": "oHACoPBHY4Vd"
      },
      "outputs": [
        {
          "output_type": "execute_result",
          "data": {
            "text/plain": [
              "{'Center A': 0.0,\n",
              " 'Center B': 0.0,\n",
              " 'Center C': 0.0,\n",
              " 'Center D': 0.0,\n",
              " 'Center E': 250000.0,\n",
              " 'Center F': 100000.0}"
            ]
          },
          "metadata": {},
          "execution_count": 100
        }
      ],
      "source": [
        "# Depot costs: opening (dictionary)\n",
        "depotcost_opening = {}\n",
        "\n",
        "for i in depots:\n",
        "  depotcost_opening[i] = float(dfCenters.loc[i][\"Opening Costs\"])\n",
        "\n",
        "depotcost_opening"
      ]
    },
    {
      "cell_type": "code",
      "source": [
        "# Depot costs: operating (dictionary)\n",
        "depotcost_operating = {}\n",
        "\n",
        "for i in depots:\n",
        "  depotcost_operating[i] = float(dfCenters.loc[i][\"Operating Costs\"])\n",
        "\n",
        "depotcost_operating"
      ],
      "metadata": {
        "colab": {
          "base_uri": "https://localhost:8080/"
        },
        "outputId": "0b1db9da-ac8f-48fa-80b3-490cca26666b",
        "id": "BsXc9m_tY4Ve"
      },
      "execution_count": 101,
      "outputs": [
        {
          "output_type": "execute_result",
          "data": {
            "text/plain": [
              "{'Center A': 275000.0,\n",
              " 'Center B': 275000.0,\n",
              " 'Center C': 275000.0,\n",
              " 'Center D': 285000.0,\n",
              " 'Center E': 125000.0,\n",
              " 'Center F': 175000.0}"
            ]
          },
          "metadata": {},
          "execution_count": 101
        }
      ]
    },
    {
      "cell_type": "code",
      "source": [
        "# Operating depots:\n",
        "y = {}\n",
        "\n",
        "for depot in depots:\n",
        "  if depotcost_opening[depot] == 0.0:\n",
        "    y[depot] = 1\n",
        "  else:\n",
        "    y[depot] = 0\n",
        "\n",
        "y"
      ],
      "metadata": {
        "colab": {
          "base_uri": "https://localhost:8080/"
        },
        "outputId": "0e37d39f-247c-4abc-c349-fce3e30870be",
        "id": "eoeHQUmMY4Ve"
      },
      "execution_count": 102,
      "outputs": [
        {
          "output_type": "execute_result",
          "data": {
            "text/plain": [
              "{'Center A': 1,\n",
              " 'Center B': 1,\n",
              " 'Center C': 1,\n",
              " 'Center D': 1,\n",
              " 'Center E': 0,\n",
              " 'Center F': 0}"
            ]
          },
          "metadata": {},
          "execution_count": 102
        }
      ]
    },
    {
      "cell_type": "code",
      "execution_count": 103,
      "metadata": {
        "colab": {
          "base_uri": "https://localhost:8080/"
        },
        "outputId": "cbf667e8-f0db-4cce-f002-aa0656a9d5d7",
        "id": "BmnNKra5Y4Ve"
      },
      "outputs": [
        {
          "output_type": "execute_result",
          "data": {
            "text/plain": [
              "{('Center A', 'Downtown Toronto'): 6.4425,\n",
              " ('Center A', 'East York'): 0.56,\n",
              " ('Center A', 'Etobicoke'): 6.43,\n",
              " ('Center A', 'Mississauga East'): 7.1625,\n",
              " ('Center A', 'North Toronto'): 2.91,\n",
              " ('Center A', 'North York'): 0.0,\n",
              " ('Center A', 'Scarborough East'): 4.94,\n",
              " ('Center B', 'Downtown Toronto'): 7.47,\n",
              " ('Center B', 'East York'): 4.01,\n",
              " ('Center B', 'Etobicoke'): 7.7775,\n",
              " ('Center B', 'Mississauga East'): 8.4825,\n",
              " ('Center B', 'North Toronto'): 6.2625,\n",
              " ('Center B', 'North York'): 5.745,\n",
              " ('Center B', 'Scarborough East'): 0.0,\n",
              " ('Center C', 'Downtown Toronto'): 4.775,\n",
              " ('Center C', 'East York'): 5.6125,\n",
              " ('Center C', 'Etobicoke'): 6.7325,\n",
              " ('Center C', 'Mississauga East'): 5.395,\n",
              " ('Center C', 'North Toronto'): 5.7475,\n",
              " ('Center C', 'North York'): 5.13,\n",
              " ('Center C', 'Scarborough East'): 3.715,\n",
              " ('Center D', 'Downtown Toronto'): 7.47,\n",
              " ('Center D', 'East York'): 4.01,\n",
              " ('Center D', 'Etobicoke'): 7.7775,\n",
              " ('Center D', 'Mississauga East'): 0.0,\n",
              " ('Center D', 'North Toronto'): 6.2625,\n",
              " ('Center D', 'North York'): 5.745,\n",
              " ('Center D', 'Scarborough East'): 6.695,\n",
              " ('Center E', 'Downtown Toronto'): 1.5925,\n",
              " ('Center E', 'East York'): 5.2325,\n",
              " ('Center E', 'Etobicoke'): 5.8,\n",
              " ('Center E', 'Mississauga East'): 5.1625,\n",
              " ('Center E', 'North Toronto'): 0.0,\n",
              " ('Center E', 'North York'): 2.91,\n",
              " ('Center E', 'Scarborough East'): 6.4725,\n",
              " ('Center F', 'Downtown Toronto'): 4.7075,\n",
              " ('Center F', 'East York'): 7.675,\n",
              " ('Center F', 'Etobicoke'): 6.41,\n",
              " ('Center F', 'Mississauga East'): 0.0,\n",
              " ('Center F', 'North Toronto'): 5.1625,\n",
              " ('Center F', 'North York'): 7.1625,\n",
              " ('Center F', 'Scarborough East'): 4.2525}"
            ]
          },
          "metadata": {},
          "execution_count": 103
        }
      ],
      "source": [
        "# Depot-zone costs (dictionary)\n",
        "depotzonecost = {}\n",
        "for i in depots:\n",
        "  for j in zones:\n",
        "    depotzonecost[(i,j)] = float(dfDistances[(dfDistances[\"Center\"] == i)&(dfDistances[\"Region\"] == j)][\"Distance\"]*0.25)\n",
        "\n",
        "depotzonecost"
      ]
    },
    {
      "cell_type": "code",
      "source": [
        "# Depot workers (dictionary)\n",
        "depotworkers = {}\n",
        "for i in depots:\n",
        "  depotworkers[i] = float(dfCenters.loc[i][\"Num MPs\"])\n",
        "\n",
        "depotworkers"
      ],
      "metadata": {
        "colab": {
          "base_uri": "https://localhost:8080/"
        },
        "outputId": "b2909254-c8c8-404a-8711-d47795ecc6d3",
        "id": "gx_RIKATY4Ve"
      },
      "execution_count": 104,
      "outputs": [
        {
          "output_type": "execute_result",
          "data": {
            "text/plain": [
              "{'Center A': 215.0,\n",
              " 'Center B': 125.0,\n",
              " 'Center C': 100.0,\n",
              " 'Center D': 120.0,\n",
              " 'Center E': 0.0,\n",
              " 'Center F': 0.0}"
            ]
          },
          "metadata": {},
          "execution_count": 104
        }
      ]
    },
    {
      "cell_type": "markdown",
      "metadata": {
        "id": "EQLeVxS_Y4Ve"
      },
      "source": [
        "#### Variables"
      ]
    },
    {
      "cell_type": "code",
      "execution_count": 105,
      "metadata": {
        "id": "gEldTCwOY4Ve"
      },
      "outputs": [],
      "source": [
        "# Variables: if a depot is opened/allocated\n",
        "yvar = pulp.LpVariable.dict(\"y\", (depots, [2021]+periods), cat=pulp.LpBinary)\n",
        "\n",
        "# Variables: amount of demand from each zone allocated to depot, per scenario\n",
        "xvar = pulp.LpVariable.dict(\"x\", (depots, zones, periods), lowBound=0.0, cat=pulp.LpContinuous)\n",
        "\n",
        "# Worker flow\n",
        "wvar = pulp.LpVariable.dict(\"w\", (depots, [2021]+periods), lowBound=0, cat=pulp.LpContinuous)\n",
        "\n",
        "# New hires\n",
        "hvar = pulp.LpVariable.dict(\"h\", (depots, periods), lowBound=0, cat=pulp.LpContinuous)"
      ]
    },
    {
      "cell_type": "markdown",
      "metadata": {
        "id": "di7yoGzkY4Ve"
      },
      "source": [
        "#### Model Initialization"
      ]
    },
    {
      "cell_type": "code",
      "execution_count": 106,
      "metadata": {
        "id": "M41_DwjOY4Ve"
      },
      "outputs": [],
      "source": [
        "# Initialize model and objective sense\n",
        "locationModel = pulp.LpProblem(name=\"LocationModel\", sense=pulp.LpMinimize)"
      ]
    },
    {
      "cell_type": "markdown",
      "metadata": {
        "id": "MLHsaHeRY4Ve"
      },
      "source": [
        "#### Constraints"
      ]
    },
    {
      "cell_type": "code",
      "execution_count": 107,
      "metadata": {
        "id": "1_2Mbr4UY4Ve"
      },
      "outputs": [],
      "source": [
        "# Balance of flow constraints\n",
        "\n",
        "for t in periods:\n",
        "\n",
        "  for j in zones:\n",
        "  # Contraint: demand must be satisfied in all scenarios\n",
        "    locationModel += (pulp.lpSum( [xvar[(i,j,t)] for i in depots] ) == zonedemand[(j,t)])\n",
        "\n",
        "  for i in ['Center A', 'Center B', 'Center C', 'Center D']:\n",
        "    locationModel += ( yvar[(i, 2021)] == 1 )\n",
        "    locationModel += ( yvar[(i, t)] == 1 )\n",
        "  \n",
        "  for i in ['Center E', 'Center F']: \n",
        "    locationModel += ( yvar[(i, 2021)] == 0 )\n",
        "    locationModel += ( yvar[(i, t)] >= yvar[(i, t-1)] )\n",
        "\n",
        "  for i in depots:\n",
        " \n",
        "  # Constraint: depot capacities must be observed in all scenarios\n",
        "    locationModel += pulp.lpSum( [xvar[(i,j,t)] for j in zones] ) <= depotcapacity[i] * yvar[(i,t)]\n",
        "\n",
        "  # Worker flow\n",
        "    if t == 2022:\n",
        "      locationModel += pulp.lpSum( [ wvar[(i,t-1)] for i in depots ] ) <= (total_workers)\n",
        "\n",
        "    numworkers = wvar[(i,t-1)] + hvar[(i,t)]\n",
        "    locationModel += (wvar[(i,t)] == numworkers)\n",
        "\n",
        "  # Capacity limited by workers\n",
        "    locationModel += pulp.lpSum( [xvar[(i,j,t)] for j in zones] ) <= 250 * 6 * wvar[(i,t)]\n",
        "\n",
        "  # Maximum number of hires\n",
        "    locationModel += pulp.lpSum( hvar[(i,t)] ) <= 300"
      ]
    },
    {
      "cell_type": "markdown",
      "metadata": {
        "id": "l6O5L84yY4Ve"
      },
      "source": [
        "#### Objective Function"
      ]
    },
    {
      "cell_type": "code",
      "execution_count": 108,
      "metadata": {
        "id": "QZQ0z8-GY4Vf"
      },
      "outputs": [],
      "source": [
        "# Objective function\n",
        "\n",
        "# Depot allocation costs\n",
        "obj = pulp.lpSum([ depotcost_opening[i] * yvar[(i,2024)] for i in depots] )\n",
        "\n",
        "for t in periods:\n",
        "  \n",
        "  # Distance costs\n",
        "  obj += pulp.lpSum( [ depotzonecost[(i,j)] * xvar[(i,j,t)] for i in depots for j in zones ] )\n",
        "\n",
        "  obj += pulp.lpSum([ depotcost_operating[i] * yvar[(i,t)] for i in depots] )\n",
        "\n",
        "  # Workers' pay\n",
        "  obj += pulp.lpSum( [ (37.85 * 250 * 6) * (1.025**(t-2022)) * wvar[(i,t)] for i in depots ] )\n",
        "\n",
        "  # Hiring costs\n",
        "  obj += pulp.lpSum( [ 15000 * hvar[(i,t)] for i in depots ] )\n",
        "\n",
        "# Add objective to model\n",
        "locationModel += obj"
      ]
    },
    {
      "cell_type": "markdown",
      "metadata": {
        "id": "QdtMi0aoY4Vf"
      },
      "source": [
        "#### Solution"
      ]
    },
    {
      "cell_type": "code",
      "execution_count": 109,
      "metadata": {
        "colab": {
          "base_uri": "https://localhost:8080/"
        },
        "outputId": "03197334-a930-47e9-d8ad-f6252c9d9d96",
        "id": "UBYbbtkGY4Vf"
      },
      "outputs": [
        {
          "output_type": "stream",
          "name": "stdout",
          "text": [
            "Status: Optimal\n"
          ]
        }
      ],
      "source": [
        "# Write LP to file \n",
        "locationModel.writeLP(\"locationModel.lp\")\n",
        "\n",
        "# Solve model\n",
        "locationModel.solve()\n",
        "print(\"Status:\", pulp.LpStatus[locationModel.status])"
      ]
    },
    {
      "cell_type": "code",
      "execution_count": 110,
      "metadata": {
        "colab": {
          "base_uri": "https://localhost:8080/"
        },
        "outputId": "dbadb3df-2542-411b-c6ca-fcd40dd52929",
        "id": "ycCicONIY4Vf"
      },
      "outputs": [
        {
          "output_type": "stream",
          "name": "stdout",
          "text": [
            "Total cost: 390317123.4466067\n"
          ]
        }
      ],
      "source": [
        "# Total cost\n",
        "totalCost = pulp.value(locationModel.objective)\n",
        "print(\"Total cost: \" + str(totalCost))"
      ]
    },
    {
      "cell_type": "code",
      "source": [
        "for t in ([2021]+periods):\n",
        "  print('\\n', t)\n",
        "  for i in depots:\n",
        "    val = yvar[(i,t)].varValue\n",
        "    if val == 1.0:\n",
        "      flag = 'Open'\n",
        "    else:\n",
        "      flag = 'Closed'\n",
        "    print('\\t', i, '|', flag)"
      ],
      "metadata": {
        "colab": {
          "base_uri": "https://localhost:8080/"
        },
        "outputId": "51c05646-0d63-47b1-c3ec-6399ecd82057",
        "id": "fLrRT6tOY4Vf"
      },
      "execution_count": 111,
      "outputs": [
        {
          "output_type": "stream",
          "name": "stdout",
          "text": [
            "\n",
            " 2021\n",
            "\t Center A | Open\n",
            "\t Center B | Open\n",
            "\t Center C | Open\n",
            "\t Center D | Open\n",
            "\t Center E | Closed\n",
            "\t Center F | Closed\n",
            "\n",
            " 2022\n",
            "\t Center A | Open\n",
            "\t Center B | Open\n",
            "\t Center C | Open\n",
            "\t Center D | Open\n",
            "\t Center E | Open\n",
            "\t Center F | Closed\n",
            "\n",
            " 2023\n",
            "\t Center A | Open\n",
            "\t Center B | Open\n",
            "\t Center C | Open\n",
            "\t Center D | Open\n",
            "\t Center E | Open\n",
            "\t Center F | Closed\n",
            "\n",
            " 2024\n",
            "\t Center A | Open\n",
            "\t Center B | Open\n",
            "\t Center C | Open\n",
            "\t Center D | Open\n",
            "\t Center E | Open\n",
            "\t Center F | Closed\n"
          ]
        }
      ]
    },
    {
      "cell_type": "code",
      "source": [
        "for t in periods:\n",
        "  print('\\n', t)\n",
        "  for i in depots:\n",
        "    print('\\t', i, '| Total MPs:', int(np.floor(wvar[(i,t)].varValue)), '| New Hires:', int(np.floor(hvar[(i,t)].varValue)))"
      ],
      "metadata": {
        "colab": {
          "base_uri": "https://localhost:8080/"
        },
        "outputId": "7a49e5b4-2485-412d-a465-866e15ab2f6e",
        "id": "gHKY-AdgY4Vf"
      },
      "execution_count": 112,
      "outputs": [
        {
          "output_type": "stream",
          "name": "stdout",
          "text": [
            "\n",
            " 2022\n",
            "\t Center A | Total MPs: 522 | New Hires: 300\n",
            "\t Center B | Total MPs: 300 | New Hires: 300\n",
            "\t Center C | Total MPs: 197 | New Hires: 197\n",
            "\t Center D | Total MPs: 281 | New Hires: 281\n",
            "\t Center E | Total MPs: 637 | New Hires: 300\n",
            "\t Center F | Total MPs: 0 | New Hires: 0\n",
            "\n",
            " 2023\n",
            "\t Center A | Total MPs: 542 | New Hires: 20\n",
            "\t Center B | Total MPs: 308 | New Hires: 8\n",
            "\t Center C | Total MPs: 197 | New Hires: 0\n",
            "\t Center D | Total MPs: 281 | New Hires: 0\n",
            "\t Center E | Total MPs: 682 | New Hires: 45\n",
            "\t Center F | Total MPs: 0 | New Hires: 0\n",
            "\n",
            " 2024\n",
            "\t Center A | Total MPs: 563 | New Hires: 20\n",
            "\t Center B | Total MPs: 319 | New Hires: 11\n",
            "\t Center C | Total MPs: 197 | New Hires: 0\n",
            "\t Center D | Total MPs: 291 | New Hires: 10\n",
            "\t Center E | Total MPs: 715 | New Hires: 32\n",
            "\t Center F | Total MPs: 0 | New Hires: 0\n"
          ]
        }
      ]
    },
    {
      "cell_type": "code",
      "source": [
        "hiring = 0\n",
        "salaries = 0 \n",
        "personnel = 0\n",
        "\n",
        "for t in periods:\n",
        "  for i in depots:\n",
        "    hiring += hvar[(i,t)].varValue*15000\n",
        "    salaries += wvar[(i,t)].varValue*37.85*250*6\n",
        "    personnel += wvar[(i,t)].varValue"
      ],
      "metadata": {
        "id": "-jxXmmFxY4Vf"
      },
      "execution_count": 113,
      "outputs": []
    },
    {
      "cell_type": "code",
      "source": [
        "personnel = {2022:0, 2023:0, 2024:0}\n",
        "\n",
        "for t in periods:\n",
        "  for i in depots:\n",
        "    personnel[t] += wvar[(i,t)].varValue*250*6\n",
        "\n",
        "personnel"
      ],
      "metadata": {
        "colab": {
          "base_uri": "https://localhost:8080/"
        },
        "outputId": "d6f7110c-4559-41ad-a70a-bb3a7e4ff97a",
        "id": "2Kc_9mezY4Vf"
      },
      "execution_count": 114,
      "outputs": [
        {
          "output_type": "execute_result",
          "data": {
            "text/plain": [
              "{2022: 2908980.0, 2023: 3020580.0, 2024: 3132181.995}"
            ]
          },
          "metadata": {},
          "execution_count": 114
        }
      ]
    },
    {
      "cell_type": "code",
      "source": [
        "dfForecast.groupby('Year').sum()"
      ],
      "metadata": {
        "colab": {
          "base_uri": "https://localhost:8080/",
          "height": 175
        },
        "outputId": "45906613-7a18-4080-de21-db66664fce5a",
        "id": "4HyVZHxBY4Vg"
      },
      "execution_count": 115,
      "outputs": [
        {
          "output_type": "execute_result",
          "data": {
            "text/html": [
              "\n",
              "  <div id=\"df-562646ac-8a34-4e8e-8ed8-90d9d75bd746\">\n",
              "    <div class=\"colab-df-container\">\n",
              "      <div>\n",
              "<style scoped>\n",
              "    .dataframe tbody tr th:only-of-type {\n",
              "        vertical-align: middle;\n",
              "    }\n",
              "\n",
              "    .dataframe tbody tr th {\n",
              "        vertical-align: top;\n",
              "    }\n",
              "\n",
              "    .dataframe thead th {\n",
              "        text-align: right;\n",
              "    }\n",
              "</style>\n",
              "<table border=\"1\" class=\"dataframe\">\n",
              "  <thead>\n",
              "    <tr style=\"text-align: right;\">\n",
              "      <th></th>\n",
              "      <th>Demand</th>\n",
              "    </tr>\n",
              "    <tr>\n",
              "      <th>Year</th>\n",
              "      <th></th>\n",
              "    </tr>\n",
              "  </thead>\n",
              "  <tbody>\n",
              "    <tr>\n",
              "      <th>2022</th>\n",
              "      <td>2908980</td>\n",
              "    </tr>\n",
              "    <tr>\n",
              "      <th>2023</th>\n",
              "      <td>3020580</td>\n",
              "    </tr>\n",
              "    <tr>\n",
              "      <th>2024</th>\n",
              "      <td>3132182</td>\n",
              "    </tr>\n",
              "  </tbody>\n",
              "</table>\n",
              "</div>\n",
              "      <button class=\"colab-df-convert\" onclick=\"convertToInteractive('df-562646ac-8a34-4e8e-8ed8-90d9d75bd746')\"\n",
              "              title=\"Convert this dataframe to an interactive table.\"\n",
              "              style=\"display:none;\">\n",
              "        \n",
              "  <svg xmlns=\"http://www.w3.org/2000/svg\" height=\"24px\"viewBox=\"0 0 24 24\"\n",
              "       width=\"24px\">\n",
              "    <path d=\"M0 0h24v24H0V0z\" fill=\"none\"/>\n",
              "    <path d=\"M18.56 5.44l.94 2.06.94-2.06 2.06-.94-2.06-.94-.94-2.06-.94 2.06-2.06.94zm-11 1L8.5 8.5l.94-2.06 2.06-.94-2.06-.94L8.5 2.5l-.94 2.06-2.06.94zm10 10l.94 2.06.94-2.06 2.06-.94-2.06-.94-.94-2.06-.94 2.06-2.06.94z\"/><path d=\"M17.41 7.96l-1.37-1.37c-.4-.4-.92-.59-1.43-.59-.52 0-1.04.2-1.43.59L10.3 9.45l-7.72 7.72c-.78.78-.78 2.05 0 2.83L4 21.41c.39.39.9.59 1.41.59.51 0 1.02-.2 1.41-.59l7.78-7.78 2.81-2.81c.8-.78.8-2.07 0-2.86zM5.41 20L4 18.59l7.72-7.72 1.47 1.35L5.41 20z\"/>\n",
              "  </svg>\n",
              "      </button>\n",
              "      \n",
              "  <style>\n",
              "    .colab-df-container {\n",
              "      display:flex;\n",
              "      flex-wrap:wrap;\n",
              "      gap: 12px;\n",
              "    }\n",
              "\n",
              "    .colab-df-convert {\n",
              "      background-color: #E8F0FE;\n",
              "      border: none;\n",
              "      border-radius: 50%;\n",
              "      cursor: pointer;\n",
              "      display: none;\n",
              "      fill: #1967D2;\n",
              "      height: 32px;\n",
              "      padding: 0 0 0 0;\n",
              "      width: 32px;\n",
              "    }\n",
              "\n",
              "    .colab-df-convert:hover {\n",
              "      background-color: #E2EBFA;\n",
              "      box-shadow: 0px 1px 2px rgba(60, 64, 67, 0.3), 0px 1px 3px 1px rgba(60, 64, 67, 0.15);\n",
              "      fill: #174EA6;\n",
              "    }\n",
              "\n",
              "    [theme=dark] .colab-df-convert {\n",
              "      background-color: #3B4455;\n",
              "      fill: #D2E3FC;\n",
              "    }\n",
              "\n",
              "    [theme=dark] .colab-df-convert:hover {\n",
              "      background-color: #434B5C;\n",
              "      box-shadow: 0px 1px 3px 1px rgba(0, 0, 0, 0.15);\n",
              "      filter: drop-shadow(0px 1px 2px rgba(0, 0, 0, 0.3));\n",
              "      fill: #FFFFFF;\n",
              "    }\n",
              "  </style>\n",
              "\n",
              "      <script>\n",
              "        const buttonEl =\n",
              "          document.querySelector('#df-562646ac-8a34-4e8e-8ed8-90d9d75bd746 button.colab-df-convert');\n",
              "        buttonEl.style.display =\n",
              "          google.colab.kernel.accessAllowed ? 'block' : 'none';\n",
              "\n",
              "        async function convertToInteractive(key) {\n",
              "          const element = document.querySelector('#df-562646ac-8a34-4e8e-8ed8-90d9d75bd746');\n",
              "          const dataTable =\n",
              "            await google.colab.kernel.invokeFunction('convertToInteractive',\n",
              "                                                     [key], {});\n",
              "          if (!dataTable) return;\n",
              "\n",
              "          const docLinkHtml = 'Like what you see? Visit the ' +\n",
              "            '<a target=\"_blank\" href=https://colab.research.google.com/notebooks/data_table.ipynb>data table notebook</a>'\n",
              "            + ' to learn more about interactive tables.';\n",
              "          element.innerHTML = '';\n",
              "          dataTable['output_type'] = 'display_data';\n",
              "          await google.colab.output.renderOutput(dataTable, element);\n",
              "          const docLink = document.createElement('div');\n",
              "          docLink.innerHTML = docLinkHtml;\n",
              "          element.appendChild(docLink);\n",
              "        }\n",
              "      </script>\n",
              "    </div>\n",
              "  </div>\n",
              "  "
            ],
            "text/plain": [
              "       Demand\n",
              "Year         \n",
              "2022  2908980\n",
              "2023  3020580\n",
              "2024  3132182"
            ]
          },
          "metadata": {},
          "execution_count": 115
        }
      ]
    },
    {
      "cell_type": "code",
      "source": [
        "# Profit in Million\n",
        "dfForecast['Demand'].sum()*42/1e6 - pulp.value(locationModel.objective)/1e6"
      ],
      "metadata": {
        "colab": {
          "base_uri": "https://localhost:8080/"
        },
        "outputId": "82067abe-b4b5-4be6-baba-fa37b6f29acc",
        "id": "_kw5TZDKY4Vg"
      },
      "execution_count": 116,
      "outputs": [
        {
          "output_type": "execute_result",
          "data": {
            "text/plain": [
              "-9.72395944660667"
            ]
          },
          "metadata": {},
          "execution_count": 116
        }
      ]
    },
    {
      "cell_type": "code",
      "execution_count": 117,
      "metadata": {
        "colab": {
          "base_uri": "https://localhost:8080/"
        },
        "outputId": "43c3abbc-2f53-44d1-e9f8-78e5ba0066f6",
        "id": "Ba--5jNiY4Vg"
      },
      "outputs": [
        {
          "output_type": "stream",
          "name": "stdout",
          "text": [
            "\n",
            " 2022\n",
            "\t Depot Center A is opened\n",
            "\t\tServes zone East York with a capacity of 275250\n",
            "\t\tServes zone North York with a capacity of 508686\n",
            "\t Depot Center B is opened\n",
            "\t\tServes zone Etobicoke with a capacity of 4100\n",
            "\t\tServes zone Scarborough East with a capacity of 445900\n",
            "\t Depot Center C is opened\n",
            "\t\tServes zone Etobicoke with a capacity of 296583\n",
            "\t Depot Center D is opened\n",
            "\t\tServes zone Etobicoke with a capacity of 15546\n",
            "\t\tServes zone Mississauga East with a capacity of 406851\n",
            "\t Depot Center E is opened\n",
            "\t\tServes zone Downtown Toronto with a capacity of 397295\n",
            "\t\tServes zone Etobicoke with a capacity of 141579\n",
            "\t\tServes zone North Toronto with a capacity of 417190\n",
            "\n",
            " 2023\n",
            "\t Depot Center A is opened\n",
            "\t\tServes zone East York with a capacity of 285828\n",
            "\t\tServes zone North York with a capacity of 528427\n",
            "\t Depot Center B is opened\n",
            "\t\tServes zone Scarborough East with a capacity of 462885\n",
            "\t Depot Center C is opened\n",
            "\t\tServes zone Etobicoke with a capacity of 296583\n",
            "\t Depot Center D is opened\n",
            "\t\tServes zone Mississauga East with a capacity of 422397\n",
            "\t Depot Center E is opened\n",
            "\t\tServes zone Downtown Toronto with a capacity of 412506\n",
            "\t\tServes zone Etobicoke with a capacity of 178929\n",
            "\t\tServes zone North Toronto with a capacity of 433025\n",
            "\n",
            " 2024\n",
            "\t Depot Center A is opened\n",
            "\t\tServes zone East York with a capacity of 296405\n",
            "\t\tServes zone North York with a capacity of 548169\n",
            "\t Depot Center B is opened\n",
            "\t\tServes zone Scarborough East with a capacity of 479871\n",
            "\t Depot Center C is opened\n",
            "\t\tServes zone Etobicoke with a capacity of 296583\n",
            "\t Depot Center D is opened\n",
            "\t\tServes zone Mississauga East with a capacity of 437943\n",
            "\t Depot Center E is opened\n",
            "\t\tServes zone Downtown Toronto with a capacity of 427718\n",
            "\t\tServes zone Etobicoke with a capacity of 196634\n",
            "\t\tServes zone North Toronto with a capacity of 448859\n"
          ]
        }
      ],
      "source": [
        "# Solution\n",
        "for t in periods:\n",
        "  print('\\n', t)\n",
        "  for i in depots:\n",
        "    if yvar[(i,t)].varValue >= 1.0:\n",
        "      print(\"\\t Depot \" + str(i) + \" is opened\")                            \n",
        "      for j in zones:\n",
        "        if xvar[(i,j,t)].varValue > 0.0:\n",
        "          print(\"\\t\\tServes zone \" + str(j) + \" with a capacity of \" + str(int(xvar[(i,j,t)].varValue)))"
      ]
    },
    {
      "cell_type": "code",
      "source": [
        "for t in periods:\n",
        "  print('\\n', t)\n",
        "  for i in depots:\n",
        "    if yvar[(i,t)].varValue >= 1.0:\n",
        "      print(\"\\t Depot \" + str(i) + \" is opened\")                            \n",
        "      for j in zones:\n",
        "        if xvar[(i,j,t)].varValue > 0.0:\n",
        "          print(\"\\t\\tServes zone \" + str(j) + \" with number of HPs as \" + str(int(xvar[(i,j,t)].varValue/(250*6))))"
      ],
      "metadata": {
        "colab": {
          "base_uri": "https://localhost:8080/"
        },
        "id": "n_GdkAHJGJ0j",
        "outputId": "d5ab0486-a9bd-44b6-c08c-54f3e15e5dc9"
      },
      "execution_count": 118,
      "outputs": [
        {
          "output_type": "stream",
          "name": "stdout",
          "text": [
            "\n",
            " 2022\n",
            "\t Depot Center A is opened\n",
            "\t\tServes zone East York with number of HPs as 183\n",
            "\t\tServes zone North York with number of HPs as 339\n",
            "\t Depot Center B is opened\n",
            "\t\tServes zone Etobicoke with number of HPs as 2\n",
            "\t\tServes zone Scarborough East with number of HPs as 297\n",
            "\t Depot Center C is opened\n",
            "\t\tServes zone Etobicoke with number of HPs as 197\n",
            "\t Depot Center D is opened\n",
            "\t\tServes zone Etobicoke with number of HPs as 10\n",
            "\t\tServes zone Mississauga East with number of HPs as 271\n",
            "\t Depot Center E is opened\n",
            "\t\tServes zone Downtown Toronto with number of HPs as 264\n",
            "\t\tServes zone Etobicoke with number of HPs as 94\n",
            "\t\tServes zone North Toronto with number of HPs as 278\n",
            "\n",
            " 2023\n",
            "\t Depot Center A is opened\n",
            "\t\tServes zone East York with number of HPs as 190\n",
            "\t\tServes zone North York with number of HPs as 352\n",
            "\t Depot Center B is opened\n",
            "\t\tServes zone Scarborough East with number of HPs as 308\n",
            "\t Depot Center C is opened\n",
            "\t\tServes zone Etobicoke with number of HPs as 197\n",
            "\t Depot Center D is opened\n",
            "\t\tServes zone Mississauga East with number of HPs as 281\n",
            "\t Depot Center E is opened\n",
            "\t\tServes zone Downtown Toronto with number of HPs as 275\n",
            "\t\tServes zone Etobicoke with number of HPs as 119\n",
            "\t\tServes zone North Toronto with number of HPs as 288\n",
            "\n",
            " 2024\n",
            "\t Depot Center A is opened\n",
            "\t\tServes zone East York with number of HPs as 197\n",
            "\t\tServes zone North York with number of HPs as 365\n",
            "\t Depot Center B is opened\n",
            "\t\tServes zone Scarborough East with number of HPs as 319\n",
            "\t Depot Center C is opened\n",
            "\t\tServes zone Etobicoke with number of HPs as 197\n",
            "\t Depot Center D is opened\n",
            "\t\tServes zone Mississauga East with number of HPs as 291\n",
            "\t Depot Center E is opened\n",
            "\t\tServes zone Downtown Toronto with number of HPs as 285\n",
            "\t\tServes zone Etobicoke with number of HPs as 131\n",
            "\t\tServes zone North Toronto with number of HPs as 299\n"
          ]
        }
      ]
    },
    {
      "cell_type": "markdown",
      "source": [
        "#### Analysis"
      ],
      "metadata": {
        "id": "emdM1LiCF-bs"
      }
    },
    {
      "cell_type": "code",
      "source": [
        "dfDistances.groupby(['Center']).mean()"
      ],
      "metadata": {
        "colab": {
          "base_uri": "https://localhost:8080/",
          "height": 269
        },
        "outputId": "fc499c78-fab7-433e-94c9-a6917639f483",
        "id": "Aak6VNkMY4Vf"
      },
      "execution_count": 119,
      "outputs": [
        {
          "output_type": "execute_result",
          "data": {
            "text/html": [
              "\n",
              "  <div id=\"df-e85ad5c2-260d-4c45-acb3-12e3cf367e24\">\n",
              "    <div class=\"colab-df-container\">\n",
              "      <div>\n",
              "<style scoped>\n",
              "    .dataframe tbody tr th:only-of-type {\n",
              "        vertical-align: middle;\n",
              "    }\n",
              "\n",
              "    .dataframe tbody tr th {\n",
              "        vertical-align: top;\n",
              "    }\n",
              "\n",
              "    .dataframe thead th {\n",
              "        text-align: right;\n",
              "    }\n",
              "</style>\n",
              "<table border=\"1\" class=\"dataframe\">\n",
              "  <thead>\n",
              "    <tr style=\"text-align: right;\">\n",
              "      <th></th>\n",
              "      <th>Distance</th>\n",
              "    </tr>\n",
              "    <tr>\n",
              "      <th>Center</th>\n",
              "      <th></th>\n",
              "    </tr>\n",
              "  </thead>\n",
              "  <tbody>\n",
              "    <tr>\n",
              "      <th>Center A</th>\n",
              "      <td>16.254286</td>\n",
              "    </tr>\n",
              "    <tr>\n",
              "      <th>Center B</th>\n",
              "      <td>22.712857</td>\n",
              "    </tr>\n",
              "    <tr>\n",
              "      <th>Center C</th>\n",
              "      <td>21.204286</td>\n",
              "    </tr>\n",
              "    <tr>\n",
              "      <th>Center D</th>\n",
              "      <td>21.691429</td>\n",
              "    </tr>\n",
              "    <tr>\n",
              "      <th>Center E</th>\n",
              "      <td>15.525714</td>\n",
              "    </tr>\n",
              "    <tr>\n",
              "      <th>Center F</th>\n",
              "      <td>20.211429</td>\n",
              "    </tr>\n",
              "  </tbody>\n",
              "</table>\n",
              "</div>\n",
              "      <button class=\"colab-df-convert\" onclick=\"convertToInteractive('df-e85ad5c2-260d-4c45-acb3-12e3cf367e24')\"\n",
              "              title=\"Convert this dataframe to an interactive table.\"\n",
              "              style=\"display:none;\">\n",
              "        \n",
              "  <svg xmlns=\"http://www.w3.org/2000/svg\" height=\"24px\"viewBox=\"0 0 24 24\"\n",
              "       width=\"24px\">\n",
              "    <path d=\"M0 0h24v24H0V0z\" fill=\"none\"/>\n",
              "    <path d=\"M18.56 5.44l.94 2.06.94-2.06 2.06-.94-2.06-.94-.94-2.06-.94 2.06-2.06.94zm-11 1L8.5 8.5l.94-2.06 2.06-.94-2.06-.94L8.5 2.5l-.94 2.06-2.06.94zm10 10l.94 2.06.94-2.06 2.06-.94-2.06-.94-.94-2.06-.94 2.06-2.06.94z\"/><path d=\"M17.41 7.96l-1.37-1.37c-.4-.4-.92-.59-1.43-.59-.52 0-1.04.2-1.43.59L10.3 9.45l-7.72 7.72c-.78.78-.78 2.05 0 2.83L4 21.41c.39.39.9.59 1.41.59.51 0 1.02-.2 1.41-.59l7.78-7.78 2.81-2.81c.8-.78.8-2.07 0-2.86zM5.41 20L4 18.59l7.72-7.72 1.47 1.35L5.41 20z\"/>\n",
              "  </svg>\n",
              "      </button>\n",
              "      \n",
              "  <style>\n",
              "    .colab-df-container {\n",
              "      display:flex;\n",
              "      flex-wrap:wrap;\n",
              "      gap: 12px;\n",
              "    }\n",
              "\n",
              "    .colab-df-convert {\n",
              "      background-color: #E8F0FE;\n",
              "      border: none;\n",
              "      border-radius: 50%;\n",
              "      cursor: pointer;\n",
              "      display: none;\n",
              "      fill: #1967D2;\n",
              "      height: 32px;\n",
              "      padding: 0 0 0 0;\n",
              "      width: 32px;\n",
              "    }\n",
              "\n",
              "    .colab-df-convert:hover {\n",
              "      background-color: #E2EBFA;\n",
              "      box-shadow: 0px 1px 2px rgba(60, 64, 67, 0.3), 0px 1px 3px 1px rgba(60, 64, 67, 0.15);\n",
              "      fill: #174EA6;\n",
              "    }\n",
              "\n",
              "    [theme=dark] .colab-df-convert {\n",
              "      background-color: #3B4455;\n",
              "      fill: #D2E3FC;\n",
              "    }\n",
              "\n",
              "    [theme=dark] .colab-df-convert:hover {\n",
              "      background-color: #434B5C;\n",
              "      box-shadow: 0px 1px 3px 1px rgba(0, 0, 0, 0.15);\n",
              "      filter: drop-shadow(0px 1px 2px rgba(0, 0, 0, 0.3));\n",
              "      fill: #FFFFFF;\n",
              "    }\n",
              "  </style>\n",
              "\n",
              "      <script>\n",
              "        const buttonEl =\n",
              "          document.querySelector('#df-e85ad5c2-260d-4c45-acb3-12e3cf367e24 button.colab-df-convert');\n",
              "        buttonEl.style.display =\n",
              "          google.colab.kernel.accessAllowed ? 'block' : 'none';\n",
              "\n",
              "        async function convertToInteractive(key) {\n",
              "          const element = document.querySelector('#df-e85ad5c2-260d-4c45-acb3-12e3cf367e24');\n",
              "          const dataTable =\n",
              "            await google.colab.kernel.invokeFunction('convertToInteractive',\n",
              "                                                     [key], {});\n",
              "          if (!dataTable) return;\n",
              "\n",
              "          const docLinkHtml = 'Like what you see? Visit the ' +\n",
              "            '<a target=\"_blank\" href=https://colab.research.google.com/notebooks/data_table.ipynb>data table notebook</a>'\n",
              "            + ' to learn more about interactive tables.';\n",
              "          element.innerHTML = '';\n",
              "          dataTable['output_type'] = 'display_data';\n",
              "          await google.colab.output.renderOutput(dataTable, element);\n",
              "          const docLink = document.createElement('div');\n",
              "          docLink.innerHTML = docLinkHtml;\n",
              "          element.appendChild(docLink);\n",
              "        }\n",
              "      </script>\n",
              "    </div>\n",
              "  </div>\n",
              "  "
            ],
            "text/plain": [
              "           Distance\n",
              "Center             \n",
              "Center A  16.254286\n",
              "Center B  22.712857\n",
              "Center C  21.204286\n",
              "Center D  21.691429\n",
              "Center E  15.525714\n",
              "Center F  20.211429"
            ]
          },
          "metadata": {},
          "execution_count": 119
        }
      ]
    },
    {
      "cell_type": "code",
      "source": [
        "dfDistances[dfDistances.Center == 'Center F']"
      ],
      "metadata": {
        "colab": {
          "base_uri": "https://localhost:8080/",
          "height": 269
        },
        "id": "Zs5yb6NEeJ0a",
        "outputId": "761b8c52-4b23-4d02-9b68-3fe1bb703484"
      },
      "execution_count": 120,
      "outputs": [
        {
          "output_type": "execute_result",
          "data": {
            "text/html": [
              "\n",
              "  <div id=\"df-4bba1834-5820-4d8c-ae50-45c49b78cb79\">\n",
              "    <div class=\"colab-df-container\">\n",
              "      <div>\n",
              "<style scoped>\n",
              "    .dataframe tbody tr th:only-of-type {\n",
              "        vertical-align: middle;\n",
              "    }\n",
              "\n",
              "    .dataframe tbody tr th {\n",
              "        vertical-align: top;\n",
              "    }\n",
              "\n",
              "    .dataframe thead th {\n",
              "        text-align: right;\n",
              "    }\n",
              "</style>\n",
              "<table border=\"1\" class=\"dataframe\">\n",
              "  <thead>\n",
              "    <tr style=\"text-align: right;\">\n",
              "      <th></th>\n",
              "      <th>Center</th>\n",
              "      <th>Region</th>\n",
              "      <th>Distance</th>\n",
              "    </tr>\n",
              "  </thead>\n",
              "  <tbody>\n",
              "    <tr>\n",
              "      <th>35</th>\n",
              "      <td>Center F</td>\n",
              "      <td>Downtown Toronto</td>\n",
              "      <td>18.83</td>\n",
              "    </tr>\n",
              "    <tr>\n",
              "      <th>36</th>\n",
              "      <td>Center F</td>\n",
              "      <td>East York</td>\n",
              "      <td>30.70</td>\n",
              "    </tr>\n",
              "    <tr>\n",
              "      <th>37</th>\n",
              "      <td>Center F</td>\n",
              "      <td>Etobicoke</td>\n",
              "      <td>25.64</td>\n",
              "    </tr>\n",
              "    <tr>\n",
              "      <th>38</th>\n",
              "      <td>Center F</td>\n",
              "      <td>Mississauga East</td>\n",
              "      <td>0.00</td>\n",
              "    </tr>\n",
              "    <tr>\n",
              "      <th>39</th>\n",
              "      <td>Center F</td>\n",
              "      <td>North Toronto</td>\n",
              "      <td>20.65</td>\n",
              "    </tr>\n",
              "    <tr>\n",
              "      <th>40</th>\n",
              "      <td>Center F</td>\n",
              "      <td>North York</td>\n",
              "      <td>28.65</td>\n",
              "    </tr>\n",
              "    <tr>\n",
              "      <th>41</th>\n",
              "      <td>Center F</td>\n",
              "      <td>Scarborough East</td>\n",
              "      <td>17.01</td>\n",
              "    </tr>\n",
              "  </tbody>\n",
              "</table>\n",
              "</div>\n",
              "      <button class=\"colab-df-convert\" onclick=\"convertToInteractive('df-4bba1834-5820-4d8c-ae50-45c49b78cb79')\"\n",
              "              title=\"Convert this dataframe to an interactive table.\"\n",
              "              style=\"display:none;\">\n",
              "        \n",
              "  <svg xmlns=\"http://www.w3.org/2000/svg\" height=\"24px\"viewBox=\"0 0 24 24\"\n",
              "       width=\"24px\">\n",
              "    <path d=\"M0 0h24v24H0V0z\" fill=\"none\"/>\n",
              "    <path d=\"M18.56 5.44l.94 2.06.94-2.06 2.06-.94-2.06-.94-.94-2.06-.94 2.06-2.06.94zm-11 1L8.5 8.5l.94-2.06 2.06-.94-2.06-.94L8.5 2.5l-.94 2.06-2.06.94zm10 10l.94 2.06.94-2.06 2.06-.94-2.06-.94-.94-2.06-.94 2.06-2.06.94z\"/><path d=\"M17.41 7.96l-1.37-1.37c-.4-.4-.92-.59-1.43-.59-.52 0-1.04.2-1.43.59L10.3 9.45l-7.72 7.72c-.78.78-.78 2.05 0 2.83L4 21.41c.39.39.9.59 1.41.59.51 0 1.02-.2 1.41-.59l7.78-7.78 2.81-2.81c.8-.78.8-2.07 0-2.86zM5.41 20L4 18.59l7.72-7.72 1.47 1.35L5.41 20z\"/>\n",
              "  </svg>\n",
              "      </button>\n",
              "      \n",
              "  <style>\n",
              "    .colab-df-container {\n",
              "      display:flex;\n",
              "      flex-wrap:wrap;\n",
              "      gap: 12px;\n",
              "    }\n",
              "\n",
              "    .colab-df-convert {\n",
              "      background-color: #E8F0FE;\n",
              "      border: none;\n",
              "      border-radius: 50%;\n",
              "      cursor: pointer;\n",
              "      display: none;\n",
              "      fill: #1967D2;\n",
              "      height: 32px;\n",
              "      padding: 0 0 0 0;\n",
              "      width: 32px;\n",
              "    }\n",
              "\n",
              "    .colab-df-convert:hover {\n",
              "      background-color: #E2EBFA;\n",
              "      box-shadow: 0px 1px 2px rgba(60, 64, 67, 0.3), 0px 1px 3px 1px rgba(60, 64, 67, 0.15);\n",
              "      fill: #174EA6;\n",
              "    }\n",
              "\n",
              "    [theme=dark] .colab-df-convert {\n",
              "      background-color: #3B4455;\n",
              "      fill: #D2E3FC;\n",
              "    }\n",
              "\n",
              "    [theme=dark] .colab-df-convert:hover {\n",
              "      background-color: #434B5C;\n",
              "      box-shadow: 0px 1px 3px 1px rgba(0, 0, 0, 0.15);\n",
              "      filter: drop-shadow(0px 1px 2px rgba(0, 0, 0, 0.3));\n",
              "      fill: #FFFFFF;\n",
              "    }\n",
              "  </style>\n",
              "\n",
              "      <script>\n",
              "        const buttonEl =\n",
              "          document.querySelector('#df-4bba1834-5820-4d8c-ae50-45c49b78cb79 button.colab-df-convert');\n",
              "        buttonEl.style.display =\n",
              "          google.colab.kernel.accessAllowed ? 'block' : 'none';\n",
              "\n",
              "        async function convertToInteractive(key) {\n",
              "          const element = document.querySelector('#df-4bba1834-5820-4d8c-ae50-45c49b78cb79');\n",
              "          const dataTable =\n",
              "            await google.colab.kernel.invokeFunction('convertToInteractive',\n",
              "                                                     [key], {});\n",
              "          if (!dataTable) return;\n",
              "\n",
              "          const docLinkHtml = 'Like what you see? Visit the ' +\n",
              "            '<a target=\"_blank\" href=https://colab.research.google.com/notebooks/data_table.ipynb>data table notebook</a>'\n",
              "            + ' to learn more about interactive tables.';\n",
              "          element.innerHTML = '';\n",
              "          dataTable['output_type'] = 'display_data';\n",
              "          await google.colab.output.renderOutput(dataTable, element);\n",
              "          const docLink = document.createElement('div');\n",
              "          docLink.innerHTML = docLinkHtml;\n",
              "          element.appendChild(docLink);\n",
              "        }\n",
              "      </script>\n",
              "    </div>\n",
              "  </div>\n",
              "  "
            ],
            "text/plain": [
              "      Center            Region  Distance\n",
              "35  Center F  Downtown Toronto     18.83\n",
              "36  Center F         East York     30.70\n",
              "37  Center F         Etobicoke     25.64\n",
              "38  Center F  Mississauga East      0.00\n",
              "39  Center F     North Toronto     20.65\n",
              "40  Center F        North York     28.65\n",
              "41  Center F  Scarborough East     17.01"
            ]
          },
          "metadata": {},
          "execution_count": 120
        }
      ]
    },
    {
      "cell_type": "code",
      "source": [
        "dfDistances[dfDistances.Center == 'Center E']"
      ],
      "metadata": {
        "colab": {
          "base_uri": "https://localhost:8080/",
          "height": 269
        },
        "id": "k1FYM6jyegoP",
        "outputId": "2fa85488-8367-44ac-986c-82d24d87538c"
      },
      "execution_count": 121,
      "outputs": [
        {
          "output_type": "execute_result",
          "data": {
            "text/html": [
              "\n",
              "  <div id=\"df-325e688b-6ccb-418c-bfae-04417fe0f7bf\">\n",
              "    <div class=\"colab-df-container\">\n",
              "      <div>\n",
              "<style scoped>\n",
              "    .dataframe tbody tr th:only-of-type {\n",
              "        vertical-align: middle;\n",
              "    }\n",
              "\n",
              "    .dataframe tbody tr th {\n",
              "        vertical-align: top;\n",
              "    }\n",
              "\n",
              "    .dataframe thead th {\n",
              "        text-align: right;\n",
              "    }\n",
              "</style>\n",
              "<table border=\"1\" class=\"dataframe\">\n",
              "  <thead>\n",
              "    <tr style=\"text-align: right;\">\n",
              "      <th></th>\n",
              "      <th>Center</th>\n",
              "      <th>Region</th>\n",
              "      <th>Distance</th>\n",
              "    </tr>\n",
              "  </thead>\n",
              "  <tbody>\n",
              "    <tr>\n",
              "      <th>28</th>\n",
              "      <td>Center E</td>\n",
              "      <td>Downtown Toronto</td>\n",
              "      <td>6.37</td>\n",
              "    </tr>\n",
              "    <tr>\n",
              "      <th>29</th>\n",
              "      <td>Center E</td>\n",
              "      <td>East York</td>\n",
              "      <td>20.93</td>\n",
              "    </tr>\n",
              "    <tr>\n",
              "      <th>30</th>\n",
              "      <td>Center E</td>\n",
              "      <td>Etobicoke</td>\n",
              "      <td>23.20</td>\n",
              "    </tr>\n",
              "    <tr>\n",
              "      <th>31</th>\n",
              "      <td>Center E</td>\n",
              "      <td>Mississauga East</td>\n",
              "      <td>20.65</td>\n",
              "    </tr>\n",
              "    <tr>\n",
              "      <th>32</th>\n",
              "      <td>Center E</td>\n",
              "      <td>North Toronto</td>\n",
              "      <td>0.00</td>\n",
              "    </tr>\n",
              "    <tr>\n",
              "      <th>33</th>\n",
              "      <td>Center E</td>\n",
              "      <td>North York</td>\n",
              "      <td>11.64</td>\n",
              "    </tr>\n",
              "    <tr>\n",
              "      <th>34</th>\n",
              "      <td>Center E</td>\n",
              "      <td>Scarborough East</td>\n",
              "      <td>25.89</td>\n",
              "    </tr>\n",
              "  </tbody>\n",
              "</table>\n",
              "</div>\n",
              "      <button class=\"colab-df-convert\" onclick=\"convertToInteractive('df-325e688b-6ccb-418c-bfae-04417fe0f7bf')\"\n",
              "              title=\"Convert this dataframe to an interactive table.\"\n",
              "              style=\"display:none;\">\n",
              "        \n",
              "  <svg xmlns=\"http://www.w3.org/2000/svg\" height=\"24px\"viewBox=\"0 0 24 24\"\n",
              "       width=\"24px\">\n",
              "    <path d=\"M0 0h24v24H0V0z\" fill=\"none\"/>\n",
              "    <path d=\"M18.56 5.44l.94 2.06.94-2.06 2.06-.94-2.06-.94-.94-2.06-.94 2.06-2.06.94zm-11 1L8.5 8.5l.94-2.06 2.06-.94-2.06-.94L8.5 2.5l-.94 2.06-2.06.94zm10 10l.94 2.06.94-2.06 2.06-.94-2.06-.94-.94-2.06-.94 2.06-2.06.94z\"/><path d=\"M17.41 7.96l-1.37-1.37c-.4-.4-.92-.59-1.43-.59-.52 0-1.04.2-1.43.59L10.3 9.45l-7.72 7.72c-.78.78-.78 2.05 0 2.83L4 21.41c.39.39.9.59 1.41.59.51 0 1.02-.2 1.41-.59l7.78-7.78 2.81-2.81c.8-.78.8-2.07 0-2.86zM5.41 20L4 18.59l7.72-7.72 1.47 1.35L5.41 20z\"/>\n",
              "  </svg>\n",
              "      </button>\n",
              "      \n",
              "  <style>\n",
              "    .colab-df-container {\n",
              "      display:flex;\n",
              "      flex-wrap:wrap;\n",
              "      gap: 12px;\n",
              "    }\n",
              "\n",
              "    .colab-df-convert {\n",
              "      background-color: #E8F0FE;\n",
              "      border: none;\n",
              "      border-radius: 50%;\n",
              "      cursor: pointer;\n",
              "      display: none;\n",
              "      fill: #1967D2;\n",
              "      height: 32px;\n",
              "      padding: 0 0 0 0;\n",
              "      width: 32px;\n",
              "    }\n",
              "\n",
              "    .colab-df-convert:hover {\n",
              "      background-color: #E2EBFA;\n",
              "      box-shadow: 0px 1px 2px rgba(60, 64, 67, 0.3), 0px 1px 3px 1px rgba(60, 64, 67, 0.15);\n",
              "      fill: #174EA6;\n",
              "    }\n",
              "\n",
              "    [theme=dark] .colab-df-convert {\n",
              "      background-color: #3B4455;\n",
              "      fill: #D2E3FC;\n",
              "    }\n",
              "\n",
              "    [theme=dark] .colab-df-convert:hover {\n",
              "      background-color: #434B5C;\n",
              "      box-shadow: 0px 1px 3px 1px rgba(0, 0, 0, 0.15);\n",
              "      filter: drop-shadow(0px 1px 2px rgba(0, 0, 0, 0.3));\n",
              "      fill: #FFFFFF;\n",
              "    }\n",
              "  </style>\n",
              "\n",
              "      <script>\n",
              "        const buttonEl =\n",
              "          document.querySelector('#df-325e688b-6ccb-418c-bfae-04417fe0f7bf button.colab-df-convert');\n",
              "        buttonEl.style.display =\n",
              "          google.colab.kernel.accessAllowed ? 'block' : 'none';\n",
              "\n",
              "        async function convertToInteractive(key) {\n",
              "          const element = document.querySelector('#df-325e688b-6ccb-418c-bfae-04417fe0f7bf');\n",
              "          const dataTable =\n",
              "            await google.colab.kernel.invokeFunction('convertToInteractive',\n",
              "                                                     [key], {});\n",
              "          if (!dataTable) return;\n",
              "\n",
              "          const docLinkHtml = 'Like what you see? Visit the ' +\n",
              "            '<a target=\"_blank\" href=https://colab.research.google.com/notebooks/data_table.ipynb>data table notebook</a>'\n",
              "            + ' to learn more about interactive tables.';\n",
              "          element.innerHTML = '';\n",
              "          dataTable['output_type'] = 'display_data';\n",
              "          await google.colab.output.renderOutput(dataTable, element);\n",
              "          const docLink = document.createElement('div');\n",
              "          docLink.innerHTML = docLinkHtml;\n",
              "          element.appendChild(docLink);\n",
              "        }\n",
              "      </script>\n",
              "    </div>\n",
              "  </div>\n",
              "  "
            ],
            "text/plain": [
              "      Center            Region  Distance\n",
              "28  Center E  Downtown Toronto      6.37\n",
              "29  Center E         East York     20.93\n",
              "30  Center E         Etobicoke     23.20\n",
              "31  Center E  Mississauga East     20.65\n",
              "32  Center E     North Toronto      0.00\n",
              "33  Center E        North York     11.64\n",
              "34  Center E  Scarborough East     25.89"
            ]
          },
          "metadata": {},
          "execution_count": 121
        }
      ]
    },
    {
      "cell_type": "code",
      "source": [
        "pd.DataFrame(dfForecast.groupby('Region')['Demand'].mean()).sort_values(by='Demand')"
      ],
      "metadata": {
        "colab": {
          "base_uri": "https://localhost:8080/",
          "height": 300
        },
        "id": "s5OJRBpQeOUv",
        "outputId": "8d4a1bc5-e7dc-4065-932d-3496603bca4e"
      },
      "execution_count": 122,
      "outputs": [
        {
          "output_type": "execute_result",
          "data": {
            "text/html": [
              "\n",
              "  <div id=\"df-7bf22487-cd5a-48df-a4c3-6cbcde6cb25d\">\n",
              "    <div class=\"colab-df-container\">\n",
              "      <div>\n",
              "<style scoped>\n",
              "    .dataframe tbody tr th:only-of-type {\n",
              "        vertical-align: middle;\n",
              "    }\n",
              "\n",
              "    .dataframe tbody tr th {\n",
              "        vertical-align: top;\n",
              "    }\n",
              "\n",
              "    .dataframe thead th {\n",
              "        text-align: right;\n",
              "    }\n",
              "</style>\n",
              "<table border=\"1\" class=\"dataframe\">\n",
              "  <thead>\n",
              "    <tr style=\"text-align: right;\">\n",
              "      <th></th>\n",
              "      <th>Demand</th>\n",
              "    </tr>\n",
              "    <tr>\n",
              "      <th>Region</th>\n",
              "      <th></th>\n",
              "    </tr>\n",
              "  </thead>\n",
              "  <tbody>\n",
              "    <tr>\n",
              "      <th>East York</th>\n",
              "      <td>285827.666667</td>\n",
              "    </tr>\n",
              "    <tr>\n",
              "      <th>Downtown Toronto</th>\n",
              "      <td>412506.333333</td>\n",
              "    </tr>\n",
              "    <tr>\n",
              "      <th>Mississauga East</th>\n",
              "      <td>422397.000000</td>\n",
              "    </tr>\n",
              "    <tr>\n",
              "      <th>North Toronto</th>\n",
              "      <td>433024.666667</td>\n",
              "    </tr>\n",
              "    <tr>\n",
              "      <th>Scarborough East</th>\n",
              "      <td>462885.333333</td>\n",
              "    </tr>\n",
              "    <tr>\n",
              "      <th>Etobicoke</th>\n",
              "      <td>475512.333333</td>\n",
              "    </tr>\n",
              "    <tr>\n",
              "      <th>North York</th>\n",
              "      <td>528427.333333</td>\n",
              "    </tr>\n",
              "  </tbody>\n",
              "</table>\n",
              "</div>\n",
              "      <button class=\"colab-df-convert\" onclick=\"convertToInteractive('df-7bf22487-cd5a-48df-a4c3-6cbcde6cb25d')\"\n",
              "              title=\"Convert this dataframe to an interactive table.\"\n",
              "              style=\"display:none;\">\n",
              "        \n",
              "  <svg xmlns=\"http://www.w3.org/2000/svg\" height=\"24px\"viewBox=\"0 0 24 24\"\n",
              "       width=\"24px\">\n",
              "    <path d=\"M0 0h24v24H0V0z\" fill=\"none\"/>\n",
              "    <path d=\"M18.56 5.44l.94 2.06.94-2.06 2.06-.94-2.06-.94-.94-2.06-.94 2.06-2.06.94zm-11 1L8.5 8.5l.94-2.06 2.06-.94-2.06-.94L8.5 2.5l-.94 2.06-2.06.94zm10 10l.94 2.06.94-2.06 2.06-.94-2.06-.94-.94-2.06-.94 2.06-2.06.94z\"/><path d=\"M17.41 7.96l-1.37-1.37c-.4-.4-.92-.59-1.43-.59-.52 0-1.04.2-1.43.59L10.3 9.45l-7.72 7.72c-.78.78-.78 2.05 0 2.83L4 21.41c.39.39.9.59 1.41.59.51 0 1.02-.2 1.41-.59l7.78-7.78 2.81-2.81c.8-.78.8-2.07 0-2.86zM5.41 20L4 18.59l7.72-7.72 1.47 1.35L5.41 20z\"/>\n",
              "  </svg>\n",
              "      </button>\n",
              "      \n",
              "  <style>\n",
              "    .colab-df-container {\n",
              "      display:flex;\n",
              "      flex-wrap:wrap;\n",
              "      gap: 12px;\n",
              "    }\n",
              "\n",
              "    .colab-df-convert {\n",
              "      background-color: #E8F0FE;\n",
              "      border: none;\n",
              "      border-radius: 50%;\n",
              "      cursor: pointer;\n",
              "      display: none;\n",
              "      fill: #1967D2;\n",
              "      height: 32px;\n",
              "      padding: 0 0 0 0;\n",
              "      width: 32px;\n",
              "    }\n",
              "\n",
              "    .colab-df-convert:hover {\n",
              "      background-color: #E2EBFA;\n",
              "      box-shadow: 0px 1px 2px rgba(60, 64, 67, 0.3), 0px 1px 3px 1px rgba(60, 64, 67, 0.15);\n",
              "      fill: #174EA6;\n",
              "    }\n",
              "\n",
              "    [theme=dark] .colab-df-convert {\n",
              "      background-color: #3B4455;\n",
              "      fill: #D2E3FC;\n",
              "    }\n",
              "\n",
              "    [theme=dark] .colab-df-convert:hover {\n",
              "      background-color: #434B5C;\n",
              "      box-shadow: 0px 1px 3px 1px rgba(0, 0, 0, 0.15);\n",
              "      filter: drop-shadow(0px 1px 2px rgba(0, 0, 0, 0.3));\n",
              "      fill: #FFFFFF;\n",
              "    }\n",
              "  </style>\n",
              "\n",
              "      <script>\n",
              "        const buttonEl =\n",
              "          document.querySelector('#df-7bf22487-cd5a-48df-a4c3-6cbcde6cb25d button.colab-df-convert');\n",
              "        buttonEl.style.display =\n",
              "          google.colab.kernel.accessAllowed ? 'block' : 'none';\n",
              "\n",
              "        async function convertToInteractive(key) {\n",
              "          const element = document.querySelector('#df-7bf22487-cd5a-48df-a4c3-6cbcde6cb25d');\n",
              "          const dataTable =\n",
              "            await google.colab.kernel.invokeFunction('convertToInteractive',\n",
              "                                                     [key], {});\n",
              "          if (!dataTable) return;\n",
              "\n",
              "          const docLinkHtml = 'Like what you see? Visit the ' +\n",
              "            '<a target=\"_blank\" href=https://colab.research.google.com/notebooks/data_table.ipynb>data table notebook</a>'\n",
              "            + ' to learn more about interactive tables.';\n",
              "          element.innerHTML = '';\n",
              "          dataTable['output_type'] = 'display_data';\n",
              "          await google.colab.output.renderOutput(dataTable, element);\n",
              "          const docLink = document.createElement('div');\n",
              "          docLink.innerHTML = docLinkHtml;\n",
              "          element.appendChild(docLink);\n",
              "        }\n",
              "      </script>\n",
              "    </div>\n",
              "  </div>\n",
              "  "
            ],
            "text/plain": [
              "                         Demand\n",
              "Region                         \n",
              "East York         285827.666667\n",
              "Downtown Toronto  412506.333333\n",
              "Mississauga East  422397.000000\n",
              "North Toronto     433024.666667\n",
              "Scarborough East  462885.333333\n",
              "Etobicoke         475512.333333\n",
              "North York        528427.333333"
            ]
          },
          "metadata": {},
          "execution_count": 122
        }
      ]
    },
    {
      "cell_type": "code",
      "source": [
        "dfCenters"
      ],
      "metadata": {
        "colab": {
          "base_uri": "https://localhost:8080/",
          "height": 269
        },
        "id": "ToZIzeZwdmBY",
        "outputId": "1fbd6304-2a0d-4284-82de-a8c717003793"
      },
      "execution_count": 123,
      "outputs": [
        {
          "output_type": "execute_result",
          "data": {
            "text/html": [
              "\n",
              "  <div id=\"df-e745cae0-9e99-44cc-8dcc-9e330c5e8a38\">\n",
              "    <div class=\"colab-df-container\">\n",
              "      <div>\n",
              "<style scoped>\n",
              "    .dataframe tbody tr th:only-of-type {\n",
              "        vertical-align: middle;\n",
              "    }\n",
              "\n",
              "    .dataframe tbody tr th {\n",
              "        vertical-align: top;\n",
              "    }\n",
              "\n",
              "    .dataframe thead th {\n",
              "        text-align: right;\n",
              "    }\n",
              "</style>\n",
              "<table border=\"1\" class=\"dataframe\">\n",
              "  <thead>\n",
              "    <tr style=\"text-align: right;\">\n",
              "      <th></th>\n",
              "      <th>Opening Costs</th>\n",
              "      <th>Operating Costs</th>\n",
              "      <th>Num MPs</th>\n",
              "      <th>Maximum capacity</th>\n",
              "    </tr>\n",
              "    <tr>\n",
              "      <th>Center</th>\n",
              "      <th></th>\n",
              "      <th></th>\n",
              "      <th></th>\n",
              "      <th></th>\n",
              "    </tr>\n",
              "  </thead>\n",
              "  <tbody>\n",
              "    <tr>\n",
              "      <th>Center A</th>\n",
              "      <td>0</td>\n",
              "      <td>275000</td>\n",
              "      <td>215</td>\n",
              "      <td>5000000</td>\n",
              "    </tr>\n",
              "    <tr>\n",
              "      <th>Center B</th>\n",
              "      <td>0</td>\n",
              "      <td>275000</td>\n",
              "      <td>125</td>\n",
              "      <td>5000000</td>\n",
              "    </tr>\n",
              "    <tr>\n",
              "      <th>Center C</th>\n",
              "      <td>0</td>\n",
              "      <td>275000</td>\n",
              "      <td>100</td>\n",
              "      <td>5000000</td>\n",
              "    </tr>\n",
              "    <tr>\n",
              "      <th>Center D</th>\n",
              "      <td>0</td>\n",
              "      <td>285000</td>\n",
              "      <td>120</td>\n",
              "      <td>5000000</td>\n",
              "    </tr>\n",
              "    <tr>\n",
              "      <th>Center E</th>\n",
              "      <td>250000</td>\n",
              "      <td>125000</td>\n",
              "      <td>0</td>\n",
              "      <td>5000000</td>\n",
              "    </tr>\n",
              "    <tr>\n",
              "      <th>Center F</th>\n",
              "      <td>100000</td>\n",
              "      <td>175000</td>\n",
              "      <td>0</td>\n",
              "      <td>5000000</td>\n",
              "    </tr>\n",
              "  </tbody>\n",
              "</table>\n",
              "</div>\n",
              "      <button class=\"colab-df-convert\" onclick=\"convertToInteractive('df-e745cae0-9e99-44cc-8dcc-9e330c5e8a38')\"\n",
              "              title=\"Convert this dataframe to an interactive table.\"\n",
              "              style=\"display:none;\">\n",
              "        \n",
              "  <svg xmlns=\"http://www.w3.org/2000/svg\" height=\"24px\"viewBox=\"0 0 24 24\"\n",
              "       width=\"24px\">\n",
              "    <path d=\"M0 0h24v24H0V0z\" fill=\"none\"/>\n",
              "    <path d=\"M18.56 5.44l.94 2.06.94-2.06 2.06-.94-2.06-.94-.94-2.06-.94 2.06-2.06.94zm-11 1L8.5 8.5l.94-2.06 2.06-.94-2.06-.94L8.5 2.5l-.94 2.06-2.06.94zm10 10l.94 2.06.94-2.06 2.06-.94-2.06-.94-.94-2.06-.94 2.06-2.06.94z\"/><path d=\"M17.41 7.96l-1.37-1.37c-.4-.4-.92-.59-1.43-.59-.52 0-1.04.2-1.43.59L10.3 9.45l-7.72 7.72c-.78.78-.78 2.05 0 2.83L4 21.41c.39.39.9.59 1.41.59.51 0 1.02-.2 1.41-.59l7.78-7.78 2.81-2.81c.8-.78.8-2.07 0-2.86zM5.41 20L4 18.59l7.72-7.72 1.47 1.35L5.41 20z\"/>\n",
              "  </svg>\n",
              "      </button>\n",
              "      \n",
              "  <style>\n",
              "    .colab-df-container {\n",
              "      display:flex;\n",
              "      flex-wrap:wrap;\n",
              "      gap: 12px;\n",
              "    }\n",
              "\n",
              "    .colab-df-convert {\n",
              "      background-color: #E8F0FE;\n",
              "      border: none;\n",
              "      border-radius: 50%;\n",
              "      cursor: pointer;\n",
              "      display: none;\n",
              "      fill: #1967D2;\n",
              "      height: 32px;\n",
              "      padding: 0 0 0 0;\n",
              "      width: 32px;\n",
              "    }\n",
              "\n",
              "    .colab-df-convert:hover {\n",
              "      background-color: #E2EBFA;\n",
              "      box-shadow: 0px 1px 2px rgba(60, 64, 67, 0.3), 0px 1px 3px 1px rgba(60, 64, 67, 0.15);\n",
              "      fill: #174EA6;\n",
              "    }\n",
              "\n",
              "    [theme=dark] .colab-df-convert {\n",
              "      background-color: #3B4455;\n",
              "      fill: #D2E3FC;\n",
              "    }\n",
              "\n",
              "    [theme=dark] .colab-df-convert:hover {\n",
              "      background-color: #434B5C;\n",
              "      box-shadow: 0px 1px 3px 1px rgba(0, 0, 0, 0.15);\n",
              "      filter: drop-shadow(0px 1px 2px rgba(0, 0, 0, 0.3));\n",
              "      fill: #FFFFFF;\n",
              "    }\n",
              "  </style>\n",
              "\n",
              "      <script>\n",
              "        const buttonEl =\n",
              "          document.querySelector('#df-e745cae0-9e99-44cc-8dcc-9e330c5e8a38 button.colab-df-convert');\n",
              "        buttonEl.style.display =\n",
              "          google.colab.kernel.accessAllowed ? 'block' : 'none';\n",
              "\n",
              "        async function convertToInteractive(key) {\n",
              "          const element = document.querySelector('#df-e745cae0-9e99-44cc-8dcc-9e330c5e8a38');\n",
              "          const dataTable =\n",
              "            await google.colab.kernel.invokeFunction('convertToInteractive',\n",
              "                                                     [key], {});\n",
              "          if (!dataTable) return;\n",
              "\n",
              "          const docLinkHtml = 'Like what you see? Visit the ' +\n",
              "            '<a target=\"_blank\" href=https://colab.research.google.com/notebooks/data_table.ipynb>data table notebook</a>'\n",
              "            + ' to learn more about interactive tables.';\n",
              "          element.innerHTML = '';\n",
              "          dataTable['output_type'] = 'display_data';\n",
              "          await google.colab.output.renderOutput(dataTable, element);\n",
              "          const docLink = document.createElement('div');\n",
              "          docLink.innerHTML = docLinkHtml;\n",
              "          element.appendChild(docLink);\n",
              "        }\n",
              "      </script>\n",
              "    </div>\n",
              "  </div>\n",
              "  "
            ],
            "text/plain": [
              "          Opening Costs  Operating Costs  Num MPs  Maximum capacity\n",
              "Center                                                             \n",
              "Center A              0           275000      215           5000000\n",
              "Center B              0           275000      125           5000000\n",
              "Center C              0           275000      100           5000000\n",
              "Center D              0           285000      120           5000000\n",
              "Center E         250000           125000        0           5000000\n",
              "Center F         100000           175000        0           5000000"
            ]
          },
          "metadata": {},
          "execution_count": 123
        }
      ]
    },
    {
      "cell_type": "code",
      "source": [
        "printTable(xvar)"
      ],
      "metadata": {
        "colab": {
          "base_uri": "https://localhost:8080/",
          "height": 770
        },
        "outputId": "2c373ee8-80d2-45e2-d6b1-322aa6814482",
        "id": "bz03dRZoY4Vg"
      },
      "execution_count": 124,
      "outputs": [
        {
          "output_type": "execute_result",
          "data": {
            "text/html": [
              "\n",
              "  <div id=\"df-cba5b19a-e5a4-43fb-be02-a53e4f091b7c\">\n",
              "    <div class=\"colab-df-container\">\n",
              "      <div>\n",
              "<style scoped>\n",
              "    .dataframe tbody tr th:only-of-type {\n",
              "        vertical-align: middle;\n",
              "    }\n",
              "\n",
              "    .dataframe tbody tr th {\n",
              "        vertical-align: top;\n",
              "    }\n",
              "\n",
              "    .dataframe thead tr th {\n",
              "        text-align: left;\n",
              "    }\n",
              "\n",
              "    .dataframe thead tr:last-of-type th {\n",
              "        text-align: right;\n",
              "    }\n",
              "</style>\n",
              "<table border=\"1\" class=\"dataframe\">\n",
              "  <thead>\n",
              "    <tr>\n",
              "      <th></th>\n",
              "      <th></th>\n",
              "      <th colspan=\"6\" halign=\"left\">Served</th>\n",
              "    </tr>\n",
              "    <tr>\n",
              "      <th></th>\n",
              "      <th>Center</th>\n",
              "      <th>Center A</th>\n",
              "      <th>Center B</th>\n",
              "      <th>Center C</th>\n",
              "      <th>Center D</th>\n",
              "      <th>Center E</th>\n",
              "      <th>Center F</th>\n",
              "    </tr>\n",
              "    <tr>\n",
              "      <th>Year</th>\n",
              "      <th>Region</th>\n",
              "      <th></th>\n",
              "      <th></th>\n",
              "      <th></th>\n",
              "      <th></th>\n",
              "      <th></th>\n",
              "      <th></th>\n",
              "    </tr>\n",
              "  </thead>\n",
              "  <tbody>\n",
              "    <tr>\n",
              "      <th rowspan=\"7\" valign=\"top\">2022</th>\n",
              "      <th>Downtown Toronto</th>\n",
              "      <td>0.0</td>\n",
              "      <td>0.0</td>\n",
              "      <td>0.0</td>\n",
              "      <td>0.0</td>\n",
              "      <td>397295.0</td>\n",
              "      <td>0.0</td>\n",
              "    </tr>\n",
              "    <tr>\n",
              "      <th>East York</th>\n",
              "      <td>275250.0</td>\n",
              "      <td>0.0</td>\n",
              "      <td>0.0</td>\n",
              "      <td>0.0</td>\n",
              "      <td>0.0</td>\n",
              "      <td>0.0</td>\n",
              "    </tr>\n",
              "    <tr>\n",
              "      <th>Etobicoke</th>\n",
              "      <td>0.0</td>\n",
              "      <td>4100.0</td>\n",
              "      <td>296583.0</td>\n",
              "      <td>15546.0</td>\n",
              "      <td>141579.0</td>\n",
              "      <td>0.0</td>\n",
              "    </tr>\n",
              "    <tr>\n",
              "      <th>Mississauga East</th>\n",
              "      <td>0.0</td>\n",
              "      <td>0.0</td>\n",
              "      <td>0.0</td>\n",
              "      <td>406851.0</td>\n",
              "      <td>0.0</td>\n",
              "      <td>0.0</td>\n",
              "    </tr>\n",
              "    <tr>\n",
              "      <th>North Toronto</th>\n",
              "      <td>0.0</td>\n",
              "      <td>0.0</td>\n",
              "      <td>0.0</td>\n",
              "      <td>0.0</td>\n",
              "      <td>417190.0</td>\n",
              "      <td>0.0</td>\n",
              "    </tr>\n",
              "    <tr>\n",
              "      <th>North York</th>\n",
              "      <td>508686.0</td>\n",
              "      <td>0.0</td>\n",
              "      <td>0.0</td>\n",
              "      <td>0.0</td>\n",
              "      <td>0.0</td>\n",
              "      <td>0.0</td>\n",
              "    </tr>\n",
              "    <tr>\n",
              "      <th>Scarborough East</th>\n",
              "      <td>0.0</td>\n",
              "      <td>445900.0</td>\n",
              "      <td>0.0</td>\n",
              "      <td>0.0</td>\n",
              "      <td>0.0</td>\n",
              "      <td>0.0</td>\n",
              "    </tr>\n",
              "    <tr>\n",
              "      <th rowspan=\"7\" valign=\"top\">2023</th>\n",
              "      <th>Downtown Toronto</th>\n",
              "      <td>0.0</td>\n",
              "      <td>0.0</td>\n",
              "      <td>0.0</td>\n",
              "      <td>0.0</td>\n",
              "      <td>412506.0</td>\n",
              "      <td>0.0</td>\n",
              "    </tr>\n",
              "    <tr>\n",
              "      <th>East York</th>\n",
              "      <td>285828.0</td>\n",
              "      <td>0.0</td>\n",
              "      <td>0.0</td>\n",
              "      <td>0.0</td>\n",
              "      <td>0.0</td>\n",
              "      <td>0.0</td>\n",
              "    </tr>\n",
              "    <tr>\n",
              "      <th>Etobicoke</th>\n",
              "      <td>0.0</td>\n",
              "      <td>0.0</td>\n",
              "      <td>296583.0</td>\n",
              "      <td>0.0</td>\n",
              "      <td>178929.0</td>\n",
              "      <td>0.0</td>\n",
              "    </tr>\n",
              "    <tr>\n",
              "      <th>Mississauga East</th>\n",
              "      <td>0.0</td>\n",
              "      <td>0.0</td>\n",
              "      <td>0.0</td>\n",
              "      <td>422397.0</td>\n",
              "      <td>0.0</td>\n",
              "      <td>0.0</td>\n",
              "    </tr>\n",
              "    <tr>\n",
              "      <th>North Toronto</th>\n",
              "      <td>0.0</td>\n",
              "      <td>0.0</td>\n",
              "      <td>0.0</td>\n",
              "      <td>0.0</td>\n",
              "      <td>433025.0</td>\n",
              "      <td>0.0</td>\n",
              "    </tr>\n",
              "    <tr>\n",
              "      <th>North York</th>\n",
              "      <td>528427.0</td>\n",
              "      <td>0.0</td>\n",
              "      <td>0.0</td>\n",
              "      <td>0.0</td>\n",
              "      <td>0.0</td>\n",
              "      <td>0.0</td>\n",
              "    </tr>\n",
              "    <tr>\n",
              "      <th>Scarborough East</th>\n",
              "      <td>0.0</td>\n",
              "      <td>462885.0</td>\n",
              "      <td>0.0</td>\n",
              "      <td>0.0</td>\n",
              "      <td>0.0</td>\n",
              "      <td>0.0</td>\n",
              "    </tr>\n",
              "    <tr>\n",
              "      <th rowspan=\"7\" valign=\"top\">2024</th>\n",
              "      <th>Downtown Toronto</th>\n",
              "      <td>0.0</td>\n",
              "      <td>0.0</td>\n",
              "      <td>0.0</td>\n",
              "      <td>0.0</td>\n",
              "      <td>427718.0</td>\n",
              "      <td>0.0</td>\n",
              "    </tr>\n",
              "    <tr>\n",
              "      <th>East York</th>\n",
              "      <td>296405.0</td>\n",
              "      <td>0.0</td>\n",
              "      <td>0.0</td>\n",
              "      <td>0.0</td>\n",
              "      <td>0.0</td>\n",
              "      <td>0.0</td>\n",
              "    </tr>\n",
              "    <tr>\n",
              "      <th>Etobicoke</th>\n",
              "      <td>0.0</td>\n",
              "      <td>0.0</td>\n",
              "      <td>296583.0</td>\n",
              "      <td>0.0</td>\n",
              "      <td>196634.0</td>\n",
              "      <td>0.0</td>\n",
              "    </tr>\n",
              "    <tr>\n",
              "      <th>Mississauga East</th>\n",
              "      <td>0.0</td>\n",
              "      <td>0.0</td>\n",
              "      <td>0.0</td>\n",
              "      <td>437943.0</td>\n",
              "      <td>0.0</td>\n",
              "      <td>0.0</td>\n",
              "    </tr>\n",
              "    <tr>\n",
              "      <th>North Toronto</th>\n",
              "      <td>0.0</td>\n",
              "      <td>0.0</td>\n",
              "      <td>0.0</td>\n",
              "      <td>0.0</td>\n",
              "      <td>448859.0</td>\n",
              "      <td>0.0</td>\n",
              "    </tr>\n",
              "    <tr>\n",
              "      <th>North York</th>\n",
              "      <td>548169.0</td>\n",
              "      <td>0.0</td>\n",
              "      <td>0.0</td>\n",
              "      <td>0.0</td>\n",
              "      <td>0.0</td>\n",
              "      <td>0.0</td>\n",
              "    </tr>\n",
              "    <tr>\n",
              "      <th>Scarborough East</th>\n",
              "      <td>0.0</td>\n",
              "      <td>479871.0</td>\n",
              "      <td>0.0</td>\n",
              "      <td>0.0</td>\n",
              "      <td>0.0</td>\n",
              "      <td>0.0</td>\n",
              "    </tr>\n",
              "  </tbody>\n",
              "</table>\n",
              "</div>\n",
              "      <button class=\"colab-df-convert\" onclick=\"convertToInteractive('df-cba5b19a-e5a4-43fb-be02-a53e4f091b7c')\"\n",
              "              title=\"Convert this dataframe to an interactive table.\"\n",
              "              style=\"display:none;\">\n",
              "        \n",
              "  <svg xmlns=\"http://www.w3.org/2000/svg\" height=\"24px\"viewBox=\"0 0 24 24\"\n",
              "       width=\"24px\">\n",
              "    <path d=\"M0 0h24v24H0V0z\" fill=\"none\"/>\n",
              "    <path d=\"M18.56 5.44l.94 2.06.94-2.06 2.06-.94-2.06-.94-.94-2.06-.94 2.06-2.06.94zm-11 1L8.5 8.5l.94-2.06 2.06-.94-2.06-.94L8.5 2.5l-.94 2.06-2.06.94zm10 10l.94 2.06.94-2.06 2.06-.94-2.06-.94-.94-2.06-.94 2.06-2.06.94z\"/><path d=\"M17.41 7.96l-1.37-1.37c-.4-.4-.92-.59-1.43-.59-.52 0-1.04.2-1.43.59L10.3 9.45l-7.72 7.72c-.78.78-.78 2.05 0 2.83L4 21.41c.39.39.9.59 1.41.59.51 0 1.02-.2 1.41-.59l7.78-7.78 2.81-2.81c.8-.78.8-2.07 0-2.86zM5.41 20L4 18.59l7.72-7.72 1.47 1.35L5.41 20z\"/>\n",
              "  </svg>\n",
              "      </button>\n",
              "      \n",
              "  <style>\n",
              "    .colab-df-container {\n",
              "      display:flex;\n",
              "      flex-wrap:wrap;\n",
              "      gap: 12px;\n",
              "    }\n",
              "\n",
              "    .colab-df-convert {\n",
              "      background-color: #E8F0FE;\n",
              "      border: none;\n",
              "      border-radius: 50%;\n",
              "      cursor: pointer;\n",
              "      display: none;\n",
              "      fill: #1967D2;\n",
              "      height: 32px;\n",
              "      padding: 0 0 0 0;\n",
              "      width: 32px;\n",
              "    }\n",
              "\n",
              "    .colab-df-convert:hover {\n",
              "      background-color: #E2EBFA;\n",
              "      box-shadow: 0px 1px 2px rgba(60, 64, 67, 0.3), 0px 1px 3px 1px rgba(60, 64, 67, 0.15);\n",
              "      fill: #174EA6;\n",
              "    }\n",
              "\n",
              "    [theme=dark] .colab-df-convert {\n",
              "      background-color: #3B4455;\n",
              "      fill: #D2E3FC;\n",
              "    }\n",
              "\n",
              "    [theme=dark] .colab-df-convert:hover {\n",
              "      background-color: #434B5C;\n",
              "      box-shadow: 0px 1px 3px 1px rgba(0, 0, 0, 0.15);\n",
              "      filter: drop-shadow(0px 1px 2px rgba(0, 0, 0, 0.3));\n",
              "      fill: #FFFFFF;\n",
              "    }\n",
              "  </style>\n",
              "\n",
              "      <script>\n",
              "        const buttonEl =\n",
              "          document.querySelector('#df-cba5b19a-e5a4-43fb-be02-a53e4f091b7c button.colab-df-convert');\n",
              "        buttonEl.style.display =\n",
              "          google.colab.kernel.accessAllowed ? 'block' : 'none';\n",
              "\n",
              "        async function convertToInteractive(key) {\n",
              "          const element = document.querySelector('#df-cba5b19a-e5a4-43fb-be02-a53e4f091b7c');\n",
              "          const dataTable =\n",
              "            await google.colab.kernel.invokeFunction('convertToInteractive',\n",
              "                                                     [key], {});\n",
              "          if (!dataTable) return;\n",
              "\n",
              "          const docLinkHtml = 'Like what you see? Visit the ' +\n",
              "            '<a target=\"_blank\" href=https://colab.research.google.com/notebooks/data_table.ipynb>data table notebook</a>'\n",
              "            + ' to learn more about interactive tables.';\n",
              "          element.innerHTML = '';\n",
              "          dataTable['output_type'] = 'display_data';\n",
              "          await google.colab.output.renderOutput(dataTable, element);\n",
              "          const docLink = document.createElement('div');\n",
              "          docLink.innerHTML = docLinkHtml;\n",
              "          element.appendChild(docLink);\n",
              "        }\n",
              "      </script>\n",
              "    </div>\n",
              "  </div>\n",
              "  "
            ],
            "text/plain": [
              "                         Served                                          \\\n",
              "Center                 Center A  Center B  Center C  Center D  Center E   \n",
              "Year Region                                                               \n",
              "2022 Downtown Toronto       0.0       0.0       0.0       0.0  397295.0   \n",
              "     East York         275250.0       0.0       0.0       0.0       0.0   \n",
              "     Etobicoke              0.0    4100.0  296583.0   15546.0  141579.0   \n",
              "     Mississauga East       0.0       0.0       0.0  406851.0       0.0   \n",
              "     North Toronto          0.0       0.0       0.0       0.0  417190.0   \n",
              "     North York        508686.0       0.0       0.0       0.0       0.0   \n",
              "     Scarborough East       0.0  445900.0       0.0       0.0       0.0   \n",
              "2023 Downtown Toronto       0.0       0.0       0.0       0.0  412506.0   \n",
              "     East York         285828.0       0.0       0.0       0.0       0.0   \n",
              "     Etobicoke              0.0       0.0  296583.0       0.0  178929.0   \n",
              "     Mississauga East       0.0       0.0       0.0  422397.0       0.0   \n",
              "     North Toronto          0.0       0.0       0.0       0.0  433025.0   \n",
              "     North York        528427.0       0.0       0.0       0.0       0.0   \n",
              "     Scarborough East       0.0  462885.0       0.0       0.0       0.0   \n",
              "2024 Downtown Toronto       0.0       0.0       0.0       0.0  427718.0   \n",
              "     East York         296405.0       0.0       0.0       0.0       0.0   \n",
              "     Etobicoke              0.0       0.0  296583.0       0.0  196634.0   \n",
              "     Mississauga East       0.0       0.0       0.0  437943.0       0.0   \n",
              "     North Toronto          0.0       0.0       0.0       0.0  448859.0   \n",
              "     North York        548169.0       0.0       0.0       0.0       0.0   \n",
              "     Scarborough East       0.0  479871.0       0.0       0.0       0.0   \n",
              "\n",
              "                                \n",
              "Center                Center F  \n",
              "Year Region                     \n",
              "2022 Downtown Toronto      0.0  \n",
              "     East York             0.0  \n",
              "     Etobicoke             0.0  \n",
              "     Mississauga East      0.0  \n",
              "     North Toronto         0.0  \n",
              "     North York            0.0  \n",
              "     Scarborough East      0.0  \n",
              "2023 Downtown Toronto      0.0  \n",
              "     East York             0.0  \n",
              "     Etobicoke             0.0  \n",
              "     Mississauga East      0.0  \n",
              "     North Toronto         0.0  \n",
              "     North York            0.0  \n",
              "     Scarborough East      0.0  \n",
              "2024 Downtown Toronto      0.0  \n",
              "     East York             0.0  \n",
              "     Etobicoke             0.0  \n",
              "     Mississauga East      0.0  \n",
              "     North Toronto         0.0  \n",
              "     North York            0.0  \n",
              "     Scarborough East      0.0  "
            ]
          },
          "metadata": {},
          "execution_count": 124
        }
      ]
    },
    {
      "cell_type": "code",
      "source": [
        "printTable2(wvar)"
      ],
      "metadata": {
        "colab": {
          "base_uri": "https://localhost:8080/",
          "height": 206
        },
        "id": "E2znh65jOvV_",
        "outputId": "d554fba2-7b9b-42ed-f2bd-5163e3de66d3"
      },
      "execution_count": 125,
      "outputs": [
        {
          "output_type": "execute_result",
          "data": {
            "text/html": [
              "\n",
              "  <div id=\"df-24407ab4-1861-4f80-8246-b90a06571583\">\n",
              "    <div class=\"colab-df-container\">\n",
              "      <div>\n",
              "<style scoped>\n",
              "    .dataframe tbody tr th:only-of-type {\n",
              "        vertical-align: middle;\n",
              "    }\n",
              "\n",
              "    .dataframe tbody tr th {\n",
              "        vertical-align: top;\n",
              "    }\n",
              "\n",
              "    .dataframe thead tr th {\n",
              "        text-align: left;\n",
              "    }\n",
              "\n",
              "    .dataframe thead tr:last-of-type th {\n",
              "        text-align: right;\n",
              "    }\n",
              "</style>\n",
              "<table border=\"1\" class=\"dataframe\">\n",
              "  <thead>\n",
              "    <tr>\n",
              "      <th></th>\n",
              "      <th colspan=\"6\" halign=\"left\">Total Health Professionals</th>\n",
              "    </tr>\n",
              "    <tr>\n",
              "      <th>Center</th>\n",
              "      <th>Center A</th>\n",
              "      <th>Center B</th>\n",
              "      <th>Center C</th>\n",
              "      <th>Center D</th>\n",
              "      <th>Center E</th>\n",
              "      <th>Center F</th>\n",
              "    </tr>\n",
              "    <tr>\n",
              "      <th>Year</th>\n",
              "      <th></th>\n",
              "      <th></th>\n",
              "      <th></th>\n",
              "      <th></th>\n",
              "      <th></th>\n",
              "      <th></th>\n",
              "    </tr>\n",
              "  </thead>\n",
              "  <tbody>\n",
              "    <tr>\n",
              "      <th>2022</th>\n",
              "      <td>522</td>\n",
              "      <td>300</td>\n",
              "      <td>197</td>\n",
              "      <td>281</td>\n",
              "      <td>637</td>\n",
              "      <td>0</td>\n",
              "    </tr>\n",
              "    <tr>\n",
              "      <th>2023</th>\n",
              "      <td>542</td>\n",
              "      <td>308</td>\n",
              "      <td>197</td>\n",
              "      <td>281</td>\n",
              "      <td>682</td>\n",
              "      <td>0</td>\n",
              "    </tr>\n",
              "    <tr>\n",
              "      <th>2024</th>\n",
              "      <td>563</td>\n",
              "      <td>319</td>\n",
              "      <td>197</td>\n",
              "      <td>291</td>\n",
              "      <td>715</td>\n",
              "      <td>0</td>\n",
              "    </tr>\n",
              "  </tbody>\n",
              "</table>\n",
              "</div>\n",
              "      <button class=\"colab-df-convert\" onclick=\"convertToInteractive('df-24407ab4-1861-4f80-8246-b90a06571583')\"\n",
              "              title=\"Convert this dataframe to an interactive table.\"\n",
              "              style=\"display:none;\">\n",
              "        \n",
              "  <svg xmlns=\"http://www.w3.org/2000/svg\" height=\"24px\"viewBox=\"0 0 24 24\"\n",
              "       width=\"24px\">\n",
              "    <path d=\"M0 0h24v24H0V0z\" fill=\"none\"/>\n",
              "    <path d=\"M18.56 5.44l.94 2.06.94-2.06 2.06-.94-2.06-.94-.94-2.06-.94 2.06-2.06.94zm-11 1L8.5 8.5l.94-2.06 2.06-.94-2.06-.94L8.5 2.5l-.94 2.06-2.06.94zm10 10l.94 2.06.94-2.06 2.06-.94-2.06-.94-.94-2.06-.94 2.06-2.06.94z\"/><path d=\"M17.41 7.96l-1.37-1.37c-.4-.4-.92-.59-1.43-.59-.52 0-1.04.2-1.43.59L10.3 9.45l-7.72 7.72c-.78.78-.78 2.05 0 2.83L4 21.41c.39.39.9.59 1.41.59.51 0 1.02-.2 1.41-.59l7.78-7.78 2.81-2.81c.8-.78.8-2.07 0-2.86zM5.41 20L4 18.59l7.72-7.72 1.47 1.35L5.41 20z\"/>\n",
              "  </svg>\n",
              "      </button>\n",
              "      \n",
              "  <style>\n",
              "    .colab-df-container {\n",
              "      display:flex;\n",
              "      flex-wrap:wrap;\n",
              "      gap: 12px;\n",
              "    }\n",
              "\n",
              "    .colab-df-convert {\n",
              "      background-color: #E8F0FE;\n",
              "      border: none;\n",
              "      border-radius: 50%;\n",
              "      cursor: pointer;\n",
              "      display: none;\n",
              "      fill: #1967D2;\n",
              "      height: 32px;\n",
              "      padding: 0 0 0 0;\n",
              "      width: 32px;\n",
              "    }\n",
              "\n",
              "    .colab-df-convert:hover {\n",
              "      background-color: #E2EBFA;\n",
              "      box-shadow: 0px 1px 2px rgba(60, 64, 67, 0.3), 0px 1px 3px 1px rgba(60, 64, 67, 0.15);\n",
              "      fill: #174EA6;\n",
              "    }\n",
              "\n",
              "    [theme=dark] .colab-df-convert {\n",
              "      background-color: #3B4455;\n",
              "      fill: #D2E3FC;\n",
              "    }\n",
              "\n",
              "    [theme=dark] .colab-df-convert:hover {\n",
              "      background-color: #434B5C;\n",
              "      box-shadow: 0px 1px 3px 1px rgba(0, 0, 0, 0.15);\n",
              "      filter: drop-shadow(0px 1px 2px rgba(0, 0, 0, 0.3));\n",
              "      fill: #FFFFFF;\n",
              "    }\n",
              "  </style>\n",
              "\n",
              "      <script>\n",
              "        const buttonEl =\n",
              "          document.querySelector('#df-24407ab4-1861-4f80-8246-b90a06571583 button.colab-df-convert');\n",
              "        buttonEl.style.display =\n",
              "          google.colab.kernel.accessAllowed ? 'block' : 'none';\n",
              "\n",
              "        async function convertToInteractive(key) {\n",
              "          const element = document.querySelector('#df-24407ab4-1861-4f80-8246-b90a06571583');\n",
              "          const dataTable =\n",
              "            await google.colab.kernel.invokeFunction('convertToInteractive',\n",
              "                                                     [key], {});\n",
              "          if (!dataTable) return;\n",
              "\n",
              "          const docLinkHtml = 'Like what you see? Visit the ' +\n",
              "            '<a target=\"_blank\" href=https://colab.research.google.com/notebooks/data_table.ipynb>data table notebook</a>'\n",
              "            + ' to learn more about interactive tables.';\n",
              "          element.innerHTML = '';\n",
              "          dataTable['output_type'] = 'display_data';\n",
              "          await google.colab.output.renderOutput(dataTable, element);\n",
              "          const docLink = document.createElement('div');\n",
              "          docLink.innerHTML = docLinkHtml;\n",
              "          element.appendChild(docLink);\n",
              "        }\n",
              "      </script>\n",
              "    </div>\n",
              "  </div>\n",
              "  "
            ],
            "text/plain": [
              "       Total Health Professionals                                             \n",
              "Center                   Center A Center B Center C Center D Center E Center F\n",
              "Year                                                                          \n",
              "2022                          522      300      197      281      637        0\n",
              "2023                          542      308      197      281      682        0\n",
              "2024                          563      319      197      291      715        0"
            ]
          },
          "metadata": {},
          "execution_count": 125
        }
      ]
    },
    {
      "cell_type": "code",
      "source": [
        "printTable3(hvar)"
      ],
      "metadata": {
        "colab": {
          "base_uri": "https://localhost:8080/",
          "height": 206
        },
        "id": "shjA2HGEPQpr",
        "outputId": "b85458f7-e905-499d-a77a-72cdffef1681"
      },
      "execution_count": 126,
      "outputs": [
        {
          "output_type": "execute_result",
          "data": {
            "text/html": [
              "\n",
              "  <div id=\"df-a7c95732-b663-4188-acf8-c7f819f2b45e\">\n",
              "    <div class=\"colab-df-container\">\n",
              "      <div>\n",
              "<style scoped>\n",
              "    .dataframe tbody tr th:only-of-type {\n",
              "        vertical-align: middle;\n",
              "    }\n",
              "\n",
              "    .dataframe tbody tr th {\n",
              "        vertical-align: top;\n",
              "    }\n",
              "\n",
              "    .dataframe thead tr th {\n",
              "        text-align: left;\n",
              "    }\n",
              "\n",
              "    .dataframe thead tr:last-of-type th {\n",
              "        text-align: right;\n",
              "    }\n",
              "</style>\n",
              "<table border=\"1\" class=\"dataframe\">\n",
              "  <thead>\n",
              "    <tr>\n",
              "      <th></th>\n",
              "      <th colspan=\"6\" halign=\"left\">New Hires</th>\n",
              "    </tr>\n",
              "    <tr>\n",
              "      <th>Center</th>\n",
              "      <th>Center A</th>\n",
              "      <th>Center B</th>\n",
              "      <th>Center C</th>\n",
              "      <th>Center D</th>\n",
              "      <th>Center E</th>\n",
              "      <th>Center F</th>\n",
              "    </tr>\n",
              "    <tr>\n",
              "      <th>Year</th>\n",
              "      <th></th>\n",
              "      <th></th>\n",
              "      <th></th>\n",
              "      <th></th>\n",
              "      <th></th>\n",
              "      <th></th>\n",
              "    </tr>\n",
              "  </thead>\n",
              "  <tbody>\n",
              "    <tr>\n",
              "      <th>2022</th>\n",
              "      <td>300</td>\n",
              "      <td>300</td>\n",
              "      <td>197</td>\n",
              "      <td>281</td>\n",
              "      <td>300</td>\n",
              "      <td>0</td>\n",
              "    </tr>\n",
              "    <tr>\n",
              "      <th>2023</th>\n",
              "      <td>20</td>\n",
              "      <td>8</td>\n",
              "      <td>0</td>\n",
              "      <td>0</td>\n",
              "      <td>45</td>\n",
              "      <td>0</td>\n",
              "    </tr>\n",
              "    <tr>\n",
              "      <th>2024</th>\n",
              "      <td>20</td>\n",
              "      <td>11</td>\n",
              "      <td>0</td>\n",
              "      <td>10</td>\n",
              "      <td>32</td>\n",
              "      <td>0</td>\n",
              "    </tr>\n",
              "  </tbody>\n",
              "</table>\n",
              "</div>\n",
              "      <button class=\"colab-df-convert\" onclick=\"convertToInteractive('df-a7c95732-b663-4188-acf8-c7f819f2b45e')\"\n",
              "              title=\"Convert this dataframe to an interactive table.\"\n",
              "              style=\"display:none;\">\n",
              "        \n",
              "  <svg xmlns=\"http://www.w3.org/2000/svg\" height=\"24px\"viewBox=\"0 0 24 24\"\n",
              "       width=\"24px\">\n",
              "    <path d=\"M0 0h24v24H0V0z\" fill=\"none\"/>\n",
              "    <path d=\"M18.56 5.44l.94 2.06.94-2.06 2.06-.94-2.06-.94-.94-2.06-.94 2.06-2.06.94zm-11 1L8.5 8.5l.94-2.06 2.06-.94-2.06-.94L8.5 2.5l-.94 2.06-2.06.94zm10 10l.94 2.06.94-2.06 2.06-.94-2.06-.94-.94-2.06-.94 2.06-2.06.94z\"/><path d=\"M17.41 7.96l-1.37-1.37c-.4-.4-.92-.59-1.43-.59-.52 0-1.04.2-1.43.59L10.3 9.45l-7.72 7.72c-.78.78-.78 2.05 0 2.83L4 21.41c.39.39.9.59 1.41.59.51 0 1.02-.2 1.41-.59l7.78-7.78 2.81-2.81c.8-.78.8-2.07 0-2.86zM5.41 20L4 18.59l7.72-7.72 1.47 1.35L5.41 20z\"/>\n",
              "  </svg>\n",
              "      </button>\n",
              "      \n",
              "  <style>\n",
              "    .colab-df-container {\n",
              "      display:flex;\n",
              "      flex-wrap:wrap;\n",
              "      gap: 12px;\n",
              "    }\n",
              "\n",
              "    .colab-df-convert {\n",
              "      background-color: #E8F0FE;\n",
              "      border: none;\n",
              "      border-radius: 50%;\n",
              "      cursor: pointer;\n",
              "      display: none;\n",
              "      fill: #1967D2;\n",
              "      height: 32px;\n",
              "      padding: 0 0 0 0;\n",
              "      width: 32px;\n",
              "    }\n",
              "\n",
              "    .colab-df-convert:hover {\n",
              "      background-color: #E2EBFA;\n",
              "      box-shadow: 0px 1px 2px rgba(60, 64, 67, 0.3), 0px 1px 3px 1px rgba(60, 64, 67, 0.15);\n",
              "      fill: #174EA6;\n",
              "    }\n",
              "\n",
              "    [theme=dark] .colab-df-convert {\n",
              "      background-color: #3B4455;\n",
              "      fill: #D2E3FC;\n",
              "    }\n",
              "\n",
              "    [theme=dark] .colab-df-convert:hover {\n",
              "      background-color: #434B5C;\n",
              "      box-shadow: 0px 1px 3px 1px rgba(0, 0, 0, 0.15);\n",
              "      filter: drop-shadow(0px 1px 2px rgba(0, 0, 0, 0.3));\n",
              "      fill: #FFFFFF;\n",
              "    }\n",
              "  </style>\n",
              "\n",
              "      <script>\n",
              "        const buttonEl =\n",
              "          document.querySelector('#df-a7c95732-b663-4188-acf8-c7f819f2b45e button.colab-df-convert');\n",
              "        buttonEl.style.display =\n",
              "          google.colab.kernel.accessAllowed ? 'block' : 'none';\n",
              "\n",
              "        async function convertToInteractive(key) {\n",
              "          const element = document.querySelector('#df-a7c95732-b663-4188-acf8-c7f819f2b45e');\n",
              "          const dataTable =\n",
              "            await google.colab.kernel.invokeFunction('convertToInteractive',\n",
              "                                                     [key], {});\n",
              "          if (!dataTable) return;\n",
              "\n",
              "          const docLinkHtml = 'Like what you see? Visit the ' +\n",
              "            '<a target=\"_blank\" href=https://colab.research.google.com/notebooks/data_table.ipynb>data table notebook</a>'\n",
              "            + ' to learn more about interactive tables.';\n",
              "          element.innerHTML = '';\n",
              "          dataTable['output_type'] = 'display_data';\n",
              "          await google.colab.output.renderOutput(dataTable, element);\n",
              "          const docLink = document.createElement('div');\n",
              "          docLink.innerHTML = docLinkHtml;\n",
              "          element.appendChild(docLink);\n",
              "        }\n",
              "      </script>\n",
              "    </div>\n",
              "  </div>\n",
              "  "
            ],
            "text/plain": [
              "       New Hires                                             \n",
              "Center  Center A Center B Center C Center D Center E Center F\n",
              "Year                                                         \n",
              "2022         300      300      197      281      300        0\n",
              "2023          20        8        0        0       45        0\n",
              "2024          20       11        0       10       32        0"
            ]
          },
          "metadata": {},
          "execution_count": 126
        }
      ]
    },
    {
      "cell_type": "markdown",
      "source": [
        "## Further Sensitivity Analysis"
      ],
      "metadata": {
        "id": "3m06Ng6STZK_"
      }
    },
    {
      "cell_type": "code",
      "source": [
        "word = 'Results'\n",
        "left = int((100-len(word))/2)\n",
        "print('#'*left, word, '#'*(100-left-len(word)))"
      ],
      "metadata": {
        "colab": {
          "base_uri": "https://localhost:8080/"
        },
        "id": "NzMKE5wD8Uc9",
        "outputId": "8d477e4e-9bf0-452b-bb62-275ed8561277"
      },
      "execution_count": 127,
      "outputs": [
        {
          "output_type": "stream",
          "name": "stdout",
          "text": [
            "############################################## Results ###############################################\n"
          ]
        }
      ]
    },
    {
      "cell_type": "markdown",
      "source": [
        "### Trade-off: Maximizing Profit vs. Meeting Demand"
      ],
      "metadata": {
        "id": "Jpya3nrbGtli"
      }
    },
    {
      "cell_type": "code",
      "source": [
        "def optimization(prop):\n",
        "\n",
        "  \"\"\"\n",
        "  Model 3 as a function.\n",
        "  prop: proportion of demand to be met\n",
        "  \"\"\"\n",
        "\n",
        "  ############################################# Variables ##############################################\n",
        "\n",
        "  # Variables: if a depot is opened/allocated\n",
        "  yvar = pulp.LpVariable.dict(\"y\", (depots, [2021]+periods), cat=pulp.LpBinary)\n",
        "\n",
        "  # Variables: amount of demand from each zone allocated to depot, per scenario\n",
        "  xvar = pulp.LpVariable.dict(\"x\", (depots, zones, periods), lowBound=0.0, cat=pulp.LpContinuous)\n",
        "\n",
        "  # Worker flow\n",
        "  wvar = pulp.LpVariable.dict(\"w\", (depots, [2021]+periods), lowBound=0, cat=pulp.LpContinuous)\n",
        "\n",
        "  # New hires\n",
        "  hvar = pulp.LpVariable.dict(\"h\", (depots, periods), lowBound=0, cat=pulp.LpContinuous)\n",
        "\n",
        "  ######################################## Model Initialization ########################################\n",
        "\n",
        "  # Initialize model and objective sense\n",
        "  locationModel = pulp.LpProblem(name=\"LocationModel\", sense=pulp.LpMinimize)\n",
        "\n",
        "  ############################################ Constraints #############################################\n",
        "\n",
        "  # Balance of flow constraints\n",
        "\n",
        "  for t in periods:\n",
        "\n",
        "    for j in zones:\n",
        "    # Contraint: demand must be satisfied in all scenarios\n",
        "      locationModel += (pulp.lpSum( [xvar[(i,j,t)] for i in depots] ) == prop*zonedemand[(j,t)])\n",
        "\n",
        "    for i in ['Center A', 'Center B', 'Center C', 'Center D']:\n",
        "      locationModel += ( yvar[(i, 2021)] == 1 )\n",
        "      locationModel += ( yvar[(i, t)] == 1 )\n",
        "    \n",
        "    for i in ['Center E', 'Center F']: \n",
        "      locationModel += ( yvar[(i, 2021)] == 0 )\n",
        "      locationModel += ( yvar[(i, t)] >= yvar[(i, t-1)] )\n",
        "\n",
        "    for i in depots:\n",
        "  \n",
        "    # Constraint: depot capacities must be observed in all scenarios\n",
        "      locationModel += pulp.lpSum( [xvar[(i,j,t)] for j in zones] ) <= depotcapacity[i] * yvar[(i,t)]\n",
        "\n",
        "    # Worker flow\n",
        "      if t == 2022:\n",
        "        locationModel += pulp.lpSum( [ wvar[(i,t-1)] for i in depots ] ) <= (total_workers)\n",
        "\n",
        "      numworkers = wvar[(i,t-1)] + hvar[(i,t)]\n",
        "      locationModel += (wvar[(i,t)] == numworkers)\n",
        "\n",
        "    # Capacity limited by workers\n",
        "      locationModel += pulp.lpSum( [xvar[(i,j,t)] for j in zones] ) <= 250 * 6 * wvar[(i,t)]\n",
        "\n",
        "    # Maximum number of hires\n",
        "      locationModel += pulp.lpSum( hvar[(i,t)] ) <= 300\n",
        "\n",
        "  ######################################### Objective Function #########################################\n",
        "\n",
        "  # Objective function\n",
        "\n",
        "  # Depot allocation costs\n",
        "  obj = pulp.lpSum([ depotcost_opening[i] * yvar[(i,2024)] for i in depots] )\n",
        "\n",
        "  for t in periods:\n",
        "    \n",
        "    # Distance costs\n",
        "    obj += pulp.lpSum( [ depotzonecost[(i,j)] * xvar[(i,j,t)] for i in depots for j in zones ] )\n",
        "\n",
        "    obj += pulp.lpSum([ depotcost_operating[i] * yvar[(i,t)] for i in depots] )\n",
        "\n",
        "    # Workers' pay\n",
        "    obj += pulp.lpSum( [ (37.85 * 250 * 6) * (1.025**(t-2022)) * wvar[(i,t)] for i in depots ] )\n",
        "\n",
        "    # Hiring costs\n",
        "    obj += pulp.lpSum( [ 15000 * hvar[(i,t)] for i in depots ] )\n",
        "\n",
        "  # Add objective to model\n",
        "  locationModel += obj\n",
        "\n",
        "  ############################################## Results ###############################################\n",
        "\n",
        "  locationModel.solve()\n",
        "  print(prop, \"| Status:\", pulp.LpStatus[locationModel.status])\n",
        "\n",
        "  total_cost = pulp.value(locationModel.objective)\n",
        "\n",
        "  total_revenue = 0\n",
        "  total_hires = 0\n",
        "  for t in periods:\n",
        "    for i in depots: \n",
        "      total_hires += hvar[(i,t)].varValue   \n",
        "      for j in zones:\n",
        "        total_revenue += (xvar[(i,j,t)].varValue)*42 \n",
        "\n",
        "  profit = total_revenue - total_cost\n",
        "\n",
        "  return round(profit, 2)/1e6, total_hires"
      ],
      "metadata": {
        "id": "JY6yJDetwNuZ"
      },
      "execution_count": 128,
      "outputs": []
    },
    {
      "cell_type": "code",
      "source": [
        "profitDict = {'Proportion':[], 'Profit':[], 'Hires':[]}\n",
        "for prop in np.arange(0.025, 1.05, 0.025):\n",
        "  profitDict['Proportion'].append(prop)\n",
        "  profit, total_hires = optimization(prop)\n",
        "  profitDict['Profit'].append(profit)\n",
        "  profitDict['Hires'].append(total_hires)"
      ],
      "metadata": {
        "colab": {
          "base_uri": "https://localhost:8080/"
        },
        "id": "4CcFV17J_cH2",
        "outputId": "c140e5c3-395a-469d-b839-0c97631eed09"
      },
      "execution_count": 129,
      "outputs": [
        {
          "output_type": "stream",
          "name": "stdout",
          "text": [
            "0.025 | Status: Optimal\n",
            "0.05 | Status: Optimal\n",
            "0.07500000000000001 | Status: Optimal\n",
            "0.1 | Status: Optimal\n",
            "0.125 | Status: Optimal\n",
            "0.15 | Status: Optimal\n",
            "0.17500000000000002 | Status: Optimal\n",
            "0.2 | Status: Optimal\n",
            "0.225 | Status: Optimal\n",
            "0.25 | Status: Optimal\n",
            "0.275 | Status: Optimal\n",
            "0.30000000000000004 | Status: Optimal\n",
            "0.32500000000000007 | Status: Optimal\n",
            "0.35000000000000003 | Status: Optimal\n",
            "0.37500000000000006 | Status: Optimal\n",
            "0.4 | Status: Optimal\n",
            "0.42500000000000004 | Status: Optimal\n",
            "0.45000000000000007 | Status: Optimal\n",
            "0.47500000000000003 | Status: Optimal\n",
            "0.5 | Status: Optimal\n",
            "0.525 | Status: Optimal\n",
            "0.55 | Status: Optimal\n",
            "0.5750000000000001 | Status: Optimal\n",
            "0.6000000000000001 | Status: Optimal\n",
            "0.6250000000000001 | Status: Optimal\n",
            "0.65 | Status: Optimal\n",
            "0.675 | Status: Optimal\n",
            "0.7000000000000001 | Status: Optimal\n",
            "0.7250000000000001 | Status: Optimal\n",
            "0.7500000000000001 | Status: Optimal\n",
            "0.775 | Status: Optimal\n",
            "0.8 | Status: Optimal\n",
            "0.8250000000000001 | Status: Optimal\n",
            "0.8500000000000001 | Status: Optimal\n",
            "0.8750000000000001 | Status: Optimal\n",
            "0.9 | Status: Optimal\n",
            "0.925 | Status: Optimal\n",
            "0.9500000000000001 | Status: Optimal\n",
            "0.9750000000000001 | Status: Optimal\n",
            "1.0 | Status: Optimal\n",
            "1.025 | Status: Optimal\n"
          ]
        }
      ]
    },
    {
      "cell_type": "code",
      "source": [
        "dfFinal = pd.DataFrame(profitDict)\n",
        "dfFinal.sort_values(by='Profit', ascending=False)"
      ],
      "metadata": {
        "id": "uMj6jLo2_vmW",
        "colab": {
          "base_uri": "https://localhost:8080/",
          "height": 1000
        },
        "outputId": "841a4d87-3a53-4bcc-ddf1-caa24f1990be"
      },
      "execution_count": 130,
      "outputs": [
        {
          "output_type": "execute_result",
          "data": {
            "text/html": [
              "\n",
              "  <div id=\"df-82882573-f206-4230-b785-4186d1a8c368\">\n",
              "    <div class=\"colab-df-container\">\n",
              "      <div>\n",
              "<style scoped>\n",
              "    .dataframe tbody tr th:only-of-type {\n",
              "        vertical-align: middle;\n",
              "    }\n",
              "\n",
              "    .dataframe tbody tr th {\n",
              "        vertical-align: top;\n",
              "    }\n",
              "\n",
              "    .dataframe thead th {\n",
              "        text-align: right;\n",
              "    }\n",
              "</style>\n",
              "<table border=\"1\" class=\"dataframe\">\n",
              "  <thead>\n",
              "    <tr style=\"text-align: right;\">\n",
              "      <th></th>\n",
              "      <th>Proportion</th>\n",
              "      <th>Profit</th>\n",
              "      <th>Hires</th>\n",
              "    </tr>\n",
              "  </thead>\n",
              "  <tbody>\n",
              "    <tr>\n",
              "      <th>11</th>\n",
              "      <td>0.300</td>\n",
              "      <td>0.454874</td>\n",
              "      <td>66.436400</td>\n",
              "    </tr>\n",
              "    <tr>\n",
              "      <th>10</th>\n",
              "      <td>0.275</td>\n",
              "      <td>0.387080</td>\n",
              "      <td>40.920367</td>\n",
              "    </tr>\n",
              "    <tr>\n",
              "      <th>12</th>\n",
              "      <td>0.325</td>\n",
              "      <td>0.122365</td>\n",
              "      <td>118.639434</td>\n",
              "    </tr>\n",
              "    <tr>\n",
              "      <th>9</th>\n",
              "      <td>0.250</td>\n",
              "      <td>-0.007654</td>\n",
              "      <td>37.200333</td>\n",
              "    </tr>\n",
              "    <tr>\n",
              "      <th>13</th>\n",
              "      <td>0.350</td>\n",
              "      <td>-0.210147</td>\n",
              "      <td>170.842466</td>\n",
              "    </tr>\n",
              "    <tr>\n",
              "      <th>8</th>\n",
              "      <td>0.225</td>\n",
              "      <td>-0.402389</td>\n",
              "      <td>33.480300</td>\n",
              "    </tr>\n",
              "    <tr>\n",
              "      <th>14</th>\n",
              "      <td>0.375</td>\n",
              "      <td>-0.542655</td>\n",
              "      <td>223.045500</td>\n",
              "    </tr>\n",
              "    <tr>\n",
              "      <th>7</th>\n",
              "      <td>0.200</td>\n",
              "      <td>-0.797124</td>\n",
              "      <td>29.760267</td>\n",
              "    </tr>\n",
              "    <tr>\n",
              "      <th>15</th>\n",
              "      <td>0.400</td>\n",
              "      <td>-0.875167</td>\n",
              "      <td>275.248534</td>\n",
              "    </tr>\n",
              "    <tr>\n",
              "      <th>6</th>\n",
              "      <td>0.175</td>\n",
              "      <td>-1.191858</td>\n",
              "      <td>26.040233</td>\n",
              "    </tr>\n",
              "    <tr>\n",
              "      <th>16</th>\n",
              "      <td>0.425</td>\n",
              "      <td>-1.207677</td>\n",
              "      <td>327.451566</td>\n",
              "    </tr>\n",
              "    <tr>\n",
              "      <th>17</th>\n",
              "      <td>0.450</td>\n",
              "      <td>-1.540188</td>\n",
              "      <td>379.654600</td>\n",
              "    </tr>\n",
              "    <tr>\n",
              "      <th>5</th>\n",
              "      <td>0.150</td>\n",
              "      <td>-1.586593</td>\n",
              "      <td>22.320200</td>\n",
              "    </tr>\n",
              "    <tr>\n",
              "      <th>18</th>\n",
              "      <td>0.475</td>\n",
              "      <td>-1.872697</td>\n",
              "      <td>431.857634</td>\n",
              "    </tr>\n",
              "    <tr>\n",
              "      <th>4</th>\n",
              "      <td>0.125</td>\n",
              "      <td>-1.981328</td>\n",
              "      <td>18.600167</td>\n",
              "    </tr>\n",
              "    <tr>\n",
              "      <th>19</th>\n",
              "      <td>0.500</td>\n",
              "      <td>-2.205210</td>\n",
              "      <td>484.060666</td>\n",
              "    </tr>\n",
              "    <tr>\n",
              "      <th>3</th>\n",
              "      <td>0.100</td>\n",
              "      <td>-2.376062</td>\n",
              "      <td>14.880133</td>\n",
              "    </tr>\n",
              "    <tr>\n",
              "      <th>20</th>\n",
              "      <td>0.525</td>\n",
              "      <td>-2.537720</td>\n",
              "      <td>536.263700</td>\n",
              "    </tr>\n",
              "    <tr>\n",
              "      <th>2</th>\n",
              "      <td>0.075</td>\n",
              "      <td>-2.770796</td>\n",
              "      <td>11.160100</td>\n",
              "    </tr>\n",
              "    <tr>\n",
              "      <th>21</th>\n",
              "      <td>0.550</td>\n",
              "      <td>-2.870230</td>\n",
              "      <td>588.466734</td>\n",
              "    </tr>\n",
              "    <tr>\n",
              "      <th>1</th>\n",
              "      <td>0.050</td>\n",
              "      <td>-2.971402</td>\n",
              "      <td>7.440067</td>\n",
              "    </tr>\n",
              "    <tr>\n",
              "      <th>0</th>\n",
              "      <td>0.025</td>\n",
              "      <td>-3.150701</td>\n",
              "      <td>3.720033</td>\n",
              "    </tr>\n",
              "    <tr>\n",
              "      <th>22</th>\n",
              "      <td>0.575</td>\n",
              "      <td>-3.202738</td>\n",
              "      <td>640.669766</td>\n",
              "    </tr>\n",
              "    <tr>\n",
              "      <th>23</th>\n",
              "      <td>0.600</td>\n",
              "      <td>-3.535251</td>\n",
              "      <td>692.872800</td>\n",
              "    </tr>\n",
              "    <tr>\n",
              "      <th>24</th>\n",
              "      <td>0.625</td>\n",
              "      <td>-3.867759</td>\n",
              "      <td>745.075834</td>\n",
              "    </tr>\n",
              "    <tr>\n",
              "      <th>25</th>\n",
              "      <td>0.650</td>\n",
              "      <td>-4.200272</td>\n",
              "      <td>797.278863</td>\n",
              "    </tr>\n",
              "    <tr>\n",
              "      <th>26</th>\n",
              "      <td>0.675</td>\n",
              "      <td>-4.532783</td>\n",
              "      <td>849.481900</td>\n",
              "    </tr>\n",
              "    <tr>\n",
              "      <th>27</th>\n",
              "      <td>0.700</td>\n",
              "      <td>-4.865293</td>\n",
              "      <td>901.684937</td>\n",
              "    </tr>\n",
              "    <tr>\n",
              "      <th>28</th>\n",
              "      <td>0.725</td>\n",
              "      <td>-5.197802</td>\n",
              "      <td>953.887966</td>\n",
              "    </tr>\n",
              "    <tr>\n",
              "      <th>29</th>\n",
              "      <td>0.750</td>\n",
              "      <td>-5.530314</td>\n",
              "      <td>1006.091000</td>\n",
              "    </tr>\n",
              "    <tr>\n",
              "      <th>30</th>\n",
              "      <td>0.775</td>\n",
              "      <td>-5.862823</td>\n",
              "      <td>1058.294034</td>\n",
              "    </tr>\n",
              "    <tr>\n",
              "      <th>31</th>\n",
              "      <td>0.800</td>\n",
              "      <td>-6.195335</td>\n",
              "      <td>1110.497066</td>\n",
              "    </tr>\n",
              "    <tr>\n",
              "      <th>32</th>\n",
              "      <td>0.825</td>\n",
              "      <td>-6.527845</td>\n",
              "      <td>1162.700100</td>\n",
              "    </tr>\n",
              "    <tr>\n",
              "      <th>33</th>\n",
              "      <td>0.850</td>\n",
              "      <td>-6.875770</td>\n",
              "      <td>1214.903134</td>\n",
              "    </tr>\n",
              "    <tr>\n",
              "      <th>34</th>\n",
              "      <td>0.875</td>\n",
              "      <td>-7.335138</td>\n",
              "      <td>1267.106166</td>\n",
              "    </tr>\n",
              "    <tr>\n",
              "      <th>35</th>\n",
              "      <td>0.900</td>\n",
              "      <td>-7.810790</td>\n",
              "      <td>1319.309200</td>\n",
              "    </tr>\n",
              "    <tr>\n",
              "      <th>36</th>\n",
              "      <td>0.925</td>\n",
              "      <td>-8.286440</td>\n",
              "      <td>1371.512234</td>\n",
              "    </tr>\n",
              "    <tr>\n",
              "      <th>37</th>\n",
              "      <td>0.950</td>\n",
              "      <td>-8.762092</td>\n",
              "      <td>1423.715266</td>\n",
              "    </tr>\n",
              "    <tr>\n",
              "      <th>38</th>\n",
              "      <td>0.975</td>\n",
              "      <td>-9.238817</td>\n",
              "      <td>1475.918300</td>\n",
              "    </tr>\n",
              "    <tr>\n",
              "      <th>39</th>\n",
              "      <td>1.000</td>\n",
              "      <td>-9.723959</td>\n",
              "      <td>1528.121334</td>\n",
              "    </tr>\n",
              "    <tr>\n",
              "      <th>40</th>\n",
              "      <td>1.025</td>\n",
              "      <td>-10.223036</td>\n",
              "      <td>1580.324366</td>\n",
              "    </tr>\n",
              "  </tbody>\n",
              "</table>\n",
              "</div>\n",
              "      <button class=\"colab-df-convert\" onclick=\"convertToInteractive('df-82882573-f206-4230-b785-4186d1a8c368')\"\n",
              "              title=\"Convert this dataframe to an interactive table.\"\n",
              "              style=\"display:none;\">\n",
              "        \n",
              "  <svg xmlns=\"http://www.w3.org/2000/svg\" height=\"24px\"viewBox=\"0 0 24 24\"\n",
              "       width=\"24px\">\n",
              "    <path d=\"M0 0h24v24H0V0z\" fill=\"none\"/>\n",
              "    <path d=\"M18.56 5.44l.94 2.06.94-2.06 2.06-.94-2.06-.94-.94-2.06-.94 2.06-2.06.94zm-11 1L8.5 8.5l.94-2.06 2.06-.94-2.06-.94L8.5 2.5l-.94 2.06-2.06.94zm10 10l.94 2.06.94-2.06 2.06-.94-2.06-.94-.94-2.06-.94 2.06-2.06.94z\"/><path d=\"M17.41 7.96l-1.37-1.37c-.4-.4-.92-.59-1.43-.59-.52 0-1.04.2-1.43.59L10.3 9.45l-7.72 7.72c-.78.78-.78 2.05 0 2.83L4 21.41c.39.39.9.59 1.41.59.51 0 1.02-.2 1.41-.59l7.78-7.78 2.81-2.81c.8-.78.8-2.07 0-2.86zM5.41 20L4 18.59l7.72-7.72 1.47 1.35L5.41 20z\"/>\n",
              "  </svg>\n",
              "      </button>\n",
              "      \n",
              "  <style>\n",
              "    .colab-df-container {\n",
              "      display:flex;\n",
              "      flex-wrap:wrap;\n",
              "      gap: 12px;\n",
              "    }\n",
              "\n",
              "    .colab-df-convert {\n",
              "      background-color: #E8F0FE;\n",
              "      border: none;\n",
              "      border-radius: 50%;\n",
              "      cursor: pointer;\n",
              "      display: none;\n",
              "      fill: #1967D2;\n",
              "      height: 32px;\n",
              "      padding: 0 0 0 0;\n",
              "      width: 32px;\n",
              "    }\n",
              "\n",
              "    .colab-df-convert:hover {\n",
              "      background-color: #E2EBFA;\n",
              "      box-shadow: 0px 1px 2px rgba(60, 64, 67, 0.3), 0px 1px 3px 1px rgba(60, 64, 67, 0.15);\n",
              "      fill: #174EA6;\n",
              "    }\n",
              "\n",
              "    [theme=dark] .colab-df-convert {\n",
              "      background-color: #3B4455;\n",
              "      fill: #D2E3FC;\n",
              "    }\n",
              "\n",
              "    [theme=dark] .colab-df-convert:hover {\n",
              "      background-color: #434B5C;\n",
              "      box-shadow: 0px 1px 3px 1px rgba(0, 0, 0, 0.15);\n",
              "      filter: drop-shadow(0px 1px 2px rgba(0, 0, 0, 0.3));\n",
              "      fill: #FFFFFF;\n",
              "    }\n",
              "  </style>\n",
              "\n",
              "      <script>\n",
              "        const buttonEl =\n",
              "          document.querySelector('#df-82882573-f206-4230-b785-4186d1a8c368 button.colab-df-convert');\n",
              "        buttonEl.style.display =\n",
              "          google.colab.kernel.accessAllowed ? 'block' : 'none';\n",
              "\n",
              "        async function convertToInteractive(key) {\n",
              "          const element = document.querySelector('#df-82882573-f206-4230-b785-4186d1a8c368');\n",
              "          const dataTable =\n",
              "            await google.colab.kernel.invokeFunction('convertToInteractive',\n",
              "                                                     [key], {});\n",
              "          if (!dataTable) return;\n",
              "\n",
              "          const docLinkHtml = 'Like what you see? Visit the ' +\n",
              "            '<a target=\"_blank\" href=https://colab.research.google.com/notebooks/data_table.ipynb>data table notebook</a>'\n",
              "            + ' to learn more about interactive tables.';\n",
              "          element.innerHTML = '';\n",
              "          dataTable['output_type'] = 'display_data';\n",
              "          await google.colab.output.renderOutput(dataTable, element);\n",
              "          const docLink = document.createElement('div');\n",
              "          docLink.innerHTML = docLinkHtml;\n",
              "          element.appendChild(docLink);\n",
              "        }\n",
              "      </script>\n",
              "    </div>\n",
              "  </div>\n",
              "  "
            ],
            "text/plain": [
              "    Proportion     Profit        Hires\n",
              "11       0.300   0.454874    66.436400\n",
              "10       0.275   0.387080    40.920367\n",
              "12       0.325   0.122365   118.639434\n",
              "9        0.250  -0.007654    37.200333\n",
              "13       0.350  -0.210147   170.842466\n",
              "8        0.225  -0.402389    33.480300\n",
              "14       0.375  -0.542655   223.045500\n",
              "7        0.200  -0.797124    29.760267\n",
              "15       0.400  -0.875167   275.248534\n",
              "6        0.175  -1.191858    26.040233\n",
              "16       0.425  -1.207677   327.451566\n",
              "17       0.450  -1.540188   379.654600\n",
              "5        0.150  -1.586593    22.320200\n",
              "18       0.475  -1.872697   431.857634\n",
              "4        0.125  -1.981328    18.600167\n",
              "19       0.500  -2.205210   484.060666\n",
              "3        0.100  -2.376062    14.880133\n",
              "20       0.525  -2.537720   536.263700\n",
              "2        0.075  -2.770796    11.160100\n",
              "21       0.550  -2.870230   588.466734\n",
              "1        0.050  -2.971402     7.440067\n",
              "0        0.025  -3.150701     3.720033\n",
              "22       0.575  -3.202738   640.669766\n",
              "23       0.600  -3.535251   692.872800\n",
              "24       0.625  -3.867759   745.075834\n",
              "25       0.650  -4.200272   797.278863\n",
              "26       0.675  -4.532783   849.481900\n",
              "27       0.700  -4.865293   901.684937\n",
              "28       0.725  -5.197802   953.887966\n",
              "29       0.750  -5.530314  1006.091000\n",
              "30       0.775  -5.862823  1058.294034\n",
              "31       0.800  -6.195335  1110.497066\n",
              "32       0.825  -6.527845  1162.700100\n",
              "33       0.850  -6.875770  1214.903134\n",
              "34       0.875  -7.335138  1267.106166\n",
              "35       0.900  -7.810790  1319.309200\n",
              "36       0.925  -8.286440  1371.512234\n",
              "37       0.950  -8.762092  1423.715266\n",
              "38       0.975  -9.238817  1475.918300\n",
              "39       1.000  -9.723959  1528.121334\n",
              "40       1.025 -10.223036  1580.324366"
            ]
          },
          "metadata": {},
          "execution_count": 130
        }
      ]
    },
    {
      "cell_type": "code",
      "source": [
        "from matplotlib.lines import Line2D\n",
        "\n",
        "plt.figure(figsize=(14,8))\n",
        "g = sns.lineplot(data=dfFinal, x='Proportion', y='Profit', marker='o', color='g',)\n",
        "sns.lineplot(data=dfFinal, x='Proportion', y='Hires', color='b', marker='o', ax=g.axes.twinx())\n",
        "g.legend(handles=[Line2D([], [], marker='o', color='g', label='Profit'),\n",
        "                  Line2D([], [], marker='o', color='b', label='New Hires')], \n",
        "         loc='upper left', fontsize='medium', framealpha=1)\n",
        "plt.show()"
      ],
      "metadata": {
        "colab": {
          "base_uri": "https://localhost:8080/",
          "height": 497
        },
        "id": "bzUXAqxuD8AP",
        "outputId": "767d6f69-11cc-4569-b334-61980d53aad6"
      },
      "execution_count": 131,
      "outputs": [
        {
          "output_type": "display_data",
          "data": {
            "image/png": "[encoded data removed]",
            "text/plain": [
              "<Figure size 1008x576 with 2 Axes>"
            ]
          },
          "metadata": {
            "needs_background": "light"
          }
        }
      ]
    },
    {
      "cell_type": "markdown",
      "source": [
        "### Centers E, F: To Open or To Remain Closed?"
      ],
      "metadata": {
        "id": "q48fdGHnoq-D"
      }
    },
    {
      "cell_type": "markdown",
      "source": [
        "#### Case I: Maximizing Profits"
      ],
      "metadata": {
        "id": "PhDW-6MNH_5N"
      }
    },
    {
      "cell_type": "code",
      "source": [
        "def optimization_ef(e, f, prop):\n",
        "\n",
        "  \"\"\"\n",
        "  Model 3 as a function.\n",
        "  e: 0 -> Center E is closed, 1 -> Center E is open\n",
        "  f: 0 -> Center F is closed, 1 -> Center F is open\n",
        "  prop: proportion of demand to be met.\n",
        "  \"\"\"\n",
        "\n",
        "  ############################################# Variables ##############################################\n",
        "\n",
        "  # Variables: if a depot is opened/allocated\n",
        "  yvar = pulp.LpVariable.dict(\"y\", (depots, [2021]+periods), cat=pulp.LpBinary)\n",
        "\n",
        "  # Variables: amount of demand from each zone allocated to depot, per scenario\n",
        "  xvar = pulp.LpVariable.dict(\"x\", (depots, zones, periods), lowBound=0.0, cat=pulp.LpContinuous)\n",
        "\n",
        "  # Worker flow\n",
        "  wvar = pulp.LpVariable.dict(\"w\", (depots, [2021]+periods), lowBound=0, cat=pulp.LpContinuous)\n",
        "\n",
        "  # New hires\n",
        "  hvar = pulp.LpVariable.dict(\"h\", (depots, periods), lowBound=0, cat=pulp.LpContinuous)\n",
        "\n",
        "  ######################################## Model Initialization ########################################\n",
        "\n",
        "  # Initialize model and objective sense\n",
        "  locationModel = pulp.LpProblem(name=\"LocationModel\", sense=pulp.LpMaximize)\n",
        "\n",
        "  ############################################ Constraints #############################################\n",
        "\n",
        "  # Balance of flow constraints\n",
        "\n",
        "  for t in periods:\n",
        "\n",
        "    for j in zones:\n",
        "    # Contraint: demand must be satisfied in all scenarios\n",
        "      locationModel += (pulp.lpSum( [xvar[(i,j,t)] for i in depots] ) <= prop*zonedemand[(j,t)])\n",
        "\n",
        "    for i in ['Center A', 'Center B', 'Center C', 'Center D']:\n",
        "      locationModel += ( yvar[(i, 2021)] == 1 )\n",
        "      locationModel += ( yvar[(i, t)] == 1 )\n",
        "    \n",
        "    for i in ['Center E']: \n",
        "      locationModel += ( yvar[(i, 2021)] == 0 )\n",
        "      locationModel += ( yvar[(i, t)] == e )\n",
        "\n",
        "    for i in ['Center F']: \n",
        "      locationModel += ( yvar[(i, 2021)] == 0 )\n",
        "      locationModel += ( yvar[(i, t)] == f )\n",
        "\n",
        "    for i in depots:\n",
        "  \n",
        "    # Constraint: depot capacities must be observed in all scenarios\n",
        "      locationModel += pulp.lpSum( [xvar[(i,j,t)] for j in zones] ) <= depotcapacity[i] * yvar[(i,t)]\n",
        "\n",
        "    # Worker flow\n",
        "      if t == 2022:\n",
        "        locationModel += pulp.lpSum( [ wvar[(i,t-1)] for i in depots ] ) <= (total_workers)\n",
        "\n",
        "      numworkers = wvar[(i,t-1)] + hvar[(i,t)]\n",
        "      locationModel += (wvar[(i,t)] == numworkers)\n",
        "\n",
        "    # Capacity limited by workers\n",
        "      locationModel += pulp.lpSum( [xvar[(i,j,t)] for j in zones] ) <= 250 * 6 * wvar[(i,t)]\n",
        "\n",
        "    # Maximum number of hires\n",
        "      locationModel += pulp.lpSum( hvar[(i,t)] ) <= 300\n",
        "\n",
        "  ######################################### Objective Function #########################################\n",
        "\n",
        "  # Objective function\n",
        "\n",
        "  rate = 42 # amount reimbursed\n",
        "\n",
        "  # Depot allocation costs\n",
        "  obj = -( pulp.lpSum([ depotcost_opening[i] * yvar[(i,2024)] for i in depots] ) )\n",
        "\n",
        "  for t in periods:\n",
        "\n",
        "    # Revenue earned through reimbursement by the governement\n",
        "    obj += pulp.lpSum( [ rate * xvar[(i,j,t)] for i in depots for j in zones ] )\n",
        "    \n",
        "    # Distance costs\n",
        "    obj -= pulp.lpSum( [ depotzonecost[(i,j)] * xvar[(i,j,t)] for i in depots for j in zones ] )\n",
        "\n",
        "    obj -= pulp.lpSum([ depotcost_operating[i] * yvar[(i,t)] for i in depots] )\n",
        "\n",
        "    # Workers' pay\n",
        "    obj -= pulp.lpSum( [ (37.85 * 250 * 6) * (1.025**(t-2022)) * wvar[(i,t)] for i in depots ] )\n",
        "\n",
        "    # Hiring costs\n",
        "    obj -= pulp.lpSum( [ 15000 * hvar[(i,t)] for i in depots ] )\n",
        "\n",
        "  # Add objective to model\n",
        "  locationModel += obj\n",
        "\n",
        "  ############################################## Results ###############################################\n",
        "\n",
        "  locationModel.solve()\n",
        "  print(prop, \"| Status:\", pulp.LpStatus[locationModel.status])\n",
        "\n",
        "  total_profit = pulp.value(locationModel.objective)\n",
        "\n",
        "  total_revenue = 0\n",
        "  total_hires = 0\n",
        "  for t in periods:\n",
        "    for i in depots: \n",
        "      total_hires += hvar[(i,t)].varValue   \n",
        "      for j in zones:\n",
        "        total_revenue += (xvar[(i,j,t)].varValue)*42 \n",
        "\n",
        "  profit = total_profit\n",
        "\n",
        "  return round(profit, 2)/1e6, total_hires"
      ],
      "metadata": {
        "id": "r3ZTZK8DouyM"
      },
      "execution_count": 132,
      "outputs": []
    },
    {
      "cell_type": "markdown",
      "source": [
        "E: Closed, F: Closed"
      ],
      "metadata": {
        "id": "hOhizNJOouyM"
      }
    },
    {
      "cell_type": "code",
      "source": [
        "optimization_ef(0,0,1)"
      ],
      "metadata": {
        "colab": {
          "base_uri": "https://localhost:8080/"
        },
        "outputId": "999523a0-57fc-4dd8-97a4-35de4aa9524c",
        "id": "7UPsFOgWouyM"
      },
      "execution_count": 133,
      "outputs": [
        {
          "output_type": "stream",
          "name": "stdout",
          "text": [
            "1 | Status: Optimal\n"
          ]
        },
        {
          "output_type": "execute_result",
          "data": {
            "text/plain": [
              "(4.72357875, 0.0)"
            ]
          },
          "metadata": {},
          "execution_count": 133
        }
      ]
    },
    {
      "cell_type": "markdown",
      "source": [
        "E: Closed, F: Open"
      ],
      "metadata": {
        "id": "z69aM4-XouyN"
      }
    },
    {
      "cell_type": "code",
      "source": [
        "optimization_ef(0,1,1)"
      ],
      "metadata": {
        "colab": {
          "base_uri": "https://localhost:8080/"
        },
        "outputId": "5adedec3-eacf-4841-81dd-a962e748efa3",
        "id": "5mWk4cfmouyN"
      },
      "execution_count": 134,
      "outputs": [
        {
          "output_type": "stream",
          "name": "stdout",
          "text": [
            "1 | Status: Optimal\n"
          ]
        },
        {
          "output_type": "execute_result",
          "data": {
            "text/plain": [
              "(4.09857875, 0.0)"
            ]
          },
          "metadata": {},
          "execution_count": 134
        }
      ]
    },
    {
      "cell_type": "markdown",
      "source": [
        "E: Open, F: Closed"
      ],
      "metadata": {
        "id": "ig0r9MVYouyN"
      }
    },
    {
      "cell_type": "code",
      "source": [
        "optimization_ef(1,0,1)"
      ],
      "metadata": {
        "colab": {
          "base_uri": "https://localhost:8080/"
        },
        "outputId": "9d973409-c75e-4b84-f27c-ad2ed4e29123",
        "id": "UlWTitG4ouyN"
      },
      "execution_count": 135,
      "outputs": [
        {
          "output_type": "stream",
          "name": "stdout",
          "text": [
            "1 | Status: Optimal\n"
          ]
        },
        {
          "output_type": "execute_result",
          "data": {
            "text/plain": [
              "(4.09857875, 0.0)"
            ]
          },
          "metadata": {},
          "execution_count": 135
        }
      ]
    },
    {
      "cell_type": "markdown",
      "source": [
        "E: Open, F: Open"
      ],
      "metadata": {
        "id": "qnRP6YXcouyN"
      }
    },
    {
      "cell_type": "code",
      "source": [
        "optimization_ef(1,1,1)"
      ],
      "metadata": {
        "colab": {
          "base_uri": "https://localhost:8080/"
        },
        "outputId": "0c91119d-f40f-4943-8692-0db5454cea41",
        "id": "yE3tXo0fouyN"
      },
      "execution_count": 136,
      "outputs": [
        {
          "output_type": "stream",
          "name": "stdout",
          "text": [
            "1 | Status: Optimal\n"
          ]
        },
        {
          "output_type": "execute_result",
          "data": {
            "text/plain": [
              "(3.47357875, 0.0)"
            ]
          },
          "metadata": {},
          "execution_count": 136
        }
      ]
    },
    {
      "cell_type": "markdown",
      "source": [
        "#### Case II: Minimizing Costs - Meeting 100% Demand"
      ],
      "metadata": {
        "id": "0C-HG49MoooH"
      }
    },
    {
      "cell_type": "code",
      "source": [
        "def optimization_ef(e, f, prop):\n",
        "  \n",
        "  \"\"\"\n",
        "  Model 3 as a function.\n",
        "  e: 0 -> Center E is closed, 1 -> Center E is open\n",
        "  f: 0 -> Center F is closed, 1 -> Center F is open\n",
        "  prop: proportion of demand to be met.\n",
        "  \"\"\"\n",
        "\n",
        "  ############################################# Variables ##############################################\n",
        "\n",
        "  # Variables: if a depot is opened/allocated\n",
        "  yvar = pulp.LpVariable.dict(\"y\", (depots, [2021]+periods), cat=pulp.LpBinary)\n",
        "\n",
        "  # Variables: amount of demand from each zone allocated to depot, per scenario\n",
        "  xvar = pulp.LpVariable.dict(\"x\", (depots, zones, periods), lowBound=0.0, cat=pulp.LpContinuous)\n",
        "\n",
        "  # Worker flow\n",
        "  wvar = pulp.LpVariable.dict(\"w\", (depots, [2021]+periods), lowBound=0, cat=pulp.LpContinuous)\n",
        "\n",
        "  # New hires\n",
        "  hvar = pulp.LpVariable.dict(\"h\", (depots, periods), lowBound=0, cat=pulp.LpContinuous)\n",
        "\n",
        "  ######################################## Model Initialization ########################################\n",
        "\n",
        "  # Initialize model and objective sense\n",
        "  locationModel = pulp.LpProblem(name=\"LocationModel\", sense=pulp.LpMinimize)\n",
        "\n",
        "  ############################################ Constraints #############################################\n",
        "\n",
        "  # Balance of flow constraints\n",
        "\n",
        "  for t in periods:\n",
        "\n",
        "    for j in zones:\n",
        "    # Contraint: demand must be satisfied in all scenarios\n",
        "      locationModel += (pulp.lpSum( [xvar[(i,j,t)] for i in depots] ) == prop*zonedemand[(j,t)])\n",
        "\n",
        "    for i in ['Center A', 'Center B', 'Center C', 'Center D']:\n",
        "      locationModel += ( yvar[(i, 2021)] == 1 )\n",
        "      locationModel += ( yvar[(i, t)] == 1 )\n",
        "    \n",
        "    for i in ['Center E']: \n",
        "      locationModel += ( yvar[(i, 2021)] == 0 )\n",
        "      locationModel += ( yvar[(i, t)] == e )\n",
        "\n",
        "    for i in ['Center F']: \n",
        "      locationModel += ( yvar[(i, 2021)] == 0 )\n",
        "      locationModel += ( yvar[(i, t)] == f )\n",
        "\n",
        "    for i in depots:\n",
        "  \n",
        "    # Constraint: depot capacities must be observed in all scenarios\n",
        "      locationModel += pulp.lpSum( [xvar[(i,j,t)] for j in zones] ) <= depotcapacity[i] * yvar[(i,t)]\n",
        "\n",
        "    # Worker flow\n",
        "      if t == 2022:\n",
        "        locationModel += pulp.lpSum( [ wvar[(i,t-1)] for i in depots ] ) <= (total_workers)\n",
        "\n",
        "      numworkers = wvar[(i,t-1)] + hvar[(i,t)]\n",
        "      locationModel += (wvar[(i,t)] == numworkers)\n",
        "\n",
        "    # Capacity limited by workers\n",
        "      locationModel += pulp.lpSum( [xvar[(i,j,t)] for j in zones] ) <= 250 * 6 * wvar[(i,t)]\n",
        "\n",
        "    # Maximum number of hires\n",
        "      locationModel += pulp.lpSum( hvar[(i,t)] ) <= 300\n",
        "\n",
        "  ######################################### Objective Function #########################################\n",
        "\n",
        "  # Objective function\n",
        "\n",
        "  # Depot allocation costs\n",
        "  obj = pulp.lpSum([ depotcost_opening[i] * yvar[(i,2024)] for i in depots] )\n",
        "\n",
        "  for t in periods:\n",
        "    \n",
        "    # Distance costs\n",
        "    obj += pulp.lpSum( [ depotzonecost[(i,j)] * xvar[(i,j,t)] for i in depots for j in zones ] )\n",
        "\n",
        "    obj += pulp.lpSum([ depotcost_operating[i] * yvar[(i,t)] for i in depots] )\n",
        "\n",
        "    # Workers' pay\n",
        "    obj += pulp.lpSum( [ (37.85 * 250 * 6) * (1.025**(t-2022)) * wvar[(i,t)] for i in depots ] )\n",
        "\n",
        "    # Hiring costs\n",
        "    obj += pulp.lpSum( [ 15000 * hvar[(i,t)] for i in depots ] )\n",
        "\n",
        "  # Add objective to model\n",
        "  locationModel += obj\n",
        "\n",
        "  ############################################## Results ###############################################\n",
        "\n",
        "  locationModel.solve()\n",
        "  print(prop, \"| Status:\", pulp.LpStatus[locationModel.status])\n",
        "\n",
        "  total_cost = pulp.value(locationModel.objective)\n",
        "\n",
        "  total_revenue = 0\n",
        "  total_hires = 0\n",
        "  for t in periods:\n",
        "    for i in depots: \n",
        "      total_hires += hvar[(i,t)].varValue   \n",
        "      for j in zones:\n",
        "        total_revenue += (xvar[(i,j,t)].varValue)*42 \n",
        "\n",
        "  profit = total_revenue - total_cost\n",
        "\n",
        "  return round(profit, 2)/1e6, total_hires"
      ],
      "metadata": {
        "id": "iC5M81_nCLaU"
      },
      "execution_count": 137,
      "outputs": []
    },
    {
      "cell_type": "markdown",
      "source": [
        "E: Closed, F: Closed"
      ],
      "metadata": {
        "id": "O-zbZfqfGcNm"
      }
    },
    {
      "cell_type": "code",
      "source": [
        "optimization_ef(0,0,1)"
      ],
      "metadata": {
        "colab": {
          "base_uri": "https://localhost:8080/"
        },
        "id": "BHTZclyPGCVu",
        "outputId": "09c471e7-007b-407f-f23c-2f98f6246cc9"
      },
      "execution_count": 138,
      "outputs": [
        {
          "output_type": "stream",
          "name": "stdout",
          "text": [
            "1 | Status: Infeasible\n"
          ]
        },
        {
          "output_type": "execute_result",
          "data": {
            "text/plain": [
              "(-18.028717920000002, 1528.121333)"
            ]
          },
          "metadata": {},
          "execution_count": 138
        }
      ]
    },
    {
      "cell_type": "code",
      "source": [
        "optimization_ef(0,0,0.905)"
      ],
      "metadata": {
        "colab": {
          "base_uri": "https://localhost:8080/"
        },
        "id": "wW6JaZLvFToO",
        "outputId": "6e59091a-0726-416e-e12d-2f1df1cf2ce5"
      },
      "execution_count": 139,
      "outputs": [
        {
          "output_type": "stream",
          "name": "stdout",
          "text": [
            "0.905 | Status: Optimal\n"
          ]
        },
        {
          "output_type": "execute_result",
          "data": {
            "text/plain": [
              "(-15.2049105, 1329.749807)"
            ]
          },
          "metadata": {},
          "execution_count": 139
        }
      ]
    },
    {
      "cell_type": "markdown",
      "source": [
        "E: Closed, F: Open"
      ],
      "metadata": {
        "id": "j0MK5PRMGf3m"
      }
    },
    {
      "cell_type": "code",
      "source": [
        "optimization_ef(0,1,1)"
      ],
      "metadata": {
        "colab": {
          "base_uri": "https://localhost:8080/"
        },
        "outputId": "b68f94dc-2e6f-4068-d4e9-7d6d3dbd0a89",
        "id": "qluiptoCGf3m"
      },
      "execution_count": 140,
      "outputs": [
        {
          "output_type": "stream",
          "name": "stdout",
          "text": [
            "1 | Status: Optimal\n"
          ]
        },
        {
          "output_type": "execute_result",
          "data": {
            "text/plain": [
              "(-17.424819489999997, 1528.121333)"
            ]
          },
          "metadata": {},
          "execution_count": 140
        }
      ]
    },
    {
      "cell_type": "markdown",
      "source": [
        "E: Open, F: Closed"
      ],
      "metadata": {
        "id": "bwlO6dVDGqn0"
      }
    },
    {
      "cell_type": "code",
      "source": [
        "optimization_ef(1,0,1)"
      ],
      "metadata": {
        "colab": {
          "base_uri": "https://localhost:8080/"
        },
        "outputId": "a65ea0d7-a093-4d57-f665-8da57ea53203",
        "id": "VEclHLppGqn1"
      },
      "execution_count": 141,
      "outputs": [
        {
          "output_type": "stream",
          "name": "stdout",
          "text": [
            "1 | Status: Optimal\n"
          ]
        },
        {
          "output_type": "execute_result",
          "data": {
            "text/plain": [
              "(-9.723959449999999, 1528.121334)"
            ]
          },
          "metadata": {},
          "execution_count": 141
        }
      ]
    },
    {
      "cell_type": "markdown",
      "source": [
        "E: Open, F: Open"
      ],
      "metadata": {
        "id": "2VAutQUyGwKg"
      }
    },
    {
      "cell_type": "code",
      "source": [
        "optimization_ef(1,1,1)"
      ],
      "metadata": {
        "colab": {
          "base_uri": "https://localhost:8080/"
        },
        "outputId": "7838edfa-b98c-4f18-ce97-2843310d92c8",
        "id": "fvulOCLFGwKg"
      },
      "execution_count": 142,
      "outputs": [
        {
          "output_type": "stream",
          "name": "stdout",
          "text": [
            "1 | Status: Optimal\n"
          ]
        },
        {
          "output_type": "execute_result",
          "data": {
            "text/plain": [
              "(-10.03066843, 1528.1213340000002)"
            ]
          },
          "metadata": {},
          "execution_count": 142
        }
      ]
    },
    {
      "cell_type": "markdown",
      "source": [
        "### Demand: Robustness to Variation"
      ],
      "metadata": {
        "id": "_7K4Mn_WG7Hk"
      }
    },
    {
      "cell_type": "code",
      "source": [
        "profitDict = {'Proportion':[], 'Profit':[], 'Hires':[]}\n",
        "for prop in np.arange(1, 2.05, 0.025):\n",
        "  profitDict['Proportion'].append(prop)\n",
        "  profit, total_hires = optimization(prop)\n",
        "  profitDict['Profit'].append(profit)\n",
        "  profitDict['Hires'].append(total_hires)"
      ],
      "metadata": {
        "colab": {
          "base_uri": "https://localhost:8080/"
        },
        "id": "UbrOl9GbH67N",
        "outputId": "a78e4a0c-e38c-4341-c7d0-33a3ef6bb721"
      },
      "execution_count": 143,
      "outputs": [
        {
          "output_type": "stream",
          "name": "stdout",
          "text": [
            "1.0 | Status: Optimal\n",
            "1.025 | Status: Optimal\n",
            "1.0499999999999998 | Status: Optimal\n",
            "1.0749999999999997 | Status: Optimal\n",
            "1.0999999999999996 | Status: Optimal\n",
            "1.1249999999999996 | Status: Optimal\n",
            "1.1499999999999995 | Status: Optimal\n",
            "1.1749999999999994 | Status: Optimal\n",
            "1.1999999999999993 | Status: Optimal\n",
            "1.2249999999999992 | Status: Infeasible\n",
            "1.2499999999999991 | Status: Infeasible\n",
            "1.274999999999999 | Status: Infeasible\n",
            "1.299999999999999 | Status: Infeasible\n",
            "1.3249999999999988 | Status: Infeasible\n",
            "1.3499999999999988 | Status: Infeasible\n",
            "1.3749999999999987 | Status: Infeasible\n",
            "1.3999999999999986 | Status: Infeasible\n",
            "1.4249999999999985 | Status: Infeasible\n",
            "1.4499999999999984 | Status: Infeasible\n",
            "1.4749999999999983 | Status: Infeasible\n",
            "1.4999999999999982 | Status: Infeasible\n",
            "1.5249999999999981 | Status: Infeasible\n",
            "1.549999999999998 | Status: Infeasible\n",
            "1.574999999999998 | Status: Infeasible\n",
            "1.5999999999999979 | Status: Infeasible\n",
            "1.6249999999999978 | Status: Infeasible\n",
            "1.6499999999999977 | Status: Infeasible\n",
            "1.6749999999999976 | Status: Infeasible\n",
            "1.6999999999999975 | Status: Infeasible\n",
            "1.7249999999999974 | Status: Infeasible\n",
            "1.7499999999999973 | Status: Infeasible\n",
            "1.7749999999999972 | Status: Infeasible\n",
            "1.7999999999999972 | Status: Infeasible\n",
            "1.824999999999997 | Status: Infeasible\n",
            "1.849999999999997 | Status: Infeasible\n",
            "1.874999999999997 | Status: Infeasible\n",
            "1.8999999999999968 | Status: Infeasible\n",
            "1.9249999999999967 | Status: Infeasible\n",
            "1.9499999999999966 | Status: Infeasible\n",
            "1.9749999999999965 | Status: Infeasible\n",
            "1.9999999999999964 | Status: Infeasible\n",
            "2.0249999999999964 | Status: Infeasible\n"
          ]
        }
      ]
    },
    {
      "cell_type": "code",
      "source": [
        "dfFinal = pd.DataFrame(profitDict) \n",
        "dfFinal.sort_values(by='Proportion', ascending=True)"
      ],
      "metadata": {
        "colab": {
          "base_uri": "https://localhost:8080/",
          "height": 1000
        },
        "id": "6NjhasHvr94r",
        "outputId": "e394b4bd-36bc-4445-c0cd-97dde67e6088"
      },
      "execution_count": 144,
      "outputs": [
        {
          "output_type": "execute_result",
          "data": {
            "text/html": [
              "\n",
              "  <div id=\"df-78fbc81f-68f6-4bb9-8a80-b1b24cfe4870\">\n",
              "    <div class=\"colab-df-container\">\n",
              "      <div>\n",
              "<style scoped>\n",
              "    .dataframe tbody tr th:only-of-type {\n",
              "        vertical-align: middle;\n",
              "    }\n",
              "\n",
              "    .dataframe tbody tr th {\n",
              "        vertical-align: top;\n",
              "    }\n",
              "\n",
              "    .dataframe thead th {\n",
              "        text-align: right;\n",
              "    }\n",
              "</style>\n",
              "<table border=\"1\" class=\"dataframe\">\n",
              "  <thead>\n",
              "    <tr style=\"text-align: right;\">\n",
              "      <th></th>\n",
              "      <th>Proportion</th>\n",
              "      <th>Profit</th>\n",
              "      <th>Hires</th>\n",
              "    </tr>\n",
              "  </thead>\n",
              "  <tbody>\n",
              "    <tr>\n",
              "      <th>0</th>\n",
              "      <td>1.000</td>\n",
              "      <td>-9.723959</td>\n",
              "      <td>1528.121334</td>\n",
              "    </tr>\n",
              "    <tr>\n",
              "      <th>1</th>\n",
              "      <td>1.025</td>\n",
              "      <td>-10.223036</td>\n",
              "      <td>1580.324366</td>\n",
              "    </tr>\n",
              "    <tr>\n",
              "      <th>2</th>\n",
              "      <td>1.050</td>\n",
              "      <td>-10.730221</td>\n",
              "      <td>1632.527400</td>\n",
              "    </tr>\n",
              "    <tr>\n",
              "      <th>3</th>\n",
              "      <td>1.075</td>\n",
              "      <td>-11.424466</td>\n",
              "      <td>1684.730436</td>\n",
              "    </tr>\n",
              "    <tr>\n",
              "      <th>4</th>\n",
              "      <td>1.100</td>\n",
              "      <td>-12.098108</td>\n",
              "      <td>1736.933466</td>\n",
              "    </tr>\n",
              "    <tr>\n",
              "      <th>5</th>\n",
              "      <td>1.125</td>\n",
              "      <td>-12.920259</td>\n",
              "      <td>1789.136500</td>\n",
              "    </tr>\n",
              "    <tr>\n",
              "      <th>6</th>\n",
              "      <td>1.150</td>\n",
              "      <td>-13.776260</td>\n",
              "      <td>1841.339534</td>\n",
              "    </tr>\n",
              "    <tr>\n",
              "      <th>7</th>\n",
              "      <td>1.175</td>\n",
              "      <td>-14.632260</td>\n",
              "      <td>1893.542566</td>\n",
              "    </tr>\n",
              "    <tr>\n",
              "      <th>8</th>\n",
              "      <td>1.200</td>\n",
              "      <td>-15.488262</td>\n",
              "      <td>1945.745600</td>\n",
              "    </tr>\n",
              "    <tr>\n",
              "      <th>9</th>\n",
              "      <td>1.225</td>\n",
              "      <td>-15.249728</td>\n",
              "      <td>1997.948634</td>\n",
              "    </tr>\n",
              "    <tr>\n",
              "      <th>10</th>\n",
              "      <td>1.250</td>\n",
              "      <td>-16.102167</td>\n",
              "      <td>2050.151666</td>\n",
              "    </tr>\n",
              "    <tr>\n",
              "      <th>11</th>\n",
              "      <td>1.275</td>\n",
              "      <td>-16.954604</td>\n",
              "      <td>2102.354700</td>\n",
              "    </tr>\n",
              "    <tr>\n",
              "      <th>12</th>\n",
              "      <td>1.300</td>\n",
              "      <td>-17.842361</td>\n",
              "      <td>2154.557734</td>\n",
              "    </tr>\n",
              "    <tr>\n",
              "      <th>13</th>\n",
              "      <td>1.325</td>\n",
              "      <td>-18.742220</td>\n",
              "      <td>2206.760766</td>\n",
              "    </tr>\n",
              "    <tr>\n",
              "      <th>14</th>\n",
              "      <td>1.350</td>\n",
              "      <td>-19.642082</td>\n",
              "      <td>2258.963800</td>\n",
              "    </tr>\n",
              "    <tr>\n",
              "      <th>15</th>\n",
              "      <td>1.375</td>\n",
              "      <td>-20.541940</td>\n",
              "      <td>2311.166834</td>\n",
              "    </tr>\n",
              "    <tr>\n",
              "      <th>16</th>\n",
              "      <td>1.400</td>\n",
              "      <td>-21.462595</td>\n",
              "      <td>2363.369866</td>\n",
              "    </tr>\n",
              "    <tr>\n",
              "      <th>17</th>\n",
              "      <td>1.425</td>\n",
              "      <td>-22.445238</td>\n",
              "      <td>2415.572900</td>\n",
              "    </tr>\n",
              "    <tr>\n",
              "      <th>18</th>\n",
              "      <td>1.450</td>\n",
              "      <td>-23.466585</td>\n",
              "      <td>2467.775933</td>\n",
              "    </tr>\n",
              "    <tr>\n",
              "      <th>19</th>\n",
              "      <td>1.475</td>\n",
              "      <td>-24.487930</td>\n",
              "      <td>2519.978967</td>\n",
              "    </tr>\n",
              "    <tr>\n",
              "      <th>20</th>\n",
              "      <td>1.500</td>\n",
              "      <td>-25.512749</td>\n",
              "      <td>2572.182000</td>\n",
              "    </tr>\n",
              "    <tr>\n",
              "      <th>21</th>\n",
              "      <td>1.525</td>\n",
              "      <td>-26.545373</td>\n",
              "      <td>2624.385033</td>\n",
              "    </tr>\n",
              "    <tr>\n",
              "      <th>22</th>\n",
              "      <td>1.550</td>\n",
              "      <td>-27.586701</td>\n",
              "      <td>2676.588067</td>\n",
              "    </tr>\n",
              "    <tr>\n",
              "      <th>23</th>\n",
              "      <td>1.575</td>\n",
              "      <td>-28.632422</td>\n",
              "      <td>2728.791100</td>\n",
              "    </tr>\n",
              "    <tr>\n",
              "      <th>24</th>\n",
              "      <td>1.600</td>\n",
              "      <td>-28.680687</td>\n",
              "      <td>2780.994131</td>\n",
              "    </tr>\n",
              "    <tr>\n",
              "      <th>25</th>\n",
              "      <td>1.625</td>\n",
              "      <td>-29.605262</td>\n",
              "      <td>2833.197166</td>\n",
              "    </tr>\n",
              "    <tr>\n",
              "      <th>26</th>\n",
              "      <td>1.650</td>\n",
              "      <td>-30.548174</td>\n",
              "      <td>2885.400200</td>\n",
              "    </tr>\n",
              "    <tr>\n",
              "      <th>27</th>\n",
              "      <td>1.675</td>\n",
              "      <td>-31.525742</td>\n",
              "      <td>2937.603227</td>\n",
              "    </tr>\n",
              "    <tr>\n",
              "      <th>28</th>\n",
              "      <td>1.700</td>\n",
              "      <td>-32.514489</td>\n",
              "      <td>2989.806273</td>\n",
              "    </tr>\n",
              "    <tr>\n",
              "      <th>29</th>\n",
              "      <td>1.725</td>\n",
              "      <td>-35.098288</td>\n",
              "      <td>3042.009300</td>\n",
              "    </tr>\n",
              "    <tr>\n",
              "      <th>30</th>\n",
              "      <td>1.750</td>\n",
              "      <td>-34.569344</td>\n",
              "      <td>3094.212327</td>\n",
              "    </tr>\n",
              "    <tr>\n",
              "      <th>31</th>\n",
              "      <td>1.775</td>\n",
              "      <td>-35.644143</td>\n",
              "      <td>3146.415373</td>\n",
              "    </tr>\n",
              "    <tr>\n",
              "      <th>32</th>\n",
              "      <td>1.800</td>\n",
              "      <td>-36.719832</td>\n",
              "      <td>3198.618400</td>\n",
              "    </tr>\n",
              "    <tr>\n",
              "      <th>33</th>\n",
              "      <td>1.825</td>\n",
              "      <td>-37.795522</td>\n",
              "      <td>3250.821427</td>\n",
              "    </tr>\n",
              "    <tr>\n",
              "      <th>34</th>\n",
              "      <td>1.850</td>\n",
              "      <td>-38.871209</td>\n",
              "      <td>3303.024473</td>\n",
              "    </tr>\n",
              "    <tr>\n",
              "      <th>35</th>\n",
              "      <td>1.875</td>\n",
              "      <td>-39.946899</td>\n",
              "      <td>3355.227500</td>\n",
              "    </tr>\n",
              "    <tr>\n",
              "      <th>36</th>\n",
              "      <td>1.900</td>\n",
              "      <td>-41.024075</td>\n",
              "      <td>3407.430527</td>\n",
              "    </tr>\n",
              "    <tr>\n",
              "      <th>37</th>\n",
              "      <td>1.925</td>\n",
              "      <td>-44.474139</td>\n",
              "      <td>3459.633567</td>\n",
              "    </tr>\n",
              "    <tr>\n",
              "      <th>38</th>\n",
              "      <td>1.950</td>\n",
              "      <td>-45.679396</td>\n",
              "      <td>3511.836600</td>\n",
              "    </tr>\n",
              "    <tr>\n",
              "      <th>39</th>\n",
              "      <td>1.975</td>\n",
              "      <td>-46.884650</td>\n",
              "      <td>3564.039633</td>\n",
              "    </tr>\n",
              "    <tr>\n",
              "      <th>40</th>\n",
              "      <td>2.000</td>\n",
              "      <td>-48.089907</td>\n",
              "      <td>3616.242667</td>\n",
              "    </tr>\n",
              "    <tr>\n",
              "      <th>41</th>\n",
              "      <td>2.025</td>\n",
              "      <td>-49.295162</td>\n",
              "      <td>3668.445700</td>\n",
              "    </tr>\n",
              "  </tbody>\n",
              "</table>\n",
              "</div>\n",
              "      <button class=\"colab-df-convert\" onclick=\"convertToInteractive('df-78fbc81f-68f6-4bb9-8a80-b1b24cfe4870')\"\n",
              "              title=\"Convert this dataframe to an interactive table.\"\n",
              "              style=\"display:none;\">\n",
              "        \n",
              "  <svg xmlns=\"http://www.w3.org/2000/svg\" height=\"24px\"viewBox=\"0 0 24 24\"\n",
              "       width=\"24px\">\n",
              "    <path d=\"M0 0h24v24H0V0z\" fill=\"none\"/>\n",
              "    <path d=\"M18.56 5.44l.94 2.06.94-2.06 2.06-.94-2.06-.94-.94-2.06-.94 2.06-2.06.94zm-11 1L8.5 8.5l.94-2.06 2.06-.94-2.06-.94L8.5 2.5l-.94 2.06-2.06.94zm10 10l.94 2.06.94-2.06 2.06-.94-2.06-.94-.94-2.06-.94 2.06-2.06.94z\"/><path d=\"M17.41 7.96l-1.37-1.37c-.4-.4-.92-.59-1.43-.59-.52 0-1.04.2-1.43.59L10.3 9.45l-7.72 7.72c-.78.78-.78 2.05 0 2.83L4 21.41c.39.39.9.59 1.41.59.51 0 1.02-.2 1.41-.59l7.78-7.78 2.81-2.81c.8-.78.8-2.07 0-2.86zM5.41 20L4 18.59l7.72-7.72 1.47 1.35L5.41 20z\"/>\n",
              "  </svg>\n",
              "      </button>\n",
              "      \n",
              "  <style>\n",
              "    .colab-df-container {\n",
              "      display:flex;\n",
              "      flex-wrap:wrap;\n",
              "      gap: 12px;\n",
              "    }\n",
              "\n",
              "    .colab-df-convert {\n",
              "      background-color: #E8F0FE;\n",
              "      border: none;\n",
              "      border-radius: 50%;\n",
              "      cursor: pointer;\n",
              "      display: none;\n",
              "      fill: #1967D2;\n",
              "      height: 32px;\n",
              "      padding: 0 0 0 0;\n",
              "      width: 32px;\n",
              "    }\n",
              "\n",
              "    .colab-df-convert:hover {\n",
              "      background-color: #E2EBFA;\n",
              "      box-shadow: 0px 1px 2px rgba(60, 64, 67, 0.3), 0px 1px 3px 1px rgba(60, 64, 67, 0.15);\n",
              "      fill: #174EA6;\n",
              "    }\n",
              "\n",
              "    [theme=dark] .colab-df-convert {\n",
              "      background-color: #3B4455;\n",
              "      fill: #D2E3FC;\n",
              "    }\n",
              "\n",
              "    [theme=dark] .colab-df-convert:hover {\n",
              "      background-color: #434B5C;\n",
              "      box-shadow: 0px 1px 3px 1px rgba(0, 0, 0, 0.15);\n",
              "      filter: drop-shadow(0px 1px 2px rgba(0, 0, 0, 0.3));\n",
              "      fill: #FFFFFF;\n",
              "    }\n",
              "  </style>\n",
              "\n",
              "      <script>\n",
              "        const buttonEl =\n",
              "          document.querySelector('#df-78fbc81f-68f6-4bb9-8a80-b1b24cfe4870 button.colab-df-convert');\n",
              "        buttonEl.style.display =\n",
              "          google.colab.kernel.accessAllowed ? 'block' : 'none';\n",
              "\n",
              "        async function convertToInteractive(key) {\n",
              "          const element = document.querySelector('#df-78fbc81f-68f6-4bb9-8a80-b1b24cfe4870');\n",
              "          const dataTable =\n",
              "            await google.colab.kernel.invokeFunction('convertToInteractive',\n",
              "                                                     [key], {});\n",
              "          if (!dataTable) return;\n",
              "\n",
              "          const docLinkHtml = 'Like what you see? Visit the ' +\n",
              "            '<a target=\"_blank\" href=https://colab.research.google.com/notebooks/data_table.ipynb>data table notebook</a>'\n",
              "            + ' to learn more about interactive tables.';\n",
              "          element.innerHTML = '';\n",
              "          dataTable['output_type'] = 'display_data';\n",
              "          await google.colab.output.renderOutput(dataTable, element);\n",
              "          const docLink = document.createElement('div');\n",
              "          docLink.innerHTML = docLinkHtml;\n",
              "          element.appendChild(docLink);\n",
              "        }\n",
              "      </script>\n",
              "    </div>\n",
              "  </div>\n",
              "  "
            ],
            "text/plain": [
              "    Proportion     Profit        Hires\n",
              "0        1.000  -9.723959  1528.121334\n",
              "1        1.025 -10.223036  1580.324366\n",
              "2        1.050 -10.730221  1632.527400\n",
              "3        1.075 -11.424466  1684.730436\n",
              "4        1.100 -12.098108  1736.933466\n",
              "5        1.125 -12.920259  1789.136500\n",
              "6        1.150 -13.776260  1841.339534\n",
              "7        1.175 -14.632260  1893.542566\n",
              "8        1.200 -15.488262  1945.745600\n",
              "9        1.225 -15.249728  1997.948634\n",
              "10       1.250 -16.102167  2050.151666\n",
              "11       1.275 -16.954604  2102.354700\n",
              "12       1.300 -17.842361  2154.557734\n",
              "13       1.325 -18.742220  2206.760766\n",
              "14       1.350 -19.642082  2258.963800\n",
              "15       1.375 -20.541940  2311.166834\n",
              "16       1.400 -21.462595  2363.369866\n",
              "17       1.425 -22.445238  2415.572900\n",
              "18       1.450 -23.466585  2467.775933\n",
              "19       1.475 -24.487930  2519.978967\n",
              "20       1.500 -25.512749  2572.182000\n",
              "21       1.525 -26.545373  2624.385033\n",
              "22       1.550 -27.586701  2676.588067\n",
              "23       1.575 -28.632422  2728.791100\n",
              "24       1.600 -28.680687  2780.994131\n",
              "25       1.625 -29.605262  2833.197166\n",
              "26       1.650 -30.548174  2885.400200\n",
              "27       1.675 -31.525742  2937.603227\n",
              "28       1.700 -32.514489  2989.806273\n",
              "29       1.725 -35.098288  3042.009300\n",
              "30       1.750 -34.569344  3094.212327\n",
              "31       1.775 -35.644143  3146.415373\n",
              "32       1.800 -36.719832  3198.618400\n",
              "33       1.825 -37.795522  3250.821427\n",
              "34       1.850 -38.871209  3303.024473\n",
              "35       1.875 -39.946899  3355.227500\n",
              "36       1.900 -41.024075  3407.430527\n",
              "37       1.925 -44.474139  3459.633567\n",
              "38       1.950 -45.679396  3511.836600\n",
              "39       1.975 -46.884650  3564.039633\n",
              "40       2.000 -48.089907  3616.242667\n",
              "41       2.025 -49.295162  3668.445700"
            ]
          },
          "metadata": {},
          "execution_count": 144
        }
      ]
    },
    {
      "cell_type": "markdown",
      "source": [
        "### Health Professionals"
      ],
      "metadata": {
        "id": "HwBd_CCII09g"
      }
    },
    {
      "cell_type": "markdown",
      "source": [
        "#### Negotiate Wage"
      ],
      "metadata": {
        "id": "xojsTg_yI2x-"
      }
    },
    {
      "cell_type": "code",
      "source": [
        "def optimization_worker(wage=37.85, hiring_cost=15000, days=250, hour=6):\n",
        "  \n",
        "  \"\"\"\n",
        "  Model 3 as a function.\n",
        "  wage: hourly wage of a health professional\n",
        "  hiring_cost: one-time costs associated with a new health professional\n",
        "  days: number of working days for a health professional in a year\n",
        "  hour: average working hours in a day for a health professional\n",
        "  \"\"\"\n",
        "\n",
        "  ############################################# Variables ##############################################\n",
        "\n",
        "  # Variables: if a depot is opened/allocated\n",
        "  yvar = pulp.LpVariable.dict(\"y\", (depots, [2021]+periods), cat=pulp.LpBinary)\n",
        "\n",
        "  # Variables: amount of demand from each zone allocated to depot, per scenario\n",
        "  xvar = pulp.LpVariable.dict(\"x\", (depots, zones, periods), lowBound=0.0, cat=pulp.LpContinuous)\n",
        "\n",
        "  # Worker flow\n",
        "  wvar = pulp.LpVariable.dict(\"w\", (depots, [2021]+periods), lowBound=0, cat=pulp.LpContinuous)\n",
        "\n",
        "  # New hires\n",
        "  hvar = pulp.LpVariable.dict(\"h\", (depots, periods), lowBound=0, cat=pulp.LpContinuous)\n",
        "\n",
        "  ######################################## Model Initialization ########################################\n",
        "\n",
        "  # Initialize model and objective sense\n",
        "  locationModel = pulp.LpProblem(name=\"LocationModel\", sense=pulp.LpMinimize)\n",
        "\n",
        "  ############################################ Constraints #############################################\n",
        "\n",
        "  # Balance of flow constraints\n",
        "\n",
        "  for t in periods:\n",
        "\n",
        "    for j in zones:\n",
        "    # Contraint: demand must be satisfied in all scenarios\n",
        "      locationModel += (pulp.lpSum( [xvar[(i,j,t)] for i in depots] ) == zonedemand[(j,t)])\n",
        "\n",
        "    for i in ['Center A', 'Center B', 'Center C', 'Center D']:\n",
        "      locationModel += ( yvar[(i, 2021)] == 1 )\n",
        "      locationModel += ( yvar[(i, t)] == 1 )\n",
        "    \n",
        "    for i in ['Center E', 'Center F']: \n",
        "      locationModel += ( yvar[(i, 2021)] == 0 )\n",
        "      locationModel += ( yvar[(i, t)] >= yvar[(i, t-1)] )\n",
        "\n",
        "    for i in depots:\n",
        "  \n",
        "    # Constraint: depot capacities must be observed in all scenarios\n",
        "      locationModel += pulp.lpSum( [xvar[(i,j,t)] for j in zones] ) <= depotcapacity[i] * yvar[(i,t)]\n",
        "\n",
        "    # Worker flow\n",
        "      if t == 2022:\n",
        "        locationModel += pulp.lpSum( [ wvar[(i,t-1)] for i in depots ] ) <= (total_workers)\n",
        "\n",
        "      numworkers = wvar[(i,t-1)] + hvar[(i,t)]\n",
        "      locationModel += (wvar[(i,t)] == numworkers)\n",
        "\n",
        "    # Capacity limited by workers\n",
        "      locationModel += pulp.lpSum( [xvar[(i,j,t)] for j in zones] ) <= days * hour * wvar[(i,t)]\n",
        "\n",
        "    # Maximum number of hires\n",
        "      locationModel += pulp.lpSum( hvar[(i,t)] ) <= 300\n",
        "\n",
        "  ######################################### Objective Function #########################################\n",
        "\n",
        "  # Objective function\n",
        "\n",
        "  # Depot allocation costs\n",
        "  obj = pulp.lpSum([ depotcost_opening[i] * yvar[(i,2024)] for i in depots] )\n",
        "\n",
        "  for t in periods:\n",
        "    \n",
        "    # Distance costs\n",
        "    obj += pulp.lpSum( [ depotzonecost[(i,j)] * xvar[(i,j,t)] for i in depots for j in zones ] )\n",
        "\n",
        "    obj += pulp.lpSum([ depotcost_operating[i] * yvar[(i,t)] for i in depots] )\n",
        "\n",
        "    # Workers' pay\n",
        "    obj += pulp.lpSum( [ (wage * days * hour) * (1.025**(t-2022)) * wvar[(i,t)] for i in depots ] )\n",
        "\n",
        "    # Hiring costs\n",
        "    obj += pulp.lpSum( [ hiring_cost * hvar[(i,t)] for i in depots ] )\n",
        "\n",
        "  # Add objective to model\n",
        "  locationModel += obj\n",
        "\n",
        "  ############################################## Results ###############################################\n",
        "\n",
        "  locationModel.solve()\n",
        "  print(\"Status:\", pulp.LpStatus[locationModel.status])\n",
        "\n",
        "  total_cost = pulp.value(locationModel.objective)\n",
        "\n",
        "  total_revenue = 0\n",
        "  total_hires = 0\n",
        "  for t in periods:\n",
        "    for i in depots: \n",
        "      total_hires += hvar[(i,t)].varValue   \n",
        "      for j in zones:\n",
        "        total_revenue += (xvar[(i,j,t)].varValue)*42 \n",
        "\n",
        "  profit = total_revenue - total_cost\n",
        "\n",
        "  return round(profit, 2)/1e6"
      ],
      "metadata": {
        "id": "iqoPiG0EH_cc"
      },
      "execution_count": 145,
      "outputs": []
    },
    {
      "cell_type": "code",
      "source": [
        "profitDict = {'Wage':[], 'Profit':[]}\n",
        "wage = 37.85\n",
        "for w in np.arange(0.75, 1.25, 0.05)*wage:\n",
        "  profitDict['Wage'].append(w)\n",
        "  profit = optimization_worker(wage=w)\n",
        "  profitDict['Profit'].append(profit)\n",
        "\n",
        "dfFinal = pd.DataFrame(profitDict) \n",
        "dfFinal"
      ],
      "metadata": {
        "colab": {
          "base_uri": "https://localhost:8080/",
          "height": 536
        },
        "id": "jSwL_4wV6DyR",
        "outputId": "ab2cac1f-82c0-4e18-b10f-9f583ec1cc2f"
      },
      "execution_count": 146,
      "outputs": [
        {
          "output_type": "stream",
          "name": "stdout",
          "text": [
            "Status: Optimal\n",
            "Status: Optimal\n",
            "Status: Optimal\n",
            "Status: Optimal\n",
            "Status: Optimal\n",
            "Status: Optimal\n",
            "Status: Optimal\n",
            "Status: Optimal\n",
            "Status: Optimal\n",
            "Status: Optimal\n"
          ]
        },
        {
          "output_type": "execute_result",
          "data": {
            "text/html": [
              "\n",
              "  <div id=\"df-b313da53-0d29-423e-b4b9-9fcdfda74997\">\n",
              "    <div class=\"colab-df-container\">\n",
              "      <div>\n",
              "<style scoped>\n",
              "    .dataframe tbody tr th:only-of-type {\n",
              "        vertical-align: middle;\n",
              "    }\n",
              "\n",
              "    .dataframe tbody tr th {\n",
              "        vertical-align: top;\n",
              "    }\n",
              "\n",
              "    .dataframe thead th {\n",
              "        text-align: right;\n",
              "    }\n",
              "</style>\n",
              "<table border=\"1\" class=\"dataframe\">\n",
              "  <thead>\n",
              "    <tr style=\"text-align: right;\">\n",
              "      <th></th>\n",
              "      <th>Wage</th>\n",
              "      <th>Profit</th>\n",
              "    </tr>\n",
              "  </thead>\n",
              "  <tbody>\n",
              "    <tr>\n",
              "      <th>0</th>\n",
              "      <td>28.3875</td>\n",
              "      <td>78.237768</td>\n",
              "    </tr>\n",
              "    <tr>\n",
              "      <th>1</th>\n",
              "      <td>30.2800</td>\n",
              "      <td>60.645422</td>\n",
              "    </tr>\n",
              "    <tr>\n",
              "      <th>2</th>\n",
              "      <td>32.1725</td>\n",
              "      <td>43.053077</td>\n",
              "    </tr>\n",
              "    <tr>\n",
              "      <th>3</th>\n",
              "      <td>34.0650</td>\n",
              "      <td>25.460731</td>\n",
              "    </tr>\n",
              "    <tr>\n",
              "      <th>4</th>\n",
              "      <td>35.9575</td>\n",
              "      <td>7.868386</td>\n",
              "    </tr>\n",
              "    <tr>\n",
              "      <th>5</th>\n",
              "      <td>37.8500</td>\n",
              "      <td>-9.723959</td>\n",
              "    </tr>\n",
              "    <tr>\n",
              "      <th>6</th>\n",
              "      <td>39.7425</td>\n",
              "      <td>-27.316305</td>\n",
              "    </tr>\n",
              "    <tr>\n",
              "      <th>7</th>\n",
              "      <td>41.6350</td>\n",
              "      <td>-44.908650</td>\n",
              "    </tr>\n",
              "    <tr>\n",
              "      <th>8</th>\n",
              "      <td>43.5275</td>\n",
              "      <td>-62.500996</td>\n",
              "    </tr>\n",
              "    <tr>\n",
              "      <th>9</th>\n",
              "      <td>45.4200</td>\n",
              "      <td>-80.093341</td>\n",
              "    </tr>\n",
              "  </tbody>\n",
              "</table>\n",
              "</div>\n",
              "      <button class=\"colab-df-convert\" onclick=\"convertToInteractive('df-b313da53-0d29-423e-b4b9-9fcdfda74997')\"\n",
              "              title=\"Convert this dataframe to an interactive table.\"\n",
              "              style=\"display:none;\">\n",
              "        \n",
              "  <svg xmlns=\"http://www.w3.org/2000/svg\" height=\"24px\"viewBox=\"0 0 24 24\"\n",
              "       width=\"24px\">\n",
              "    <path d=\"M0 0h24v24H0V0z\" fill=\"none\"/>\n",
              "    <path d=\"M18.56 5.44l.94 2.06.94-2.06 2.06-.94-2.06-.94-.94-2.06-.94 2.06-2.06.94zm-11 1L8.5 8.5l.94-2.06 2.06-.94-2.06-.94L8.5 2.5l-.94 2.06-2.06.94zm10 10l.94 2.06.94-2.06 2.06-.94-2.06-.94-.94-2.06-.94 2.06-2.06.94z\"/><path d=\"M17.41 7.96l-1.37-1.37c-.4-.4-.92-.59-1.43-.59-.52 0-1.04.2-1.43.59L10.3 9.45l-7.72 7.72c-.78.78-.78 2.05 0 2.83L4 21.41c.39.39.9.59 1.41.59.51 0 1.02-.2 1.41-.59l7.78-7.78 2.81-2.81c.8-.78.8-2.07 0-2.86zM5.41 20L4 18.59l7.72-7.72 1.47 1.35L5.41 20z\"/>\n",
              "  </svg>\n",
              "      </button>\n",
              "      \n",
              "  <style>\n",
              "    .colab-df-container {\n",
              "      display:flex;\n",
              "      flex-wrap:wrap;\n",
              "      gap: 12px;\n",
              "    }\n",
              "\n",
              "    .colab-df-convert {\n",
              "      background-color: #E8F0FE;\n",
              "      border: none;\n",
              "      border-radius: 50%;\n",
              "      cursor: pointer;\n",
              "      display: none;\n",
              "      fill: #1967D2;\n",
              "      height: 32px;\n",
              "      padding: 0 0 0 0;\n",
              "      width: 32px;\n",
              "    }\n",
              "\n",
              "    .colab-df-convert:hover {\n",
              "      background-color: #E2EBFA;\n",
              "      box-shadow: 0px 1px 2px rgba(60, 64, 67, 0.3), 0px 1px 3px 1px rgba(60, 64, 67, 0.15);\n",
              "      fill: #174EA6;\n",
              "    }\n",
              "\n",
              "    [theme=dark] .colab-df-convert {\n",
              "      background-color: #3B4455;\n",
              "      fill: #D2E3FC;\n",
              "    }\n",
              "\n",
              "    [theme=dark] .colab-df-convert:hover {\n",
              "      background-color: #434B5C;\n",
              "      box-shadow: 0px 1px 3px 1px rgba(0, 0, 0, 0.15);\n",
              "      filter: drop-shadow(0px 1px 2px rgba(0, 0, 0, 0.3));\n",
              "      fill: #FFFFFF;\n",
              "    }\n",
              "  </style>\n",
              "\n",
              "      <script>\n",
              "        const buttonEl =\n",
              "          document.querySelector('#df-b313da53-0d29-423e-b4b9-9fcdfda74997 button.colab-df-convert');\n",
              "        buttonEl.style.display =\n",
              "          google.colab.kernel.accessAllowed ? 'block' : 'none';\n",
              "\n",
              "        async function convertToInteractive(key) {\n",
              "          const element = document.querySelector('#df-b313da53-0d29-423e-b4b9-9fcdfda74997');\n",
              "          const dataTable =\n",
              "            await google.colab.kernel.invokeFunction('convertToInteractive',\n",
              "                                                     [key], {});\n",
              "          if (!dataTable) return;\n",
              "\n",
              "          const docLinkHtml = 'Like what you see? Visit the ' +\n",
              "            '<a target=\"_blank\" href=https://colab.research.google.com/notebooks/data_table.ipynb>data table notebook</a>'\n",
              "            + ' to learn more about interactive tables.';\n",
              "          element.innerHTML = '';\n",
              "          dataTable['output_type'] = 'display_data';\n",
              "          await google.colab.output.renderOutput(dataTable, element);\n",
              "          const docLink = document.createElement('div');\n",
              "          docLink.innerHTML = docLinkHtml;\n",
              "          element.appendChild(docLink);\n",
              "        }\n",
              "      </script>\n",
              "    </div>\n",
              "  </div>\n",
              "  "
            ],
            "text/plain": [
              "      Wage     Profit\n",
              "0  28.3875  78.237768\n",
              "1  30.2800  60.645422\n",
              "2  32.1725  43.053077\n",
              "3  34.0650  25.460731\n",
              "4  35.9575   7.868386\n",
              "5  37.8500  -9.723959\n",
              "6  39.7425 -27.316305\n",
              "7  41.6350 -44.908650\n",
              "8  43.5275 -62.500996\n",
              "9  45.4200 -80.093341"
            ]
          },
          "metadata": {},
          "execution_count": 146
        }
      ]
    },
    {
      "cell_type": "markdown",
      "source": [
        "#### Varying Hiring Costs"
      ],
      "metadata": {
        "id": "KU71q13OJCDV"
      }
    },
    {
      "cell_type": "code",
      "source": [
        "profitDict = {'Hiring Cost':[], 'Profit':[]}\n",
        "hiring_cost = 15000\n",
        "for hc in np.arange(0.50, 1.5, 0.05)*hiring_cost:\n",
        "  profitDict['Hiring Cost'].append(hc)\n",
        "  profit = optimization_worker(hiring_cost=hc)\n",
        "  profitDict['Profit'].append(profit)\n",
        "\n",
        "dfFinal = pd.DataFrame(profitDict) \n",
        "dfFinal"
      ],
      "metadata": {
        "colab": {
          "base_uri": "https://localhost:8080/",
          "height": 1000
        },
        "id": "5ZTE4qWi9xP4",
        "outputId": "3255c10f-4410-4b29-83f3-29d106ee34a1"
      },
      "execution_count": 147,
      "outputs": [
        {
          "output_type": "stream",
          "name": "stdout",
          "text": [
            "Status: Optimal\n",
            "Status: Optimal\n",
            "Status: Optimal\n",
            "Status: Optimal\n",
            "Status: Optimal\n",
            "Status: Optimal\n",
            "Status: Optimal\n",
            "Status: Optimal\n",
            "Status: Optimal\n",
            "Status: Optimal\n",
            "Status: Optimal\n",
            "Status: Optimal\n",
            "Status: Optimal\n",
            "Status: Optimal\n",
            "Status: Optimal\n",
            "Status: Optimal\n",
            "Status: Optimal\n",
            "Status: Optimal\n",
            "Status: Optimal\n",
            "Status: Optimal\n"
          ]
        },
        {
          "output_type": "execute_result",
          "data": {
            "text/html": [
              "\n",
              "  <div id=\"df-96935cf9-16b0-45ae-a4fb-2d8d2c78d6c6\">\n",
              "    <div class=\"colab-df-container\">\n",
              "      <div>\n",
              "<style scoped>\n",
              "    .dataframe tbody tr th:only-of-type {\n",
              "        vertical-align: middle;\n",
              "    }\n",
              "\n",
              "    .dataframe tbody tr th {\n",
              "        vertical-align: top;\n",
              "    }\n",
              "\n",
              "    .dataframe thead th {\n",
              "        text-align: right;\n",
              "    }\n",
              "</style>\n",
              "<table border=\"1\" class=\"dataframe\">\n",
              "  <thead>\n",
              "    <tr style=\"text-align: right;\">\n",
              "      <th></th>\n",
              "      <th>Hiring Cost</th>\n",
              "      <th>Profit</th>\n",
              "    </tr>\n",
              "  </thead>\n",
              "  <tbody>\n",
              "    <tr>\n",
              "      <th>0</th>\n",
              "      <td>7500.0</td>\n",
              "      <td>1.736951</td>\n",
              "    </tr>\n",
              "    <tr>\n",
              "      <th>1</th>\n",
              "      <td>8250.0</td>\n",
              "      <td>0.590860</td>\n",
              "    </tr>\n",
              "    <tr>\n",
              "      <th>2</th>\n",
              "      <td>9000.0</td>\n",
              "      <td>-0.555231</td>\n",
              "    </tr>\n",
              "    <tr>\n",
              "      <th>3</th>\n",
              "      <td>9750.0</td>\n",
              "      <td>-1.701322</td>\n",
              "    </tr>\n",
              "    <tr>\n",
              "      <th>4</th>\n",
              "      <td>10500.0</td>\n",
              "      <td>-2.847413</td>\n",
              "    </tr>\n",
              "    <tr>\n",
              "      <th>5</th>\n",
              "      <td>11250.0</td>\n",
              "      <td>-3.993504</td>\n",
              "    </tr>\n",
              "    <tr>\n",
              "      <th>6</th>\n",
              "      <td>12000.0</td>\n",
              "      <td>-5.139595</td>\n",
              "    </tr>\n",
              "    <tr>\n",
              "      <th>7</th>\n",
              "      <td>12750.0</td>\n",
              "      <td>-6.285686</td>\n",
              "    </tr>\n",
              "    <tr>\n",
              "      <th>8</th>\n",
              "      <td>13500.0</td>\n",
              "      <td>-7.431777</td>\n",
              "    </tr>\n",
              "    <tr>\n",
              "      <th>9</th>\n",
              "      <td>14250.0</td>\n",
              "      <td>-8.577868</td>\n",
              "    </tr>\n",
              "    <tr>\n",
              "      <th>10</th>\n",
              "      <td>15000.0</td>\n",
              "      <td>-9.723959</td>\n",
              "    </tr>\n",
              "    <tr>\n",
              "      <th>11</th>\n",
              "      <td>15750.0</td>\n",
              "      <td>-10.870050</td>\n",
              "    </tr>\n",
              "    <tr>\n",
              "      <th>12</th>\n",
              "      <td>16500.0</td>\n",
              "      <td>-12.016141</td>\n",
              "    </tr>\n",
              "    <tr>\n",
              "      <th>13</th>\n",
              "      <td>17250.0</td>\n",
              "      <td>-13.162232</td>\n",
              "    </tr>\n",
              "    <tr>\n",
              "      <th>14</th>\n",
              "      <td>18000.0</td>\n",
              "      <td>-14.308323</td>\n",
              "    </tr>\n",
              "    <tr>\n",
              "      <th>15</th>\n",
              "      <td>18750.0</td>\n",
              "      <td>-15.454414</td>\n",
              "    </tr>\n",
              "    <tr>\n",
              "      <th>16</th>\n",
              "      <td>19500.0</td>\n",
              "      <td>-16.600505</td>\n",
              "    </tr>\n",
              "    <tr>\n",
              "      <th>17</th>\n",
              "      <td>20250.0</td>\n",
              "      <td>-17.746596</td>\n",
              "    </tr>\n",
              "    <tr>\n",
              "      <th>18</th>\n",
              "      <td>21000.0</td>\n",
              "      <td>-18.892687</td>\n",
              "    </tr>\n",
              "    <tr>\n",
              "      <th>19</th>\n",
              "      <td>21750.0</td>\n",
              "      <td>-20.038778</td>\n",
              "    </tr>\n",
              "  </tbody>\n",
              "</table>\n",
              "</div>\n",
              "      <button class=\"colab-df-convert\" onclick=\"convertToInteractive('df-96935cf9-16b0-45ae-a4fb-2d8d2c78d6c6')\"\n",
              "              title=\"Convert this dataframe to an interactive table.\"\n",
              "              style=\"display:none;\">\n",
              "        \n",
              "  <svg xmlns=\"http://www.w3.org/2000/svg\" height=\"24px\"viewBox=\"0 0 24 24\"\n",
              "       width=\"24px\">\n",
              "    <path d=\"M0 0h24v24H0V0z\" fill=\"none\"/>\n",
              "    <path d=\"M18.56 5.44l.94 2.06.94-2.06 2.06-.94-2.06-.94-.94-2.06-.94 2.06-2.06.94zm-11 1L8.5 8.5l.94-2.06 2.06-.94-2.06-.94L8.5 2.5l-.94 2.06-2.06.94zm10 10l.94 2.06.94-2.06 2.06-.94-2.06-.94-.94-2.06-.94 2.06-2.06.94z\"/><path d=\"M17.41 7.96l-1.37-1.37c-.4-.4-.92-.59-1.43-.59-.52 0-1.04.2-1.43.59L10.3 9.45l-7.72 7.72c-.78.78-.78 2.05 0 2.83L4 21.41c.39.39.9.59 1.41.59.51 0 1.02-.2 1.41-.59l7.78-7.78 2.81-2.81c.8-.78.8-2.07 0-2.86zM5.41 20L4 18.59l7.72-7.72 1.47 1.35L5.41 20z\"/>\n",
              "  </svg>\n",
              "      </button>\n",
              "      \n",
              "  <style>\n",
              "    .colab-df-container {\n",
              "      display:flex;\n",
              "      flex-wrap:wrap;\n",
              "      gap: 12px;\n",
              "    }\n",
              "\n",
              "    .colab-df-convert {\n",
              "      background-color: #E8F0FE;\n",
              "      border: none;\n",
              "      border-radius: 50%;\n",
              "      cursor: pointer;\n",
              "      display: none;\n",
              "      fill: #1967D2;\n",
              "      height: 32px;\n",
              "      padding: 0 0 0 0;\n",
              "      width: 32px;\n",
              "    }\n",
              "\n",
              "    .colab-df-convert:hover {\n",
              "      background-color: #E2EBFA;\n",
              "      box-shadow: 0px 1px 2px rgba(60, 64, 67, 0.3), 0px 1px 3px 1px rgba(60, 64, 67, 0.15);\n",
              "      fill: #174EA6;\n",
              "    }\n",
              "\n",
              "    [theme=dark] .colab-df-convert {\n",
              "      background-color: #3B4455;\n",
              "      fill: #D2E3FC;\n",
              "    }\n",
              "\n",
              "    [theme=dark] .colab-df-convert:hover {\n",
              "      background-color: #434B5C;\n",
              "      box-shadow: 0px 1px 3px 1px rgba(0, 0, 0, 0.15);\n",
              "      filter: drop-shadow(0px 1px 2px rgba(0, 0, 0, 0.3));\n",
              "      fill: #FFFFFF;\n",
              "    }\n",
              "  </style>\n",
              "\n",
              "      <script>\n",
              "        const buttonEl =\n",
              "          document.querySelector('#df-96935cf9-16b0-45ae-a4fb-2d8d2c78d6c6 button.colab-df-convert');\n",
              "        buttonEl.style.display =\n",
              "          google.colab.kernel.accessAllowed ? 'block' : 'none';\n",
              "\n",
              "        async function convertToInteractive(key) {\n",
              "          const element = document.querySelector('#df-96935cf9-16b0-45ae-a4fb-2d8d2c78d6c6');\n",
              "          const dataTable =\n",
              "            await google.colab.kernel.invokeFunction('convertToInteractive',\n",
              "                                                     [key], {});\n",
              "          if (!dataTable) return;\n",
              "\n",
              "          const docLinkHtml = 'Like what you see? Visit the ' +\n",
              "            '<a target=\"_blank\" href=https://colab.research.google.com/notebooks/data_table.ipynb>data table notebook</a>'\n",
              "            + ' to learn more about interactive tables.';\n",
              "          element.innerHTML = '';\n",
              "          dataTable['output_type'] = 'display_data';\n",
              "          await google.colab.output.renderOutput(dataTable, element);\n",
              "          const docLink = document.createElement('div');\n",
              "          docLink.innerHTML = docLinkHtml;\n",
              "          element.appendChild(docLink);\n",
              "        }\n",
              "      </script>\n",
              "    </div>\n",
              "  </div>\n",
              "  "
            ],
            "text/plain": [
              "    Hiring Cost     Profit\n",
              "0        7500.0   1.736951\n",
              "1        8250.0   0.590860\n",
              "2        9000.0  -0.555231\n",
              "3        9750.0  -1.701322\n",
              "4       10500.0  -2.847413\n",
              "5       11250.0  -3.993504\n",
              "6       12000.0  -5.139595\n",
              "7       12750.0  -6.285686\n",
              "8       13500.0  -7.431777\n",
              "9       14250.0  -8.577868\n",
              "10      15000.0  -9.723959\n",
              "11      15750.0 -10.870050\n",
              "12      16500.0 -12.016141\n",
              "13      17250.0 -13.162232\n",
              "14      18000.0 -14.308323\n",
              "15      18750.0 -15.454414\n",
              "16      19500.0 -16.600505\n",
              "17      20250.0 -17.746596\n",
              "18      21000.0 -18.892687\n",
              "19      21750.0 -20.038778"
            ]
          },
          "metadata": {},
          "execution_count": 147
        }
      ]
    },
    {
      "cell_type": "markdown",
      "source": [
        "#### Negotiate Working Days"
      ],
      "metadata": {
        "id": "JOgxY_bSJKV9"
      }
    },
    {
      "cell_type": "code",
      "source": [
        "profitDict = {'Days':[], 'Profit':[]}\n",
        "for d in np.arange(250, 275, 1):\n",
        "  profitDict['Days'].append(d)\n",
        "  profit = optimization_worker(days=d)\n",
        "  profitDict['Profit'].append(profit)\n",
        "\n",
        "dfFinal = pd.DataFrame(profitDict) \n",
        "dfFinal"
      ],
      "metadata": {
        "colab": {
          "base_uri": "https://localhost:8080/",
          "height": 1000
        },
        "id": "sPKyDliG-S3g",
        "outputId": "46f1be02-17aa-4000-ce5d-6fb29cc1ba24"
      },
      "execution_count": 148,
      "outputs": [
        {
          "output_type": "stream",
          "name": "stdout",
          "text": [
            "Status: Optimal\n",
            "Status: Optimal\n",
            "Status: Optimal\n",
            "Status: Optimal\n",
            "Status: Optimal\n",
            "Status: Optimal\n",
            "Status: Optimal\n",
            "Status: Optimal\n",
            "Status: Optimal\n",
            "Status: Optimal\n",
            "Status: Optimal\n",
            "Status: Optimal\n",
            "Status: Optimal\n",
            "Status: Optimal\n",
            "Status: Optimal\n",
            "Status: Optimal\n",
            "Status: Optimal\n",
            "Status: Optimal\n",
            "Status: Optimal\n",
            "Status: Optimal\n",
            "Status: Optimal\n",
            "Status: Optimal\n",
            "Status: Optimal\n",
            "Status: Optimal\n",
            "Status: Optimal\n"
          ]
        },
        {
          "output_type": "execute_result",
          "data": {
            "text/html": [
              "\n",
              "  <div id=\"df-918c41df-2443-4b96-a1c9-06c5843705fe\">\n",
              "    <div class=\"colab-df-container\">\n",
              "      <div>\n",
              "<style scoped>\n",
              "    .dataframe tbody tr th:only-of-type {\n",
              "        vertical-align: middle;\n",
              "    }\n",
              "\n",
              "    .dataframe tbody tr th {\n",
              "        vertical-align: top;\n",
              "    }\n",
              "\n",
              "    .dataframe thead th {\n",
              "        text-align: right;\n",
              "    }\n",
              "</style>\n",
              "<table border=\"1\" class=\"dataframe\">\n",
              "  <thead>\n",
              "    <tr style=\"text-align: right;\">\n",
              "      <th></th>\n",
              "      <th>Days</th>\n",
              "      <th>Profit</th>\n",
              "    </tr>\n",
              "  </thead>\n",
              "  <tbody>\n",
              "    <tr>\n",
              "      <th>0</th>\n",
              "      <td>250</td>\n",
              "      <td>-9.723959</td>\n",
              "    </tr>\n",
              "    <tr>\n",
              "      <th>1</th>\n",
              "      <td>251</td>\n",
              "      <td>-9.578225</td>\n",
              "    </tr>\n",
              "    <tr>\n",
              "      <th>2</th>\n",
              "      <td>252</td>\n",
              "      <td>-9.433482</td>\n",
              "    </tr>\n",
              "    <tr>\n",
              "      <th>3</th>\n",
              "      <td>253</td>\n",
              "      <td>-9.289715</td>\n",
              "    </tr>\n",
              "    <tr>\n",
              "      <th>4</th>\n",
              "      <td>254</td>\n",
              "      <td>-9.146915</td>\n",
              "    </tr>\n",
              "    <tr>\n",
              "      <th>5</th>\n",
              "      <td>255</td>\n",
              "      <td>-9.005074</td>\n",
              "    </tr>\n",
              "    <tr>\n",
              "      <th>6</th>\n",
              "      <td>256</td>\n",
              "      <td>-8.864175</td>\n",
              "    </tr>\n",
              "    <tr>\n",
              "      <th>7</th>\n",
              "      <td>257</td>\n",
              "      <td>-8.724210</td>\n",
              "    </tr>\n",
              "    <tr>\n",
              "      <th>8</th>\n",
              "      <td>258</td>\n",
              "      <td>-8.586410</td>\n",
              "    </tr>\n",
              "    <tr>\n",
              "      <th>9</th>\n",
              "      <td>259</td>\n",
              "      <td>-8.449758</td>\n",
              "    </tr>\n",
              "    <tr>\n",
              "      <th>10</th>\n",
              "      <td>260</td>\n",
              "      <td>-8.314003</td>\n",
              "    </tr>\n",
              "    <tr>\n",
              "      <th>11</th>\n",
              "      <td>261</td>\n",
              "      <td>-8.179140</td>\n",
              "    </tr>\n",
              "    <tr>\n",
              "      <th>12</th>\n",
              "      <td>262</td>\n",
              "      <td>-8.045158</td>\n",
              "    </tr>\n",
              "    <tr>\n",
              "      <th>13</th>\n",
              "      <td>263</td>\n",
              "      <td>-7.912051</td>\n",
              "    </tr>\n",
              "    <tr>\n",
              "      <th>14</th>\n",
              "      <td>264</td>\n",
              "      <td>-7.779799</td>\n",
              "    </tr>\n",
              "    <tr>\n",
              "      <th>15</th>\n",
              "      <td>265</td>\n",
              "      <td>-7.648402</td>\n",
              "    </tr>\n",
              "    <tr>\n",
              "      <th>16</th>\n",
              "      <td>266</td>\n",
              "      <td>-7.517844</td>\n",
              "    </tr>\n",
              "    <tr>\n",
              "      <th>17</th>\n",
              "      <td>267</td>\n",
              "      <td>-7.388120</td>\n",
              "    </tr>\n",
              "    <tr>\n",
              "      <th>18</th>\n",
              "      <td>268</td>\n",
              "      <td>-7.259219</td>\n",
              "    </tr>\n",
              "    <tr>\n",
              "      <th>19</th>\n",
              "      <td>269</td>\n",
              "      <td>-7.131131</td>\n",
              "    </tr>\n",
              "    <tr>\n",
              "      <th>20</th>\n",
              "      <td>270</td>\n",
              "      <td>-7.003848</td>\n",
              "    </tr>\n",
              "    <tr>\n",
              "      <th>21</th>\n",
              "      <td>271</td>\n",
              "      <td>-6.877358</td>\n",
              "    </tr>\n",
              "    <tr>\n",
              "      <th>22</th>\n",
              "      <td>272</td>\n",
              "      <td>-6.751657</td>\n",
              "    </tr>\n",
              "    <tr>\n",
              "      <th>23</th>\n",
              "      <td>273</td>\n",
              "      <td>-6.626736</td>\n",
              "    </tr>\n",
              "    <tr>\n",
              "      <th>24</th>\n",
              "      <td>274</td>\n",
              "      <td>-6.502583</td>\n",
              "    </tr>\n",
              "  </tbody>\n",
              "</table>\n",
              "</div>\n",
              "      <button class=\"colab-df-convert\" onclick=\"convertToInteractive('df-918c41df-2443-4b96-a1c9-06c5843705fe')\"\n",
              "              title=\"Convert this dataframe to an interactive table.\"\n",
              "              style=\"display:none;\">\n",
              "        \n",
              "  <svg xmlns=\"http://www.w3.org/2000/svg\" height=\"24px\"viewBox=\"0 0 24 24\"\n",
              "       width=\"24px\">\n",
              "    <path d=\"M0 0h24v24H0V0z\" fill=\"none\"/>\n",
              "    <path d=\"M18.56 5.44l.94 2.06.94-2.06 2.06-.94-2.06-.94-.94-2.06-.94 2.06-2.06.94zm-11 1L8.5 8.5l.94-2.06 2.06-.94-2.06-.94L8.5 2.5l-.94 2.06-2.06.94zm10 10l.94 2.06.94-2.06 2.06-.94-2.06-.94-.94-2.06-.94 2.06-2.06.94z\"/><path d=\"M17.41 7.96l-1.37-1.37c-.4-.4-.92-.59-1.43-.59-.52 0-1.04.2-1.43.59L10.3 9.45l-7.72 7.72c-.78.78-.78 2.05 0 2.83L4 21.41c.39.39.9.59 1.41.59.51 0 1.02-.2 1.41-.59l7.78-7.78 2.81-2.81c.8-.78.8-2.07 0-2.86zM5.41 20L4 18.59l7.72-7.72 1.47 1.35L5.41 20z\"/>\n",
              "  </svg>\n",
              "      </button>\n",
              "      \n",
              "  <style>\n",
              "    .colab-df-container {\n",
              "      display:flex;\n",
              "      flex-wrap:wrap;\n",
              "      gap: 12px;\n",
              "    }\n",
              "\n",
              "    .colab-df-convert {\n",
              "      background-color: #E8F0FE;\n",
              "      border: none;\n",
              "      border-radius: 50%;\n",
              "      cursor: pointer;\n",
              "      display: none;\n",
              "      fill: #1967D2;\n",
              "      height: 32px;\n",
              "      padding: 0 0 0 0;\n",
              "      width: 32px;\n",
              "    }\n",
              "\n",
              "    .colab-df-convert:hover {\n",
              "      background-color: #E2EBFA;\n",
              "      box-shadow: 0px 1px 2px rgba(60, 64, 67, 0.3), 0px 1px 3px 1px rgba(60, 64, 67, 0.15);\n",
              "      fill: #174EA6;\n",
              "    }\n",
              "\n",
              "    [theme=dark] .colab-df-convert {\n",
              "      background-color: #3B4455;\n",
              "      fill: #D2E3FC;\n",
              "    }\n",
              "\n",
              "    [theme=dark] .colab-df-convert:hover {\n",
              "      background-color: #434B5C;\n",
              "      box-shadow: 0px 1px 3px 1px rgba(0, 0, 0, 0.15);\n",
              "      filter: drop-shadow(0px 1px 2px rgba(0, 0, 0, 0.3));\n",
              "      fill: #FFFFFF;\n",
              "    }\n",
              "  </style>\n",
              "\n",
              "      <script>\n",
              "        const buttonEl =\n",
              "          document.querySelector('#df-918c41df-2443-4b96-a1c9-06c5843705fe button.colab-df-convert');\n",
              "        buttonEl.style.display =\n",
              "          google.colab.kernel.accessAllowed ? 'block' : 'none';\n",
              "\n",
              "        async function convertToInteractive(key) {\n",
              "          const element = document.querySelector('#df-918c41df-2443-4b96-a1c9-06c5843705fe');\n",
              "          const dataTable =\n",
              "            await google.colab.kernel.invokeFunction('convertToInteractive',\n",
              "                                                     [key], {});\n",
              "          if (!dataTable) return;\n",
              "\n",
              "          const docLinkHtml = 'Like what you see? Visit the ' +\n",
              "            '<a target=\"_blank\" href=https://colab.research.google.com/notebooks/data_table.ipynb>data table notebook</a>'\n",
              "            + ' to learn more about interactive tables.';\n",
              "          element.innerHTML = '';\n",
              "          dataTable['output_type'] = 'display_data';\n",
              "          await google.colab.output.renderOutput(dataTable, element);\n",
              "          const docLink = document.createElement('div');\n",
              "          docLink.innerHTML = docLinkHtml;\n",
              "          element.appendChild(docLink);\n",
              "        }\n",
              "      </script>\n",
              "    </div>\n",
              "  </div>\n",
              "  "
            ],
            "text/plain": [
              "    Days    Profit\n",
              "0    250 -9.723959\n",
              "1    251 -9.578225\n",
              "2    252 -9.433482\n",
              "3    253 -9.289715\n",
              "4    254 -9.146915\n",
              "5    255 -9.005074\n",
              "6    256 -8.864175\n",
              "7    257 -8.724210\n",
              "8    258 -8.586410\n",
              "9    259 -8.449758\n",
              "10   260 -8.314003\n",
              "11   261 -8.179140\n",
              "12   262 -8.045158\n",
              "13   263 -7.912051\n",
              "14   264 -7.779799\n",
              "15   265 -7.648402\n",
              "16   266 -7.517844\n",
              "17   267 -7.388120\n",
              "18   268 -7.259219\n",
              "19   269 -7.131131\n",
              "20   270 -7.003848\n",
              "21   271 -6.877358\n",
              "22   272 -6.751657\n",
              "23   273 -6.626736\n",
              "24   274 -6.502583"
            ]
          },
          "metadata": {},
          "execution_count": 148
        }
      ]
    },
    {
      "cell_type": "markdown",
      "source": [
        "#### Negotiate Working Hours"
      ],
      "metadata": {
        "id": "8WH8-tSiJUXv"
      }
    },
    {
      "cell_type": "code",
      "source": [
        "profitDict = {'Hours':[], 'Profit':[]}\n",
        "for d in np.arange(6, 10, 0.5):\n",
        "  profitDict['Hours'].append(d)\n",
        "  profit = optimization_worker(hour=d)\n",
        "  profitDict['Profit'].append(profit)\n",
        "\n",
        "dfFinal = pd.DataFrame(profitDict) \n",
        "dfFinal"
      ],
      "metadata": {
        "colab": {
          "base_uri": "https://localhost:8080/",
          "height": 439
        },
        "id": "h9-5ikfJ-hiB",
        "outputId": "100151c3-ddef-48b7-8983-94436c70e94d"
      },
      "execution_count": 149,
      "outputs": [
        {
          "output_type": "stream",
          "name": "stdout",
          "text": [
            "Status: Optimal\n",
            "Status: Optimal\n",
            "Status: Optimal\n",
            "Status: Optimal\n",
            "Status: Optimal\n",
            "Status: Optimal\n",
            "Status: Optimal\n",
            "Status: Optimal\n"
          ]
        },
        {
          "output_type": "execute_result",
          "data": {
            "text/html": [
              "\n",
              "  <div id=\"df-267460f5-2fff-4eba-bf6b-c9b8a4bc0799\">\n",
              "    <div class=\"colab-df-container\">\n",
              "      <div>\n",
              "<style scoped>\n",
              "    .dataframe tbody tr th:only-of-type {\n",
              "        vertical-align: middle;\n",
              "    }\n",
              "\n",
              "    .dataframe tbody tr th {\n",
              "        vertical-align: top;\n",
              "    }\n",
              "\n",
              "    .dataframe thead th {\n",
              "        text-align: right;\n",
              "    }\n",
              "</style>\n",
              "<table border=\"1\" class=\"dataframe\">\n",
              "  <thead>\n",
              "    <tr style=\"text-align: right;\">\n",
              "      <th></th>\n",
              "      <th>Hours</th>\n",
              "      <th>Profit</th>\n",
              "    </tr>\n",
              "  </thead>\n",
              "  <tbody>\n",
              "    <tr>\n",
              "      <th>0</th>\n",
              "      <td>6.0</td>\n",
              "      <td>-9.723959</td>\n",
              "    </tr>\n",
              "    <tr>\n",
              "      <th>1</th>\n",
              "      <td>6.5</td>\n",
              "      <td>-6.898386</td>\n",
              "    </tr>\n",
              "    <tr>\n",
              "      <th>2</th>\n",
              "      <td>7.0</td>\n",
              "      <td>-4.432739</td>\n",
              "    </tr>\n",
              "    <tr>\n",
              "      <th>3</th>\n",
              "      <td>7.5</td>\n",
              "      <td>-2.591055</td>\n",
              "    </tr>\n",
              "    <tr>\n",
              "      <th>4</th>\n",
              "      <td>8.0</td>\n",
              "      <td>-1.024964</td>\n",
              "    </tr>\n",
              "    <tr>\n",
              "      <th>5</th>\n",
              "      <td>8.5</td>\n",
              "      <td>0.356882</td>\n",
              "    </tr>\n",
              "    <tr>\n",
              "      <th>6</th>\n",
              "      <td>9.0</td>\n",
              "      <td>1.585188</td>\n",
              "    </tr>\n",
              "    <tr>\n",
              "      <th>7</th>\n",
              "      <td>9.5</td>\n",
              "      <td>2.684198</td>\n",
              "    </tr>\n",
              "  </tbody>\n",
              "</table>\n",
              "</div>\n",
              "      <button class=\"colab-df-convert\" onclick=\"convertToInteractive('df-267460f5-2fff-4eba-bf6b-c9b8a4bc0799')\"\n",
              "              title=\"Convert this dataframe to an interactive table.\"\n",
              "              style=\"display:none;\">\n",
              "        \n",
              "  <svg xmlns=\"http://www.w3.org/2000/svg\" height=\"24px\"viewBox=\"0 0 24 24\"\n",
              "       width=\"24px\">\n",
              "    <path d=\"M0 0h24v24H0V0z\" fill=\"none\"/>\n",
              "    <path d=\"M18.56 5.44l.94 2.06.94-2.06 2.06-.94-2.06-.94-.94-2.06-.94 2.06-2.06.94zm-11 1L8.5 8.5l.94-2.06 2.06-.94-2.06-.94L8.5 2.5l-.94 2.06-2.06.94zm10 10l.94 2.06.94-2.06 2.06-.94-2.06-.94-.94-2.06-.94 2.06-2.06.94z\"/><path d=\"M17.41 7.96l-1.37-1.37c-.4-.4-.92-.59-1.43-.59-.52 0-1.04.2-1.43.59L10.3 9.45l-7.72 7.72c-.78.78-.78 2.05 0 2.83L4 21.41c.39.39.9.59 1.41.59.51 0 1.02-.2 1.41-.59l7.78-7.78 2.81-2.81c.8-.78.8-2.07 0-2.86zM5.41 20L4 18.59l7.72-7.72 1.47 1.35L5.41 20z\"/>\n",
              "  </svg>\n",
              "      </button>\n",
              "      \n",
              "  <style>\n",
              "    .colab-df-container {\n",
              "      display:flex;\n",
              "      flex-wrap:wrap;\n",
              "      gap: 12px;\n",
              "    }\n",
              "\n",
              "    .colab-df-convert {\n",
              "      background-color: #E8F0FE;\n",
              "      border: none;\n",
              "      border-radius: 50%;\n",
              "      cursor: pointer;\n",
              "      display: none;\n",
              "      fill: #1967D2;\n",
              "      height: 32px;\n",
              "      padding: 0 0 0 0;\n",
              "      width: 32px;\n",
              "    }\n",
              "\n",
              "    .colab-df-convert:hover {\n",
              "      background-color: #E2EBFA;\n",
              "      box-shadow: 0px 1px 2px rgba(60, 64, 67, 0.3), 0px 1px 3px 1px rgba(60, 64, 67, 0.15);\n",
              "      fill: #174EA6;\n",
              "    }\n",
              "\n",
              "    [theme=dark] .colab-df-convert {\n",
              "      background-color: #3B4455;\n",
              "      fill: #D2E3FC;\n",
              "    }\n",
              "\n",
              "    [theme=dark] .colab-df-convert:hover {\n",
              "      background-color: #434B5C;\n",
              "      box-shadow: 0px 1px 3px 1px rgba(0, 0, 0, 0.15);\n",
              "      filter: drop-shadow(0px 1px 2px rgba(0, 0, 0, 0.3));\n",
              "      fill: #FFFFFF;\n",
              "    }\n",
              "  </style>\n",
              "\n",
              "      <script>\n",
              "        const buttonEl =\n",
              "          document.querySelector('#df-267460f5-2fff-4eba-bf6b-c9b8a4bc0799 button.colab-df-convert');\n",
              "        buttonEl.style.display =\n",
              "          google.colab.kernel.accessAllowed ? 'block' : 'none';\n",
              "\n",
              "        async function convertToInteractive(key) {\n",
              "          const element = document.querySelector('#df-267460f5-2fff-4eba-bf6b-c9b8a4bc0799');\n",
              "          const dataTable =\n",
              "            await google.colab.kernel.invokeFunction('convertToInteractive',\n",
              "                                                     [key], {});\n",
              "          if (!dataTable) return;\n",
              "\n",
              "          const docLinkHtml = 'Like what you see? Visit the ' +\n",
              "            '<a target=\"_blank\" href=https://colab.research.google.com/notebooks/data_table.ipynb>data table notebook</a>'\n",
              "            + ' to learn more about interactive tables.';\n",
              "          element.innerHTML = '';\n",
              "          dataTable['output_type'] = 'display_data';\n",
              "          await google.colab.output.renderOutput(dataTable, element);\n",
              "          const docLink = document.createElement('div');\n",
              "          docLink.innerHTML = docLinkHtml;\n",
              "          element.appendChild(docLink);\n",
              "        }\n",
              "      </script>\n",
              "    </div>\n",
              "  </div>\n",
              "  "
            ],
            "text/plain": [
              "   Hours    Profit\n",
              "0    6.0 -9.723959\n",
              "1    6.5 -6.898386\n",
              "2    7.0 -4.432739\n",
              "3    7.5 -2.591055\n",
              "4    8.0 -1.024964\n",
              "5    8.5  0.356882\n",
              "6    9.0  1.585188\n",
              "7    9.5  2.684198"
            ]
          },
          "metadata": {},
          "execution_count": 149
        }
      ]
    }
  ],
  "metadata": {
    "colab": {
      "collapsed_sections": [
        "3m06Ng6STZK_"
      ],
      "name": "1008221032_Done.ipynb",
      "provenance": []
    },
    "kernelspec": {
      "display_name": "Python 3",
      "name": "python3"
    },
    "language_info": {
      "name": "python"
    }
  },
  "nbformat": 4,
  "nbformat_minor": 0
}